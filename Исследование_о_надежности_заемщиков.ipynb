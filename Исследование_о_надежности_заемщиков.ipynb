{
  "nbformat": 4,
  "nbformat_minor": 0,
  "metadata": {
    "kernelspec": {
      "display_name": "Python 3",
      "language": "python",
      "name": "python3"
    },
    "language_info": {
      "codemirror_mode": {
        "name": "ipython",
        "version": 3
      },
      "file_extension": ".py",
      "mimetype": "text/x-python",
      "name": "python",
      "nbconvert_exporter": "python",
      "pygments_lexer": "ipython3",
      "version": "3.7.8"
    },
    "toc": {
      "base_numbering": 1,
      "nav_menu": {},
      "number_sections": true,
      "sideBar": true,
      "skip_h1_title": true,
      "title_cell": "Table of Contents",
      "title_sidebar": "Contents",
      "toc_cell": false,
      "toc_position": {},
      "toc_section_display": true,
      "toc_window_display": false
    },
    "colab": {
      "name": "Исследование о надежности заемщиков.ipynb",
      "provenance": [],
      "collapsed_sections": [],
      "include_colab_link": true
    }
  },
  "cells": [
    {
      "cell_type": "markdown",
      "metadata": {
        "id": "view-in-github",
        "colab_type": "text"
      },
      "source": [
        "<a href=\"https://colab.research.google.com/github/DikRoman/praktikum.yandex/blob/master/%D0%98%D1%81%D1%81%D0%BB%D0%B5%D0%B4%D0%BE%D0%B2%D0%B0%D0%BD%D0%B8%D0%B5_%D0%BE_%D0%BD%D0%B0%D0%B4%D0%B5%D0%B6%D0%BD%D0%BE%D1%81%D1%82%D0%B8_%D0%B7%D0%B0%D0%B5%D0%BC%D1%89%D0%B8%D0%BA%D0%BE%D0%B2.ipynb\" target=\"_parent\"><img src=\"https://colab.research.google.com/assets/colab-badge.svg\" alt=\"Open In Colab\"/></a>"
      ]
    },
    {
      "cell_type": "markdown",
      "metadata": {
        "id": "M1HeykNXzMDY"
      },
      "source": [
        "# Исследование надёжности заёмщиков\n",
        "\n",
        "Заказчик — кредитный отдел банка. Нужно разобраться, влияет ли семейное положение и количество детей клиента на факт погашения кредита в срок. Входные данные от банка — статистика о платёжеспособности клиентов.\n",
        "\n",
        "Результаты исследования будут учтены при построении модели **кредитного скоринга** — специальной системы, которая оценивает способность потенциального заёмщика вернуть кредит банку."
      ]
    },
    {
      "cell_type": "markdown",
      "metadata": {
        "id": "Wnr5q6NRzMDY"
      },
      "source": [
        "## Шаг 1. Откройте файл с данными и изучите общую информацию"
      ]
    },
    {
      "cell_type": "code",
      "metadata": {
        "id": "GR03H-mHzMDa",
        "outputId": "b8e8359c-5110-46f5-c42b-bc76adfa91c2"
      },
      "source": [
        "import pandas as pd \n",
        "credit_score_data = pd.read_csv('/datasets/data.csv') #прочитаем данные и поместим в переменную credit_score_data\n",
        "\n",
        "credit_score_data.head(21525)                   #выведем таблицу на экран           "
      ],
      "execution_count": null,
      "outputs": [
        {
          "output_type": "execute_result",
          "data": {
            "text/html": [
              "<div>\n",
              "<style scoped>\n",
              "    .dataframe tbody tr th:only-of-type {\n",
              "        vertical-align: middle;\n",
              "    }\n",
              "\n",
              "    .dataframe tbody tr th {\n",
              "        vertical-align: top;\n",
              "    }\n",
              "\n",
              "    .dataframe thead th {\n",
              "        text-align: right;\n",
              "    }\n",
              "</style>\n",
              "<table border=\"1\" class=\"dataframe\">\n",
              "  <thead>\n",
              "    <tr style=\"text-align: right;\">\n",
              "      <th></th>\n",
              "      <th>children</th>\n",
              "      <th>days_employed</th>\n",
              "      <th>dob_years</th>\n",
              "      <th>education</th>\n",
              "      <th>education_id</th>\n",
              "      <th>family_status</th>\n",
              "      <th>family_status_id</th>\n",
              "      <th>gender</th>\n",
              "      <th>income_type</th>\n",
              "      <th>debt</th>\n",
              "      <th>total_income</th>\n",
              "      <th>purpose</th>\n",
              "    </tr>\n",
              "  </thead>\n",
              "  <tbody>\n",
              "    <tr>\n",
              "      <td>0</td>\n",
              "      <td>1</td>\n",
              "      <td>-8437.673028</td>\n",
              "      <td>42</td>\n",
              "      <td>высшее</td>\n",
              "      <td>0</td>\n",
              "      <td>женат / замужем</td>\n",
              "      <td>0</td>\n",
              "      <td>F</td>\n",
              "      <td>сотрудник</td>\n",
              "      <td>0</td>\n",
              "      <td>253875.639453</td>\n",
              "      <td>покупка жилья</td>\n",
              "    </tr>\n",
              "    <tr>\n",
              "      <td>1</td>\n",
              "      <td>1</td>\n",
              "      <td>-4024.803754</td>\n",
              "      <td>36</td>\n",
              "      <td>среднее</td>\n",
              "      <td>1</td>\n",
              "      <td>женат / замужем</td>\n",
              "      <td>0</td>\n",
              "      <td>F</td>\n",
              "      <td>сотрудник</td>\n",
              "      <td>0</td>\n",
              "      <td>112080.014102</td>\n",
              "      <td>приобретение автомобиля</td>\n",
              "    </tr>\n",
              "    <tr>\n",
              "      <td>2</td>\n",
              "      <td>0</td>\n",
              "      <td>-5623.422610</td>\n",
              "      <td>33</td>\n",
              "      <td>Среднее</td>\n",
              "      <td>1</td>\n",
              "      <td>женат / замужем</td>\n",
              "      <td>0</td>\n",
              "      <td>M</td>\n",
              "      <td>сотрудник</td>\n",
              "      <td>0</td>\n",
              "      <td>145885.952297</td>\n",
              "      <td>покупка жилья</td>\n",
              "    </tr>\n",
              "    <tr>\n",
              "      <td>3</td>\n",
              "      <td>3</td>\n",
              "      <td>-4124.747207</td>\n",
              "      <td>32</td>\n",
              "      <td>среднее</td>\n",
              "      <td>1</td>\n",
              "      <td>женат / замужем</td>\n",
              "      <td>0</td>\n",
              "      <td>M</td>\n",
              "      <td>сотрудник</td>\n",
              "      <td>0</td>\n",
              "      <td>267628.550329</td>\n",
              "      <td>дополнительное образование</td>\n",
              "    </tr>\n",
              "    <tr>\n",
              "      <td>4</td>\n",
              "      <td>0</td>\n",
              "      <td>340266.072047</td>\n",
              "      <td>53</td>\n",
              "      <td>среднее</td>\n",
              "      <td>1</td>\n",
              "      <td>гражданский брак</td>\n",
              "      <td>1</td>\n",
              "      <td>F</td>\n",
              "      <td>пенсионер</td>\n",
              "      <td>0</td>\n",
              "      <td>158616.077870</td>\n",
              "      <td>сыграть свадьбу</td>\n",
              "    </tr>\n",
              "    <tr>\n",
              "      <td>...</td>\n",
              "      <td>...</td>\n",
              "      <td>...</td>\n",
              "      <td>...</td>\n",
              "      <td>...</td>\n",
              "      <td>...</td>\n",
              "      <td>...</td>\n",
              "      <td>...</td>\n",
              "      <td>...</td>\n",
              "      <td>...</td>\n",
              "      <td>...</td>\n",
              "      <td>...</td>\n",
              "      <td>...</td>\n",
              "    </tr>\n",
              "    <tr>\n",
              "      <td>21520</td>\n",
              "      <td>1</td>\n",
              "      <td>-4529.316663</td>\n",
              "      <td>43</td>\n",
              "      <td>среднее</td>\n",
              "      <td>1</td>\n",
              "      <td>гражданский брак</td>\n",
              "      <td>1</td>\n",
              "      <td>F</td>\n",
              "      <td>компаньон</td>\n",
              "      <td>0</td>\n",
              "      <td>224791.862382</td>\n",
              "      <td>операции с жильем</td>\n",
              "    </tr>\n",
              "    <tr>\n",
              "      <td>21521</td>\n",
              "      <td>0</td>\n",
              "      <td>343937.404131</td>\n",
              "      <td>67</td>\n",
              "      <td>среднее</td>\n",
              "      <td>1</td>\n",
              "      <td>женат / замужем</td>\n",
              "      <td>0</td>\n",
              "      <td>F</td>\n",
              "      <td>пенсионер</td>\n",
              "      <td>0</td>\n",
              "      <td>155999.806512</td>\n",
              "      <td>сделка с автомобилем</td>\n",
              "    </tr>\n",
              "    <tr>\n",
              "      <td>21522</td>\n",
              "      <td>1</td>\n",
              "      <td>-2113.346888</td>\n",
              "      <td>38</td>\n",
              "      <td>среднее</td>\n",
              "      <td>1</td>\n",
              "      <td>гражданский брак</td>\n",
              "      <td>1</td>\n",
              "      <td>M</td>\n",
              "      <td>сотрудник</td>\n",
              "      <td>1</td>\n",
              "      <td>89672.561153</td>\n",
              "      <td>недвижимость</td>\n",
              "    </tr>\n",
              "    <tr>\n",
              "      <td>21523</td>\n",
              "      <td>3</td>\n",
              "      <td>-3112.481705</td>\n",
              "      <td>38</td>\n",
              "      <td>среднее</td>\n",
              "      <td>1</td>\n",
              "      <td>женат / замужем</td>\n",
              "      <td>0</td>\n",
              "      <td>M</td>\n",
              "      <td>сотрудник</td>\n",
              "      <td>1</td>\n",
              "      <td>244093.050500</td>\n",
              "      <td>на покупку своего автомобиля</td>\n",
              "    </tr>\n",
              "    <tr>\n",
              "      <td>21524</td>\n",
              "      <td>2</td>\n",
              "      <td>-1984.507589</td>\n",
              "      <td>40</td>\n",
              "      <td>среднее</td>\n",
              "      <td>1</td>\n",
              "      <td>женат / замужем</td>\n",
              "      <td>0</td>\n",
              "      <td>F</td>\n",
              "      <td>сотрудник</td>\n",
              "      <td>0</td>\n",
              "      <td>82047.418899</td>\n",
              "      <td>на покупку автомобиля</td>\n",
              "    </tr>\n",
              "  </tbody>\n",
              "</table>\n",
              "<p>21525 rows × 12 columns</p>\n",
              "</div>"
            ],
            "text/plain": [
              "       children  days_employed  dob_years education  education_id  \\\n",
              "0             1   -8437.673028         42    высшее             0   \n",
              "1             1   -4024.803754         36   среднее             1   \n",
              "2             0   -5623.422610         33   Среднее             1   \n",
              "3             3   -4124.747207         32   среднее             1   \n",
              "4             0  340266.072047         53   среднее             1   \n",
              "...         ...            ...        ...       ...           ...   \n",
              "21520         1   -4529.316663         43   среднее             1   \n",
              "21521         0  343937.404131         67   среднее             1   \n",
              "21522         1   -2113.346888         38   среднее             1   \n",
              "21523         3   -3112.481705         38   среднее             1   \n",
              "21524         2   -1984.507589         40   среднее             1   \n",
              "\n",
              "          family_status  family_status_id gender income_type  debt  \\\n",
              "0       женат / замужем                 0      F   сотрудник     0   \n",
              "1       женат / замужем                 0      F   сотрудник     0   \n",
              "2       женат / замужем                 0      M   сотрудник     0   \n",
              "3       женат / замужем                 0      M   сотрудник     0   \n",
              "4      гражданский брак                 1      F   пенсионер     0   \n",
              "...                 ...               ...    ...         ...   ...   \n",
              "21520  гражданский брак                 1      F   компаньон     0   \n",
              "21521   женат / замужем                 0      F   пенсионер     0   \n",
              "21522  гражданский брак                 1      M   сотрудник     1   \n",
              "21523   женат / замужем                 0      M   сотрудник     1   \n",
              "21524   женат / замужем                 0      F   сотрудник     0   \n",
              "\n",
              "        total_income                       purpose  \n",
              "0      253875.639453                 покупка жилья  \n",
              "1      112080.014102       приобретение автомобиля  \n",
              "2      145885.952297                 покупка жилья  \n",
              "3      267628.550329    дополнительное образование  \n",
              "4      158616.077870               сыграть свадьбу  \n",
              "...              ...                           ...  \n",
              "21520  224791.862382             операции с жильем  \n",
              "21521  155999.806512          сделка с автомобилем  \n",
              "21522   89672.561153                  недвижимость  \n",
              "21523  244093.050500  на покупку своего автомобиля  \n",
              "21524   82047.418899         на покупку автомобиля  \n",
              "\n",
              "[21525 rows x 12 columns]"
            ]
          },
          "metadata": {
            "tags": []
          },
          "execution_count": 5
        }
      ]
    },
    {
      "cell_type": "code",
      "metadata": {
        "id": "4nkgKbJTzMDb",
        "outputId": "4ed32e00-b3bd-46ac-9bc6-17b73600469d"
      },
      "source": [
        "credit_score_data.info()   #получим общее понимание набора данных"
      ],
      "execution_count": null,
      "outputs": [
        {
          "output_type": "stream",
          "text": [
            "<class 'pandas.core.frame.DataFrame'>\n",
            "RangeIndex: 21525 entries, 0 to 21524\n",
            "Data columns (total 12 columns):\n",
            "children            21525 non-null int64\n",
            "days_employed       19351 non-null float64\n",
            "dob_years           21525 non-null int64\n",
            "education           21525 non-null object\n",
            "education_id        21525 non-null int64\n",
            "family_status       21525 non-null object\n",
            "family_status_id    21525 non-null int64\n",
            "gender              21525 non-null object\n",
            "income_type         21525 non-null object\n",
            "debt                21525 non-null int64\n",
            "total_income        19351 non-null float64\n",
            "purpose             21525 non-null object\n",
            "dtypes: float64(2), int64(5), object(5)\n",
            "memory usage: 2.0+ MB\n"
          ],
          "name": "stdout"
        }
      ]
    },
    {
      "cell_type": "code",
      "metadata": {
        "id": "0pEq5JOYzMDb",
        "outputId": "3b1c058e-ac72-4fe9-bcca-5811c4d9f7fb"
      },
      "source": [
        "credit_score_data.describe() #Чтобы узнать разброс значений, средние величины, а также квантили, используем метод .describe()"
      ],
      "execution_count": null,
      "outputs": [
        {
          "output_type": "execute_result",
          "data": {
            "text/html": [
              "<div>\n",
              "<style scoped>\n",
              "    .dataframe tbody tr th:only-of-type {\n",
              "        vertical-align: middle;\n",
              "    }\n",
              "\n",
              "    .dataframe tbody tr th {\n",
              "        vertical-align: top;\n",
              "    }\n",
              "\n",
              "    .dataframe thead th {\n",
              "        text-align: right;\n",
              "    }\n",
              "</style>\n",
              "<table border=\"1\" class=\"dataframe\">\n",
              "  <thead>\n",
              "    <tr style=\"text-align: right;\">\n",
              "      <th></th>\n",
              "      <th>children</th>\n",
              "      <th>days_employed</th>\n",
              "      <th>dob_years</th>\n",
              "      <th>education_id</th>\n",
              "      <th>family_status_id</th>\n",
              "      <th>debt</th>\n",
              "      <th>total_income</th>\n",
              "    </tr>\n",
              "  </thead>\n",
              "  <tbody>\n",
              "    <tr>\n",
              "      <td>count</td>\n",
              "      <td>21525.000000</td>\n",
              "      <td>19351.000000</td>\n",
              "      <td>21525.000000</td>\n",
              "      <td>21525.000000</td>\n",
              "      <td>21525.000000</td>\n",
              "      <td>21525.000000</td>\n",
              "      <td>1.935100e+04</td>\n",
              "    </tr>\n",
              "    <tr>\n",
              "      <td>mean</td>\n",
              "      <td>0.538908</td>\n",
              "      <td>63046.497661</td>\n",
              "      <td>43.293380</td>\n",
              "      <td>0.817236</td>\n",
              "      <td>0.972544</td>\n",
              "      <td>0.080883</td>\n",
              "      <td>1.674223e+05</td>\n",
              "    </tr>\n",
              "    <tr>\n",
              "      <td>std</td>\n",
              "      <td>1.381587</td>\n",
              "      <td>140827.311974</td>\n",
              "      <td>12.574584</td>\n",
              "      <td>0.548138</td>\n",
              "      <td>1.420324</td>\n",
              "      <td>0.272661</td>\n",
              "      <td>1.029716e+05</td>\n",
              "    </tr>\n",
              "    <tr>\n",
              "      <td>min</td>\n",
              "      <td>-1.000000</td>\n",
              "      <td>-18388.949901</td>\n",
              "      <td>0.000000</td>\n",
              "      <td>0.000000</td>\n",
              "      <td>0.000000</td>\n",
              "      <td>0.000000</td>\n",
              "      <td>2.066726e+04</td>\n",
              "    </tr>\n",
              "    <tr>\n",
              "      <td>25%</td>\n",
              "      <td>0.000000</td>\n",
              "      <td>-2747.423625</td>\n",
              "      <td>33.000000</td>\n",
              "      <td>1.000000</td>\n",
              "      <td>0.000000</td>\n",
              "      <td>0.000000</td>\n",
              "      <td>1.030532e+05</td>\n",
              "    </tr>\n",
              "    <tr>\n",
              "      <td>50%</td>\n",
              "      <td>0.000000</td>\n",
              "      <td>-1203.369529</td>\n",
              "      <td>42.000000</td>\n",
              "      <td>1.000000</td>\n",
              "      <td>0.000000</td>\n",
              "      <td>0.000000</td>\n",
              "      <td>1.450179e+05</td>\n",
              "    </tr>\n",
              "    <tr>\n",
              "      <td>75%</td>\n",
              "      <td>1.000000</td>\n",
              "      <td>-291.095954</td>\n",
              "      <td>53.000000</td>\n",
              "      <td>1.000000</td>\n",
              "      <td>1.000000</td>\n",
              "      <td>0.000000</td>\n",
              "      <td>2.034351e+05</td>\n",
              "    </tr>\n",
              "    <tr>\n",
              "      <td>max</td>\n",
              "      <td>20.000000</td>\n",
              "      <td>401755.400475</td>\n",
              "      <td>75.000000</td>\n",
              "      <td>4.000000</td>\n",
              "      <td>4.000000</td>\n",
              "      <td>1.000000</td>\n",
              "      <td>2.265604e+06</td>\n",
              "    </tr>\n",
              "  </tbody>\n",
              "</table>\n",
              "</div>"
            ],
            "text/plain": [
              "           children  days_employed     dob_years  education_id  \\\n",
              "count  21525.000000   19351.000000  21525.000000  21525.000000   \n",
              "mean       0.538908   63046.497661     43.293380      0.817236   \n",
              "std        1.381587  140827.311974     12.574584      0.548138   \n",
              "min       -1.000000  -18388.949901      0.000000      0.000000   \n",
              "25%        0.000000   -2747.423625     33.000000      1.000000   \n",
              "50%        0.000000   -1203.369529     42.000000      1.000000   \n",
              "75%        1.000000    -291.095954     53.000000      1.000000   \n",
              "max       20.000000  401755.400475     75.000000      4.000000   \n",
              "\n",
              "       family_status_id          debt  total_income  \n",
              "count      21525.000000  21525.000000  1.935100e+04  \n",
              "mean           0.972544      0.080883  1.674223e+05  \n",
              "std            1.420324      0.272661  1.029716e+05  \n",
              "min            0.000000      0.000000  2.066726e+04  \n",
              "25%            0.000000      0.000000  1.030532e+05  \n",
              "50%            0.000000      0.000000  1.450179e+05  \n",
              "75%            1.000000      0.000000  2.034351e+05  \n",
              "max            4.000000      1.000000  2.265604e+06  "
            ]
          },
          "metadata": {
            "tags": []
          },
          "execution_count": 3
        }
      ]
    },
    {
      "cell_type": "markdown",
      "metadata": {
        "id": "pTIe3B-lzMDc"
      },
      "source": [
        "**Вывод**\n",
        "\n",
        "Данные состоят из строк в количестве 21 525, 12 стобцов и всего 3 типов данных.\n",
        "В столбцах days_employed и total_income есть пропущенные значения  - пропусков порядка 10% от всех строк. \n",
        "Пустые значения столбца total_income явно связанны с отсутствием значений в столбце days_employed. Возможно, это отсутствие опыта, или опыт есть, но он официально нигде не зафиксирован, человек работал без трудовой и не получал официальный доход, возможно имел бизнес, доход по которому никак не декларировался, т.е. скорее всего отсутствие значений обусловлено человеческим фактором.\n",
        " \n",
        "В столбцах children наблюдаем отрицательное количество детей, аналогично и в столбце days_employed, чего быть не может. \n",
        "В дальнейшем мы исправим это.\n",
        "\n",
        "Помимо этого, можно наблюдать аномальные значения в виде четырехсот тысяч дней в столбце days_employed и 20-ти детей в столбце children, в дальнейшем они могут испортить нам статистику. "
      ]
    },
    {
      "cell_type": "markdown",
      "metadata": {
        "id": "qz7isUJozMDe"
      },
      "source": [
        "## Шаг 2. Предобработка данных"
      ]
    },
    {
      "cell_type": "markdown",
      "metadata": {
        "id": "tBBY0001zMDe"
      },
      "source": [
        "### Обработка пропусков"
      ]
    },
    {
      "cell_type": "code",
      "metadata": {
        "id": "ojCY7dKvzMDe",
        "outputId": "5c708856-8a72-452e-d03b-22724db2d12c"
      },
      "source": [
        "credit_score_data[credit_score_data['days_employed'].isna()].head() #выведем на экран пропущенные значения в столбце days_employed"
      ],
      "execution_count": null,
      "outputs": [
        {
          "output_type": "execute_result",
          "data": {
            "text/html": [
              "<div>\n",
              "<style scoped>\n",
              "    .dataframe tbody tr th:only-of-type {\n",
              "        vertical-align: middle;\n",
              "    }\n",
              "\n",
              "    .dataframe tbody tr th {\n",
              "        vertical-align: top;\n",
              "    }\n",
              "\n",
              "    .dataframe thead th {\n",
              "        text-align: right;\n",
              "    }\n",
              "</style>\n",
              "<table border=\"1\" class=\"dataframe\">\n",
              "  <thead>\n",
              "    <tr style=\"text-align: right;\">\n",
              "      <th></th>\n",
              "      <th>children</th>\n",
              "      <th>days_employed</th>\n",
              "      <th>dob_years</th>\n",
              "      <th>education</th>\n",
              "      <th>education_id</th>\n",
              "      <th>family_status</th>\n",
              "      <th>family_status_id</th>\n",
              "      <th>gender</th>\n",
              "      <th>income_type</th>\n",
              "      <th>debt</th>\n",
              "      <th>total_income</th>\n",
              "      <th>purpose</th>\n",
              "    </tr>\n",
              "  </thead>\n",
              "  <tbody>\n",
              "    <tr>\n",
              "      <td>12</td>\n",
              "      <td>0</td>\n",
              "      <td>NaN</td>\n",
              "      <td>65</td>\n",
              "      <td>среднее</td>\n",
              "      <td>1</td>\n",
              "      <td>гражданский брак</td>\n",
              "      <td>1</td>\n",
              "      <td>M</td>\n",
              "      <td>пенсионер</td>\n",
              "      <td>0</td>\n",
              "      <td>NaN</td>\n",
              "      <td>сыграть свадьбу</td>\n",
              "    </tr>\n",
              "    <tr>\n",
              "      <td>26</td>\n",
              "      <td>0</td>\n",
              "      <td>NaN</td>\n",
              "      <td>41</td>\n",
              "      <td>среднее</td>\n",
              "      <td>1</td>\n",
              "      <td>женат / замужем</td>\n",
              "      <td>0</td>\n",
              "      <td>M</td>\n",
              "      <td>госслужащий</td>\n",
              "      <td>0</td>\n",
              "      <td>NaN</td>\n",
              "      <td>образование</td>\n",
              "    </tr>\n",
              "    <tr>\n",
              "      <td>29</td>\n",
              "      <td>0</td>\n",
              "      <td>NaN</td>\n",
              "      <td>63</td>\n",
              "      <td>среднее</td>\n",
              "      <td>1</td>\n",
              "      <td>Не женат / не замужем</td>\n",
              "      <td>4</td>\n",
              "      <td>F</td>\n",
              "      <td>пенсионер</td>\n",
              "      <td>0</td>\n",
              "      <td>NaN</td>\n",
              "      <td>строительство жилой недвижимости</td>\n",
              "    </tr>\n",
              "    <tr>\n",
              "      <td>41</td>\n",
              "      <td>0</td>\n",
              "      <td>NaN</td>\n",
              "      <td>50</td>\n",
              "      <td>среднее</td>\n",
              "      <td>1</td>\n",
              "      <td>женат / замужем</td>\n",
              "      <td>0</td>\n",
              "      <td>F</td>\n",
              "      <td>госслужащий</td>\n",
              "      <td>0</td>\n",
              "      <td>NaN</td>\n",
              "      <td>сделка с подержанным автомобилем</td>\n",
              "    </tr>\n",
              "    <tr>\n",
              "      <td>55</td>\n",
              "      <td>0</td>\n",
              "      <td>NaN</td>\n",
              "      <td>54</td>\n",
              "      <td>среднее</td>\n",
              "      <td>1</td>\n",
              "      <td>гражданский брак</td>\n",
              "      <td>1</td>\n",
              "      <td>F</td>\n",
              "      <td>пенсионер</td>\n",
              "      <td>1</td>\n",
              "      <td>NaN</td>\n",
              "      <td>сыграть свадьбу</td>\n",
              "    </tr>\n",
              "  </tbody>\n",
              "</table>\n",
              "</div>"
            ],
            "text/plain": [
              "    children  days_employed  dob_years education  education_id  \\\n",
              "12         0            NaN         65   среднее             1   \n",
              "26         0            NaN         41   среднее             1   \n",
              "29         0            NaN         63   среднее             1   \n",
              "41         0            NaN         50   среднее             1   \n",
              "55         0            NaN         54   среднее             1   \n",
              "\n",
              "            family_status  family_status_id gender  income_type  debt  \\\n",
              "12       гражданский брак                 1      M    пенсионер     0   \n",
              "26        женат / замужем                 0      M  госслужащий     0   \n",
              "29  Не женат / не замужем                 4      F    пенсионер     0   \n",
              "41        женат / замужем                 0      F  госслужащий     0   \n",
              "55       гражданский брак                 1      F    пенсионер     1   \n",
              "\n",
              "    total_income                           purpose  \n",
              "12           NaN                   сыграть свадьбу  \n",
              "26           NaN                       образование  \n",
              "29           NaN  строительство жилой недвижимости  \n",
              "41           NaN  сделка с подержанным автомобилем  \n",
              "55           NaN                   сыграть свадьбу  "
            ]
          },
          "metadata": {
            "tags": []
          },
          "execution_count": 4
        }
      ]
    },
    {
      "cell_type": "markdown",
      "metadata": {
        "id": "BTWvigpMzMDf"
      },
      "source": [
        "Заменим пропущенные значения в стобце days_employed на нули"
      ]
    },
    {
      "cell_type": "code",
      "metadata": {
        "id": "UBFPK8lJzMDf"
      },
      "source": [
        "credit_score_data['days_employed'].fillna(0, inplace=True) #заменим значения NaN на 0"
      ],
      "execution_count": null,
      "outputs": []
    },
    {
      "cell_type": "code",
      "metadata": {
        "id": "75yyPynQzMDf"
      },
      "source": [
        "#приведем значения в столбце с указанием образования к нижнему регистру, чтобы группировка была корректной\n",
        "credit_score_data['education'] = credit_score_data['education'].str.lower()"
      ],
      "execution_count": null,
      "outputs": []
    },
    {
      "cell_type": "markdown",
      "metadata": {
        "id": "bF5-G5fWzMDg"
      },
      "source": [
        "В столбце total_income пропущенные значения заменим на медиану, т.к. разброс значений по данной колонке составляет от 167 тысяч рублей до 2 млн руб., не уверен что среднее использовать корректно"
      ]
    },
    {
      "cell_type": "code",
      "metadata": {
        "id": "pH6oj6AFzMDg"
      },
      "source": [
        "# группируем датафрейм по столбцам образования и типу дохода, и заполняем пропуски по группам ср.знач. по группе\n",
        "credit_score_data.loc[:, 'total_income'] = credit_score_data.groupby(['education', 'income_type' ])\n",
        "                    .transform(lambda x: x.fillna(x.median()))"
      ],
      "execution_count": null,
      "outputs": []
    },
    {
      "cell_type": "markdown",
      "metadata": {
        "id": "LSXL6HtbzMDg"
      },
      "source": [
        "Проверим,что нулевые значения убраны"
      ]
    },
    {
      "cell_type": "code",
      "metadata": {
        "scrolled": true,
        "id": "9_6-cELzzMDh",
        "outputId": "cccd7303-d1c2-4ee1-dd89-77af9ae49036"
      },
      "source": [
        "credit_score_data.info()"
      ],
      "execution_count": null,
      "outputs": [
        {
          "output_type": "stream",
          "text": [
            "<class 'pandas.core.frame.DataFrame'>\n",
            "RangeIndex: 21525 entries, 0 to 21524\n",
            "Data columns (total 12 columns):\n",
            "children            21525 non-null int64\n",
            "days_employed       21525 non-null float64\n",
            "dob_years           21525 non-null int64\n",
            "education           21525 non-null object\n",
            "education_id        21525 non-null int64\n",
            "family_status       21525 non-null object\n",
            "family_status_id    21525 non-null int64\n",
            "gender              21525 non-null object\n",
            "income_type         21525 non-null object\n",
            "debt                21525 non-null int64\n",
            "total_income        21525 non-null float64\n",
            "purpose             21525 non-null object\n",
            "dtypes: float64(2), int64(5), object(5)\n",
            "memory usage: 2.0+ MB\n"
          ],
          "name": "stdout"
        }
      ]
    },
    {
      "cell_type": "code",
      "metadata": {
        "id": "-6bWxJT6zMDi",
        "outputId": "6bfbcf95-6997-4782-a7f4-486c90f5bea6"
      },
      "source": [
        "credit_score_data.isnull().sum() #проверим кол-во пропусков по каждому столбцу"
      ],
      "execution_count": null,
      "outputs": [
        {
          "output_type": "execute_result",
          "data": {
            "text/plain": [
              "children            0\n",
              "days_employed       0\n",
              "dob_years           0\n",
              "education           0\n",
              "education_id        0\n",
              "family_status       0\n",
              "family_status_id    0\n",
              "gender              0\n",
              "income_type         0\n",
              "debt                0\n",
              "total_income        0\n",
              "purpose             0\n",
              "dtype: int64"
            ]
          },
          "metadata": {
            "tags": []
          },
          "execution_count": 9
        }
      ]
    },
    {
      "cell_type": "markdown",
      "metadata": {
        "id": "oZUfA9W_zMDi"
      },
      "source": [
        "Проверим пропуски в столбцах с типом данных str"
      ]
    },
    {
      "cell_type": "code",
      "metadata": {
        "id": "Z4ii2hFSzMDi",
        "outputId": "e59b5206-62de-449b-db0e-71706948796a"
      },
      "source": [
        "for column in credit_score_data.select_dtypes(include=['object']).columns.tolist(): #выбираем из столбцов тип данных object\n",
        "    print(credit_score_data[column].value_counts())\n",
        "    print('Итого:',credit_score_data[column].value_counts().sum(), end='\\n\\n') #строка кода, чтобы выводился тотал \n",
        "    \n",
        "    \n",
        " "
      ],
      "execution_count": null,
      "outputs": [
        {
          "output_type": "stream",
          "text": [
            "среднее                15233\n",
            "высшее                  5260\n",
            "неоконченное высшее      744\n",
            "начальное                282\n",
            "ученая степень             6\n",
            "Name: education, dtype: int64\n",
            "Итого: 21525\n",
            "\n",
            "женат / замужем          12380\n",
            "гражданский брак          4177\n",
            "Не женат / не замужем     2813\n",
            "в разводе                 1195\n",
            "вдовец / вдова             960\n",
            "Name: family_status, dtype: int64\n",
            "Итого: 21525\n",
            "\n",
            "F      14236\n",
            "M       7288\n",
            "XNA        1\n",
            "Name: gender, dtype: int64\n",
            "Итого: 21525\n",
            "\n",
            "сотрудник          11119\n",
            "компаньон           5085\n",
            "пенсионер           3856\n",
            "госслужащий         1459\n",
            "предприниматель        2\n",
            "безработный            2\n",
            "студент                1\n",
            "в декрете              1\n",
            "Name: income_type, dtype: int64\n",
            "Итого: 21525\n",
            "\n",
            "свадьба                                   797\n",
            "на проведение свадьбы                     777\n",
            "сыграть свадьбу                           774\n",
            "операции с недвижимостью                  676\n",
            "покупка коммерческой недвижимости         664\n",
            "покупка жилья для сдачи                   653\n",
            "операции с жильем                         653\n",
            "операции с коммерческой недвижимостью     651\n",
            "покупка жилья                             647\n",
            "жилье                                     647\n",
            "покупка жилья для семьи                   641\n",
            "строительство собственной недвижимости    635\n",
            "недвижимость                              634\n",
            "операции со своей недвижимостью           630\n",
            "строительство жилой недвижимости          626\n",
            "покупка недвижимости                      624\n",
            "покупка своего жилья                      620\n",
            "строительство недвижимости                620\n",
            "ремонт жилью                              612\n",
            "покупка жилой недвижимости                607\n",
            "на покупку своего автомобиля              505\n",
            "заняться высшим образованием              496\n",
            "автомобиль                                495\n",
            "сделка с подержанным автомобилем          489\n",
            "свой автомобиль                           480\n",
            "на покупку подержанного автомобиля        479\n",
            "автомобили                                478\n",
            "на покупку автомобиля                     472\n",
            "дополнительное образование                462\n",
            "приобретение автомобиля                   462\n",
            "сделка с автомобилем                      455\n",
            "высшее образование                        453\n",
            "образование                               447\n",
            "получение дополнительного образования     447\n",
            "получение образования                     443\n",
            "профильное образование                    436\n",
            "получение высшего образования             426\n",
            "заняться образованием                     412\n",
            "Name: purpose, dtype: int64\n",
            "Итого: 21525\n",
            "\n"
          ],
          "name": "stdout"
        }
      ]
    },
    {
      "cell_type": "markdown",
      "metadata": {
        "id": "KdAYlRuvzMDj"
      },
      "source": [
        "**Вывод**"
      ]
    },
    {
      "cell_type": "markdown",
      "metadata": {
        "id": "mTOmwfEPzMDj"
      },
      "source": [
        "1. Мы убрали пропуски в столбцах days_employed и total_income. Пропущенные значения содержались в стобцах с количество дней общего трудового стажа и общимдоходом.\n",
        "Мы заменили пропущенные значения в столбце total_income на медианные значения по группам образования и типу занятости, чтобы в целом статистика не была искажена.\n",
        "2. Пропуски по столбцам наблюдались в одних и техже строках. Пропуски в данных столбцах имеют, вероятнее всего, человеческий фактор происхождения: например, кто-то на пенсии, и не работают, поэтому пропускают данное поле для заполнения, в связи с этим и общий доход также отсутствует. В целом, пропуски составляли 10% среди всех строк в наборе данных."
      ]
    },
    {
      "cell_type": "markdown",
      "metadata": {
        "id": "IXqJyBBpzMDk"
      },
      "source": [
        "### Замена типа данных"
      ]
    },
    {
      "cell_type": "markdown",
      "metadata": {
        "id": "G37DfV4XzMDk"
      },
      "source": [
        "Изучим общую информацию о типах данных нашей базы"
      ]
    },
    {
      "cell_type": "code",
      "metadata": {
        "id": "C1rmSmCOzMDk",
        "outputId": "36f9087a-4727-403d-e9bd-3268ac54ee72"
      },
      "source": [
        "credit_score_data.info()"
      ],
      "execution_count": null,
      "outputs": [
        {
          "output_type": "stream",
          "text": [
            "<class 'pandas.core.frame.DataFrame'>\n",
            "RangeIndex: 21525 entries, 0 to 21524\n",
            "Data columns (total 12 columns):\n",
            "children            21525 non-null int64\n",
            "days_employed       21525 non-null float64\n",
            "dob_years           21525 non-null int64\n",
            "education           21525 non-null object\n",
            "education_id        21525 non-null int64\n",
            "family_status       21525 non-null object\n",
            "family_status_id    21525 non-null int64\n",
            "gender              21525 non-null object\n",
            "income_type         21525 non-null object\n",
            "debt                21525 non-null int64\n",
            "total_income        21525 non-null float64\n",
            "purpose             21525 non-null object\n",
            "dtypes: float64(2), int64(5), object(5)\n",
            "memory usage: 2.0+ MB\n"
          ],
          "name": "stdout"
        }
      ]
    },
    {
      "cell_type": "markdown",
      "metadata": {
        "id": "48wDO7ktzMDk"
      },
      "source": [
        "В столбце days_employed должны находится целочисленные значения, отражающие количество дней стажа. Необходимо перобразовать в int.\n",
        "\n",
        "Также, округлим значения дохода до целочисленного."
      ]
    },
    {
      "cell_type": "code",
      "metadata": {
        "id": "MTvz4Kw2zMDl"
      },
      "source": [
        "credit_score_data['days_employed'] = credit_score_data['days_employed'].astype('int')\n",
        "credit_score_data['total_income'] = credit_score_data['total_income'].astype('int')"
      ],
      "execution_count": null,
      "outputs": []
    },
    {
      "cell_type": "markdown",
      "metadata": {
        "id": "F4_LCa-dzMDl"
      },
      "source": [
        "Исправим отрицательные значения из столбцов children и days_employed на положительные"
      ]
    },
    {
      "cell_type": "code",
      "metadata": {
        "id": "l2bFU0RUzMDl",
        "outputId": "c76fd4c2-05a2-4e24-f1bd-b102c006c4bc"
      },
      "source": [
        "credit_score_data['children'] = credit_score_data['children'].apply(lambda x: abs(x))\n",
        "credit_score_data['days_employed'] = credit_score_data['days_employed'].apply(lambda x: abs(x))\n",
        "credit_score_data.describe()"
      ],
      "execution_count": null,
      "outputs": [
        {
          "output_type": "execute_result",
          "data": {
            "text/html": [
              "<div>\n",
              "<style scoped>\n",
              "    .dataframe tbody tr th:only-of-type {\n",
              "        vertical-align: middle;\n",
              "    }\n",
              "\n",
              "    .dataframe tbody tr th {\n",
              "        vertical-align: top;\n",
              "    }\n",
              "\n",
              "    .dataframe thead th {\n",
              "        text-align: right;\n",
              "    }\n",
              "</style>\n",
              "<table border=\"1\" class=\"dataframe\">\n",
              "  <thead>\n",
              "    <tr style=\"text-align: right;\">\n",
              "      <th></th>\n",
              "      <th>children</th>\n",
              "      <th>days_employed</th>\n",
              "      <th>dob_years</th>\n",
              "      <th>education_id</th>\n",
              "      <th>family_status_id</th>\n",
              "      <th>debt</th>\n",
              "      <th>total_income</th>\n",
              "    </tr>\n",
              "  </thead>\n",
              "  <tbody>\n",
              "    <tr>\n",
              "      <td>count</td>\n",
              "      <td>21525.000000</td>\n",
              "      <td>21525.000000</td>\n",
              "      <td>21525.000000</td>\n",
              "      <td>21525.000000</td>\n",
              "      <td>21525.000000</td>\n",
              "      <td>21525.000000</td>\n",
              "      <td>2.152500e+04</td>\n",
              "    </tr>\n",
              "    <tr>\n",
              "      <td>mean</td>\n",
              "      <td>0.543275</td>\n",
              "      <td>60155.970128</td>\n",
              "      <td>43.293380</td>\n",
              "      <td>0.817236</td>\n",
              "      <td>0.972544</td>\n",
              "      <td>0.080883</td>\n",
              "      <td>1.653532e+05</td>\n",
              "    </tr>\n",
              "    <tr>\n",
              "      <td>std</td>\n",
              "      <td>1.379876</td>\n",
              "      <td>133355.906156</td>\n",
              "      <td>12.574584</td>\n",
              "      <td>0.548138</td>\n",
              "      <td>1.420324</td>\n",
              "      <td>0.272661</td>\n",
              "      <td>9.814856e+04</td>\n",
              "    </tr>\n",
              "    <tr>\n",
              "      <td>min</td>\n",
              "      <td>0.000000</td>\n",
              "      <td>0.000000</td>\n",
              "      <td>0.000000</td>\n",
              "      <td>0.000000</td>\n",
              "      <td>0.000000</td>\n",
              "      <td>0.000000</td>\n",
              "      <td>2.066700e+04</td>\n",
              "    </tr>\n",
              "    <tr>\n",
              "      <td>25%</td>\n",
              "      <td>0.000000</td>\n",
              "      <td>610.000000</td>\n",
              "      <td>33.000000</td>\n",
              "      <td>1.000000</td>\n",
              "      <td>0.000000</td>\n",
              "      <td>0.000000</td>\n",
              "      <td>1.077190e+05</td>\n",
              "    </tr>\n",
              "    <tr>\n",
              "      <td>50%</td>\n",
              "      <td>0.000000</td>\n",
              "      <td>1808.000000</td>\n",
              "      <td>42.000000</td>\n",
              "      <td>1.000000</td>\n",
              "      <td>0.000000</td>\n",
              "      <td>0.000000</td>\n",
              "      <td>1.434960e+05</td>\n",
              "    </tr>\n",
              "    <tr>\n",
              "      <td>75%</td>\n",
              "      <td>1.000000</td>\n",
              "      <td>4779.000000</td>\n",
              "      <td>53.000000</td>\n",
              "      <td>1.000000</td>\n",
              "      <td>1.000000</td>\n",
              "      <td>0.000000</td>\n",
              "      <td>1.981490e+05</td>\n",
              "    </tr>\n",
              "    <tr>\n",
              "      <td>max</td>\n",
              "      <td>20.000000</td>\n",
              "      <td>401755.000000</td>\n",
              "      <td>75.000000</td>\n",
              "      <td>4.000000</td>\n",
              "      <td>4.000000</td>\n",
              "      <td>1.000000</td>\n",
              "      <td>2.265604e+06</td>\n",
              "    </tr>\n",
              "  </tbody>\n",
              "</table>\n",
              "</div>"
            ],
            "text/plain": [
              "           children  days_employed     dob_years  education_id  \\\n",
              "count  21525.000000   21525.000000  21525.000000  21525.000000   \n",
              "mean       0.543275   60155.970128     43.293380      0.817236   \n",
              "std        1.379876  133355.906156     12.574584      0.548138   \n",
              "min        0.000000       0.000000      0.000000      0.000000   \n",
              "25%        0.000000     610.000000     33.000000      1.000000   \n",
              "50%        0.000000    1808.000000     42.000000      1.000000   \n",
              "75%        1.000000    4779.000000     53.000000      1.000000   \n",
              "max       20.000000  401755.000000     75.000000      4.000000   \n",
              "\n",
              "       family_status_id          debt  total_income  \n",
              "count      21525.000000  21525.000000  2.152500e+04  \n",
              "mean           0.972544      0.080883  1.653532e+05  \n",
              "std            1.420324      0.272661  9.814856e+04  \n",
              "min            0.000000      0.000000  2.066700e+04  \n",
              "25%            0.000000      0.000000  1.077190e+05  \n",
              "50%            0.000000      0.000000  1.434960e+05  \n",
              "75%            1.000000      0.000000  1.981490e+05  \n",
              "max            4.000000      1.000000  2.265604e+06  "
            ]
          },
          "metadata": {
            "tags": []
          },
          "execution_count": 13
        }
      ]
    },
    {
      "cell_type": "markdown",
      "metadata": {
        "id": "cjHuS3aDzMDm"
      },
      "source": [
        "Мы видим, что в наших данных присутствуют артефакты: 20 детей в столбце children, а также 400 тысяч дней в столбце days_employed: очевидно, что человек не может работать тысячу лет, и это сильно искажает наши данные."
      ]
    },
    {
      "cell_type": "code",
      "metadata": {
        "id": "e2aOKCcVzMDm",
        "outputId": "d7a77405-651a-4d26-924d-85fb151c683f"
      },
      "source": [
        "credit_score_data = credit_score_data.drop(credit_score_data[credit_score_data.children == 20].index) #удалим строку, где значение детей равно 20\n",
        "credit_score_data = credit_score_data.drop(credit_score_data[credit_score_data.days_employed > 100000].index) #удалим все строки, где кол-во дней больше 100 тысяч дней\n",
        "\n",
        "credit_score_data.describe()"
      ],
      "execution_count": null,
      "outputs": [
        {
          "output_type": "execute_result",
          "data": {
            "text/html": [
              "<div>\n",
              "<style scoped>\n",
              "    .dataframe tbody tr th:only-of-type {\n",
              "        vertical-align: middle;\n",
              "    }\n",
              "\n",
              "    .dataframe tbody tr th {\n",
              "        vertical-align: top;\n",
              "    }\n",
              "\n",
              "    .dataframe thead th {\n",
              "        text-align: right;\n",
              "    }\n",
              "</style>\n",
              "<table border=\"1\" class=\"dataframe\">\n",
              "  <thead>\n",
              "    <tr style=\"text-align: right;\">\n",
              "      <th></th>\n",
              "      <th>children</th>\n",
              "      <th>days_employed</th>\n",
              "      <th>dob_years</th>\n",
              "      <th>education_id</th>\n",
              "      <th>family_status_id</th>\n",
              "      <th>debt</th>\n",
              "      <th>total_income</th>\n",
              "    </tr>\n",
              "  </thead>\n",
              "  <tbody>\n",
              "    <tr>\n",
              "      <td>count</td>\n",
              "      <td>18011.000000</td>\n",
              "      <td>18011.000000</td>\n",
              "      <td>18011.000000</td>\n",
              "      <td>18011.000000</td>\n",
              "      <td>18011.000000</td>\n",
              "      <td>18011.000000</td>\n",
              "      <td>1.801100e+04</td>\n",
              "    </tr>\n",
              "    <tr>\n",
              "      <td>mean</td>\n",
              "      <td>0.547332</td>\n",
              "      <td>2070.422797</td>\n",
              "      <td>40.277775</td>\n",
              "      <td>0.798568</td>\n",
              "      <td>0.970851</td>\n",
              "      <td>0.086114</td>\n",
              "      <td>1.707315e+05</td>\n",
              "    </tr>\n",
              "    <tr>\n",
              "      <td>std</td>\n",
              "      <td>0.786561</td>\n",
              "      <td>2292.744105</td>\n",
              "      <td>10.974817</td>\n",
              "      <td>0.552276</td>\n",
              "      <td>1.439502</td>\n",
              "      <td>0.280540</td>\n",
              "      <td>1.003829e+05</td>\n",
              "    </tr>\n",
              "    <tr>\n",
              "      <td>min</td>\n",
              "      <td>0.000000</td>\n",
              "      <td>0.000000</td>\n",
              "      <td>0.000000</td>\n",
              "      <td>0.000000</td>\n",
              "      <td>0.000000</td>\n",
              "      <td>0.000000</td>\n",
              "      <td>2.136700e+04</td>\n",
              "    </tr>\n",
              "    <tr>\n",
              "      <td>25%</td>\n",
              "      <td>0.000000</td>\n",
              "      <td>450.000000</td>\n",
              "      <td>32.000000</td>\n",
              "      <td>0.000000</td>\n",
              "      <td>0.000000</td>\n",
              "      <td>0.000000</td>\n",
              "      <td>1.134605e+05</td>\n",
              "    </tr>\n",
              "    <tr>\n",
              "      <td>50%</td>\n",
              "      <td>0.000000</td>\n",
              "      <td>1349.000000</td>\n",
              "      <td>40.000000</td>\n",
              "      <td>1.000000</td>\n",
              "      <td>0.000000</td>\n",
              "      <td>0.000000</td>\n",
              "      <td>1.481090e+05</td>\n",
              "    </tr>\n",
              "    <tr>\n",
              "      <td>75%</td>\n",
              "      <td>1.000000</td>\n",
              "      <td>2896.000000</td>\n",
              "      <td>48.000000</td>\n",
              "      <td>1.000000</td>\n",
              "      <td>1.000000</td>\n",
              "      <td>0.000000</td>\n",
              "      <td>2.017850e+05</td>\n",
              "    </tr>\n",
              "    <tr>\n",
              "      <td>max</td>\n",
              "      <td>5.000000</td>\n",
              "      <td>18388.000000</td>\n",
              "      <td>75.000000</td>\n",
              "      <td>4.000000</td>\n",
              "      <td>4.000000</td>\n",
              "      <td>1.000000</td>\n",
              "      <td>2.265604e+06</td>\n",
              "    </tr>\n",
              "  </tbody>\n",
              "</table>\n",
              "</div>"
            ],
            "text/plain": [
              "           children  days_employed     dob_years  education_id  \\\n",
              "count  18011.000000   18011.000000  18011.000000  18011.000000   \n",
              "mean       0.547332    2070.422797     40.277775      0.798568   \n",
              "std        0.786561    2292.744105     10.974817      0.552276   \n",
              "min        0.000000       0.000000      0.000000      0.000000   \n",
              "25%        0.000000     450.000000     32.000000      0.000000   \n",
              "50%        0.000000    1349.000000     40.000000      1.000000   \n",
              "75%        1.000000    2896.000000     48.000000      1.000000   \n",
              "max        5.000000   18388.000000     75.000000      4.000000   \n",
              "\n",
              "       family_status_id          debt  total_income  \n",
              "count      18011.000000  18011.000000  1.801100e+04  \n",
              "mean           0.970851      0.086114  1.707315e+05  \n",
              "std            1.439502      0.280540  1.003829e+05  \n",
              "min            0.000000      0.000000  2.136700e+04  \n",
              "25%            0.000000      0.000000  1.134605e+05  \n",
              "50%            0.000000      0.000000  1.481090e+05  \n",
              "75%            1.000000      0.000000  2.017850e+05  \n",
              "max            4.000000      1.000000  2.265604e+06  "
            ]
          },
          "metadata": {
            "tags": []
          },
          "execution_count": 14
        }
      ]
    },
    {
      "cell_type": "markdown",
      "metadata": {
        "id": "xH8KsaJ-zMDn"
      },
      "source": [
        "**Вывод**"
      ]
    },
    {
      "cell_type": "markdown",
      "metadata": {
        "id": "fajpqCz_zMDn"
      },
      "source": [
        "Стобец days_employed должен иметь типа данных как целочесленный, т.к.это количество дней, а также мы исправили тип данных по столбцу total_income на целочисленный для удобства. Помимо этого исправили отрицательные значения по стобцу с  количеством детей. Также мы видим, что теперь макисмлаьное количество рабочих дней соотносится с реальностью."
      ]
    },
    {
      "cell_type": "markdown",
      "metadata": {
        "id": "TWaEa3MQzMDn"
      },
      "source": [
        "### Обработка дубликатов"
      ]
    },
    {
      "cell_type": "markdown",
      "metadata": {
        "id": "usFtAbQizMDn"
      },
      "source": [
        "Узнаем общее количество дубликатов строк"
      ]
    },
    {
      "cell_type": "code",
      "metadata": {
        "id": "l9gwwbi0zMDn",
        "outputId": "8876f33f-be07-42c6-bb8b-60bb244b56f2"
      },
      "source": [
        "credit_score_data.duplicated().sum() #получим суммарное кол-во дубликатов"
      ],
      "execution_count": null,
      "outputs": [
        {
          "output_type": "execute_result",
          "data": {
            "text/plain": [
              "71"
            ]
          },
          "metadata": {
            "tags": []
          },
          "execution_count": 15
        }
      ]
    },
    {
      "cell_type": "code",
      "metadata": {
        "id": "Tpl9Qn1tzMDo",
        "outputId": "47446058-f25f-49ab-9be8-3564eb34c7c2"
      },
      "source": [
        "credit_score_data['education'] = credit_score_data['education'].str.lower()\n",
        "print(credit_score_data['education'].value_counts())"
      ],
      "execution_count": null,
      "outputs": [
        {
          "output_type": "stream",
          "text": [
            "среднее                12386\n",
            "высшее                  4725\n",
            "неоконченное высшее      707\n",
            "начальное                189\n",
            "ученая степень             4\n",
            "Name: education, dtype: int64\n"
          ],
          "name": "stdout"
        }
      ]
    },
    {
      "cell_type": "code",
      "metadata": {
        "id": "ifi_M8WKzMDo",
        "outputId": "811049ab-7e94-4ec9-db8c-e0de1227145e"
      },
      "source": [
        "credit_score_data.drop_duplicates(keep='first', inplace=True) #удалим дубликаты\n",
        "credit_score_data.duplicated().sum()"
      ],
      "execution_count": null,
      "outputs": [
        {
          "output_type": "execute_result",
          "data": {
            "text/plain": [
              "0"
            ]
          },
          "metadata": {
            "tags": []
          },
          "execution_count": 17
        }
      ]
    },
    {
      "cell_type": "markdown",
      "metadata": {
        "id": "OEPiisynzMDp"
      },
      "source": [
        "**Вывод**"
      ]
    },
    {
      "cell_type": "markdown",
      "metadata": {
        "id": "6agdEFYzzMDp"
      },
      "source": [
        "Мы удалили дубликаты строк, их было 71. В нашем случае в качестве дубликата нельзя выделить какой-либо один элемент, хотя таким элементом мог бы быть ID конкретного человека, имя и фамилия, который хочет взять кредит. В данном случае данные не персонализированы, поэтому мы искали полные дубликаты. \n",
        "\n",
        "Причины появления дубликатов могу быть как технические, так и иметь человеческий фактор: люди оставляли заявки на получение кредита, и получив отрицательный результат - вносили данные снова. "
      ]
    },
    {
      "cell_type": "markdown",
      "metadata": {
        "id": "6CPHl2ADzMDq"
      },
      "source": [
        "### Лемматизация"
      ]
    },
    {
      "cell_type": "markdown",
      "metadata": {
        "id": "UKy2OykTzMDq"
      },
      "source": [
        "Первым делом импортируем бибилиотеку nltk иpymystem3"
      ]
    },
    {
      "cell_type": "code",
      "metadata": {
        "id": "DtaxXO9wzMDq"
      },
      "source": [
        "from nltk.stem import SnowballStemmer \n",
        "russian_stemmer = SnowballStemmer('russian') \n",
        "from pymystem3 import Mystem\n",
        "from collections import Counter\n",
        "m = Mystem()"
      ],
      "execution_count": null,
      "outputs": []
    },
    {
      "cell_type": "markdown",
      "metadata": {
        "id": "em4mz32zzMDq"
      },
      "source": [
        "Найдем и выведем частоту каждой цели (элемента), встречающуюся в столбце purpose при помощи цикла"
      ]
    },
    {
      "cell_type": "code",
      "metadata": {
        "id": "fJ50iKCwzMDr",
        "outputId": "7b73773f-e490-444f-fd63-44032b00be65"
      },
      "source": [
        "list_of_purpose = credit_score_data['purpose'].tolist()\n",
        "\n",
        "lemmas = []\n",
        "for item in  list_of_purpose:\n",
        "    \n",
        "    text =' '.join(m.lemmatize(item))\n",
        "    lemmas.append(text)\n",
        "\n",
        "Counter(lemmas)"
      ],
      "execution_count": null,
      "outputs": [
        {
          "output_type": "execute_result",
          "data": {
            "text/plain": [
              "Counter({'покупка   жилье \\n': 531,\n",
              "         'приобретение   автомобиль \\n': 384,\n",
              "         'дополнительный   образование \\n': 375,\n",
              "         'операция   с   жилье \\n': 554,\n",
              "         'образование \\n': 371,\n",
              "         'на   проведение   свадьба \\n': 638,\n",
              "         'покупка   жилье   для   семья \\n': 530,\n",
              "         'покупка   недвижимость \\n': 518,\n",
              "         'покупка   коммерческий   недвижимость \\n': 553,\n",
              "         'сыграть   свадьба \\n': 634,\n",
              "         'покупка   жилой   недвижимость \\n': 519,\n",
              "         'строительство   собственный   недвижимость \\n': 529,\n",
              "         'недвижимость \\n': 540,\n",
              "         'строительство   недвижимость \\n': 523,\n",
              "         'на   покупка   свой   автомобиль \\n': 435,\n",
              "         'на   покупка   подержать   автомобиль \\n': 388,\n",
              "         'строительство   жилой   недвижимость \\n': 511,\n",
              "         'жилье \\n': 540,\n",
              "         'операция   со   свой   недвижимость \\n': 529,\n",
              "         'автомобиль \\n': 799,\n",
              "         'заниматься   образование \\n': 349,\n",
              "         'сделка   с   подержанный   автомобиль \\n': 404,\n",
              "         'получение   образование \\n': 366,\n",
              "         'свадьба \\n': 669,\n",
              "         'получение   дополнительный   образование \\n': 365,\n",
              "         'покупка   свой   жилье \\n': 538,\n",
              "         'операция   с   недвижимость \\n': 561,\n",
              "         'получение   высокий   образование \\n': 358,\n",
              "         'операция   с   коммерческий   недвижимость \\n': 540,\n",
              "         'свой   автомобиль \\n': 401,\n",
              "         'сделка   с   автомобиль \\n': 381,\n",
              "         'профильный   образование \\n': 364,\n",
              "         'высокий   образование \\n': 376,\n",
              "         'на   покупка   автомобиль \\n': 385,\n",
              "         'покупка   жилье   для   сдача \\n': 548,\n",
              "         'ремонт   жилье \\n': 514,\n",
              "         'заниматься   высокий   образование \\n': 420})"
            ]
          },
          "metadata": {
            "tags": []
          },
          "execution_count": 19
        }
      ]
    },
    {
      "cell_type": "code",
      "metadata": {
        "id": "e2065ZwWzMDr",
        "outputId": "e80ac8ed-3100-4513-9ba4-fa4a592c01d6"
      },
      "source": [
        "credit_score_data['purpose_lemm'] = credit_score_data['purpose'].apply(m.lemmatize)\n",
        "credit_score_data['purpose_lemm']"
      ],
      "execution_count": null,
      "outputs": [
        {
          "output_type": "execute_result",
          "data": {
            "text/plain": [
              "0                                [покупка,  , жилье, \\n]\n",
              "1                      [приобретение,  , автомобиль, \\n]\n",
              "2                                [покупка,  , жилье, \\n]\n",
              "3                   [дополнительный,  , образование, \\n]\n",
              "5                                [покупка,  , жилье, \\n]\n",
              "                              ...                       \n",
              "21519    [покупка,  , коммерческий,  , недвижимость, \\n]\n",
              "21520                     [операция,  , с,  , жилье, \\n]\n",
              "21522                                 [недвижимость, \\n]\n",
              "21523       [на,  , покупка,  , свой,  , автомобиль, \\n]\n",
              "21524                [на,  , покупка,  , автомобиль, \\n]\n",
              "Name: purpose_lemm, Length: 17940, dtype: object"
            ]
          },
          "metadata": {
            "tags": []
          },
          "execution_count": 20
        }
      ]
    },
    {
      "cell_type": "markdown",
      "metadata": {
        "id": "2qM9AiztzMDs"
      },
      "source": [
        "Далее, мы напишем функцию, которая позволит нам записать в новый столбец укрупненную группу, если подоходящее слово есть в словаре. Так мы получим столбец с общими категориями целей."
      ]
    },
    {
      "cell_type": "code",
      "metadata": {
        "scrolled": true,
        "id": "VjTgYv1szMDs",
        "outputId": "bfb617ff-b196-4b37-d956-76e47bb3814e"
      },
      "source": [
        "# определяем из списка лемм целевую группу и записываем ее в словарь general_purpose_groups\n",
        "\n",
        "general_purpose_groups = {'недвижимость' : 'Недвижимость',\n",
        "               'жилье' : 'Недвижимость', \n",
        "               'образование' : 'Образование', \n",
        "               'свадьба' : 'Проведение свадьбы', \n",
        "               'автомобиль' : 'Приобретение автомобиля'\n",
        "              }\n",
        "# создадим функцию, возвращающую значение по ключю из основной группы, если слово из листа лемм есть в словаре\n",
        "\n",
        "def func(purp_item_list):\n",
        "    for word in purp_item_list:\n",
        "        \n",
        "        if word in general_purpose_groups:\n",
        "            return general_purpose_groups[word]\n",
        "\n",
        "credit_score_data['new_purp_category'] = credit_score_data['purpose_lemm'].apply(func) # добавляем в новый столбец категории по целям кредитования \n",
        "credit_score_data.head()"
      ],
      "execution_count": null,
      "outputs": [
        {
          "output_type": "execute_result",
          "data": {
            "text/html": [
              "<div>\n",
              "<style scoped>\n",
              "    .dataframe tbody tr th:only-of-type {\n",
              "        vertical-align: middle;\n",
              "    }\n",
              "\n",
              "    .dataframe tbody tr th {\n",
              "        vertical-align: top;\n",
              "    }\n",
              "\n",
              "    .dataframe thead th {\n",
              "        text-align: right;\n",
              "    }\n",
              "</style>\n",
              "<table border=\"1\" class=\"dataframe\">\n",
              "  <thead>\n",
              "    <tr style=\"text-align: right;\">\n",
              "      <th></th>\n",
              "      <th>children</th>\n",
              "      <th>days_employed</th>\n",
              "      <th>dob_years</th>\n",
              "      <th>education</th>\n",
              "      <th>education_id</th>\n",
              "      <th>family_status</th>\n",
              "      <th>family_status_id</th>\n",
              "      <th>gender</th>\n",
              "      <th>income_type</th>\n",
              "      <th>debt</th>\n",
              "      <th>total_income</th>\n",
              "      <th>purpose</th>\n",
              "      <th>purpose_lemm</th>\n",
              "      <th>new_purp_category</th>\n",
              "    </tr>\n",
              "  </thead>\n",
              "  <tbody>\n",
              "    <tr>\n",
              "      <td>0</td>\n",
              "      <td>1</td>\n",
              "      <td>8437</td>\n",
              "      <td>42</td>\n",
              "      <td>высшее</td>\n",
              "      <td>0</td>\n",
              "      <td>женат / замужем</td>\n",
              "      <td>0</td>\n",
              "      <td>F</td>\n",
              "      <td>сотрудник</td>\n",
              "      <td>0</td>\n",
              "      <td>253875</td>\n",
              "      <td>покупка жилья</td>\n",
              "      <td>[покупка,  , жилье, \\n]</td>\n",
              "      <td>Недвижимость</td>\n",
              "    </tr>\n",
              "    <tr>\n",
              "      <td>1</td>\n",
              "      <td>1</td>\n",
              "      <td>4024</td>\n",
              "      <td>36</td>\n",
              "      <td>среднее</td>\n",
              "      <td>1</td>\n",
              "      <td>женат / замужем</td>\n",
              "      <td>0</td>\n",
              "      <td>F</td>\n",
              "      <td>сотрудник</td>\n",
              "      <td>0</td>\n",
              "      <td>112080</td>\n",
              "      <td>приобретение автомобиля</td>\n",
              "      <td>[приобретение,  , автомобиль, \\n]</td>\n",
              "      <td>Приобретение автомобиля</td>\n",
              "    </tr>\n",
              "    <tr>\n",
              "      <td>2</td>\n",
              "      <td>0</td>\n",
              "      <td>5623</td>\n",
              "      <td>33</td>\n",
              "      <td>среднее</td>\n",
              "      <td>1</td>\n",
              "      <td>женат / замужем</td>\n",
              "      <td>0</td>\n",
              "      <td>M</td>\n",
              "      <td>сотрудник</td>\n",
              "      <td>0</td>\n",
              "      <td>145885</td>\n",
              "      <td>покупка жилья</td>\n",
              "      <td>[покупка,  , жилье, \\n]</td>\n",
              "      <td>Недвижимость</td>\n",
              "    </tr>\n",
              "    <tr>\n",
              "      <td>3</td>\n",
              "      <td>3</td>\n",
              "      <td>4124</td>\n",
              "      <td>32</td>\n",
              "      <td>среднее</td>\n",
              "      <td>1</td>\n",
              "      <td>женат / замужем</td>\n",
              "      <td>0</td>\n",
              "      <td>M</td>\n",
              "      <td>сотрудник</td>\n",
              "      <td>0</td>\n",
              "      <td>267628</td>\n",
              "      <td>дополнительное образование</td>\n",
              "      <td>[дополнительный,  , образование, \\n]</td>\n",
              "      <td>Образование</td>\n",
              "    </tr>\n",
              "    <tr>\n",
              "      <td>5</td>\n",
              "      <td>0</td>\n",
              "      <td>926</td>\n",
              "      <td>27</td>\n",
              "      <td>высшее</td>\n",
              "      <td>0</td>\n",
              "      <td>гражданский брак</td>\n",
              "      <td>1</td>\n",
              "      <td>M</td>\n",
              "      <td>компаньон</td>\n",
              "      <td>0</td>\n",
              "      <td>255763</td>\n",
              "      <td>покупка жилья</td>\n",
              "      <td>[покупка,  , жилье, \\n]</td>\n",
              "      <td>Недвижимость</td>\n",
              "    </tr>\n",
              "  </tbody>\n",
              "</table>\n",
              "</div>"
            ],
            "text/plain": [
              "   children  days_employed  dob_years education  education_id  \\\n",
              "0         1           8437         42    высшее             0   \n",
              "1         1           4024         36   среднее             1   \n",
              "2         0           5623         33   среднее             1   \n",
              "3         3           4124         32   среднее             1   \n",
              "5         0            926         27    высшее             0   \n",
              "\n",
              "      family_status  family_status_id gender income_type  debt  total_income  \\\n",
              "0   женат / замужем                 0      F   сотрудник     0        253875   \n",
              "1   женат / замужем                 0      F   сотрудник     0        112080   \n",
              "2   женат / замужем                 0      M   сотрудник     0        145885   \n",
              "3   женат / замужем                 0      M   сотрудник     0        267628   \n",
              "5  гражданский брак                 1      M   компаньон     0        255763   \n",
              "\n",
              "                      purpose                          purpose_lemm  \\\n",
              "0               покупка жилья               [покупка,  , жилье, \\n]   \n",
              "1     приобретение автомобиля     [приобретение,  , автомобиль, \\n]   \n",
              "2               покупка жилья               [покупка,  , жилье, \\n]   \n",
              "3  дополнительное образование  [дополнительный,  , образование, \\n]   \n",
              "5               покупка жилья               [покупка,  , жилье, \\n]   \n",
              "\n",
              "         new_purp_category  \n",
              "0             Недвижимость  \n",
              "1  Приобретение автомобиля  \n",
              "2             Недвижимость  \n",
              "3              Образование  \n",
              "5             Недвижимость  "
            ]
          },
          "metadata": {
            "tags": []
          },
          "execution_count": 21
        }
      ]
    },
    {
      "cell_type": "markdown",
      "metadata": {
        "id": "iT87Mw48zMDt"
      },
      "source": [
        "**Вывод**"
      ]
    },
    {
      "cell_type": "markdown",
      "metadata": {
        "id": "ln2KA2l8zMDt"
      },
      "source": [
        "Мы выделили леммы  из всей базы целей, выделили оттуда общие категории и добавили новый столбец.  \n",
        "Мы выделили следующие категории: Покупка или строительство недвижимости, свадьба, покупка автомобился и образование. Далее мы будем работать именно с этими категориями."
      ]
    },
    {
      "cell_type": "markdown",
      "metadata": {
        "id": "QOP1XYVrzMDt"
      },
      "source": [
        "### Категоризация данных"
      ]
    },
    {
      "cell_type": "markdown",
      "metadata": {
        "id": "_4L9htm8zMDu"
      },
      "source": [
        "Для дальнейшего анализа разделим уровень дохода на 4 категории по уровням: низкий, средний, выше среднего и высокий"
      ]
    },
    {
      "cell_type": "code",
      "metadata": {
        "id": "3Z89G_wqzMDu"
      },
      "source": [
        "quantile_1 = credit_score_data['total_income'].quantile([0.25]).sum()\n",
        "quantile_2 = credit_score_data['total_income'].quantile([0.5]).sum() \n",
        "quantile_3 = credit_score_data['total_income'].quantile([0.75]).sum()"
      ],
      "execution_count": null,
      "outputs": []
    },
    {
      "cell_type": "code",
      "metadata": {
        "id": "cbObvD0YzMDu",
        "outputId": "fedb1e58-4cd6-4779-d5aa-e9addcf08803"
      },
      "source": [
        "#определим функцию возвращающую уровень дохода\n",
        "def categorize_income(value):\n",
        "    if value <= quantile_1 :\n",
        "        return 'Низкий'\n",
        "    elif quantile_1  < value <= quantile_2 :\n",
        "        return 'Средний'\n",
        "    elif quantile_2 < value <= quantile_3:\n",
        "        return 'Выше среднего'\n",
        "    elif  value > quantile_3:\n",
        "        return 'Высокий'\n",
        "    \n",
        "#добаввим в таблицу столбец с новыми категориями по уровню дохода\n",
        "credit_score_data['lvl_income'] = credit_score_data['total_income'].apply(categorize_income)\n",
        "credit_score_data"
      ],
      "execution_count": null,
      "outputs": [
        {
          "output_type": "execute_result",
          "data": {
            "text/html": [
              "<div>\n",
              "<style scoped>\n",
              "    .dataframe tbody tr th:only-of-type {\n",
              "        vertical-align: middle;\n",
              "    }\n",
              "\n",
              "    .dataframe tbody tr th {\n",
              "        vertical-align: top;\n",
              "    }\n",
              "\n",
              "    .dataframe thead th {\n",
              "        text-align: right;\n",
              "    }\n",
              "</style>\n",
              "<table border=\"1\" class=\"dataframe\">\n",
              "  <thead>\n",
              "    <tr style=\"text-align: right;\">\n",
              "      <th></th>\n",
              "      <th>children</th>\n",
              "      <th>days_employed</th>\n",
              "      <th>dob_years</th>\n",
              "      <th>education</th>\n",
              "      <th>education_id</th>\n",
              "      <th>family_status</th>\n",
              "      <th>family_status_id</th>\n",
              "      <th>gender</th>\n",
              "      <th>income_type</th>\n",
              "      <th>debt</th>\n",
              "      <th>total_income</th>\n",
              "      <th>purpose</th>\n",
              "      <th>purpose_lemm</th>\n",
              "      <th>new_purp_category</th>\n",
              "      <th>lvl_income</th>\n",
              "    </tr>\n",
              "  </thead>\n",
              "  <tbody>\n",
              "    <tr>\n",
              "      <td>0</td>\n",
              "      <td>1</td>\n",
              "      <td>8437</td>\n",
              "      <td>42</td>\n",
              "      <td>высшее</td>\n",
              "      <td>0</td>\n",
              "      <td>женат / замужем</td>\n",
              "      <td>0</td>\n",
              "      <td>F</td>\n",
              "      <td>сотрудник</td>\n",
              "      <td>0</td>\n",
              "      <td>253875</td>\n",
              "      <td>покупка жилья</td>\n",
              "      <td>[покупка,  , жилье, \\n]</td>\n",
              "      <td>Недвижимость</td>\n",
              "      <td>Высокий</td>\n",
              "    </tr>\n",
              "    <tr>\n",
              "      <td>1</td>\n",
              "      <td>1</td>\n",
              "      <td>4024</td>\n",
              "      <td>36</td>\n",
              "      <td>среднее</td>\n",
              "      <td>1</td>\n",
              "      <td>женат / замужем</td>\n",
              "      <td>0</td>\n",
              "      <td>F</td>\n",
              "      <td>сотрудник</td>\n",
              "      <td>0</td>\n",
              "      <td>112080</td>\n",
              "      <td>приобретение автомобиля</td>\n",
              "      <td>[приобретение,  , автомобиль, \\n]</td>\n",
              "      <td>Приобретение автомобиля</td>\n",
              "      <td>Низкий</td>\n",
              "    </tr>\n",
              "    <tr>\n",
              "      <td>2</td>\n",
              "      <td>0</td>\n",
              "      <td>5623</td>\n",
              "      <td>33</td>\n",
              "      <td>среднее</td>\n",
              "      <td>1</td>\n",
              "      <td>женат / замужем</td>\n",
              "      <td>0</td>\n",
              "      <td>M</td>\n",
              "      <td>сотрудник</td>\n",
              "      <td>0</td>\n",
              "      <td>145885</td>\n",
              "      <td>покупка жилья</td>\n",
              "      <td>[покупка,  , жилье, \\n]</td>\n",
              "      <td>Недвижимость</td>\n",
              "      <td>Средний</td>\n",
              "    </tr>\n",
              "    <tr>\n",
              "      <td>3</td>\n",
              "      <td>3</td>\n",
              "      <td>4124</td>\n",
              "      <td>32</td>\n",
              "      <td>среднее</td>\n",
              "      <td>1</td>\n",
              "      <td>женат / замужем</td>\n",
              "      <td>0</td>\n",
              "      <td>M</td>\n",
              "      <td>сотрудник</td>\n",
              "      <td>0</td>\n",
              "      <td>267628</td>\n",
              "      <td>дополнительное образование</td>\n",
              "      <td>[дополнительный,  , образование, \\n]</td>\n",
              "      <td>Образование</td>\n",
              "      <td>Высокий</td>\n",
              "    </tr>\n",
              "    <tr>\n",
              "      <td>5</td>\n",
              "      <td>0</td>\n",
              "      <td>926</td>\n",
              "      <td>27</td>\n",
              "      <td>высшее</td>\n",
              "      <td>0</td>\n",
              "      <td>гражданский брак</td>\n",
              "      <td>1</td>\n",
              "      <td>M</td>\n",
              "      <td>компаньон</td>\n",
              "      <td>0</td>\n",
              "      <td>255763</td>\n",
              "      <td>покупка жилья</td>\n",
              "      <td>[покупка,  , жилье, \\n]</td>\n",
              "      <td>Недвижимость</td>\n",
              "      <td>Высокий</td>\n",
              "    </tr>\n",
              "    <tr>\n",
              "      <td>...</td>\n",
              "      <td>...</td>\n",
              "      <td>...</td>\n",
              "      <td>...</td>\n",
              "      <td>...</td>\n",
              "      <td>...</td>\n",
              "      <td>...</td>\n",
              "      <td>...</td>\n",
              "      <td>...</td>\n",
              "      <td>...</td>\n",
              "      <td>...</td>\n",
              "      <td>...</td>\n",
              "      <td>...</td>\n",
              "      <td>...</td>\n",
              "      <td>...</td>\n",
              "      <td>...</td>\n",
              "    </tr>\n",
              "    <tr>\n",
              "      <td>21519</td>\n",
              "      <td>1</td>\n",
              "      <td>2351</td>\n",
              "      <td>37</td>\n",
              "      <td>ученая степень</td>\n",
              "      <td>4</td>\n",
              "      <td>в разводе</td>\n",
              "      <td>3</td>\n",
              "      <td>M</td>\n",
              "      <td>сотрудник</td>\n",
              "      <td>0</td>\n",
              "      <td>115949</td>\n",
              "      <td>покупка коммерческой недвижимости</td>\n",
              "      <td>[покупка,  , коммерческий,  , недвижимость, \\n]</td>\n",
              "      <td>Недвижимость</td>\n",
              "      <td>Средний</td>\n",
              "    </tr>\n",
              "    <tr>\n",
              "      <td>21520</td>\n",
              "      <td>1</td>\n",
              "      <td>4529</td>\n",
              "      <td>43</td>\n",
              "      <td>среднее</td>\n",
              "      <td>1</td>\n",
              "      <td>гражданский брак</td>\n",
              "      <td>1</td>\n",
              "      <td>F</td>\n",
              "      <td>компаньон</td>\n",
              "      <td>0</td>\n",
              "      <td>224791</td>\n",
              "      <td>операции с жильем</td>\n",
              "      <td>[операция,  , с,  , жилье, \\n]</td>\n",
              "      <td>Недвижимость</td>\n",
              "      <td>Высокий</td>\n",
              "    </tr>\n",
              "    <tr>\n",
              "      <td>21522</td>\n",
              "      <td>1</td>\n",
              "      <td>2113</td>\n",
              "      <td>38</td>\n",
              "      <td>среднее</td>\n",
              "      <td>1</td>\n",
              "      <td>гражданский брак</td>\n",
              "      <td>1</td>\n",
              "      <td>M</td>\n",
              "      <td>сотрудник</td>\n",
              "      <td>1</td>\n",
              "      <td>89672</td>\n",
              "      <td>недвижимость</td>\n",
              "      <td>[недвижимость, \\n]</td>\n",
              "      <td>Недвижимость</td>\n",
              "      <td>Низкий</td>\n",
              "    </tr>\n",
              "    <tr>\n",
              "      <td>21523</td>\n",
              "      <td>3</td>\n",
              "      <td>3112</td>\n",
              "      <td>38</td>\n",
              "      <td>среднее</td>\n",
              "      <td>1</td>\n",
              "      <td>женат / замужем</td>\n",
              "      <td>0</td>\n",
              "      <td>M</td>\n",
              "      <td>сотрудник</td>\n",
              "      <td>1</td>\n",
              "      <td>244093</td>\n",
              "      <td>на покупку своего автомобиля</td>\n",
              "      <td>[на,  , покупка,  , свой,  , автомобиль, \\n]</td>\n",
              "      <td>Приобретение автомобиля</td>\n",
              "      <td>Высокий</td>\n",
              "    </tr>\n",
              "    <tr>\n",
              "      <td>21524</td>\n",
              "      <td>2</td>\n",
              "      <td>1984</td>\n",
              "      <td>40</td>\n",
              "      <td>среднее</td>\n",
              "      <td>1</td>\n",
              "      <td>женат / замужем</td>\n",
              "      <td>0</td>\n",
              "      <td>F</td>\n",
              "      <td>сотрудник</td>\n",
              "      <td>0</td>\n",
              "      <td>82047</td>\n",
              "      <td>на покупку автомобиля</td>\n",
              "      <td>[на,  , покупка,  , автомобиль, \\n]</td>\n",
              "      <td>Приобретение автомобиля</td>\n",
              "      <td>Низкий</td>\n",
              "    </tr>\n",
              "  </tbody>\n",
              "</table>\n",
              "<p>17940 rows × 15 columns</p>\n",
              "</div>"
            ],
            "text/plain": [
              "       children  days_employed  dob_years       education  education_id  \\\n",
              "0             1           8437         42          высшее             0   \n",
              "1             1           4024         36         среднее             1   \n",
              "2             0           5623         33         среднее             1   \n",
              "3             3           4124         32         среднее             1   \n",
              "5             0            926         27          высшее             0   \n",
              "...         ...            ...        ...             ...           ...   \n",
              "21519         1           2351         37  ученая степень             4   \n",
              "21520         1           4529         43         среднее             1   \n",
              "21522         1           2113         38         среднее             1   \n",
              "21523         3           3112         38         среднее             1   \n",
              "21524         2           1984         40         среднее             1   \n",
              "\n",
              "          family_status  family_status_id gender income_type  debt  \\\n",
              "0       женат / замужем                 0      F   сотрудник     0   \n",
              "1       женат / замужем                 0      F   сотрудник     0   \n",
              "2       женат / замужем                 0      M   сотрудник     0   \n",
              "3       женат / замужем                 0      M   сотрудник     0   \n",
              "5      гражданский брак                 1      M   компаньон     0   \n",
              "...                 ...               ...    ...         ...   ...   \n",
              "21519         в разводе                 3      M   сотрудник     0   \n",
              "21520  гражданский брак                 1      F   компаньон     0   \n",
              "21522  гражданский брак                 1      M   сотрудник     1   \n",
              "21523   женат / замужем                 0      M   сотрудник     1   \n",
              "21524   женат / замужем                 0      F   сотрудник     0   \n",
              "\n",
              "       total_income                            purpose  \\\n",
              "0            253875                      покупка жилья   \n",
              "1            112080            приобретение автомобиля   \n",
              "2            145885                      покупка жилья   \n",
              "3            267628         дополнительное образование   \n",
              "5            255763                      покупка жилья   \n",
              "...             ...                                ...   \n",
              "21519        115949  покупка коммерческой недвижимости   \n",
              "21520        224791                  операции с жильем   \n",
              "21522         89672                       недвижимость   \n",
              "21523        244093       на покупку своего автомобиля   \n",
              "21524         82047              на покупку автомобиля   \n",
              "\n",
              "                                          purpose_lemm  \\\n",
              "0                              [покупка,  , жилье, \\n]   \n",
              "1                    [приобретение,  , автомобиль, \\n]   \n",
              "2                              [покупка,  , жилье, \\n]   \n",
              "3                 [дополнительный,  , образование, \\n]   \n",
              "5                              [покупка,  , жилье, \\n]   \n",
              "...                                                ...   \n",
              "21519  [покупка,  , коммерческий,  , недвижимость, \\n]   \n",
              "21520                   [операция,  , с,  , жилье, \\n]   \n",
              "21522                               [недвижимость, \\n]   \n",
              "21523     [на,  , покупка,  , свой,  , автомобиль, \\n]   \n",
              "21524              [на,  , покупка,  , автомобиль, \\n]   \n",
              "\n",
              "             new_purp_category lvl_income  \n",
              "0                 Недвижимость    Высокий  \n",
              "1      Приобретение автомобиля     Низкий  \n",
              "2                 Недвижимость    Средний  \n",
              "3                  Образование    Высокий  \n",
              "5                 Недвижимость    Высокий  \n",
              "...                        ...        ...  \n",
              "21519             Недвижимость    Средний  \n",
              "21520             Недвижимость    Высокий  \n",
              "21522             Недвижимость     Низкий  \n",
              "21523  Приобретение автомобиля    Высокий  \n",
              "21524  Приобретение автомобиля     Низкий  \n",
              "\n",
              "[17940 rows x 15 columns]"
            ]
          },
          "metadata": {
            "tags": []
          },
          "execution_count": 23
        }
      ]
    },
    {
      "cell_type": "markdown",
      "metadata": {
        "id": "xx79W6sKzMDv"
      },
      "source": [
        "**Вывод**"
      ]
    },
    {
      "cell_type": "markdown",
      "metadata": {
        "id": "s84G9XVNzMDv"
      },
      "source": [
        "Мы преобразовали наши данные, обогатив их распределение на категории (по целям кредитования) и уровню дохода."
      ]
    },
    {
      "cell_type": "markdown",
      "metadata": {
        "id": "M_DVixyLzMDv"
      },
      "source": [
        "## Шаг 3. Ответьте на вопросы"
      ]
    },
    {
      "cell_type": "markdown",
      "metadata": {
        "id": "psH4O59SzMDv"
      },
      "source": [
        "- Есть ли зависимость между наличием детей и возвратом кредита в срок?"
      ]
    },
    {
      "cell_type": "code",
      "metadata": {
        "id": "K-eU4Q4fzMDw",
        "outputId": "1d949658-ff50-4b91-cbd8-45598f6cda2e"
      },
      "source": [
        "child_group_count = credit_score_data.groupby('children').count()['debt'].sort_index()\n",
        "child_group_debt = credit_score_data.groupby('children').sum()['debt'].sort_index()\n",
        "print('Доля проблемных кредиторов в группе в зависимости от количества детей', (child_group_debt / child_group_count) * 100, sep='\\n')\n",
        "print()\n",
        "print('Количество кредиторов в группе по количеству детей', child_group_count, sep='\\n')"
      ],
      "execution_count": null,
      "outputs": [
        {
          "output_type": "stream",
          "text": [
            "Доля проблемных кредиторов в группе в зависимости от количества детей\n",
            "children\n",
            "0     8.192375\n",
            "1     9.423286\n",
            "2     9.434889\n",
            "3     8.024691\n",
            "4    10.000000\n",
            "5     0.000000\n",
            "Name: debt, dtype: float64\n",
            "\n",
            "Количество кредиторов в группе по количеству детей\n",
            "children\n",
            "0    10937\n",
            "1     4595\n",
            "2     2035\n",
            "3      324\n",
            "4       40\n",
            "5        9\n",
            "Name: debt, dtype: int64\n"
          ],
          "name": "stdout"
        }
      ]
    },
    {
      "cell_type": "code",
      "metadata": {
        "id": "1F3rGkAJzMDw",
        "outputId": "4bfd707d-53b7-4e79-8787-8d09b9e3d483"
      },
      "source": [
        "credit_score_data.groupby('children')[['debt']].agg(['count', 'sum', 'mean']).style.format({('debt', 'mean'): '{:.2%}'})"
      ],
      "execution_count": null,
      "outputs": [
        {
          "output_type": "execute_result",
          "data": {
            "text/html": [
              "<style  type=\"text/css\" >\n",
              "</style><table id=\"T_5f529942_af35_11eb_b1ab_02420a39fb76\" ><thead>    <tr>        <th class=\"blank level0\" ></th>        <th class=\"col_heading level0 col0\" colspan=3>debt</th>    </tr>    <tr>        <th class=\"blank level1\" ></th>        <th class=\"col_heading level1 col0\" >count</th>        <th class=\"col_heading level1 col1\" >sum</th>        <th class=\"col_heading level1 col2\" >mean</th>    </tr>    <tr>        <th class=\"index_name level0\" >children</th>        <th class=\"blank\" ></th>        <th class=\"blank\" ></th>        <th class=\"blank\" ></th>    </tr></thead><tbody>\n",
              "                <tr>\n",
              "                        <th id=\"T_5f529942_af35_11eb_b1ab_02420a39fb76level0_row0\" class=\"row_heading level0 row0\" >0</th>\n",
              "                        <td id=\"T_5f529942_af35_11eb_b1ab_02420a39fb76row0_col0\" class=\"data row0 col0\" >10937</td>\n",
              "                        <td id=\"T_5f529942_af35_11eb_b1ab_02420a39fb76row0_col1\" class=\"data row0 col1\" >896</td>\n",
              "                        <td id=\"T_5f529942_af35_11eb_b1ab_02420a39fb76row0_col2\" class=\"data row0 col2\" >8.19%</td>\n",
              "            </tr>\n",
              "            <tr>\n",
              "                        <th id=\"T_5f529942_af35_11eb_b1ab_02420a39fb76level0_row1\" class=\"row_heading level0 row1\" >1</th>\n",
              "                        <td id=\"T_5f529942_af35_11eb_b1ab_02420a39fb76row1_col0\" class=\"data row1 col0\" >4595</td>\n",
              "                        <td id=\"T_5f529942_af35_11eb_b1ab_02420a39fb76row1_col1\" class=\"data row1 col1\" >433</td>\n",
              "                        <td id=\"T_5f529942_af35_11eb_b1ab_02420a39fb76row1_col2\" class=\"data row1 col2\" >9.42%</td>\n",
              "            </tr>\n",
              "            <tr>\n",
              "                        <th id=\"T_5f529942_af35_11eb_b1ab_02420a39fb76level0_row2\" class=\"row_heading level0 row2\" >2</th>\n",
              "                        <td id=\"T_5f529942_af35_11eb_b1ab_02420a39fb76row2_col0\" class=\"data row2 col0\" >2035</td>\n",
              "                        <td id=\"T_5f529942_af35_11eb_b1ab_02420a39fb76row2_col1\" class=\"data row2 col1\" >192</td>\n",
              "                        <td id=\"T_5f529942_af35_11eb_b1ab_02420a39fb76row2_col2\" class=\"data row2 col2\" >9.43%</td>\n",
              "            </tr>\n",
              "            <tr>\n",
              "                        <th id=\"T_5f529942_af35_11eb_b1ab_02420a39fb76level0_row3\" class=\"row_heading level0 row3\" >3</th>\n",
              "                        <td id=\"T_5f529942_af35_11eb_b1ab_02420a39fb76row3_col0\" class=\"data row3 col0\" >324</td>\n",
              "                        <td id=\"T_5f529942_af35_11eb_b1ab_02420a39fb76row3_col1\" class=\"data row3 col1\" >26</td>\n",
              "                        <td id=\"T_5f529942_af35_11eb_b1ab_02420a39fb76row3_col2\" class=\"data row3 col2\" >8.02%</td>\n",
              "            </tr>\n",
              "            <tr>\n",
              "                        <th id=\"T_5f529942_af35_11eb_b1ab_02420a39fb76level0_row4\" class=\"row_heading level0 row4\" >4</th>\n",
              "                        <td id=\"T_5f529942_af35_11eb_b1ab_02420a39fb76row4_col0\" class=\"data row4 col0\" >40</td>\n",
              "                        <td id=\"T_5f529942_af35_11eb_b1ab_02420a39fb76row4_col1\" class=\"data row4 col1\" >4</td>\n",
              "                        <td id=\"T_5f529942_af35_11eb_b1ab_02420a39fb76row4_col2\" class=\"data row4 col2\" >10.00%</td>\n",
              "            </tr>\n",
              "            <tr>\n",
              "                        <th id=\"T_5f529942_af35_11eb_b1ab_02420a39fb76level0_row5\" class=\"row_heading level0 row5\" >5</th>\n",
              "                        <td id=\"T_5f529942_af35_11eb_b1ab_02420a39fb76row5_col0\" class=\"data row5 col0\" >9</td>\n",
              "                        <td id=\"T_5f529942_af35_11eb_b1ab_02420a39fb76row5_col1\" class=\"data row5 col1\" >0</td>\n",
              "                        <td id=\"T_5f529942_af35_11eb_b1ab_02420a39fb76row5_col2\" class=\"data row5 col2\" >0.00%</td>\n",
              "            </tr>\n",
              "    </tbody></table>"
            ],
            "text/plain": [
              "<pandas.io.formats.style.Styler at 0x7f3593c943d0>"
            ]
          },
          "metadata": {
            "tags": []
          },
          "execution_count": 31
        }
      ]
    },
    {
      "cell_type": "markdown",
      "metadata": {
        "id": "fKFGt7o2zMDw"
      },
      "source": [
        "**Вывод**"
      ]
    },
    {
      "cell_type": "markdown",
      "metadata": {
        "id": "lqoNhG4XzMDx"
      },
      "source": [
        "Из представленных наблюдений можно сделать несколько выводов:\n",
        "С количеством детей количество кредиторов уменьшается, т.е. люди начинают реже брать кредиты. Скорее всего это связано с тем, что дети появляются с возрастом, и соответственно основные затраты (свадьба, дом и автомобиль) были понесены до появления детей (возможно влияет выплата материнского капитала).\n",
        "Также, в зависимости от группы (по кол-ву детей) не наблюдается сильное различие в доли должников, она варьируется от 8% до 10%. Можно сказать, что в целом у банка 10% должников - проблемные."
      ]
    },
    {
      "cell_type": "markdown",
      "metadata": {
        "id": "ONW7KcfyzMDx"
      },
      "source": [
        "- Есть ли зависимость между семейным положением и возвратом кредита в срок?"
      ]
    },
    {
      "cell_type": "code",
      "metadata": {
        "id": "377nCCK7zMDx",
        "outputId": "0d37ff84-0184-4556-909a-27c32a45f9ea"
      },
      "source": [
        "family_status_group = credit_score_data.groupby('family_status')['debt'].count().sort_index()\n",
        "family_status_group_count = credit_score_data.groupby('family_status')['debt'].sum().sort_index()\n",
        "print('Доля проблемных должников в зависимости от семейного положения \\n', ((family_status_group_count / family_status_group) * 100).sort_values().round())"
      ],
      "execution_count": null,
      "outputs": [
        {
          "output_type": "stream",
          "text": [
            "Доля проблемных должников в зависимости от семейного положения \n",
            " family_status\n",
            "вдовец / вдова            7.0\n",
            "в разводе                 7.0\n",
            "женат / замужем           8.0\n",
            "гражданский брак         10.0\n",
            "Не женат / не замужем    10.0\n",
            "Name: debt, dtype: float64\n"
          ],
          "name": "stdout"
        }
      ]
    },
    {
      "cell_type": "markdown",
      "metadata": {
        "id": "_FmOQk7EzMDy"
      },
      "source": [
        "**Вывод**"
      ]
    },
    {
      "cell_type": "markdown",
      "metadata": {
        "id": "fDXhVCdwzMDy"
      },
      "source": [
        "Можно наблюдать некоторую зависимость: среди людей не состоящих в браке доля на 3% выше, чем разведенных (3% от тысяч клиентов банка - довольно существенная доля). Скорее всего это связано с тем, что развод обычно наступает в достаточно зрелом возрасте, и в обществе тенденция такая, что с возрастом доходы растут, соответственно люди успешнее выплачивают кредит."
      ]
    },
    {
      "cell_type": "markdown",
      "metadata": {
        "id": "9UN5ZmrxzMDy"
      },
      "source": [
        "- Есть ли зависимость между уровнем дохода и возвратом кредита в срок?"
      ]
    },
    {
      "cell_type": "code",
      "metadata": {
        "id": "VhuUFRGNzMDy",
        "outputId": "54081f3c-ae0b-4799-a2e5-c5b3b6e366f5"
      },
      "source": [
        "income_group_count = credit_score_data.groupby('lvl_income').count()['debt'].sort_index()\n",
        "income_group_sum = credit_score_data.groupby('lvl_income').sum()['debt'].sort_index()\n",
        " \n",
        "print(((income_group_sum / income_group_count) * 100).round())"
      ],
      "execution_count": null,
      "outputs": [
        {
          "output_type": "stream",
          "text": [
            "lvl_income\n",
            "Высокий           7.0\n",
            "Выше среднего     9.0\n",
            "Низкий            9.0\n",
            "Средний          10.0\n",
            "Name: debt, dtype: float64\n"
          ],
          "name": "stdout"
        }
      ]
    },
    {
      "cell_type": "code",
      "metadata": {
        "id": "aZClFDTXzMDy",
        "outputId": "ee206532-7531-4447-855a-b6293cd88074"
      },
      "source": [
        "credit_score_data.groupby('lvl_income')['debt'].sum().sort_values()"
      ],
      "execution_count": null,
      "outputs": [
        {
          "output_type": "execute_result",
          "data": {
            "text/plain": [
              "lvl_income\n",
              "Высокий          317\n",
              "Выше среднего    394\n",
              "Низкий           412\n",
              "Средний          428\n",
              "Name: debt, dtype: int64"
            ]
          },
          "metadata": {
            "tags": []
          },
          "execution_count": 27
        }
      ]
    },
    {
      "cell_type": "markdown",
      "metadata": {
        "id": "3tDzXgB_zMDz"
      },
      "source": [
        "**Вывод**"
      ]
    },
    {
      "cell_type": "markdown",
      "metadata": {
        "id": "gI3Z54IizMDz"
      },
      "source": [
        "Доля проблемных кредиторов с высоким доходом ниже, чем в остальных группах (7% \"плохих\" должников в группе с высоким уровнем дохода, и 9% в остальных группах): более обеспеченные люди успешнее погашают займ, в то время как клиенты с меньшем уровнем дохода чаще имеют пробемы с погашением задолженности."
      ]
    },
    {
      "cell_type": "markdown",
      "metadata": {
        "id": "U5xXBcQIzMDz"
      },
      "source": [
        "- Как разные цели кредита влияют на его возврат в срок?"
      ]
    },
    {
      "cell_type": "code",
      "metadata": {
        "id": "_dmNeP9qzMD0",
        "outputId": "1a8f210a-7244-45b0-966d-6198bb29e590"
      },
      "source": [
        "purpose_group_count = credit_score_data.groupby('new_purp_category').count()['debt']\n",
        "purpose_group_sum = credit_score_data.groupby('new_purp_category').sum()['debt']\n",
        " \n",
        "print(((purpose_group_sum / purpose_group_count) * 100).round())\n",
        "print()\n",
        "print(purpose_group_count)"
      ],
      "execution_count": null,
      "outputs": [
        {
          "output_type": "stream",
          "text": [
            "new_purp_category\n",
            "Недвижимость                8.0\n",
            "Образование                10.0\n",
            "Приобретение автомобиля    10.0\n",
            "Проведение свадьбы          8.0\n",
            "Name: debt, dtype: float64\n",
            "\n",
            "new_purp_category\n",
            "Недвижимость               9078\n",
            "Образование                3344\n",
            "Приобретение автомобиля    3577\n",
            "Проведение свадьбы         1941\n",
            "Name: debt, dtype: int64\n"
          ],
          "name": "stdout"
        }
      ]
    },
    {
      "cell_type": "code",
      "metadata": {
        "id": "NIIARyzPzMD0",
        "outputId": "50d17a0a-dfe3-4fb3-e399-d2d2c721a5c6"
      },
      "source": [
        "credit_score_data.groupby('new_purp_category')['debt'].sum().sort_values()"
      ],
      "execution_count": null,
      "outputs": [
        {
          "output_type": "execute_result",
          "data": {
            "text/plain": [
              "new_purp_category\n",
              "Проведение свадьбы         164\n",
              "Образование                327\n",
              "Приобретение автомобиля    358\n",
              "Недвижимость               702\n",
              "Name: debt, dtype: int64"
            ]
          },
          "metadata": {
            "tags": []
          },
          "execution_count": 29
        }
      ]
    },
    {
      "cell_type": "markdown",
      "metadata": {
        "id": "efyPFavuzMD0"
      },
      "source": [
        "**Вывод**"
      ]
    },
    {
      "cell_type": "markdown",
      "metadata": {
        "id": "z1Cc_ADTzMD1"
      },
      "source": [
        "Исходя из наших наблюдений можно сказать что проблемы с погашением задолженности по кредиту чаще встречаются у клиентов, котоыре приобретают автомобиль или недвижимость, это закономерно: стоимость недвижимости обычно выше, чем суммы по другим категориям, что влечет за собой наибольшуюж финансовую нагрузку. \n",
        "\n",
        "Свадьба имеет наименьшее количество проблемных должников, т.к. с погашением кредита на нее могут помочь родственники, или же молодожёны могут погасить часть кредита из собранных средств. \n",
        "\n",
        "Довольно высокое число проблемных дебиторов, взявших кредит на образование может объясняться тем, что зачастую это могут быть неработающие студенты, или люди с невысоким заработком, которым необходимо образование, чтобы зарабатывать больше.е.\n",
        "\n",
        "В целом, доля должников по группам различается и варьируется в диапазоне от 8% до 10%.   Можно сказать, что цель кредитования оказывает влияние на уровень доли проблемных должников, но не является главным фактором."
      ]
    },
    {
      "cell_type": "markdown",
      "metadata": {
        "id": "ZMxzG-SJzMD1"
      },
      "source": [
        "## Шаг 4. Общий вывод"
      ]
    },
    {
      "cell_type": "markdown",
      "metadata": {
        "id": "v2JDS5qBzMD1"
      },
      "source": [
        "В ходе анализа базы данных, мы обнаружили проблемы в сборе или хранении данных, которые приводят к их искажению, что в дальнейшем может приводить которые к удалению значений в столбцах дохода и опыта работы.\n",
        "\n",
        "Мы обнаружили 54 дубликата, что вероятно говорит о повторном внесении данных о кредиторе, либо повторном взятии кредита по одной и той же цели. В любом случае необходим дополнительный анализ дубликатов уже с идентификатором заемщика.\n",
        "\n",
        "Было обнаружено, что наиболее наиболее проблемные кредиторы - это люди с большим количеством детей и низкой зарплатой.\n",
        "И риск неплатежеспособности кредитора растет с увеличением количества детей и/или уменишением уровня заработной платы.\n",
        "Также мы выяснили, что наименьший риск для банка - это выдача кредита на свадьбу. \n",
        "\n",
        "Более объемные и репрезентативные данные могут помочь сделать более точный анализ."
      ]
    }
  ]
}