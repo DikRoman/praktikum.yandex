{
  "cells": [
    {
      "cell_type": "markdown",
      "metadata": {
        "id": "olen-a5zngMj"
      },
      "source": [
        "# Исследование надёжности заёмщиков\n",
        "\n",
        "Заказчик — кредитный отдел банка. Нужно разобраться, влияет ли семейное положение и количество детей клиента на факт погашения кредита в срок. Входные данные от банка — статистика о платёжеспособности клиентов.\n",
        "\n",
        "Результаты исследования будут учтены при построении модели **кредитного скоринга** — специальной системы, которая оценивает способность потенциального заёмщика вернуть кредит банку."
      ]
    },
    {
      "cell_type": "markdown",
      "metadata": {
        "id": "w6G3GfXbngMk"
      },
      "source": [
        "## Шаг 1. Откройте файл с данными и изучите общую информацию"
      ]
    },
    {
      "cell_type": "code",
      "source": [
        "from google.colab import drive\n",
        "drive.mount('/content/drive')"
      ],
      "metadata": {
        "colab": {
          "base_uri": "https://localhost:8080/"
        },
        "id": "bopM8mSpoRzE",
        "outputId": "dbb3f47a-ba81-40b7-868f-8c5ba809ff9b"
      },
      "execution_count": 43,
      "outputs": [
        {
          "output_type": "stream",
          "name": "stdout",
          "text": [
            "Drive already mounted at /content/drive; to attempt to forcibly remount, call drive.mount(\"/content/drive\", force_remount=True).\n"
          ]
        }
      ]
    },
    {
      "cell_type": "code",
      "execution_count": 44,
      "metadata": {
        "colab": {
          "base_uri": "https://localhost:8080/",
          "height": 423
        },
        "id": "cW8qbFhdngMm",
        "outputId": "20c7018d-03cb-408a-dacf-7b0916951a31"
      },
      "outputs": [
        {
          "output_type": "execute_result",
          "data": {
            "text/html": [
              "\n",
              "  <div id=\"df-fedda052-1d17-476a-b6bf-21bca378d475\">\n",
              "    <div class=\"colab-df-container\">\n",
              "      <div>\n",
              "<style scoped>\n",
              "    .dataframe tbody tr th:only-of-type {\n",
              "        vertical-align: middle;\n",
              "    }\n",
              "\n",
              "    .dataframe tbody tr th {\n",
              "        vertical-align: top;\n",
              "    }\n",
              "\n",
              "    .dataframe thead th {\n",
              "        text-align: right;\n",
              "    }\n",
              "</style>\n",
              "<table border=\"1\" class=\"dataframe\">\n",
              "  <thead>\n",
              "    <tr style=\"text-align: right;\">\n",
              "      <th></th>\n",
              "      <th>children</th>\n",
              "      <th>days_employed</th>\n",
              "      <th>dob_years</th>\n",
              "      <th>education</th>\n",
              "      <th>education_id</th>\n",
              "      <th>family_status</th>\n",
              "      <th>family_status_id</th>\n",
              "      <th>gender</th>\n",
              "      <th>income_type</th>\n",
              "      <th>debt</th>\n",
              "      <th>total_income</th>\n",
              "      <th>purpose</th>\n",
              "    </tr>\n",
              "  </thead>\n",
              "  <tbody>\n",
              "    <tr>\n",
              "      <th>0</th>\n",
              "      <td>1</td>\n",
              "      <td>-8437.673028</td>\n",
              "      <td>42</td>\n",
              "      <td>высшее</td>\n",
              "      <td>0</td>\n",
              "      <td>женат / замужем</td>\n",
              "      <td>0</td>\n",
              "      <td>F</td>\n",
              "      <td>сотрудник</td>\n",
              "      <td>0</td>\n",
              "      <td>253875.639453</td>\n",
              "      <td>покупка жилья</td>\n",
              "    </tr>\n",
              "    <tr>\n",
              "      <th>1</th>\n",
              "      <td>1</td>\n",
              "      <td>-4024.803754</td>\n",
              "      <td>36</td>\n",
              "      <td>среднее</td>\n",
              "      <td>1</td>\n",
              "      <td>женат / замужем</td>\n",
              "      <td>0</td>\n",
              "      <td>F</td>\n",
              "      <td>сотрудник</td>\n",
              "      <td>0</td>\n",
              "      <td>112080.014102</td>\n",
              "      <td>приобретение автомобиля</td>\n",
              "    </tr>\n",
              "    <tr>\n",
              "      <th>2</th>\n",
              "      <td>0</td>\n",
              "      <td>-5623.422610</td>\n",
              "      <td>33</td>\n",
              "      <td>Среднее</td>\n",
              "      <td>1</td>\n",
              "      <td>женат / замужем</td>\n",
              "      <td>0</td>\n",
              "      <td>M</td>\n",
              "      <td>сотрудник</td>\n",
              "      <td>0</td>\n",
              "      <td>145885.952297</td>\n",
              "      <td>покупка жилья</td>\n",
              "    </tr>\n",
              "    <tr>\n",
              "      <th>3</th>\n",
              "      <td>3</td>\n",
              "      <td>-4124.747207</td>\n",
              "      <td>32</td>\n",
              "      <td>среднее</td>\n",
              "      <td>1</td>\n",
              "      <td>женат / замужем</td>\n",
              "      <td>0</td>\n",
              "      <td>M</td>\n",
              "      <td>сотрудник</td>\n",
              "      <td>0</td>\n",
              "      <td>267628.550329</td>\n",
              "      <td>дополнительное образование</td>\n",
              "    </tr>\n",
              "    <tr>\n",
              "      <th>4</th>\n",
              "      <td>0</td>\n",
              "      <td>340266.072047</td>\n",
              "      <td>53</td>\n",
              "      <td>среднее</td>\n",
              "      <td>1</td>\n",
              "      <td>гражданский брак</td>\n",
              "      <td>1</td>\n",
              "      <td>F</td>\n",
              "      <td>пенсионер</td>\n",
              "      <td>0</td>\n",
              "      <td>158616.077870</td>\n",
              "      <td>сыграть свадьбу</td>\n",
              "    </tr>\n",
              "    <tr>\n",
              "      <th>...</th>\n",
              "      <td>...</td>\n",
              "      <td>...</td>\n",
              "      <td>...</td>\n",
              "      <td>...</td>\n",
              "      <td>...</td>\n",
              "      <td>...</td>\n",
              "      <td>...</td>\n",
              "      <td>...</td>\n",
              "      <td>...</td>\n",
              "      <td>...</td>\n",
              "      <td>...</td>\n",
              "      <td>...</td>\n",
              "    </tr>\n",
              "    <tr>\n",
              "      <th>21520</th>\n",
              "      <td>1</td>\n",
              "      <td>-4529.316663</td>\n",
              "      <td>43</td>\n",
              "      <td>среднее</td>\n",
              "      <td>1</td>\n",
              "      <td>гражданский брак</td>\n",
              "      <td>1</td>\n",
              "      <td>F</td>\n",
              "      <td>компаньон</td>\n",
              "      <td>0</td>\n",
              "      <td>224791.862382</td>\n",
              "      <td>операции с жильем</td>\n",
              "    </tr>\n",
              "    <tr>\n",
              "      <th>21521</th>\n",
              "      <td>0</td>\n",
              "      <td>343937.404131</td>\n",
              "      <td>67</td>\n",
              "      <td>среднее</td>\n",
              "      <td>1</td>\n",
              "      <td>женат / замужем</td>\n",
              "      <td>0</td>\n",
              "      <td>F</td>\n",
              "      <td>пенсионер</td>\n",
              "      <td>0</td>\n",
              "      <td>155999.806512</td>\n",
              "      <td>сделка с автомобилем</td>\n",
              "    </tr>\n",
              "    <tr>\n",
              "      <th>21522</th>\n",
              "      <td>1</td>\n",
              "      <td>-2113.346888</td>\n",
              "      <td>38</td>\n",
              "      <td>среднее</td>\n",
              "      <td>1</td>\n",
              "      <td>гражданский брак</td>\n",
              "      <td>1</td>\n",
              "      <td>M</td>\n",
              "      <td>сотрудник</td>\n",
              "      <td>1</td>\n",
              "      <td>89672.561153</td>\n",
              "      <td>недвижимость</td>\n",
              "    </tr>\n",
              "    <tr>\n",
              "      <th>21523</th>\n",
              "      <td>3</td>\n",
              "      <td>-3112.481705</td>\n",
              "      <td>38</td>\n",
              "      <td>среднее</td>\n",
              "      <td>1</td>\n",
              "      <td>женат / замужем</td>\n",
              "      <td>0</td>\n",
              "      <td>M</td>\n",
              "      <td>сотрудник</td>\n",
              "      <td>1</td>\n",
              "      <td>244093.050500</td>\n",
              "      <td>на покупку своего автомобиля</td>\n",
              "    </tr>\n",
              "    <tr>\n",
              "      <th>21524</th>\n",
              "      <td>2</td>\n",
              "      <td>-1984.507589</td>\n",
              "      <td>40</td>\n",
              "      <td>среднее</td>\n",
              "      <td>1</td>\n",
              "      <td>женат / замужем</td>\n",
              "      <td>0</td>\n",
              "      <td>F</td>\n",
              "      <td>сотрудник</td>\n",
              "      <td>0</td>\n",
              "      <td>82047.418899</td>\n",
              "      <td>на покупку автомобиля</td>\n",
              "    </tr>\n",
              "  </tbody>\n",
              "</table>\n",
              "<p>21525 rows × 12 columns</p>\n",
              "</div>\n",
              "      <button class=\"colab-df-convert\" onclick=\"convertToInteractive('df-fedda052-1d17-476a-b6bf-21bca378d475')\"\n",
              "              title=\"Convert this dataframe to an interactive table.\"\n",
              "              style=\"display:none;\">\n",
              "        \n",
              "  <svg xmlns=\"http://www.w3.org/2000/svg\" height=\"24px\"viewBox=\"0 0 24 24\"\n",
              "       width=\"24px\">\n",
              "    <path d=\"M0 0h24v24H0V0z\" fill=\"none\"/>\n",
              "    <path d=\"M18.56 5.44l.94 2.06.94-2.06 2.06-.94-2.06-.94-.94-2.06-.94 2.06-2.06.94zm-11 1L8.5 8.5l.94-2.06 2.06-.94-2.06-.94L8.5 2.5l-.94 2.06-2.06.94zm10 10l.94 2.06.94-2.06 2.06-.94-2.06-.94-.94-2.06-.94 2.06-2.06.94z\"/><path d=\"M17.41 7.96l-1.37-1.37c-.4-.4-.92-.59-1.43-.59-.52 0-1.04.2-1.43.59L10.3 9.45l-7.72 7.72c-.78.78-.78 2.05 0 2.83L4 21.41c.39.39.9.59 1.41.59.51 0 1.02-.2 1.41-.59l7.78-7.78 2.81-2.81c.8-.78.8-2.07 0-2.86zM5.41 20L4 18.59l7.72-7.72 1.47 1.35L5.41 20z\"/>\n",
              "  </svg>\n",
              "      </button>\n",
              "      \n",
              "  <style>\n",
              "    .colab-df-container {\n",
              "      display:flex;\n",
              "      flex-wrap:wrap;\n",
              "      gap: 12px;\n",
              "    }\n",
              "\n",
              "    .colab-df-convert {\n",
              "      background-color: #E8F0FE;\n",
              "      border: none;\n",
              "      border-radius: 50%;\n",
              "      cursor: pointer;\n",
              "      display: none;\n",
              "      fill: #1967D2;\n",
              "      height: 32px;\n",
              "      padding: 0 0 0 0;\n",
              "      width: 32px;\n",
              "    }\n",
              "\n",
              "    .colab-df-convert:hover {\n",
              "      background-color: #E2EBFA;\n",
              "      box-shadow: 0px 1px 2px rgba(60, 64, 67, 0.3), 0px 1px 3px 1px rgba(60, 64, 67, 0.15);\n",
              "      fill: #174EA6;\n",
              "    }\n",
              "\n",
              "    [theme=dark] .colab-df-convert {\n",
              "      background-color: #3B4455;\n",
              "      fill: #D2E3FC;\n",
              "    }\n",
              "\n",
              "    [theme=dark] .colab-df-convert:hover {\n",
              "      background-color: #434B5C;\n",
              "      box-shadow: 0px 1px 3px 1px rgba(0, 0, 0, 0.15);\n",
              "      filter: drop-shadow(0px 1px 2px rgba(0, 0, 0, 0.3));\n",
              "      fill: #FFFFFF;\n",
              "    }\n",
              "  </style>\n",
              "\n",
              "      <script>\n",
              "        const buttonEl =\n",
              "          document.querySelector('#df-fedda052-1d17-476a-b6bf-21bca378d475 button.colab-df-convert');\n",
              "        buttonEl.style.display =\n",
              "          google.colab.kernel.accessAllowed ? 'block' : 'none';\n",
              "\n",
              "        async function convertToInteractive(key) {\n",
              "          const element = document.querySelector('#df-fedda052-1d17-476a-b6bf-21bca378d475');\n",
              "          const dataTable =\n",
              "            await google.colab.kernel.invokeFunction('convertToInteractive',\n",
              "                                                     [key], {});\n",
              "          if (!dataTable) return;\n",
              "\n",
              "          const docLinkHtml = 'Like what you see? Visit the ' +\n",
              "            '<a target=\"_blank\" href=https://colab.research.google.com/notebooks/data_table.ipynb>data table notebook</a>'\n",
              "            + ' to learn more about interactive tables.';\n",
              "          element.innerHTML = '';\n",
              "          dataTable['output_type'] = 'display_data';\n",
              "          await google.colab.output.renderOutput(dataTable, element);\n",
              "          const docLink = document.createElement('div');\n",
              "          docLink.innerHTML = docLinkHtml;\n",
              "          element.appendChild(docLink);\n",
              "        }\n",
              "      </script>\n",
              "    </div>\n",
              "  </div>\n",
              "  "
            ],
            "text/plain": [
              "       children  days_employed  ...   total_income                       purpose\n",
              "0             1   -8437.673028  ...  253875.639453                 покупка жилья\n",
              "1             1   -4024.803754  ...  112080.014102       приобретение автомобиля\n",
              "2             0   -5623.422610  ...  145885.952297                 покупка жилья\n",
              "3             3   -4124.747207  ...  267628.550329    дополнительное образование\n",
              "4             0  340266.072047  ...  158616.077870               сыграть свадьбу\n",
              "...         ...            ...  ...            ...                           ...\n",
              "21520         1   -4529.316663  ...  224791.862382             операции с жильем\n",
              "21521         0  343937.404131  ...  155999.806512          сделка с автомобилем\n",
              "21522         1   -2113.346888  ...   89672.561153                  недвижимость\n",
              "21523         3   -3112.481705  ...  244093.050500  на покупку своего автомобиля\n",
              "21524         2   -1984.507589  ...   82047.418899         на покупку автомобиля\n",
              "\n",
              "[21525 rows x 12 columns]"
            ]
          },
          "metadata": {},
          "execution_count": 44
        }
      ],
      "source": [
        "import pandas as pd \n",
        "credit_score_data = pd.read_csv('/content/drive/MyDrive/Colab Notebooks/Yandex.Prakticum/2. Исследование надёжности заёмщиков/data.csv') #прочитаем данные и поместим в переменную credit_score_data\n",
        "\n",
        "credit_score_data.head(21525)                   #выведем таблицу на экран           "
      ]
    },
    {
      "cell_type": "code",
      "execution_count": 45,
      "metadata": {
        "colab": {
          "base_uri": "https://localhost:8080/"
        },
        "id": "PTXbemlXngMo",
        "outputId": "94c0d1e9-d3e0-4d7f-b859-8b6bafe7f973"
      },
      "outputs": [
        {
          "output_type": "stream",
          "name": "stdout",
          "text": [
            "<class 'pandas.core.frame.DataFrame'>\n",
            "RangeIndex: 21525 entries, 0 to 21524\n",
            "Data columns (total 12 columns):\n",
            " #   Column            Non-Null Count  Dtype  \n",
            "---  ------            --------------  -----  \n",
            " 0   children          21525 non-null  int64  \n",
            " 1   days_employed     19351 non-null  float64\n",
            " 2   dob_years         21525 non-null  int64  \n",
            " 3   education         21525 non-null  object \n",
            " 4   education_id      21525 non-null  int64  \n",
            " 5   family_status     21525 non-null  object \n",
            " 6   family_status_id  21525 non-null  int64  \n",
            " 7   gender            21525 non-null  object \n",
            " 8   income_type       21525 non-null  object \n",
            " 9   debt              21525 non-null  int64  \n",
            " 10  total_income      19351 non-null  float64\n",
            " 11  purpose           21525 non-null  object \n",
            "dtypes: float64(2), int64(5), object(5)\n",
            "memory usage: 2.0+ MB\n"
          ]
        }
      ],
      "source": [
        "credit_score_data.info()   #получим общее понимание набора данных"
      ]
    },
    {
      "cell_type": "code",
      "execution_count": 46,
      "metadata": {
        "colab": {
          "base_uri": "https://localhost:8080/",
          "height": 300
        },
        "id": "S8dw2W49ngMo",
        "outputId": "a2b20986-0c8e-434b-8a73-647ccdf6abc6"
      },
      "outputs": [
        {
          "output_type": "execute_result",
          "data": {
            "text/html": [
              "\n",
              "  <div id=\"df-8aa0d7c6-7931-4069-a746-59da6d864a21\">\n",
              "    <div class=\"colab-df-container\">\n",
              "      <div>\n",
              "<style scoped>\n",
              "    .dataframe tbody tr th:only-of-type {\n",
              "        vertical-align: middle;\n",
              "    }\n",
              "\n",
              "    .dataframe tbody tr th {\n",
              "        vertical-align: top;\n",
              "    }\n",
              "\n",
              "    .dataframe thead th {\n",
              "        text-align: right;\n",
              "    }\n",
              "</style>\n",
              "<table border=\"1\" class=\"dataframe\">\n",
              "  <thead>\n",
              "    <tr style=\"text-align: right;\">\n",
              "      <th></th>\n",
              "      <th>children</th>\n",
              "      <th>days_employed</th>\n",
              "      <th>dob_years</th>\n",
              "      <th>education_id</th>\n",
              "      <th>family_status_id</th>\n",
              "      <th>debt</th>\n",
              "      <th>total_income</th>\n",
              "    </tr>\n",
              "  </thead>\n",
              "  <tbody>\n",
              "    <tr>\n",
              "      <th>count</th>\n",
              "      <td>21525.000000</td>\n",
              "      <td>19351.000000</td>\n",
              "      <td>21525.000000</td>\n",
              "      <td>21525.000000</td>\n",
              "      <td>21525.000000</td>\n",
              "      <td>21525.000000</td>\n",
              "      <td>1.935100e+04</td>\n",
              "    </tr>\n",
              "    <tr>\n",
              "      <th>mean</th>\n",
              "      <td>0.538908</td>\n",
              "      <td>63046.497661</td>\n",
              "      <td>43.293380</td>\n",
              "      <td>0.817236</td>\n",
              "      <td>0.972544</td>\n",
              "      <td>0.080883</td>\n",
              "      <td>1.674223e+05</td>\n",
              "    </tr>\n",
              "    <tr>\n",
              "      <th>std</th>\n",
              "      <td>1.381587</td>\n",
              "      <td>140827.311974</td>\n",
              "      <td>12.574584</td>\n",
              "      <td>0.548138</td>\n",
              "      <td>1.420324</td>\n",
              "      <td>0.272661</td>\n",
              "      <td>1.029716e+05</td>\n",
              "    </tr>\n",
              "    <tr>\n",
              "      <th>min</th>\n",
              "      <td>-1.000000</td>\n",
              "      <td>-18388.949901</td>\n",
              "      <td>0.000000</td>\n",
              "      <td>0.000000</td>\n",
              "      <td>0.000000</td>\n",
              "      <td>0.000000</td>\n",
              "      <td>2.066726e+04</td>\n",
              "    </tr>\n",
              "    <tr>\n",
              "      <th>25%</th>\n",
              "      <td>0.000000</td>\n",
              "      <td>-2747.423625</td>\n",
              "      <td>33.000000</td>\n",
              "      <td>1.000000</td>\n",
              "      <td>0.000000</td>\n",
              "      <td>0.000000</td>\n",
              "      <td>1.030532e+05</td>\n",
              "    </tr>\n",
              "    <tr>\n",
              "      <th>50%</th>\n",
              "      <td>0.000000</td>\n",
              "      <td>-1203.369529</td>\n",
              "      <td>42.000000</td>\n",
              "      <td>1.000000</td>\n",
              "      <td>0.000000</td>\n",
              "      <td>0.000000</td>\n",
              "      <td>1.450179e+05</td>\n",
              "    </tr>\n",
              "    <tr>\n",
              "      <th>75%</th>\n",
              "      <td>1.000000</td>\n",
              "      <td>-291.095954</td>\n",
              "      <td>53.000000</td>\n",
              "      <td>1.000000</td>\n",
              "      <td>1.000000</td>\n",
              "      <td>0.000000</td>\n",
              "      <td>2.034351e+05</td>\n",
              "    </tr>\n",
              "    <tr>\n",
              "      <th>max</th>\n",
              "      <td>20.000000</td>\n",
              "      <td>401755.400475</td>\n",
              "      <td>75.000000</td>\n",
              "      <td>4.000000</td>\n",
              "      <td>4.000000</td>\n",
              "      <td>1.000000</td>\n",
              "      <td>2.265604e+06</td>\n",
              "    </tr>\n",
              "  </tbody>\n",
              "</table>\n",
              "</div>\n",
              "      <button class=\"colab-df-convert\" onclick=\"convertToInteractive('df-8aa0d7c6-7931-4069-a746-59da6d864a21')\"\n",
              "              title=\"Convert this dataframe to an interactive table.\"\n",
              "              style=\"display:none;\">\n",
              "        \n",
              "  <svg xmlns=\"http://www.w3.org/2000/svg\" height=\"24px\"viewBox=\"0 0 24 24\"\n",
              "       width=\"24px\">\n",
              "    <path d=\"M0 0h24v24H0V0z\" fill=\"none\"/>\n",
              "    <path d=\"M18.56 5.44l.94 2.06.94-2.06 2.06-.94-2.06-.94-.94-2.06-.94 2.06-2.06.94zm-11 1L8.5 8.5l.94-2.06 2.06-.94-2.06-.94L8.5 2.5l-.94 2.06-2.06.94zm10 10l.94 2.06.94-2.06 2.06-.94-2.06-.94-.94-2.06-.94 2.06-2.06.94z\"/><path d=\"M17.41 7.96l-1.37-1.37c-.4-.4-.92-.59-1.43-.59-.52 0-1.04.2-1.43.59L10.3 9.45l-7.72 7.72c-.78.78-.78 2.05 0 2.83L4 21.41c.39.39.9.59 1.41.59.51 0 1.02-.2 1.41-.59l7.78-7.78 2.81-2.81c.8-.78.8-2.07 0-2.86zM5.41 20L4 18.59l7.72-7.72 1.47 1.35L5.41 20z\"/>\n",
              "  </svg>\n",
              "      </button>\n",
              "      \n",
              "  <style>\n",
              "    .colab-df-container {\n",
              "      display:flex;\n",
              "      flex-wrap:wrap;\n",
              "      gap: 12px;\n",
              "    }\n",
              "\n",
              "    .colab-df-convert {\n",
              "      background-color: #E8F0FE;\n",
              "      border: none;\n",
              "      border-radius: 50%;\n",
              "      cursor: pointer;\n",
              "      display: none;\n",
              "      fill: #1967D2;\n",
              "      height: 32px;\n",
              "      padding: 0 0 0 0;\n",
              "      width: 32px;\n",
              "    }\n",
              "\n",
              "    .colab-df-convert:hover {\n",
              "      background-color: #E2EBFA;\n",
              "      box-shadow: 0px 1px 2px rgba(60, 64, 67, 0.3), 0px 1px 3px 1px rgba(60, 64, 67, 0.15);\n",
              "      fill: #174EA6;\n",
              "    }\n",
              "\n",
              "    [theme=dark] .colab-df-convert {\n",
              "      background-color: #3B4455;\n",
              "      fill: #D2E3FC;\n",
              "    }\n",
              "\n",
              "    [theme=dark] .colab-df-convert:hover {\n",
              "      background-color: #434B5C;\n",
              "      box-shadow: 0px 1px 3px 1px rgba(0, 0, 0, 0.15);\n",
              "      filter: drop-shadow(0px 1px 2px rgba(0, 0, 0, 0.3));\n",
              "      fill: #FFFFFF;\n",
              "    }\n",
              "  </style>\n",
              "\n",
              "      <script>\n",
              "        const buttonEl =\n",
              "          document.querySelector('#df-8aa0d7c6-7931-4069-a746-59da6d864a21 button.colab-df-convert');\n",
              "        buttonEl.style.display =\n",
              "          google.colab.kernel.accessAllowed ? 'block' : 'none';\n",
              "\n",
              "        async function convertToInteractive(key) {\n",
              "          const element = document.querySelector('#df-8aa0d7c6-7931-4069-a746-59da6d864a21');\n",
              "          const dataTable =\n",
              "            await google.colab.kernel.invokeFunction('convertToInteractive',\n",
              "                                                     [key], {});\n",
              "          if (!dataTable) return;\n",
              "\n",
              "          const docLinkHtml = 'Like what you see? Visit the ' +\n",
              "            '<a target=\"_blank\" href=https://colab.research.google.com/notebooks/data_table.ipynb>data table notebook</a>'\n",
              "            + ' to learn more about interactive tables.';\n",
              "          element.innerHTML = '';\n",
              "          dataTable['output_type'] = 'display_data';\n",
              "          await google.colab.output.renderOutput(dataTable, element);\n",
              "          const docLink = document.createElement('div');\n",
              "          docLink.innerHTML = docLinkHtml;\n",
              "          element.appendChild(docLink);\n",
              "        }\n",
              "      </script>\n",
              "    </div>\n",
              "  </div>\n",
              "  "
            ],
            "text/plain": [
              "           children  days_employed  ...          debt  total_income\n",
              "count  21525.000000   19351.000000  ...  21525.000000  1.935100e+04\n",
              "mean       0.538908   63046.497661  ...      0.080883  1.674223e+05\n",
              "std        1.381587  140827.311974  ...      0.272661  1.029716e+05\n",
              "min       -1.000000  -18388.949901  ...      0.000000  2.066726e+04\n",
              "25%        0.000000   -2747.423625  ...      0.000000  1.030532e+05\n",
              "50%        0.000000   -1203.369529  ...      0.000000  1.450179e+05\n",
              "75%        1.000000    -291.095954  ...      0.000000  2.034351e+05\n",
              "max       20.000000  401755.400475  ...      1.000000  2.265604e+06\n",
              "\n",
              "[8 rows x 7 columns]"
            ]
          },
          "metadata": {},
          "execution_count": 46
        }
      ],
      "source": [
        "credit_score_data.describe() #Чтобы узнать разброс значений, средние величины, а также квантили, используем метод .describe()"
      ]
    },
    {
      "cell_type": "markdown",
      "metadata": {
        "id": "103xUvW1ngMp"
      },
      "source": [
        "**Вывод**\n",
        "\n",
        "Данные состоят из строк в количестве 21 525, 12 стобцов и всего 3 типов данных.\n",
        "В столбцах days_employed и total_income есть пропущенные значения  - пропусков порядка 10% от всех строк. \n",
        "Пустые значения столбца total_income явно связанны с отсутствием значений в столбце days_employed. Возможно, это отсутствие опыта, или опыт есть, но он официально нигде не зафиксирован, человек работал без трудовой и не получал официальный доход, возможно имел бизнес, доход по которому никак не декларировался, т.е. скорее всего отсутствие значений обусловлено человеческим фактором.\n",
        " \n",
        "В столбцах children наблюдаем отрицательное количество детей, аналогично и в столбце days_employed, чего быть не может. \n",
        "В дальнейшем мы исправим это.\n",
        "\n",
        "Помимо этого, можно наблюдать аномальные значения в виде четырехсот тысяч дней в столбце days_employed и 20-ти детей в столбце children, в дальнейшем они могут испортить нам статистику. "
      ]
    },
    {
      "cell_type": "markdown",
      "metadata": {
        "id": "MAIevaXbngMr"
      },
      "source": [
        "## Шаг 2. Предобработка данных"
      ]
    },
    {
      "cell_type": "markdown",
      "metadata": {
        "id": "1JcWl-2DngMs"
      },
      "source": [
        "### Обработка пропусков"
      ]
    },
    {
      "cell_type": "code",
      "execution_count": 47,
      "metadata": {
        "colab": {
          "base_uri": "https://localhost:8080/",
          "height": 206
        },
        "id": "ABr5dVQungMs",
        "outputId": "9be74ef2-8a73-4326-c686-a7bb45a1946c"
      },
      "outputs": [
        {
          "output_type": "execute_result",
          "data": {
            "text/html": [
              "\n",
              "  <div id=\"df-8acdc59d-0366-4f76-8e71-4fb453567347\">\n",
              "    <div class=\"colab-df-container\">\n",
              "      <div>\n",
              "<style scoped>\n",
              "    .dataframe tbody tr th:only-of-type {\n",
              "        vertical-align: middle;\n",
              "    }\n",
              "\n",
              "    .dataframe tbody tr th {\n",
              "        vertical-align: top;\n",
              "    }\n",
              "\n",
              "    .dataframe thead th {\n",
              "        text-align: right;\n",
              "    }\n",
              "</style>\n",
              "<table border=\"1\" class=\"dataframe\">\n",
              "  <thead>\n",
              "    <tr style=\"text-align: right;\">\n",
              "      <th></th>\n",
              "      <th>children</th>\n",
              "      <th>days_employed</th>\n",
              "      <th>dob_years</th>\n",
              "      <th>education</th>\n",
              "      <th>education_id</th>\n",
              "      <th>family_status</th>\n",
              "      <th>family_status_id</th>\n",
              "      <th>gender</th>\n",
              "      <th>income_type</th>\n",
              "      <th>debt</th>\n",
              "      <th>total_income</th>\n",
              "      <th>purpose</th>\n",
              "    </tr>\n",
              "  </thead>\n",
              "  <tbody>\n",
              "    <tr>\n",
              "      <th>12</th>\n",
              "      <td>0</td>\n",
              "      <td>NaN</td>\n",
              "      <td>65</td>\n",
              "      <td>среднее</td>\n",
              "      <td>1</td>\n",
              "      <td>гражданский брак</td>\n",
              "      <td>1</td>\n",
              "      <td>M</td>\n",
              "      <td>пенсионер</td>\n",
              "      <td>0</td>\n",
              "      <td>NaN</td>\n",
              "      <td>сыграть свадьбу</td>\n",
              "    </tr>\n",
              "    <tr>\n",
              "      <th>26</th>\n",
              "      <td>0</td>\n",
              "      <td>NaN</td>\n",
              "      <td>41</td>\n",
              "      <td>среднее</td>\n",
              "      <td>1</td>\n",
              "      <td>женат / замужем</td>\n",
              "      <td>0</td>\n",
              "      <td>M</td>\n",
              "      <td>госслужащий</td>\n",
              "      <td>0</td>\n",
              "      <td>NaN</td>\n",
              "      <td>образование</td>\n",
              "    </tr>\n",
              "    <tr>\n",
              "      <th>29</th>\n",
              "      <td>0</td>\n",
              "      <td>NaN</td>\n",
              "      <td>63</td>\n",
              "      <td>среднее</td>\n",
              "      <td>1</td>\n",
              "      <td>Не женат / не замужем</td>\n",
              "      <td>4</td>\n",
              "      <td>F</td>\n",
              "      <td>пенсионер</td>\n",
              "      <td>0</td>\n",
              "      <td>NaN</td>\n",
              "      <td>строительство жилой недвижимости</td>\n",
              "    </tr>\n",
              "    <tr>\n",
              "      <th>41</th>\n",
              "      <td>0</td>\n",
              "      <td>NaN</td>\n",
              "      <td>50</td>\n",
              "      <td>среднее</td>\n",
              "      <td>1</td>\n",
              "      <td>женат / замужем</td>\n",
              "      <td>0</td>\n",
              "      <td>F</td>\n",
              "      <td>госслужащий</td>\n",
              "      <td>0</td>\n",
              "      <td>NaN</td>\n",
              "      <td>сделка с подержанным автомобилем</td>\n",
              "    </tr>\n",
              "    <tr>\n",
              "      <th>55</th>\n",
              "      <td>0</td>\n",
              "      <td>NaN</td>\n",
              "      <td>54</td>\n",
              "      <td>среднее</td>\n",
              "      <td>1</td>\n",
              "      <td>гражданский брак</td>\n",
              "      <td>1</td>\n",
              "      <td>F</td>\n",
              "      <td>пенсионер</td>\n",
              "      <td>1</td>\n",
              "      <td>NaN</td>\n",
              "      <td>сыграть свадьбу</td>\n",
              "    </tr>\n",
              "  </tbody>\n",
              "</table>\n",
              "</div>\n",
              "      <button class=\"colab-df-convert\" onclick=\"convertToInteractive('df-8acdc59d-0366-4f76-8e71-4fb453567347')\"\n",
              "              title=\"Convert this dataframe to an interactive table.\"\n",
              "              style=\"display:none;\">\n",
              "        \n",
              "  <svg xmlns=\"http://www.w3.org/2000/svg\" height=\"24px\"viewBox=\"0 0 24 24\"\n",
              "       width=\"24px\">\n",
              "    <path d=\"M0 0h24v24H0V0z\" fill=\"none\"/>\n",
              "    <path d=\"M18.56 5.44l.94 2.06.94-2.06 2.06-.94-2.06-.94-.94-2.06-.94 2.06-2.06.94zm-11 1L8.5 8.5l.94-2.06 2.06-.94-2.06-.94L8.5 2.5l-.94 2.06-2.06.94zm10 10l.94 2.06.94-2.06 2.06-.94-2.06-.94-.94-2.06-.94 2.06-2.06.94z\"/><path d=\"M17.41 7.96l-1.37-1.37c-.4-.4-.92-.59-1.43-.59-.52 0-1.04.2-1.43.59L10.3 9.45l-7.72 7.72c-.78.78-.78 2.05 0 2.83L4 21.41c.39.39.9.59 1.41.59.51 0 1.02-.2 1.41-.59l7.78-7.78 2.81-2.81c.8-.78.8-2.07 0-2.86zM5.41 20L4 18.59l7.72-7.72 1.47 1.35L5.41 20z\"/>\n",
              "  </svg>\n",
              "      </button>\n",
              "      \n",
              "  <style>\n",
              "    .colab-df-container {\n",
              "      display:flex;\n",
              "      flex-wrap:wrap;\n",
              "      gap: 12px;\n",
              "    }\n",
              "\n",
              "    .colab-df-convert {\n",
              "      background-color: #E8F0FE;\n",
              "      border: none;\n",
              "      border-radius: 50%;\n",
              "      cursor: pointer;\n",
              "      display: none;\n",
              "      fill: #1967D2;\n",
              "      height: 32px;\n",
              "      padding: 0 0 0 0;\n",
              "      width: 32px;\n",
              "    }\n",
              "\n",
              "    .colab-df-convert:hover {\n",
              "      background-color: #E2EBFA;\n",
              "      box-shadow: 0px 1px 2px rgba(60, 64, 67, 0.3), 0px 1px 3px 1px rgba(60, 64, 67, 0.15);\n",
              "      fill: #174EA6;\n",
              "    }\n",
              "\n",
              "    [theme=dark] .colab-df-convert {\n",
              "      background-color: #3B4455;\n",
              "      fill: #D2E3FC;\n",
              "    }\n",
              "\n",
              "    [theme=dark] .colab-df-convert:hover {\n",
              "      background-color: #434B5C;\n",
              "      box-shadow: 0px 1px 3px 1px rgba(0, 0, 0, 0.15);\n",
              "      filter: drop-shadow(0px 1px 2px rgba(0, 0, 0, 0.3));\n",
              "      fill: #FFFFFF;\n",
              "    }\n",
              "  </style>\n",
              "\n",
              "      <script>\n",
              "        const buttonEl =\n",
              "          document.querySelector('#df-8acdc59d-0366-4f76-8e71-4fb453567347 button.colab-df-convert');\n",
              "        buttonEl.style.display =\n",
              "          google.colab.kernel.accessAllowed ? 'block' : 'none';\n",
              "\n",
              "        async function convertToInteractive(key) {\n",
              "          const element = document.querySelector('#df-8acdc59d-0366-4f76-8e71-4fb453567347');\n",
              "          const dataTable =\n",
              "            await google.colab.kernel.invokeFunction('convertToInteractive',\n",
              "                                                     [key], {});\n",
              "          if (!dataTable) return;\n",
              "\n",
              "          const docLinkHtml = 'Like what you see? Visit the ' +\n",
              "            '<a target=\"_blank\" href=https://colab.research.google.com/notebooks/data_table.ipynb>data table notebook</a>'\n",
              "            + ' to learn more about interactive tables.';\n",
              "          element.innerHTML = '';\n",
              "          dataTable['output_type'] = 'display_data';\n",
              "          await google.colab.output.renderOutput(dataTable, element);\n",
              "          const docLink = document.createElement('div');\n",
              "          docLink.innerHTML = docLinkHtml;\n",
              "          element.appendChild(docLink);\n",
              "        }\n",
              "      </script>\n",
              "    </div>\n",
              "  </div>\n",
              "  "
            ],
            "text/plain": [
              "    children  days_employed  ...  total_income                           purpose\n",
              "12         0            NaN  ...           NaN                   сыграть свадьбу\n",
              "26         0            NaN  ...           NaN                       образование\n",
              "29         0            NaN  ...           NaN  строительство жилой недвижимости\n",
              "41         0            NaN  ...           NaN  сделка с подержанным автомобилем\n",
              "55         0            NaN  ...           NaN                   сыграть свадьбу\n",
              "\n",
              "[5 rows x 12 columns]"
            ]
          },
          "metadata": {},
          "execution_count": 47
        }
      ],
      "source": [
        "credit_score_data[credit_score_data['days_employed'].isna()].head() #выведем на экран пропущенные значения в столбце days_employed"
      ]
    },
    {
      "cell_type": "markdown",
      "metadata": {
        "id": "_NxRmVZzngMt"
      },
      "source": [
        "Заменим пропущенные значения в стобце days_employed на нули"
      ]
    },
    {
      "cell_type": "code",
      "execution_count": 48,
      "metadata": {
        "id": "q2XLjHeAngMv"
      },
      "outputs": [],
      "source": [
        "credit_score_data['days_employed'].fillna(0, inplace=True) #заменим значения NaN на 0"
      ]
    },
    {
      "cell_type": "code",
      "execution_count": 49,
      "metadata": {
        "id": "6ghuzTW8ngMz"
      },
      "outputs": [],
      "source": [
        "#приведем значения в столбце с указанием образования к нижнему регистру, чтобы группировка была корректной\n",
        "credit_score_data['education'] = credit_score_data['education'].str.lower()"
      ]
    },
    {
      "cell_type": "markdown",
      "metadata": {
        "id": "S31cwQC-ngM0"
      },
      "source": [
        "В столбце total_income пропущенные значения заменим на медиану, т.к. разброс значений по данной колонке составляет от 167 тысяч рублей до 2 млн руб., не уверен что среднее использовать корректно"
      ]
    },
    {
      "cell_type": "code",
      "execution_count": 50,
      "metadata": {
        "colab": {
          "base_uri": "https://localhost:8080/"
        },
        "id": "JOR4aPa_ngM2",
        "outputId": "47b6c0cf-2931-4078-b96b-1bf74f9170c4"
      },
      "outputs": [
        {
          "output_type": "stream",
          "name": "stderr",
          "text": [
            "/usr/local/lib/python3.7/dist-packages/ipykernel_launcher.py:2: FutureWarning: Dropping invalid columns in DataFrameGroupBy.transform is deprecated. In a future version, a TypeError will be raised. Before calling .transform, select only columns which should be valid for the transforming function.\n",
            "  \n"
          ]
        }
      ],
      "source": [
        "# группируем датафрейм по столбцам образования и типу дохода, и заполняем пропуски по группам ср.знач. по группе\n",
        "credit_score_data.loc[:, 'total_income'] = credit_score_data.groupby(['education', 'income_type' ]).transform(lambda x: x.fillna(x.median()))"
      ]
    },
    {
      "cell_type": "markdown",
      "metadata": {
        "id": "duVMptLongM5"
      },
      "source": [
        "Проверим,что нулевые значения убраны"
      ]
    },
    {
      "cell_type": "code",
      "execution_count": 51,
      "metadata": {
        "scrolled": true,
        "colab": {
          "base_uri": "https://localhost:8080/"
        },
        "id": "N3ex4fD0ngM6",
        "outputId": "1b7719e4-12c1-4c4b-cc36-64fde50528ca"
      },
      "outputs": [
        {
          "output_type": "stream",
          "name": "stdout",
          "text": [
            "<class 'pandas.core.frame.DataFrame'>\n",
            "RangeIndex: 21525 entries, 0 to 21524\n",
            "Data columns (total 12 columns):\n",
            " #   Column            Non-Null Count  Dtype  \n",
            "---  ------            --------------  -----  \n",
            " 0   children          21525 non-null  int64  \n",
            " 1   days_employed     21525 non-null  float64\n",
            " 2   dob_years         21525 non-null  int64  \n",
            " 3   education         21525 non-null  object \n",
            " 4   education_id      21525 non-null  int64  \n",
            " 5   family_status     21525 non-null  object \n",
            " 6   family_status_id  21525 non-null  int64  \n",
            " 7   gender            21525 non-null  object \n",
            " 8   income_type       21525 non-null  object \n",
            " 9   debt              21525 non-null  int64  \n",
            " 10  total_income      21525 non-null  float64\n",
            " 11  purpose           21525 non-null  object \n",
            "dtypes: float64(2), int64(5), object(5)\n",
            "memory usage: 2.0+ MB\n"
          ]
        }
      ],
      "source": [
        "credit_score_data.info()"
      ]
    },
    {
      "cell_type": "code",
      "execution_count": 52,
      "metadata": {
        "colab": {
          "base_uri": "https://localhost:8080/"
        },
        "id": "pBcNHfLSngM8",
        "outputId": "0b2368bb-709d-4513-fbf9-00d2df13c704"
      },
      "outputs": [
        {
          "output_type": "execute_result",
          "data": {
            "text/plain": [
              "children            0\n",
              "days_employed       0\n",
              "dob_years           0\n",
              "education           0\n",
              "education_id        0\n",
              "family_status       0\n",
              "family_status_id    0\n",
              "gender              0\n",
              "income_type         0\n",
              "debt                0\n",
              "total_income        0\n",
              "purpose             0\n",
              "dtype: int64"
            ]
          },
          "metadata": {},
          "execution_count": 52
        }
      ],
      "source": [
        "credit_score_data.isnull().sum() #проверим кол-во пропусков по каждому столбцу"
      ]
    },
    {
      "cell_type": "markdown",
      "metadata": {
        "id": "AmJrSfdsngM8"
      },
      "source": [
        "Проверим пропуски в столбцах с типом данных str"
      ]
    },
    {
      "cell_type": "code",
      "execution_count": 53,
      "metadata": {
        "colab": {
          "base_uri": "https://localhost:8080/"
        },
        "id": "-SwlWojYngM9",
        "outputId": "354ee8ee-cf7a-44b1-9900-f30d4645085e"
      },
      "outputs": [
        {
          "output_type": "stream",
          "name": "stdout",
          "text": [
            "среднее                15233\n",
            "высшее                  5260\n",
            "неоконченное высшее      744\n",
            "начальное                282\n",
            "ученая степень             6\n",
            "Name: education, dtype: int64\n",
            "Итого: 21525\n",
            "\n",
            "женат / замужем          12380\n",
            "гражданский брак          4177\n",
            "Не женат / не замужем     2813\n",
            "в разводе                 1195\n",
            "вдовец / вдова             960\n",
            "Name: family_status, dtype: int64\n",
            "Итого: 21525\n",
            "\n",
            "F      14236\n",
            "M       7288\n",
            "XNA        1\n",
            "Name: gender, dtype: int64\n",
            "Итого: 21525\n",
            "\n",
            "сотрудник          11119\n",
            "компаньон           5085\n",
            "пенсионер           3856\n",
            "госслужащий         1459\n",
            "безработный            2\n",
            "предприниматель        2\n",
            "студент                1\n",
            "в декрете              1\n",
            "Name: income_type, dtype: int64\n",
            "Итого: 21525\n",
            "\n",
            "свадьба                                   797\n",
            "на проведение свадьбы                     777\n",
            "сыграть свадьбу                           774\n",
            "операции с недвижимостью                  676\n",
            "покупка коммерческой недвижимости         664\n",
            "покупка жилья для сдачи                   653\n",
            "операции с жильем                         653\n",
            "операции с коммерческой недвижимостью     651\n",
            "покупка жилья                             647\n",
            "жилье                                     647\n",
            "покупка жилья для семьи                   641\n",
            "строительство собственной недвижимости    635\n",
            "недвижимость                              634\n",
            "операции со своей недвижимостью           630\n",
            "строительство жилой недвижимости          626\n",
            "покупка недвижимости                      624\n",
            "строительство недвижимости                620\n",
            "покупка своего жилья                      620\n",
            "ремонт жилью                              612\n",
            "покупка жилой недвижимости                607\n",
            "на покупку своего автомобиля              505\n",
            "заняться высшим образованием              496\n",
            "автомобиль                                495\n",
            "сделка с подержанным автомобилем          489\n",
            "свой автомобиль                           480\n",
            "на покупку подержанного автомобиля        479\n",
            "автомобили                                478\n",
            "на покупку автомобиля                     472\n",
            "дополнительное образование                462\n",
            "приобретение автомобиля                   462\n",
            "сделка с автомобилем                      455\n",
            "высшее образование                        453\n",
            "образование                               447\n",
            "получение дополнительного образования     447\n",
            "получение образования                     443\n",
            "профильное образование                    436\n",
            "получение высшего образования             426\n",
            "заняться образованием                     412\n",
            "Name: purpose, dtype: int64\n",
            "Итого: 21525\n",
            "\n"
          ]
        }
      ],
      "source": [
        "for column in credit_score_data.select_dtypes(include=['object']).columns.tolist(): #выбираем из столбцов тип данных object\n",
        "    print(credit_score_data[column].value_counts())\n",
        "    print('Итого:',credit_score_data[column].value_counts().sum(), end='\\n\\n') #строка кода, чтобы выводился тотал \n",
        "    \n",
        "    \n",
        " "
      ]
    },
    {
      "cell_type": "markdown",
      "metadata": {
        "id": "UNdlSzUbngM_"
      },
      "source": [
        "**Вывод**"
      ]
    },
    {
      "cell_type": "markdown",
      "metadata": {
        "id": "_jf_OG0angM_"
      },
      "source": [
        "1. Мы убрали пропуски в столбцах days_employed и total_income. Пропущенные значения содержались в стобцах с количество дней общего трудового стажа и общимдоходом.\n",
        "Мы заменили пропущенные значения в столбце total_income на медианные значения по группам образования и типу занятости, чтобы в целом статистика не была искажена.\n",
        "2. Пропуски по столбцам наблюдались в одних и техже строках. Пропуски в данных столбцах имеют, вероятнее всего, человеческий фактор происхождения: например, кто-то на пенсии, и не работают, поэтому пропускают данное поле для заполнения, в связи с этим и общий доход также отсутствует. В целом, пропуски составляли 10% среди всех строк в наборе данных."
      ]
    },
    {
      "cell_type": "markdown",
      "metadata": {
        "id": "la7a1qIWngNA"
      },
      "source": [
        "### Замена типа данных"
      ]
    },
    {
      "cell_type": "markdown",
      "metadata": {
        "id": "Apm0fs28ngNA"
      },
      "source": [
        "Изучим общую информацию о типах данных нашей базы"
      ]
    },
    {
      "cell_type": "code",
      "execution_count": 54,
      "metadata": {
        "colab": {
          "base_uri": "https://localhost:8080/"
        },
        "id": "1RKLObkingNB",
        "outputId": "88044a8c-0dd6-45ec-9a66-9e816ace2742"
      },
      "outputs": [
        {
          "output_type": "stream",
          "name": "stdout",
          "text": [
            "<class 'pandas.core.frame.DataFrame'>\n",
            "RangeIndex: 21525 entries, 0 to 21524\n",
            "Data columns (total 12 columns):\n",
            " #   Column            Non-Null Count  Dtype  \n",
            "---  ------            --------------  -----  \n",
            " 0   children          21525 non-null  int64  \n",
            " 1   days_employed     21525 non-null  float64\n",
            " 2   dob_years         21525 non-null  int64  \n",
            " 3   education         21525 non-null  object \n",
            " 4   education_id      21525 non-null  int64  \n",
            " 5   family_status     21525 non-null  object \n",
            " 6   family_status_id  21525 non-null  int64  \n",
            " 7   gender            21525 non-null  object \n",
            " 8   income_type       21525 non-null  object \n",
            " 9   debt              21525 non-null  int64  \n",
            " 10  total_income      21525 non-null  float64\n",
            " 11  purpose           21525 non-null  object \n",
            "dtypes: float64(2), int64(5), object(5)\n",
            "memory usage: 2.0+ MB\n"
          ]
        }
      ],
      "source": [
        "credit_score_data.info()"
      ]
    },
    {
      "cell_type": "markdown",
      "metadata": {
        "id": "MkPM10gZngNB"
      },
      "source": [
        "В столбце days_employed должны находится целочисленные значения, отражающие количество дней стажа. Необходимо перобразовать в int.\n",
        "\n",
        "Также, округлим значения дохода до целочисленного."
      ]
    },
    {
      "cell_type": "code",
      "execution_count": 55,
      "metadata": {
        "id": "SRIB2MdNngNC"
      },
      "outputs": [],
      "source": [
        "credit_score_data['days_employed'] = credit_score_data['days_employed'].astype('int')\n",
        "credit_score_data['total_income'] = credit_score_data['total_income'].astype('int')"
      ]
    },
    {
      "cell_type": "markdown",
      "metadata": {
        "id": "B0yV9yexngNC"
      },
      "source": [
        "Исправим отрицательные значения из столбцов children и days_employed на положительные"
      ]
    },
    {
      "cell_type": "code",
      "execution_count": 56,
      "metadata": {
        "colab": {
          "base_uri": "https://localhost:8080/",
          "height": 0
        },
        "id": "GVZ7ScpFngNC",
        "outputId": "e044a312-112b-4dea-fe35-82ef42c0e350"
      },
      "outputs": [
        {
          "output_type": "execute_result",
          "data": {
            "text/html": [
              "\n",
              "  <div id=\"df-98515b54-1115-4f99-9fb2-8378ba7c9de2\">\n",
              "    <div class=\"colab-df-container\">\n",
              "      <div>\n",
              "<style scoped>\n",
              "    .dataframe tbody tr th:only-of-type {\n",
              "        vertical-align: middle;\n",
              "    }\n",
              "\n",
              "    .dataframe tbody tr th {\n",
              "        vertical-align: top;\n",
              "    }\n",
              "\n",
              "    .dataframe thead th {\n",
              "        text-align: right;\n",
              "    }\n",
              "</style>\n",
              "<table border=\"1\" class=\"dataframe\">\n",
              "  <thead>\n",
              "    <tr style=\"text-align: right;\">\n",
              "      <th></th>\n",
              "      <th>children</th>\n",
              "      <th>days_employed</th>\n",
              "      <th>dob_years</th>\n",
              "      <th>education_id</th>\n",
              "      <th>family_status_id</th>\n",
              "      <th>debt</th>\n",
              "      <th>total_income</th>\n",
              "    </tr>\n",
              "  </thead>\n",
              "  <tbody>\n",
              "    <tr>\n",
              "      <th>count</th>\n",
              "      <td>21525.000000</td>\n",
              "      <td>21525.000000</td>\n",
              "      <td>21525.000000</td>\n",
              "      <td>21525.000000</td>\n",
              "      <td>21525.000000</td>\n",
              "      <td>21525.000000</td>\n",
              "      <td>2.152500e+04</td>\n",
              "    </tr>\n",
              "    <tr>\n",
              "      <th>mean</th>\n",
              "      <td>0.543275</td>\n",
              "      <td>60155.970128</td>\n",
              "      <td>43.293380</td>\n",
              "      <td>0.817236</td>\n",
              "      <td>0.972544</td>\n",
              "      <td>0.080883</td>\n",
              "      <td>1.653532e+05</td>\n",
              "    </tr>\n",
              "    <tr>\n",
              "      <th>std</th>\n",
              "      <td>1.379876</td>\n",
              "      <td>133355.906156</td>\n",
              "      <td>12.574584</td>\n",
              "      <td>0.548138</td>\n",
              "      <td>1.420324</td>\n",
              "      <td>0.272661</td>\n",
              "      <td>9.814856e+04</td>\n",
              "    </tr>\n",
              "    <tr>\n",
              "      <th>min</th>\n",
              "      <td>0.000000</td>\n",
              "      <td>0.000000</td>\n",
              "      <td>0.000000</td>\n",
              "      <td>0.000000</td>\n",
              "      <td>0.000000</td>\n",
              "      <td>0.000000</td>\n",
              "      <td>2.066700e+04</td>\n",
              "    </tr>\n",
              "    <tr>\n",
              "      <th>25%</th>\n",
              "      <td>0.000000</td>\n",
              "      <td>610.000000</td>\n",
              "      <td>33.000000</td>\n",
              "      <td>1.000000</td>\n",
              "      <td>0.000000</td>\n",
              "      <td>0.000000</td>\n",
              "      <td>1.077190e+05</td>\n",
              "    </tr>\n",
              "    <tr>\n",
              "      <th>50%</th>\n",
              "      <td>0.000000</td>\n",
              "      <td>1808.000000</td>\n",
              "      <td>42.000000</td>\n",
              "      <td>1.000000</td>\n",
              "      <td>0.000000</td>\n",
              "      <td>0.000000</td>\n",
              "      <td>1.434960e+05</td>\n",
              "    </tr>\n",
              "    <tr>\n",
              "      <th>75%</th>\n",
              "      <td>1.000000</td>\n",
              "      <td>4779.000000</td>\n",
              "      <td>53.000000</td>\n",
              "      <td>1.000000</td>\n",
              "      <td>1.000000</td>\n",
              "      <td>0.000000</td>\n",
              "      <td>1.981490e+05</td>\n",
              "    </tr>\n",
              "    <tr>\n",
              "      <th>max</th>\n",
              "      <td>20.000000</td>\n",
              "      <td>401755.000000</td>\n",
              "      <td>75.000000</td>\n",
              "      <td>4.000000</td>\n",
              "      <td>4.000000</td>\n",
              "      <td>1.000000</td>\n",
              "      <td>2.265604e+06</td>\n",
              "    </tr>\n",
              "  </tbody>\n",
              "</table>\n",
              "</div>\n",
              "      <button class=\"colab-df-convert\" onclick=\"convertToInteractive('df-98515b54-1115-4f99-9fb2-8378ba7c9de2')\"\n",
              "              title=\"Convert this dataframe to an interactive table.\"\n",
              "              style=\"display:none;\">\n",
              "        \n",
              "  <svg xmlns=\"http://www.w3.org/2000/svg\" height=\"24px\"viewBox=\"0 0 24 24\"\n",
              "       width=\"24px\">\n",
              "    <path d=\"M0 0h24v24H0V0z\" fill=\"none\"/>\n",
              "    <path d=\"M18.56 5.44l.94 2.06.94-2.06 2.06-.94-2.06-.94-.94-2.06-.94 2.06-2.06.94zm-11 1L8.5 8.5l.94-2.06 2.06-.94-2.06-.94L8.5 2.5l-.94 2.06-2.06.94zm10 10l.94 2.06.94-2.06 2.06-.94-2.06-.94-.94-2.06-.94 2.06-2.06.94z\"/><path d=\"M17.41 7.96l-1.37-1.37c-.4-.4-.92-.59-1.43-.59-.52 0-1.04.2-1.43.59L10.3 9.45l-7.72 7.72c-.78.78-.78 2.05 0 2.83L4 21.41c.39.39.9.59 1.41.59.51 0 1.02-.2 1.41-.59l7.78-7.78 2.81-2.81c.8-.78.8-2.07 0-2.86zM5.41 20L4 18.59l7.72-7.72 1.47 1.35L5.41 20z\"/>\n",
              "  </svg>\n",
              "      </button>\n",
              "      \n",
              "  <style>\n",
              "    .colab-df-container {\n",
              "      display:flex;\n",
              "      flex-wrap:wrap;\n",
              "      gap: 12px;\n",
              "    }\n",
              "\n",
              "    .colab-df-convert {\n",
              "      background-color: #E8F0FE;\n",
              "      border: none;\n",
              "      border-radius: 50%;\n",
              "      cursor: pointer;\n",
              "      display: none;\n",
              "      fill: #1967D2;\n",
              "      height: 32px;\n",
              "      padding: 0 0 0 0;\n",
              "      width: 32px;\n",
              "    }\n",
              "\n",
              "    .colab-df-convert:hover {\n",
              "      background-color: #E2EBFA;\n",
              "      box-shadow: 0px 1px 2px rgba(60, 64, 67, 0.3), 0px 1px 3px 1px rgba(60, 64, 67, 0.15);\n",
              "      fill: #174EA6;\n",
              "    }\n",
              "\n",
              "    [theme=dark] .colab-df-convert {\n",
              "      background-color: #3B4455;\n",
              "      fill: #D2E3FC;\n",
              "    }\n",
              "\n",
              "    [theme=dark] .colab-df-convert:hover {\n",
              "      background-color: #434B5C;\n",
              "      box-shadow: 0px 1px 3px 1px rgba(0, 0, 0, 0.15);\n",
              "      filter: drop-shadow(0px 1px 2px rgba(0, 0, 0, 0.3));\n",
              "      fill: #FFFFFF;\n",
              "    }\n",
              "  </style>\n",
              "\n",
              "      <script>\n",
              "        const buttonEl =\n",
              "          document.querySelector('#df-98515b54-1115-4f99-9fb2-8378ba7c9de2 button.colab-df-convert');\n",
              "        buttonEl.style.display =\n",
              "          google.colab.kernel.accessAllowed ? 'block' : 'none';\n",
              "\n",
              "        async function convertToInteractive(key) {\n",
              "          const element = document.querySelector('#df-98515b54-1115-4f99-9fb2-8378ba7c9de2');\n",
              "          const dataTable =\n",
              "            await google.colab.kernel.invokeFunction('convertToInteractive',\n",
              "                                                     [key], {});\n",
              "          if (!dataTable) return;\n",
              "\n",
              "          const docLinkHtml = 'Like what you see? Visit the ' +\n",
              "            '<a target=\"_blank\" href=https://colab.research.google.com/notebooks/data_table.ipynb>data table notebook</a>'\n",
              "            + ' to learn more about interactive tables.';\n",
              "          element.innerHTML = '';\n",
              "          dataTable['output_type'] = 'display_data';\n",
              "          await google.colab.output.renderOutput(dataTable, element);\n",
              "          const docLink = document.createElement('div');\n",
              "          docLink.innerHTML = docLinkHtml;\n",
              "          element.appendChild(docLink);\n",
              "        }\n",
              "      </script>\n",
              "    </div>\n",
              "  </div>\n",
              "  "
            ],
            "text/plain": [
              "           children  days_employed  ...          debt  total_income\n",
              "count  21525.000000   21525.000000  ...  21525.000000  2.152500e+04\n",
              "mean       0.543275   60155.970128  ...      0.080883  1.653532e+05\n",
              "std        1.379876  133355.906156  ...      0.272661  9.814856e+04\n",
              "min        0.000000       0.000000  ...      0.000000  2.066700e+04\n",
              "25%        0.000000     610.000000  ...      0.000000  1.077190e+05\n",
              "50%        0.000000    1808.000000  ...      0.000000  1.434960e+05\n",
              "75%        1.000000    4779.000000  ...      0.000000  1.981490e+05\n",
              "max       20.000000  401755.000000  ...      1.000000  2.265604e+06\n",
              "\n",
              "[8 rows x 7 columns]"
            ]
          },
          "metadata": {},
          "execution_count": 56
        }
      ],
      "source": [
        "credit_score_data['children'] = credit_score_data['children'].apply(lambda x: abs(x))\n",
        "credit_score_data['days_employed'] = credit_score_data['days_employed'].apply(lambda x: abs(x))\n",
        "credit_score_data.describe()"
      ]
    },
    {
      "cell_type": "markdown",
      "metadata": {
        "id": "l2a1vUQ3ngND"
      },
      "source": [
        "Мы видим, что в наших данных присутствуют артефакты: 20 детей в столбце children, а также 400 тысяч дней в столбце days_employed: очевидно, что человек не может работать тысячу лет, и это сильно искажает наши данные."
      ]
    },
    {
      "cell_type": "code",
      "execution_count": 57,
      "metadata": {
        "colab": {
          "base_uri": "https://localhost:8080/",
          "height": 0
        },
        "id": "Vsgq9gbWngNE",
        "outputId": "bfe088ea-c16a-4597-f074-17f6b4e6bdb5"
      },
      "outputs": [
        {
          "output_type": "execute_result",
          "data": {
            "text/html": [
              "\n",
              "  <div id=\"df-aaad28c9-12df-4255-9b34-afc9756c66f4\">\n",
              "    <div class=\"colab-df-container\">\n",
              "      <div>\n",
              "<style scoped>\n",
              "    .dataframe tbody tr th:only-of-type {\n",
              "        vertical-align: middle;\n",
              "    }\n",
              "\n",
              "    .dataframe tbody tr th {\n",
              "        vertical-align: top;\n",
              "    }\n",
              "\n",
              "    .dataframe thead th {\n",
              "        text-align: right;\n",
              "    }\n",
              "</style>\n",
              "<table border=\"1\" class=\"dataframe\">\n",
              "  <thead>\n",
              "    <tr style=\"text-align: right;\">\n",
              "      <th></th>\n",
              "      <th>children</th>\n",
              "      <th>days_employed</th>\n",
              "      <th>dob_years</th>\n",
              "      <th>education_id</th>\n",
              "      <th>family_status_id</th>\n",
              "      <th>debt</th>\n",
              "      <th>total_income</th>\n",
              "    </tr>\n",
              "  </thead>\n",
              "  <tbody>\n",
              "    <tr>\n",
              "      <th>count</th>\n",
              "      <td>18011.000000</td>\n",
              "      <td>18011.000000</td>\n",
              "      <td>18011.000000</td>\n",
              "      <td>18011.000000</td>\n",
              "      <td>18011.000000</td>\n",
              "      <td>18011.000000</td>\n",
              "      <td>1.801100e+04</td>\n",
              "    </tr>\n",
              "    <tr>\n",
              "      <th>mean</th>\n",
              "      <td>0.547332</td>\n",
              "      <td>2070.422797</td>\n",
              "      <td>40.277775</td>\n",
              "      <td>0.798568</td>\n",
              "      <td>0.970851</td>\n",
              "      <td>0.086114</td>\n",
              "      <td>1.707315e+05</td>\n",
              "    </tr>\n",
              "    <tr>\n",
              "      <th>std</th>\n",
              "      <td>0.786561</td>\n",
              "      <td>2292.744105</td>\n",
              "      <td>10.974817</td>\n",
              "      <td>0.552276</td>\n",
              "      <td>1.439502</td>\n",
              "      <td>0.280540</td>\n",
              "      <td>1.003829e+05</td>\n",
              "    </tr>\n",
              "    <tr>\n",
              "      <th>min</th>\n",
              "      <td>0.000000</td>\n",
              "      <td>0.000000</td>\n",
              "      <td>0.000000</td>\n",
              "      <td>0.000000</td>\n",
              "      <td>0.000000</td>\n",
              "      <td>0.000000</td>\n",
              "      <td>2.136700e+04</td>\n",
              "    </tr>\n",
              "    <tr>\n",
              "      <th>25%</th>\n",
              "      <td>0.000000</td>\n",
              "      <td>450.000000</td>\n",
              "      <td>32.000000</td>\n",
              "      <td>0.000000</td>\n",
              "      <td>0.000000</td>\n",
              "      <td>0.000000</td>\n",
              "      <td>1.134605e+05</td>\n",
              "    </tr>\n",
              "    <tr>\n",
              "      <th>50%</th>\n",
              "      <td>0.000000</td>\n",
              "      <td>1349.000000</td>\n",
              "      <td>40.000000</td>\n",
              "      <td>1.000000</td>\n",
              "      <td>0.000000</td>\n",
              "      <td>0.000000</td>\n",
              "      <td>1.481090e+05</td>\n",
              "    </tr>\n",
              "    <tr>\n",
              "      <th>75%</th>\n",
              "      <td>1.000000</td>\n",
              "      <td>2896.000000</td>\n",
              "      <td>48.000000</td>\n",
              "      <td>1.000000</td>\n",
              "      <td>1.000000</td>\n",
              "      <td>0.000000</td>\n",
              "      <td>2.017850e+05</td>\n",
              "    </tr>\n",
              "    <tr>\n",
              "      <th>max</th>\n",
              "      <td>5.000000</td>\n",
              "      <td>18388.000000</td>\n",
              "      <td>75.000000</td>\n",
              "      <td>4.000000</td>\n",
              "      <td>4.000000</td>\n",
              "      <td>1.000000</td>\n",
              "      <td>2.265604e+06</td>\n",
              "    </tr>\n",
              "  </tbody>\n",
              "</table>\n",
              "</div>\n",
              "      <button class=\"colab-df-convert\" onclick=\"convertToInteractive('df-aaad28c9-12df-4255-9b34-afc9756c66f4')\"\n",
              "              title=\"Convert this dataframe to an interactive table.\"\n",
              "              style=\"display:none;\">\n",
              "        \n",
              "  <svg xmlns=\"http://www.w3.org/2000/svg\" height=\"24px\"viewBox=\"0 0 24 24\"\n",
              "       width=\"24px\">\n",
              "    <path d=\"M0 0h24v24H0V0z\" fill=\"none\"/>\n",
              "    <path d=\"M18.56 5.44l.94 2.06.94-2.06 2.06-.94-2.06-.94-.94-2.06-.94 2.06-2.06.94zm-11 1L8.5 8.5l.94-2.06 2.06-.94-2.06-.94L8.5 2.5l-.94 2.06-2.06.94zm10 10l.94 2.06.94-2.06 2.06-.94-2.06-.94-.94-2.06-.94 2.06-2.06.94z\"/><path d=\"M17.41 7.96l-1.37-1.37c-.4-.4-.92-.59-1.43-.59-.52 0-1.04.2-1.43.59L10.3 9.45l-7.72 7.72c-.78.78-.78 2.05 0 2.83L4 21.41c.39.39.9.59 1.41.59.51 0 1.02-.2 1.41-.59l7.78-7.78 2.81-2.81c.8-.78.8-2.07 0-2.86zM5.41 20L4 18.59l7.72-7.72 1.47 1.35L5.41 20z\"/>\n",
              "  </svg>\n",
              "      </button>\n",
              "      \n",
              "  <style>\n",
              "    .colab-df-container {\n",
              "      display:flex;\n",
              "      flex-wrap:wrap;\n",
              "      gap: 12px;\n",
              "    }\n",
              "\n",
              "    .colab-df-convert {\n",
              "      background-color: #E8F0FE;\n",
              "      border: none;\n",
              "      border-radius: 50%;\n",
              "      cursor: pointer;\n",
              "      display: none;\n",
              "      fill: #1967D2;\n",
              "      height: 32px;\n",
              "      padding: 0 0 0 0;\n",
              "      width: 32px;\n",
              "    }\n",
              "\n",
              "    .colab-df-convert:hover {\n",
              "      background-color: #E2EBFA;\n",
              "      box-shadow: 0px 1px 2px rgba(60, 64, 67, 0.3), 0px 1px 3px 1px rgba(60, 64, 67, 0.15);\n",
              "      fill: #174EA6;\n",
              "    }\n",
              "\n",
              "    [theme=dark] .colab-df-convert {\n",
              "      background-color: #3B4455;\n",
              "      fill: #D2E3FC;\n",
              "    }\n",
              "\n",
              "    [theme=dark] .colab-df-convert:hover {\n",
              "      background-color: #434B5C;\n",
              "      box-shadow: 0px 1px 3px 1px rgba(0, 0, 0, 0.15);\n",
              "      filter: drop-shadow(0px 1px 2px rgba(0, 0, 0, 0.3));\n",
              "      fill: #FFFFFF;\n",
              "    }\n",
              "  </style>\n",
              "\n",
              "      <script>\n",
              "        const buttonEl =\n",
              "          document.querySelector('#df-aaad28c9-12df-4255-9b34-afc9756c66f4 button.colab-df-convert');\n",
              "        buttonEl.style.display =\n",
              "          google.colab.kernel.accessAllowed ? 'block' : 'none';\n",
              "\n",
              "        async function convertToInteractive(key) {\n",
              "          const element = document.querySelector('#df-aaad28c9-12df-4255-9b34-afc9756c66f4');\n",
              "          const dataTable =\n",
              "            await google.colab.kernel.invokeFunction('convertToInteractive',\n",
              "                                                     [key], {});\n",
              "          if (!dataTable) return;\n",
              "\n",
              "          const docLinkHtml = 'Like what you see? Visit the ' +\n",
              "            '<a target=\"_blank\" href=https://colab.research.google.com/notebooks/data_table.ipynb>data table notebook</a>'\n",
              "            + ' to learn more about interactive tables.';\n",
              "          element.innerHTML = '';\n",
              "          dataTable['output_type'] = 'display_data';\n",
              "          await google.colab.output.renderOutput(dataTable, element);\n",
              "          const docLink = document.createElement('div');\n",
              "          docLink.innerHTML = docLinkHtml;\n",
              "          element.appendChild(docLink);\n",
              "        }\n",
              "      </script>\n",
              "    </div>\n",
              "  </div>\n",
              "  "
            ],
            "text/plain": [
              "           children  days_employed  ...          debt  total_income\n",
              "count  18011.000000   18011.000000  ...  18011.000000  1.801100e+04\n",
              "mean       0.547332    2070.422797  ...      0.086114  1.707315e+05\n",
              "std        0.786561    2292.744105  ...      0.280540  1.003829e+05\n",
              "min        0.000000       0.000000  ...      0.000000  2.136700e+04\n",
              "25%        0.000000     450.000000  ...      0.000000  1.134605e+05\n",
              "50%        0.000000    1349.000000  ...      0.000000  1.481090e+05\n",
              "75%        1.000000    2896.000000  ...      0.000000  2.017850e+05\n",
              "max        5.000000   18388.000000  ...      1.000000  2.265604e+06\n",
              "\n",
              "[8 rows x 7 columns]"
            ]
          },
          "metadata": {},
          "execution_count": 57
        }
      ],
      "source": [
        "credit_score_data = credit_score_data.drop(credit_score_data[credit_score_data.children == 20].index) #удалим строку, где значение детей равно 20\n",
        "credit_score_data = credit_score_data.drop(credit_score_data[credit_score_data.days_employed > 100000].index) #удалим все строки, где кол-во дней больше 100 тысяч дней\n",
        "\n",
        "credit_score_data.describe()"
      ]
    },
    {
      "cell_type": "markdown",
      "metadata": {
        "id": "8WpdgkdtngNE"
      },
      "source": [
        "**Вывод**"
      ]
    },
    {
      "cell_type": "markdown",
      "metadata": {
        "id": "mpJO6aFnngNE"
      },
      "source": [
        "Стобец days_employed должен иметь типа данных как целочесленный, т.к.это количество дней, а также мы исправили тип данных по столбцу total_income на целочисленный для удобства. Помимо этого исправили отрицательные значения по стобцу с  количеством детей. Также мы видим, что теперь макисмлаьное количество рабочих дней соотносится с реальностью."
      ]
    },
    {
      "cell_type": "markdown",
      "metadata": {
        "id": "FtLeoOZdngNE"
      },
      "source": [
        "### Обработка дубликатов"
      ]
    },
    {
      "cell_type": "markdown",
      "metadata": {
        "id": "DrxbE8qhngNE"
      },
      "source": [
        "Узнаем общее количество дубликатов строк"
      ]
    },
    {
      "cell_type": "code",
      "execution_count": 58,
      "metadata": {
        "colab": {
          "base_uri": "https://localhost:8080/"
        },
        "id": "DAZzQrVyngNF",
        "outputId": "47e13482-3382-4b09-a764-0023ff122754"
      },
      "outputs": [
        {
          "output_type": "execute_result",
          "data": {
            "text/plain": [
              "71"
            ]
          },
          "metadata": {},
          "execution_count": 58
        }
      ],
      "source": [
        "credit_score_data.duplicated().sum() #получим суммарное кол-во дубликатов"
      ]
    },
    {
      "cell_type": "code",
      "execution_count": 59,
      "metadata": {
        "colab": {
          "base_uri": "https://localhost:8080/"
        },
        "id": "QTUOBDVNngNF",
        "outputId": "40e92226-5cbc-4d19-81b0-bce487cff5ab"
      },
      "outputs": [
        {
          "output_type": "stream",
          "name": "stdout",
          "text": [
            "среднее                12386\n",
            "высшее                  4725\n",
            "неоконченное высшее      707\n",
            "начальное                189\n",
            "ученая степень             4\n",
            "Name: education, dtype: int64\n"
          ]
        }
      ],
      "source": [
        "credit_score_data['education'] = credit_score_data['education'].str.lower()\n",
        "print(credit_score_data['education'].value_counts())"
      ]
    },
    {
      "cell_type": "code",
      "execution_count": 60,
      "metadata": {
        "colab": {
          "base_uri": "https://localhost:8080/"
        },
        "id": "fGFb1LS-ngNF",
        "outputId": "4c582b78-23d7-40e5-bf7d-9085f7a3a3ac"
      },
      "outputs": [
        {
          "output_type": "execute_result",
          "data": {
            "text/plain": [
              "0"
            ]
          },
          "metadata": {},
          "execution_count": 60
        }
      ],
      "source": [
        "credit_score_data.drop_duplicates(keep='first', inplace=True) #удалим дубликаты\n",
        "credit_score_data.duplicated().sum()"
      ]
    },
    {
      "cell_type": "markdown",
      "metadata": {
        "id": "a7YbMIeKngNG"
      },
      "source": [
        "**Вывод**"
      ]
    },
    {
      "cell_type": "markdown",
      "metadata": {
        "id": "UpOCJETWngNG"
      },
      "source": [
        "Мы удалили дубликаты строк, их было 71. В нашем случае в качестве дубликата нельзя выделить какой-либо один элемент, хотя таким элементом мог бы быть ID конкретного человека, имя и фамилия, который хочет взять кредит. В данном случае данные не персонализированы, поэтому мы искали полные дубликаты. \n",
        "\n",
        "Причины появления дубликатов могу быть как технические, так и иметь человеческий фактор: люди оставляли заявки на получение кредита, и получив отрицательный результат - вносили данные снова. "
      ]
    },
    {
      "cell_type": "markdown",
      "metadata": {
        "id": "cf7n0qYXngNG"
      },
      "source": [
        "### Лемматизация"
      ]
    },
    {
      "cell_type": "markdown",
      "metadata": {
        "id": "rtumdH8LngNG"
      },
      "source": [
        "Первым делом импортируем бибилиотеку nltk иpymystem3"
      ]
    },
    {
      "cell_type": "code",
      "execution_count": 61,
      "metadata": {
        "id": "3byYlBQUngNG"
      },
      "outputs": [],
      "source": [
        "from nltk.stem import SnowballStemmer \n",
        "russian_stemmer = SnowballStemmer('russian') \n",
        "from pymystem3 import Mystem\n",
        "from collections import Counter\n",
        "m = Mystem()"
      ]
    },
    {
      "cell_type": "markdown",
      "metadata": {
        "id": "PH41qnnXngNH"
      },
      "source": [
        "Найдем и выведем частоту каждой цели (элемента), встречающуюся в столбце purpose при помощи цикла"
      ]
    },
    {
      "cell_type": "code",
      "execution_count": null,
      "metadata": {
        "id": "dXiGhFGSngNH"
      },
      "outputs": [],
      "source": [
        "list_of_purpose = credit_score_data['purpose'].tolist()\n",
        "\n",
        "lemmas = []\n",
        "for item in  list_of_purpose: \n",
        "  text = ' '.join(m.lemmatize(item))\n",
        "\n",
        "lemmas.append(text)\n",
        "\n",
        "Counter(lemmas)"
      ]
    },
    {
      "cell_type": "code",
      "execution_count": null,
      "metadata": {
        "id": "DrGvYfUjngNH"
      },
      "outputs": [],
      "source": [
        "credit_score_data['purpose_lemm'] = credit_score_data['purpose'].apply(m.lemmatize)\n",
        "credit_score_data['purpose_lemm']"
      ]
    },
    {
      "cell_type": "markdown",
      "metadata": {
        "id": "OacMtXxRngNI"
      },
      "source": [
        "Далее, мы напишем функцию, которая позволит нам записать в новый столбец укрупненную группу, если подоходящее слово есть в словаре. Так мы получим столбец с общими категориями целей."
      ]
    },
    {
      "cell_type": "code",
      "execution_count": null,
      "metadata": {
        "scrolled": true,
        "id": "hUrvxEYVngNI"
      },
      "outputs": [],
      "source": [
        "# определяем из списка лемм целевую группу и записываем ее в словарь general_purpose_groups\n",
        "\n",
        "general_purpose_groups = {'недвижимость' : 'Недвижимость',\n",
        "               'жилье' : 'Недвижимость', \n",
        "               'образование' : 'Образование', \n",
        "               'свадьба' : 'Проведение свадьбы', \n",
        "               'автомобиль' : 'Приобретение автомобиля'\n",
        "              }\n",
        "# создадим функцию, возвращающую значение по ключю из основной группы, если слово из листа лемм есть в словаре\n",
        "\n",
        "def func(purp_item_list):\n",
        "    for word in purp_item_list:\n",
        "        \n",
        "        if word in general_purpose_groups:\n",
        "            return general_purpose_groups[word]\n",
        "\n",
        "credit_score_data['new_purp_category'] = credit_score_data['purpose_lemm'].apply(func) # добавляем в новый столбец категории по целям кредитования \n",
        "credit_score_data.head()"
      ]
    },
    {
      "cell_type": "markdown",
      "metadata": {
        "id": "QdeB2zs6ngNI"
      },
      "source": [
        "**Вывод**"
      ]
    },
    {
      "cell_type": "markdown",
      "metadata": {
        "id": "g8Y872x0ngNI"
      },
      "source": [
        "Мы выделили леммы  из всей базы целей, выделили оттуда общие категории и добавили новый столбец.  \n",
        "Мы выделили следующие категории: Покупка или строительство недвижимости, свадьба, покупка автомобился и образование. Далее мы будем работать именно с этими категориями."
      ]
    },
    {
      "cell_type": "markdown",
      "metadata": {
        "id": "9V4ifThgngNI"
      },
      "source": [
        "### Категоризация данных"
      ]
    },
    {
      "cell_type": "markdown",
      "metadata": {
        "id": "3qGi_lSongNI"
      },
      "source": [
        "Для дальнейшего анализа разделим уровень дохода на 4 категории по уровням: низкий, средний, выше среднего и высокий"
      ]
    },
    {
      "cell_type": "code",
      "execution_count": null,
      "metadata": {
        "id": "wBKrKqWWngNJ"
      },
      "outputs": [],
      "source": [
        "quantile_1 = credit_score_data['total_income'].quantile([0.25]).sum()\n",
        "quantile_2 = credit_score_data['total_income'].quantile([0.5]).sum() \n",
        "quantile_3 = credit_score_data['total_income'].quantile([0.75]).sum()"
      ]
    },
    {
      "cell_type": "code",
      "execution_count": null,
      "metadata": {
        "id": "pZ8E9bFXngNJ"
      },
      "outputs": [],
      "source": [
        "#определим функцию возвращающую уровень дохода\n",
        "def categorize_income(value):\n",
        "    if value <= quantile_1 :\n",
        "        return 'Низкий'\n",
        "    elif quantile_1  < value <= quantile_2 :\n",
        "        return 'Средний'\n",
        "    elif quantile_2 < value <= quantile_3:\n",
        "        return 'Выше среднего'\n",
        "    elif  value > quantile_3:\n",
        "        return 'Высокий'\n",
        "    \n",
        "#добаввим в таблицу столбец с новыми категориями по уровню дохода\n",
        "credit_score_data['lvl_income'] = credit_score_data['total_income'].apply(categorize_income)\n",
        "credit_score_data"
      ]
    },
    {
      "cell_type": "markdown",
      "metadata": {
        "id": "WJa5IzUpngNJ"
      },
      "source": [
        "**Вывод**"
      ]
    },
    {
      "cell_type": "markdown",
      "metadata": {
        "id": "wJFSIl-ongNJ"
      },
      "source": [
        "Мы преобразовали наши данные, обогатив их распределение на категории (по целям кредитования) и уровню дохода."
      ]
    },
    {
      "cell_type": "markdown",
      "metadata": {
        "id": "VF89_BelngNJ"
      },
      "source": [
        "## Шаг 3. Ответьте на вопросы"
      ]
    },
    {
      "cell_type": "markdown",
      "metadata": {
        "id": "4iOyOGfAngNK"
      },
      "source": [
        "- Есть ли зависимость между наличием детей и возвратом кредита в срок?"
      ]
    },
    {
      "cell_type": "code",
      "execution_count": null,
      "metadata": {
        "id": "GK4nsmKAngNK"
      },
      "outputs": [],
      "source": [
        "child_group_count = credit_score_data.groupby('children').count()['debt'].sort_index()\n",
        "child_group_debt = credit_score_data.groupby('children').sum()['debt'].sort_index()\n",
        "print('Доля проблемных кредиторов в группе в зависимости от количества детей', (child_group_debt / child_group_count) * 100, sep='\\n')\n",
        "print()\n",
        "print('Количество кредиторов в группе по количеству детей', child_group_count, sep='\\n')"
      ]
    },
    {
      "cell_type": "code",
      "execution_count": null,
      "metadata": {
        "id": "ptbrjnAKngNK"
      },
      "outputs": [],
      "source": [
        "credit_score_data.groupby('children')[['debt']].agg(['count', 'sum', 'mean']).style.format({('debt', 'mean'): '{:.2%}'})"
      ]
    },
    {
      "cell_type": "markdown",
      "metadata": {
        "id": "HwmN5vOWngNK"
      },
      "source": [
        "**Вывод**"
      ]
    },
    {
      "cell_type": "markdown",
      "metadata": {
        "id": "I_dRG01GngNK"
      },
      "source": [
        "Из представленных наблюдений можно сделать несколько выводов:\n",
        "С количеством детей количество кредиторов уменьшается, т.е. люди начинают реже брать кредиты. Скорее всего это связано с тем, что дети появляются с возрастом, и соответственно основные затраты (свадьба, дом и автомобиль) были понесены до появления детей (возможно влияет выплата материнского капитала).\n",
        "Также, в зависимости от группы (по кол-ву детей) не наблюдается сильное различие в доли должников, она варьируется от 8% до 10%. Можно сказать, что в целом у банка 10% должников - проблемные."
      ]
    },
    {
      "cell_type": "markdown",
      "metadata": {
        "id": "ENwRKfLKngNL"
      },
      "source": [
        "- Есть ли зависимость между семейным положением и возвратом кредита в срок?"
      ]
    },
    {
      "cell_type": "code",
      "execution_count": null,
      "metadata": {
        "id": "SFUTxZyTngNL"
      },
      "outputs": [],
      "source": [
        "family_status_group = credit_score_data.groupby('family_status')['debt'].count().sort_index()\n",
        "family_status_group_count = credit_score_data.groupby('family_status')['debt'].sum().sort_index()\n",
        "print('Доля проблемных должников в зависимости от семейного положения \\n', ((family_status_group_count / family_status_group) * 100).sort_values().round())"
      ]
    },
    {
      "cell_type": "markdown",
      "metadata": {
        "id": "yCjhPAFzngNL"
      },
      "source": [
        "**Вывод**"
      ]
    },
    {
      "cell_type": "markdown",
      "metadata": {
        "id": "dW7fp26yngNL"
      },
      "source": [
        "Можно наблюдать некоторую зависимость: среди людей не состоящих в браке доля на 3% выше, чем разведенных (3% от тысяч клиентов банка - довольно существенная доля). Скорее всего это связано с тем, что развод обычно наступает в достаточно зрелом возрасте, и в обществе тенденция такая, что с возрастом доходы растут, соответственно люди успешнее выплачивают кредит."
      ]
    },
    {
      "cell_type": "markdown",
      "metadata": {
        "id": "QDRvWqcJngNL"
      },
      "source": [
        "- Есть ли зависимость между уровнем дохода и возвратом кредита в срок?"
      ]
    },
    {
      "cell_type": "code",
      "execution_count": null,
      "metadata": {
        "id": "dXzrHIVIngNL"
      },
      "outputs": [],
      "source": [
        "income_group_count = credit_score_data.groupby('lvl_income').count()['debt'].sort_index()\n",
        "income_group_sum = credit_score_data.groupby('lvl_income').sum()['debt'].sort_index()\n",
        " \n",
        "print(((income_group_sum / income_group_count) * 100).round())"
      ]
    },
    {
      "cell_type": "code",
      "execution_count": null,
      "metadata": {
        "id": "U29v-x92ngNM"
      },
      "outputs": [],
      "source": [
        "credit_score_data.groupby('lvl_income')['debt'].sum().sort_values()"
      ]
    },
    {
      "cell_type": "markdown",
      "metadata": {
        "id": "DMEqhQHkngNM"
      },
      "source": [
        "**Вывод**"
      ]
    },
    {
      "cell_type": "markdown",
      "metadata": {
        "id": "ZmmDqHS5ngNM"
      },
      "source": [
        "Доля проблемных кредиторов с высоким доходом ниже, чем в остальных группах (7% \"плохих\" должников в группе с высоким уровнем дохода, и 9% в остальных группах): более обеспеченные люди успешнее погашают займ, в то время как клиенты с меньшем уровнем дохода чаще имеют пробемы с погашением задолженности."
      ]
    },
    {
      "cell_type": "markdown",
      "metadata": {
        "id": "lpemuFM8ngNM"
      },
      "source": [
        "- Как разные цели кредита влияют на его возврат в срок?"
      ]
    },
    {
      "cell_type": "code",
      "execution_count": null,
      "metadata": {
        "id": "qz3aq8l6ngNM"
      },
      "outputs": [],
      "source": [
        "purpose_group_count = credit_score_data.groupby('new_purp_category').count()['debt']\n",
        "purpose_group_sum = credit_score_data.groupby('new_purp_category').sum()['debt']\n",
        " \n",
        "print(((purpose_group_sum / purpose_group_count) * 100).round())\n",
        "print()\n",
        "print(purpose_group_count)"
      ]
    },
    {
      "cell_type": "code",
      "execution_count": null,
      "metadata": {
        "id": "Ji8XZp5nngNN"
      },
      "outputs": [],
      "source": [
        "credit_score_data.groupby('new_purp_category')['debt'].sum().sort_values()"
      ]
    },
    {
      "cell_type": "markdown",
      "metadata": {
        "id": "za4HvdElngNN"
      },
      "source": [
        "**Вывод**"
      ]
    },
    {
      "cell_type": "markdown",
      "metadata": {
        "id": "aHyBFK2lngNN"
      },
      "source": [
        "Исходя из наших наблюдений можно сказать что проблемы с погашением задолженности по кредиту чаще встречаются у клиентов, котоыре приобретают автомобиль или недвижимость, это закономерно: стоимость недвижимости обычно выше, чем суммы по другим категориям, что влечет за собой наибольшуюж финансовую нагрузку. \n",
        "\n",
        "Свадьба имеет наименьшее количество проблемных должников, т.к. с погашением кредита на нее могут помочь родственники, или же молодожёны могут погасить часть кредита из собранных средств. \n",
        "\n",
        "Довольно высокое число проблемных дебиторов, взявших кредит на образование может объясняться тем, что зачастую это могут быть неработающие студенты, или люди с невысоким заработком, которым необходимо образование, чтобы зарабатывать больше.е.\n",
        "\n",
        "В целом, доля должников по группам различается и варьируется в диапазоне от 8% до 10%.   Можно сказать, что цель кредитования оказывает влияние на уровень доли проблемных должников, но не является главным фактором."
      ]
    },
    {
      "cell_type": "markdown",
      "metadata": {
        "id": "RpL8sHd7ngNN"
      },
      "source": [
        "## Шаг 4. Общий вывод"
      ]
    },
    {
      "cell_type": "markdown",
      "metadata": {
        "id": "k7wl4w4ingNN"
      },
      "source": [
        "В ходе анализа базы данных, мы обнаружили проблемы в сборе или хранении данных, которые приводят к их искажению, что в дальнейшем может приводить которые к удалению значений в столбцах дохода и опыта работы.\n",
        "\n",
        "Мы обнаружили 54 дубликата, что вероятно говорит о повторном внесении данных о кредиторе, либо повторном взятии кредита по одной и той же цели. В любом случае необходим дополнительный анализ дубликатов уже с идентификатором заемщика.\n",
        "\n",
        "Было обнаружено, что наиболее наиболее проблемные кредиторы - это люди с большим количеством детей и низкой зарплатой.\n",
        "И риск неплатежеспособности кредитора растет с увеличением количества детей и/или уменишением уровня заработной платы.\n",
        "Также мы выяснили, что наименьший риск для банка - это выдача кредита на свадьбу. \n",
        "\n",
        "Более объемные и репрезентативные данные могут помочь сделать более точный анализ."
      ]
    }
  ],
  "metadata": {
    "kernelspec": {
      "display_name": "Python 3",
      "language": "python",
      "name": "python3"
    },
    "language_info": {
      "codemirror_mode": {
        "name": "ipython",
        "version": 3
      },
      "file_extension": ".py",
      "mimetype": "text/x-python",
      "name": "python",
      "nbconvert_exporter": "python",
      "pygments_lexer": "ipython3",
      "version": "3.7.8"
    },
    "toc": {
      "base_numbering": 1,
      "nav_menu": {},
      "number_sections": true,
      "sideBar": true,
      "skip_h1_title": true,
      "title_cell": "Table of Contents",
      "title_sidebar": "Contents",
      "toc_cell": false,
      "toc_position": {},
      "toc_section_display": true,
      "toc_window_display": false
    },
    "colab": {
      "name": "Исследование надёжности заёмщиков.ipynb",
      "provenance": [],
      "collapsed_sections": [
        "la7a1qIWngNA",
        "FtLeoOZdngNE",
        "9V4ifThgngNI"
      ]
    }
  },
  "nbformat": 4,
  "nbformat_minor": 0
}