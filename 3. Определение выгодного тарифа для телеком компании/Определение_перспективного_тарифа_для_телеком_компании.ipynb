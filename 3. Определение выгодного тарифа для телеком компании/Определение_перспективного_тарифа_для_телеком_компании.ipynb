{
  "nbformat": 4,
  "nbformat_minor": 0,
  "metadata": {
    "ExecuteTimeLog": [
      {
        "duration": 6,
        "start_time": "2021-07-03T13:59:56.109Z"
      },
      {
        "duration": 1409,
        "start_time": "2021-07-03T14:09:48.366Z"
      },
      {
        "duration": 548,
        "start_time": "2021-07-03T14:12:20.624Z"
      },
      {
        "duration": 544,
        "start_time": "2021-07-03T14:12:39.654Z"
      },
      {
        "duration": 491,
        "start_time": "2021-07-03T14:13:15.572Z"
      },
      {
        "duration": 531,
        "start_time": "2021-07-03T14:13:25.967Z"
      },
      {
        "duration": 524,
        "start_time": "2021-07-03T14:14:11.662Z"
      },
      {
        "duration": 536,
        "start_time": "2021-07-03T14:15:08.098Z"
      },
      {
        "duration": 514,
        "start_time": "2021-07-03T14:21:52.101Z"
      },
      {
        "duration": 10,
        "start_time": "2021-07-03T14:21:54.090Z"
      },
      {
        "duration": 12,
        "start_time": "2021-07-03T14:21:56.497Z"
      },
      {
        "duration": 10,
        "start_time": "2021-07-03T14:22:09.339Z"
      },
      {
        "duration": 11,
        "start_time": "2021-07-03T14:22:16.734Z"
      },
      {
        "duration": 15,
        "start_time": "2021-07-03T14:22:19.920Z"
      },
      {
        "duration": 465,
        "start_time": "2021-07-03T14:30:52.404Z"
      },
      {
        "duration": 403,
        "start_time": "2021-07-03T14:35:42.286Z"
      },
      {
        "duration": 355,
        "start_time": "2021-07-03T14:35:57.553Z"
      },
      {
        "duration": 1390,
        "start_time": "2021-07-03T14:36:06.845Z"
      },
      {
        "duration": 533,
        "start_time": "2021-07-03T14:36:09.313Z"
      },
      {
        "duration": 15,
        "start_time": "2021-07-03T14:36:11.779Z"
      },
      {
        "duration": 11,
        "start_time": "2021-07-03T14:36:12.066Z"
      },
      {
        "duration": 13,
        "start_time": "2021-07-03T14:36:12.239Z"
      },
      {
        "duration": 13,
        "start_time": "2021-07-03T14:36:12.539Z"
      },
      {
        "duration": 16,
        "start_time": "2021-07-03T14:36:13.019Z"
      },
      {
        "duration": 471,
        "start_time": "2021-07-03T14:36:13.584Z"
      },
      {
        "duration": 344,
        "start_time": "2021-07-03T14:37:14.860Z"
      },
      {
        "duration": 364,
        "start_time": "2021-07-03T14:37:29.879Z"
      },
      {
        "duration": 450,
        "start_time": "2021-07-03T14:55:02.427Z"
      },
      {
        "duration": 46,
        "start_time": "2021-07-03T14:56:57.309Z"
      },
      {
        "duration": 70,
        "start_time": "2021-07-03T14:57:12.050Z"
      },
      {
        "duration": 385,
        "start_time": "2021-07-03T14:57:49.072Z"
      },
      {
        "duration": 846,
        "start_time": "2021-07-03T15:01:33.274Z"
      },
      {
        "duration": 799,
        "start_time": "2021-07-03T15:01:57.145Z"
      },
      {
        "duration": 65,
        "start_time": "2021-07-03T15:02:07.526Z"
      },
      {
        "duration": 112,
        "start_time": "2021-07-03T15:02:19.915Z"
      },
      {
        "duration": 62,
        "start_time": "2021-07-03T15:02:28.778Z"
      },
      {
        "duration": 332,
        "start_time": "2021-07-03T15:02:52.483Z"
      },
      {
        "duration": 363,
        "start_time": "2021-07-03T15:04:26.256Z"
      },
      {
        "duration": 369,
        "start_time": "2021-07-03T15:04:33.530Z"
      },
      {
        "duration": 398,
        "start_time": "2021-07-03T15:04:38.320Z"
      },
      {
        "duration": 73,
        "start_time": "2021-07-03T15:04:51.152Z"
      },
      {
        "duration": 58,
        "start_time": "2021-07-03T15:05:08.207Z"
      },
      {
        "duration": 40,
        "start_time": "2021-07-03T15:05:23.818Z"
      },
      {
        "duration": 54,
        "start_time": "2021-07-03T15:05:36.568Z"
      },
      {
        "duration": 73,
        "start_time": "2021-07-03T15:05:58.255Z"
      },
      {
        "duration": 398,
        "start_time": "2021-07-03T15:06:51.765Z"
      },
      {
        "duration": 71,
        "start_time": "2021-07-03T15:07:06.762Z"
      },
      {
        "duration": 61,
        "start_time": "2021-07-03T15:07:25.251Z"
      },
      {
        "duration": 360,
        "start_time": "2021-07-03T15:08:24.103Z"
      },
      {
        "duration": 34,
        "start_time": "2021-07-03T15:08:56.221Z"
      },
      {
        "duration": 404,
        "start_time": "2021-07-03T15:09:09.216Z"
      },
      {
        "duration": 82,
        "start_time": "2021-07-03T15:09:16.296Z"
      },
      {
        "duration": 29,
        "start_time": "2021-07-03T15:22:21.281Z"
      },
      {
        "duration": 28,
        "start_time": "2021-07-03T15:24:07.093Z"
      },
      {
        "duration": 29,
        "start_time": "2021-07-03T15:25:35.064Z"
      },
      {
        "duration": 32,
        "start_time": "2021-07-03T15:31:08.181Z"
      },
      {
        "duration": 24,
        "start_time": "2021-07-03T15:31:08.889Z"
      },
      {
        "duration": 20,
        "start_time": "2021-07-03T15:31:09.368Z"
      },
      {
        "duration": 10,
        "start_time": "2021-07-03T15:31:09.843Z"
      },
      {
        "duration": 11,
        "start_time": "2021-07-03T15:31:11.532Z"
      },
      {
        "duration": 22,
        "start_time": "2021-07-03T15:32:30.484Z"
      },
      {
        "duration": 20,
        "start_time": "2021-07-03T15:34:40.804Z"
      },
      {
        "duration": 11,
        "start_time": "2021-07-03T15:35:25.276Z"
      },
      {
        "duration": 510,
        "start_time": "2021-07-03T15:36:15.819Z"
      },
      {
        "duration": 15,
        "start_time": "2021-07-03T15:36:36.842Z"
      },
      {
        "duration": 556,
        "start_time": "2021-07-03T15:37:32.136Z"
      },
      {
        "duration": 7,
        "start_time": "2021-07-03T15:37:42.762Z"
      },
      {
        "duration": 10,
        "start_time": "2021-07-03T15:38:03.804Z"
      },
      {
        "duration": 10,
        "start_time": "2021-07-03T15:38:09.608Z"
      },
      {
        "duration": 15,
        "start_time": "2021-07-03T15:38:19.064Z"
      },
      {
        "duration": 14,
        "start_time": "2021-07-03T15:38:27.151Z"
      },
      {
        "duration": 17,
        "start_time": "2021-07-03T15:38:32.486Z"
      },
      {
        "duration": 15,
        "start_time": "2021-07-03T15:38:53.264Z"
      },
      {
        "duration": 1407,
        "start_time": "2021-07-04T09:41:21.063Z"
      },
      {
        "duration": 518,
        "start_time": "2021-07-04T09:41:22.473Z"
      },
      {
        "duration": 110,
        "start_time": "2021-07-04T09:41:22.994Z"
      },
      {
        "duration": 15,
        "start_time": "2021-07-04T09:42:11.938Z"
      },
      {
        "duration": 10,
        "start_time": "2021-07-04T09:42:12.954Z"
      },
      {
        "duration": 23,
        "start_time": "2021-07-04T09:42:14.969Z"
      },
      {
        "duration": 10,
        "start_time": "2021-07-04T09:42:18.681Z"
      },
      {
        "duration": 23,
        "start_time": "2021-07-04T09:42:19.670Z"
      },
      {
        "duration": 23,
        "start_time": "2021-07-04T09:58:14.382Z"
      },
      {
        "duration": 8,
        "start_time": "2021-07-04T09:58:16.033Z"
      },
      {
        "duration": 8,
        "start_time": "2021-07-04T10:00:16.486Z"
      },
      {
        "duration": 19,
        "start_time": "2021-07-04T10:00:19.060Z"
      },
      {
        "duration": 17,
        "start_time": "2021-07-04T10:00:27.054Z"
      },
      {
        "duration": 12,
        "start_time": "2021-07-04T10:01:47.328Z"
      },
      {
        "duration": 28,
        "start_time": "2021-07-04T10:03:09.733Z"
      },
      {
        "duration": 41,
        "start_time": "2021-07-04T10:03:11.213Z"
      },
      {
        "duration": 31,
        "start_time": "2021-07-04T10:04:21.685Z"
      },
      {
        "duration": 12,
        "start_time": "2021-07-04T10:04:23.949Z"
      },
      {
        "duration": 31,
        "start_time": "2021-07-04T10:10:17.918Z"
      },
      {
        "duration": 17,
        "start_time": "2021-07-04T10:10:22.206Z"
      },
      {
        "duration": 10,
        "start_time": "2021-07-04T10:10:55.912Z"
      },
      {
        "duration": 11,
        "start_time": "2021-07-04T10:12:40.656Z"
      },
      {
        "duration": 10,
        "start_time": "2021-07-04T10:13:28.307Z"
      },
      {
        "duration": 8303,
        "start_time": "2021-07-04T10:14:37.233Z"
      },
      {
        "duration": 44,
        "start_time": "2021-07-04T10:14:52.153Z"
      },
      {
        "duration": 28,
        "start_time": "2021-07-04T10:14:54.802Z"
      },
      {
        "duration": 11,
        "start_time": "2021-07-04T10:15:25.664Z"
      },
      {
        "duration": 4,
        "start_time": "2021-07-04T10:16:05.379Z"
      },
      {
        "duration": 577,
        "start_time": "2021-07-04T10:16:05.937Z"
      },
      {
        "duration": 109,
        "start_time": "2021-07-04T10:16:07.148Z"
      },
      {
        "duration": 15,
        "start_time": "2021-07-04T10:16:08.781Z"
      },
      {
        "duration": 10,
        "start_time": "2021-07-04T10:16:09.047Z"
      },
      {
        "duration": 21,
        "start_time": "2021-07-04T10:16:09.316Z"
      },
      {
        "duration": 9,
        "start_time": "2021-07-04T10:16:10.617Z"
      },
      {
        "duration": 12,
        "start_time": "2021-07-04T10:16:11.279Z"
      },
      {
        "duration": 24,
        "start_time": "2021-07-04T10:16:11.898Z"
      },
      {
        "duration": 39,
        "start_time": "2021-07-04T10:16:12.228Z"
      },
      {
        "duration": 30,
        "start_time": "2021-07-04T10:16:13.646Z"
      },
      {
        "duration": 11,
        "start_time": "2021-07-04T10:16:21.061Z"
      },
      {
        "duration": 19,
        "start_time": "2021-07-04T10:16:22.196Z"
      },
      {
        "duration": 24,
        "start_time": "2021-07-04T10:16:25.324Z"
      },
      {
        "duration": 18,
        "start_time": "2021-07-04T10:16:25.898Z"
      },
      {
        "duration": 9,
        "start_time": "2021-07-04T10:16:54.860Z"
      },
      {
        "duration": 13,
        "start_time": "2021-07-04T10:17:08.827Z"
      },
      {
        "duration": 24,
        "start_time": "2021-07-04T10:17:10.660Z"
      },
      {
        "duration": 46,
        "start_time": "2021-07-04T10:17:50.432Z"
      },
      {
        "duration": 15,
        "start_time": "2021-07-04T10:18:04.670Z"
      },
      {
        "duration": 8,
        "start_time": "2021-07-04T10:18:46.573Z"
      },
      {
        "duration": 11,
        "start_time": "2021-07-04T10:19:57.217Z"
      },
      {
        "duration": 38,
        "start_time": "2021-07-04T10:20:30.177Z"
      },
      {
        "duration": 28,
        "start_time": "2021-07-04T10:20:35.710Z"
      },
      {
        "duration": 39,
        "start_time": "2021-07-04T10:23:09.292Z"
      },
      {
        "duration": 12,
        "start_time": "2021-07-04T10:28:53.908Z"
      },
      {
        "duration": 5,
        "start_time": "2021-07-04T10:34:51.874Z"
      },
      {
        "duration": 535,
        "start_time": "2021-07-04T10:34:52.868Z"
      },
      {
        "duration": 100,
        "start_time": "2021-07-04T10:34:53.405Z"
      },
      {
        "duration": 15,
        "start_time": "2021-07-04T10:34:54.226Z"
      },
      {
        "duration": 10,
        "start_time": "2021-07-04T10:34:54.391Z"
      },
      {
        "duration": 23,
        "start_time": "2021-07-04T10:34:54.555Z"
      },
      {
        "duration": 9,
        "start_time": "2021-07-04T10:34:55.025Z"
      },
      {
        "duration": 11,
        "start_time": "2021-07-04T10:34:55.340Z"
      },
      {
        "duration": 23,
        "start_time": "2021-07-04T10:34:55.482Z"
      },
      {
        "duration": 39,
        "start_time": "2021-07-04T10:34:55.630Z"
      },
      {
        "duration": 29,
        "start_time": "2021-07-04T10:34:55.954Z"
      },
      {
        "duration": 10,
        "start_time": "2021-07-04T10:34:56.252Z"
      },
      {
        "duration": 20,
        "start_time": "2021-07-04T10:34:56.394Z"
      },
      {
        "duration": 26,
        "start_time": "2021-07-04T10:34:56.715Z"
      },
      {
        "duration": 19,
        "start_time": "2021-07-04T10:34:56.883Z"
      },
      {
        "duration": 11,
        "start_time": "2021-07-04T10:34:57.580Z"
      },
      {
        "duration": 31,
        "start_time": "2021-07-04T10:34:57.737Z"
      },
      {
        "duration": 35,
        "start_time": "2021-07-04T10:34:58.273Z"
      },
      {
        "duration": 38,
        "start_time": "2021-07-04T10:34:58.600Z"
      },
      {
        "duration": 110,
        "start_time": "2021-07-04T10:34:59.840Z"
      },
      {
        "duration": 644,
        "start_time": "2021-07-04T10:35:45.132Z"
      },
      {
        "duration": 115,
        "start_time": "2021-07-04T10:35:53.956Z"
      },
      {
        "duration": 99,
        "start_time": "2021-07-04T10:36:31.025Z"
      },
      {
        "duration": 787,
        "start_time": "2021-07-04T10:36:36.506Z"
      },
      {
        "duration": 360,
        "start_time": "2021-07-04T10:37:06.233Z"
      },
      {
        "duration": 362,
        "start_time": "2021-07-04T10:39:44.143Z"
      },
      {
        "duration": 340,
        "start_time": "2021-07-04T10:40:06.873Z"
      },
      {
        "duration": 323,
        "start_time": "2021-07-04T10:41:31.490Z"
      },
      {
        "duration": 349,
        "start_time": "2021-07-04T10:41:38.559Z"
      },
      {
        "duration": 6,
        "start_time": "2021-07-04T10:42:29.784Z"
      },
      {
        "duration": 12,
        "start_time": "2021-07-04T10:42:42.529Z"
      },
      {
        "duration": 12,
        "start_time": "2021-07-04T10:44:30.128Z"
      },
      {
        "duration": 318,
        "start_time": "2021-07-04T10:56:15.040Z"
      },
      {
        "duration": 90,
        "start_time": "2021-07-04T10:56:22.717Z"
      },
      {
        "duration": 107,
        "start_time": "2021-07-04T10:56:26.765Z"
      },
      {
        "duration": 16,
        "start_time": "2021-07-04T10:56:28.566Z"
      },
      {
        "duration": 45,
        "start_time": "2021-07-04T10:57:23.273Z"
      },
      {
        "duration": 19,
        "start_time": "2021-07-04T10:58:07.628Z"
      },
      {
        "duration": 22,
        "start_time": "2021-07-04T11:02:38.089Z"
      },
      {
        "duration": 28,
        "start_time": "2021-07-04T11:03:02.437Z"
      },
      {
        "duration": 28,
        "start_time": "2021-07-04T11:03:19.287Z"
      },
      {
        "duration": 123,
        "start_time": "2021-07-04T11:03:45.409Z"
      },
      {
        "duration": 824,
        "start_time": "2021-07-04T11:03:55.508Z"
      },
      {
        "duration": 27,
        "start_time": "2021-07-04T11:04:36.189Z"
      },
      {
        "duration": 36,
        "start_time": "2021-07-04T11:05:09.062Z"
      },
      {
        "duration": 37,
        "start_time": "2021-07-04T11:05:43.166Z"
      },
      {
        "duration": 36,
        "start_time": "2021-07-04T11:05:55.200Z"
      },
      {
        "duration": 36,
        "start_time": "2021-07-04T11:06:13.277Z"
      },
      {
        "duration": 33,
        "start_time": "2021-07-04T11:06:28.305Z"
      },
      {
        "duration": 115,
        "start_time": "2021-07-04T11:08:04.228Z"
      },
      {
        "duration": 90,
        "start_time": "2021-07-04T11:08:10.429Z"
      },
      {
        "duration": 87,
        "start_time": "2021-07-04T11:08:22.041Z"
      },
      {
        "duration": 83,
        "start_time": "2021-07-04T11:08:32.284Z"
      },
      {
        "duration": 92,
        "start_time": "2021-07-04T11:08:37.293Z"
      },
      {
        "duration": 15,
        "start_time": "2021-07-04T12:16:12.158Z"
      },
      {
        "duration": 8719,
        "start_time": "2021-07-04T12:16:22.838Z"
      },
      {
        "duration": 58,
        "start_time": "2021-07-04T12:16:31.958Z"
      },
      {
        "duration": 62,
        "start_time": "2021-07-04T12:16:34.858Z"
      },
      {
        "duration": 27,
        "start_time": "2021-07-04T12:26:38.416Z"
      },
      {
        "duration": 390,
        "start_time": "2021-07-04T12:27:01.383Z"
      },
      {
        "duration": 430,
        "start_time": "2021-07-04T12:27:10.201Z"
      },
      {
        "duration": 385,
        "start_time": "2021-07-04T12:27:21.883Z"
      },
      {
        "duration": 56,
        "start_time": "2021-07-04T12:27:28.242Z"
      },
      {
        "duration": 719,
        "start_time": "2021-07-04T12:27:39.947Z"
      },
      {
        "duration": 59,
        "start_time": "2021-07-04T12:27:48.556Z"
      },
      {
        "duration": 17,
        "start_time": "2021-07-04T12:30:32.475Z"
      },
      {
        "duration": 67,
        "start_time": "2021-07-04T12:31:10.494Z"
      },
      {
        "duration": 30,
        "start_time": "2021-07-04T12:38:32.878Z"
      },
      {
        "duration": 353,
        "start_time": "2021-07-04T12:38:36.223Z"
      },
      {
        "duration": 16,
        "start_time": "2021-07-04T12:39:21.910Z"
      },
      {
        "duration": 59,
        "start_time": "2021-07-04T12:39:22.191Z"
      },
      {
        "duration": 56,
        "start_time": "2021-07-04T12:39:22.725Z"
      },
      {
        "duration": 17,
        "start_time": "2021-07-04T12:39:24.296Z"
      },
      {
        "duration": 5,
        "start_time": "2021-07-04T12:39:31.628Z"
      },
      {
        "duration": 542,
        "start_time": "2021-07-04T12:39:32.133Z"
      },
      {
        "duration": 108,
        "start_time": "2021-07-04T12:39:32.678Z"
      },
      {
        "duration": 14,
        "start_time": "2021-07-04T12:39:33.167Z"
      },
      {
        "duration": 9,
        "start_time": "2021-07-04T12:39:33.333Z"
      },
      {
        "duration": 22,
        "start_time": "2021-07-04T12:39:33.505Z"
      },
      {
        "duration": 10,
        "start_time": "2021-07-04T12:39:34.020Z"
      },
      {
        "duration": 11,
        "start_time": "2021-07-04T12:39:34.353Z"
      },
      {
        "duration": 24,
        "start_time": "2021-07-04T12:39:34.533Z"
      },
      {
        "duration": 39,
        "start_time": "2021-07-04T12:39:34.712Z"
      },
      {
        "duration": 31,
        "start_time": "2021-07-04T12:39:35.043Z"
      },
      {
        "duration": 11,
        "start_time": "2021-07-04T12:39:35.388Z"
      },
      {
        "duration": 19,
        "start_time": "2021-07-04T12:39:35.537Z"
      },
      {
        "duration": 26,
        "start_time": "2021-07-04T12:39:35.883Z"
      },
      {
        "duration": 19,
        "start_time": "2021-07-04T12:39:36.063Z"
      },
      {
        "duration": 11,
        "start_time": "2021-07-04T12:39:38.431Z"
      },
      {
        "duration": 29,
        "start_time": "2021-07-04T12:39:38.836Z"
      },
      {
        "duration": 36,
        "start_time": "2021-07-04T12:39:39.734Z"
      },
      {
        "duration": 37,
        "start_time": "2021-07-04T12:39:40.549Z"
      },
      {
        "duration": 5,
        "start_time": "2021-07-04T12:39:41.404Z"
      },
      {
        "duration": 12,
        "start_time": "2021-07-04T12:39:42.128Z"
      },
      {
        "duration": 13,
        "start_time": "2021-07-04T12:39:42.942Z"
      },
      {
        "duration": 24,
        "start_time": "2021-07-04T12:39:45.506Z"
      },
      {
        "duration": 90,
        "start_time": "2021-07-04T12:39:46.126Z"
      },
      {
        "duration": 93,
        "start_time": "2021-07-04T12:39:46.284Z"
      },
      {
        "duration": 16,
        "start_time": "2021-07-04T12:39:49.411Z"
      },
      {
        "duration": 59,
        "start_time": "2021-07-04T12:39:49.810Z"
      },
      {
        "duration": 61,
        "start_time": "2021-07-04T12:39:50.211Z"
      },
      {
        "duration": 19,
        "start_time": "2021-07-04T12:39:50.885Z"
      },
      {
        "duration": 68,
        "start_time": "2021-07-04T12:39:51.049Z"
      },
      {
        "duration": 332,
        "start_time": "2021-07-04T12:39:57.824Z"
      },
      {
        "duration": 73,
        "start_time": "2021-07-04T12:40:20.591Z"
      },
      {
        "duration": 73,
        "start_time": "2021-07-04T12:40:40.334Z"
      },
      {
        "duration": 667,
        "start_time": "2021-07-04T15:20:36.301Z"
      },
      {
        "duration": 59,
        "start_time": "2021-07-04T15:47:22.099Z"
      },
      {
        "duration": 72,
        "start_time": "2021-07-04T15:47:42.476Z"
      },
      {
        "duration": 76,
        "start_time": "2021-07-04T15:47:59.682Z"
      },
      {
        "duration": 54,
        "start_time": "2021-07-04T16:03:02.562Z"
      },
      {
        "duration": 11,
        "start_time": "2021-07-04T16:16:34.768Z"
      },
      {
        "duration": 22,
        "start_time": "2021-07-04T16:16:38.670Z"
      },
      {
        "duration": 12,
        "start_time": "2021-07-04T16:18:25.365Z"
      },
      {
        "duration": 18,
        "start_time": "2021-07-04T16:18:36.808Z"
      },
      {
        "duration": 27,
        "start_time": "2021-07-04T16:18:58.703Z"
      },
      {
        "duration": 72,
        "start_time": "2021-07-04T16:19:30.031Z"
      },
      {
        "duration": 30,
        "start_time": "2021-07-04T16:19:40.649Z"
      },
      {
        "duration": 22,
        "start_time": "2021-07-04T16:22:12.922Z"
      },
      {
        "duration": 21,
        "start_time": "2021-07-04T16:22:28.258Z"
      },
      {
        "duration": 29,
        "start_time": "2021-07-04T16:22:31.014Z"
      },
      {
        "duration": 35,
        "start_time": "2021-07-04T16:22:36.842Z"
      },
      {
        "duration": 29,
        "start_time": "2021-07-04T16:22:50.301Z"
      },
      {
        "duration": 29,
        "start_time": "2021-07-04T16:23:02.974Z"
      },
      {
        "duration": 17,
        "start_time": "2021-07-04T16:36:00.792Z"
      },
      {
        "duration": 4,
        "start_time": "2021-07-04T16:37:51.989Z"
      },
      {
        "duration": 787,
        "start_time": "2021-07-04T16:37:52.389Z"
      },
      {
        "duration": 140,
        "start_time": "2021-07-04T16:37:53.179Z"
      },
      {
        "duration": 21,
        "start_time": "2021-07-04T16:37:53.479Z"
      },
      {
        "duration": 13,
        "start_time": "2021-07-04T16:37:53.705Z"
      },
      {
        "duration": 29,
        "start_time": "2021-07-04T16:37:53.879Z"
      },
      {
        "duration": 13,
        "start_time": "2021-07-04T16:37:54.521Z"
      },
      {
        "duration": 16,
        "start_time": "2021-07-04T16:37:54.907Z"
      },
      {
        "duration": 35,
        "start_time": "2021-07-04T16:37:55.112Z"
      },
      {
        "duration": 53,
        "start_time": "2021-07-04T16:37:55.331Z"
      },
      {
        "duration": 47,
        "start_time": "2021-07-04T16:37:55.739Z"
      },
      {
        "duration": 11,
        "start_time": "2021-07-04T16:37:56.147Z"
      },
      {
        "duration": 29,
        "start_time": "2021-07-04T16:37:56.352Z"
      },
      {
        "duration": 46,
        "start_time": "2021-07-04T16:37:56.747Z"
      },
      {
        "duration": 26,
        "start_time": "2021-07-04T16:37:56.966Z"
      },
      {
        "duration": 13,
        "start_time": "2021-07-04T16:37:57.570Z"
      },
      {
        "duration": 39,
        "start_time": "2021-07-04T16:37:57.766Z"
      },
      {
        "duration": 54,
        "start_time": "2021-07-04T16:37:57.970Z"
      },
      {
        "duration": 62,
        "start_time": "2021-07-04T16:37:58.395Z"
      },
      {
        "duration": 9,
        "start_time": "2021-07-04T16:37:58.826Z"
      },
      {
        "duration": 17,
        "start_time": "2021-07-04T16:37:59.242Z"
      },
      {
        "duration": 16,
        "start_time": "2021-07-04T16:37:59.469Z"
      },
      {
        "duration": 24,
        "start_time": "2021-07-04T16:38:01.748Z"
      },
      {
        "duration": 91,
        "start_time": "2021-07-04T16:38:03.434Z"
      },
      {
        "duration": 91,
        "start_time": "2021-07-04T16:38:03.891Z"
      },
      {
        "duration": 15,
        "start_time": "2021-07-04T16:38:33.460Z"
      },
      {
        "duration": 59,
        "start_time": "2021-07-04T16:38:36.760Z"
      },
      {
        "duration": 61,
        "start_time": "2021-07-04T16:38:39.964Z"
      },
      {
        "duration": 23,
        "start_time": "2021-07-04T16:38:43.707Z"
      },
      {
        "duration": 100,
        "start_time": "2021-07-04T16:38:45.574Z"
      },
      {
        "duration": 64,
        "start_time": "2021-07-04T16:38:46.226Z"
      },
      {
        "duration": 24,
        "start_time": "2021-07-04T16:38:50.501Z"
      },
      {
        "duration": 351,
        "start_time": "2021-07-04T17:09:59.712Z"
      },
      {
        "duration": 356,
        "start_time": "2021-07-04T17:10:47.201Z"
      },
      {
        "duration": 364,
        "start_time": "2021-07-04T17:12:41.028Z"
      },
      {
        "duration": 326,
        "start_time": "2021-07-04T17:13:23.612Z"
      },
      {
        "duration": 1798,
        "start_time": "2021-07-04T17:13:34.104Z"
      },
      {
        "duration": 1327,
        "start_time": "2021-07-04T17:13:35.906Z"
      },
      {
        "duration": 141,
        "start_time": "2021-07-04T17:13:37.238Z"
      },
      {
        "duration": 20,
        "start_time": "2021-07-04T17:13:37.382Z"
      },
      {
        "duration": 10,
        "start_time": "2021-07-04T17:13:37.405Z"
      },
      {
        "duration": 59,
        "start_time": "2021-07-04T17:13:37.417Z"
      },
      {
        "duration": 9,
        "start_time": "2021-07-04T17:13:37.478Z"
      },
      {
        "duration": 20,
        "start_time": "2021-07-04T17:13:37.491Z"
      },
      {
        "duration": 61,
        "start_time": "2021-07-04T17:13:37.514Z"
      },
      {
        "duration": 59,
        "start_time": "2021-07-04T17:13:37.579Z"
      },
      {
        "duration": 44,
        "start_time": "2021-07-04T17:13:37.663Z"
      },
      {
        "duration": 13,
        "start_time": "2021-07-04T17:13:37.710Z"
      },
      {
        "duration": 21,
        "start_time": "2021-07-04T17:13:37.817Z"
      },
      {
        "duration": 28,
        "start_time": "2021-07-04T17:13:38.189Z"
      },
      {
        "duration": 20,
        "start_time": "2021-07-04T17:13:38.368Z"
      },
      {
        "duration": 16,
        "start_time": "2021-07-04T17:13:38.913Z"
      },
      {
        "duration": 28,
        "start_time": "2021-07-04T17:13:39.101Z"
      },
      {
        "duration": 53,
        "start_time": "2021-07-04T17:13:39.269Z"
      },
      {
        "duration": 62,
        "start_time": "2021-07-04T17:13:39.635Z"
      },
      {
        "duration": 7,
        "start_time": "2021-07-04T17:13:40.027Z"
      },
      {
        "duration": 17,
        "start_time": "2021-07-04T17:13:40.455Z"
      },
      {
        "duration": 12,
        "start_time": "2021-07-04T17:13:40.632Z"
      },
      {
        "duration": 28,
        "start_time": "2021-07-04T17:13:44.788Z"
      },
      {
        "duration": 91,
        "start_time": "2021-07-04T17:13:45.273Z"
      },
      {
        "duration": 93,
        "start_time": "2021-07-04T17:13:45.446Z"
      },
      {
        "duration": 23,
        "start_time": "2021-07-04T17:13:45.809Z"
      },
      {
        "duration": 88,
        "start_time": "2021-07-04T17:13:46.579Z"
      },
      {
        "duration": 92,
        "start_time": "2021-07-04T17:13:47.207Z"
      },
      {
        "duration": 24,
        "start_time": "2021-07-04T17:13:48.216Z"
      },
      {
        "duration": 104,
        "start_time": "2021-07-04T17:13:48.619Z"
      },
      {
        "duration": 91,
        "start_time": "2021-07-04T17:13:49.049Z"
      },
      {
        "duration": 40,
        "start_time": "2021-07-04T17:13:50.021Z"
      },
      {
        "duration": 17,
        "start_time": "2021-07-04T17:13:51.795Z"
      },
      {
        "duration": 14,
        "start_time": "2021-07-04T17:13:52.407Z"
      },
      {
        "duration": 18,
        "start_time": "2021-07-04T17:14:33.731Z"
      },
      {
        "duration": 13,
        "start_time": "2021-07-04T17:14:43.362Z"
      },
      {
        "duration": 11,
        "start_time": "2021-07-04T17:15:04.531Z"
      },
      {
        "duration": 26,
        "start_time": "2021-07-04T17:15:38.388Z"
      },
      {
        "duration": 16,
        "start_time": "2021-07-04T17:15:39.273Z"
      },
      {
        "duration": 14,
        "start_time": "2021-07-04T17:15:45.805Z"
      },
      {
        "duration": 422,
        "start_time": "2021-07-04T17:16:39.050Z"
      },
      {
        "duration": 26,
        "start_time": "2021-07-04T17:21:58.593Z"
      },
      {
        "duration": 18,
        "start_time": "2021-07-04T17:23:01.161Z"
      },
      {
        "duration": 17,
        "start_time": "2021-07-04T17:23:06.075Z"
      },
      {
        "duration": 401,
        "start_time": "2021-07-04T17:29:07.363Z"
      },
      {
        "duration": 317,
        "start_time": "2021-07-04T17:29:10.847Z"
      },
      {
        "duration": 18,
        "start_time": "2021-07-04T17:29:14.497Z"
      },
      {
        "duration": 342,
        "start_time": "2021-07-04T17:29:15.353Z"
      },
      {
        "duration": 17,
        "start_time": "2021-07-04T17:29:20.538Z"
      },
      {
        "duration": 18,
        "start_time": "2021-07-04T17:29:21.104Z"
      },
      {
        "duration": 318,
        "start_time": "2021-07-04T17:29:21.984Z"
      },
      {
        "duration": 17,
        "start_time": "2021-07-04T17:29:56.446Z"
      },
      {
        "duration": 14,
        "start_time": "2021-07-04T17:30:05.697Z"
      },
      {
        "duration": 16,
        "start_time": "2021-07-04T17:30:07.003Z"
      },
      {
        "duration": 5,
        "start_time": "2021-07-04T17:31:57.895Z"
      },
      {
        "duration": 827,
        "start_time": "2021-07-04T17:31:58.060Z"
      },
      {
        "duration": 97,
        "start_time": "2021-07-04T17:31:58.891Z"
      },
      {
        "duration": 16,
        "start_time": "2021-07-04T17:31:58.990Z"
      },
      {
        "duration": 13,
        "start_time": "2021-07-04T17:31:59.150Z"
      },
      {
        "duration": 21,
        "start_time": "2021-07-04T17:31:59.337Z"
      },
      {
        "duration": 9,
        "start_time": "2021-07-04T17:31:59.888Z"
      },
      {
        "duration": 11,
        "start_time": "2021-07-04T17:32:00.258Z"
      },
      {
        "duration": 33,
        "start_time": "2021-07-04T17:32:00.434Z"
      },
      {
        "duration": 40,
        "start_time": "2021-07-04T17:32:00.586Z"
      },
      {
        "duration": 30,
        "start_time": "2021-07-04T17:32:00.945Z"
      },
      {
        "duration": 10,
        "start_time": "2021-07-04T17:32:01.325Z"
      },
      {
        "duration": 30,
        "start_time": "2021-07-04T17:32:01.504Z"
      },
      {
        "duration": 26,
        "start_time": "2021-07-04T17:32:01.864Z"
      },
      {
        "duration": 20,
        "start_time": "2021-07-04T17:32:02.044Z"
      },
      {
        "duration": 12,
        "start_time": "2021-07-04T17:32:02.609Z"
      },
      {
        "duration": 30,
        "start_time": "2021-07-04T17:32:02.805Z"
      },
      {
        "duration": 36,
        "start_time": "2021-07-04T17:32:03.000Z"
      },
      {
        "duration": 39,
        "start_time": "2021-07-04T17:32:03.352Z"
      },
      {
        "duration": 7,
        "start_time": "2021-07-04T17:32:03.706Z"
      },
      {
        "duration": 12,
        "start_time": "2021-07-04T17:32:04.066Z"
      },
      {
        "duration": 10,
        "start_time": "2021-07-04T17:32:04.248Z"
      },
      {
        "duration": 22,
        "start_time": "2021-07-04T17:32:09.147Z"
      },
      {
        "duration": 92,
        "start_time": "2021-07-04T17:32:10.880Z"
      },
      {
        "duration": 97,
        "start_time": "2021-07-04T17:32:11.020Z"
      },
      {
        "duration": 16,
        "start_time": "2021-07-04T17:32:12.278Z"
      },
      {
        "duration": 60,
        "start_time": "2021-07-04T17:32:13.776Z"
      },
      {
        "duration": 64,
        "start_time": "2021-07-04T17:32:16.530Z"
      },
      {
        "duration": 16,
        "start_time": "2021-07-04T17:32:21.842Z"
      },
      {
        "duration": 68,
        "start_time": "2021-07-04T17:32:23.775Z"
      },
      {
        "duration": 36,
        "start_time": "2021-07-04T17:32:26.663Z"
      },
      {
        "duration": 53,
        "start_time": "2021-07-04T17:32:45.603Z"
      },
      {
        "duration": 14,
        "start_time": "2021-07-04T17:33:09.718Z"
      },
      {
        "duration": 18,
        "start_time": "2021-07-04T17:33:10.109Z"
      },
      {
        "duration": 18,
        "start_time": "2021-07-04T17:33:10.533Z"
      },
      {
        "duration": 14,
        "start_time": "2021-07-04T17:33:11.427Z"
      },
      {
        "duration": 22,
        "start_time": "2021-07-04T17:33:12.228Z"
      },
      {
        "duration": 5,
        "start_time": "2021-07-04T17:43:00.526Z"
      },
      {
        "duration": 26,
        "start_time": "2021-07-04T17:43:02.386Z"
      },
      {
        "duration": 34,
        "start_time": "2021-07-04T17:44:51.654Z"
      },
      {
        "duration": 298,
        "start_time": "2021-07-04T17:45:34.541Z"
      },
      {
        "duration": 14,
        "start_time": "2021-07-04T17:45:44.096Z"
      },
      {
        "duration": 334,
        "start_time": "2021-07-04T17:45:46.583Z"
      },
      {
        "duration": 17,
        "start_time": "2021-07-04T17:45:54.717Z"
      },
      {
        "duration": 19,
        "start_time": "2021-07-04T17:45:56.902Z"
      },
      {
        "duration": 20,
        "start_time": "2021-07-04T17:45:57.851Z"
      },
      {
        "duration": 7,
        "start_time": "2021-07-04T17:45:58.487Z"
      },
      {
        "duration": 25,
        "start_time": "2021-07-04T17:46:02.680Z"
      },
      {
        "duration": 30,
        "start_time": "2021-07-04T17:48:18.884Z"
      },
      {
        "duration": 22,
        "start_time": "2021-07-04T17:48:32.888Z"
      },
      {
        "duration": 15,
        "start_time": "2021-07-04T17:57:14.778Z"
      },
      {
        "duration": 16,
        "start_time": "2021-07-04T17:57:15.809Z"
      },
      {
        "duration": 298,
        "start_time": "2021-07-04T17:57:26.962Z"
      },
      {
        "duration": 11,
        "start_time": "2021-07-04T17:58:03.570Z"
      },
      {
        "duration": 19,
        "start_time": "2021-07-04T17:58:04.914Z"
      },
      {
        "duration": 9244,
        "start_time": "2021-07-04T17:59:11.717Z"
      },
      {
        "duration": 7284,
        "start_time": "2021-07-04T17:59:35.142Z"
      },
      {
        "duration": 18,
        "start_time": "2021-07-04T17:59:59.246Z"
      },
      {
        "duration": 25,
        "start_time": "2021-07-04T18:00:00.496Z"
      },
      {
        "duration": 16,
        "start_time": "2021-07-04T18:00:33.770Z"
      },
      {
        "duration": 5,
        "start_time": "2021-07-04T18:00:34.262Z"
      },
      {
        "duration": 16,
        "start_time": "2021-07-04T18:00:34.985Z"
      },
      {
        "duration": 15,
        "start_time": "2021-07-04T18:00:40.486Z"
      },
      {
        "duration": 17,
        "start_time": "2021-07-04T18:00:41.535Z"
      },
      {
        "duration": 21,
        "start_time": "2021-07-04T18:00:42.322Z"
      },
      {
        "duration": 12,
        "start_time": "2021-07-04T18:00:42.919Z"
      },
      {
        "duration": 5,
        "start_time": "2021-07-04T18:00:43.784Z"
      },
      {
        "duration": 16,
        "start_time": "2021-07-04T18:00:45.140Z"
      },
      {
        "duration": 4,
        "start_time": "2021-07-04T18:06:37.260Z"
      },
      {
        "duration": 26,
        "start_time": "2021-07-04T18:06:39.291Z"
      },
      {
        "duration": 1345,
        "start_time": "2021-07-05T06:16:40.988Z"
      },
      {
        "duration": 539,
        "start_time": "2021-07-05T06:16:43.001Z"
      },
      {
        "duration": 107,
        "start_time": "2021-07-05T06:16:43.543Z"
      },
      {
        "duration": 15,
        "start_time": "2021-07-05T06:16:44.139Z"
      },
      {
        "duration": 10,
        "start_time": "2021-07-05T06:16:44.343Z"
      },
      {
        "duration": 22,
        "start_time": "2021-07-05T06:16:44.539Z"
      },
      {
        "duration": 9,
        "start_time": "2021-07-05T06:16:45.131Z"
      },
      {
        "duration": 18,
        "start_time": "2021-07-05T06:16:45.461Z"
      },
      {
        "duration": 23,
        "start_time": "2021-07-05T06:16:45.640Z"
      },
      {
        "duration": 38,
        "start_time": "2021-07-05T06:16:45.847Z"
      },
      {
        "duration": 31,
        "start_time": "2021-07-05T06:16:46.268Z"
      },
      {
        "duration": 11,
        "start_time": "2021-07-05T06:16:46.661Z"
      },
      {
        "duration": 19,
        "start_time": "2021-07-05T06:16:46.841Z"
      },
      {
        "duration": 26,
        "start_time": "2021-07-05T06:16:47.241Z"
      },
      {
        "duration": 20,
        "start_time": "2021-07-05T06:16:47.437Z"
      },
      {
        "duration": 11,
        "start_time": "2021-07-05T06:16:49.417Z"
      },
      {
        "duration": 30,
        "start_time": "2021-07-05T06:16:49.583Z"
      },
      {
        "duration": 42,
        "start_time": "2021-07-05T06:16:49.756Z"
      },
      {
        "duration": 37,
        "start_time": "2021-07-05T06:16:50.577Z"
      },
      {
        "duration": 6,
        "start_time": "2021-07-05T06:16:51.339Z"
      },
      {
        "duration": 11,
        "start_time": "2021-07-05T06:16:51.640Z"
      },
      {
        "duration": 9,
        "start_time": "2021-07-05T06:16:52.096Z"
      },
      {
        "duration": 87,
        "start_time": "2021-07-05T06:18:26.378Z"
      },
      {
        "duration": 47,
        "start_time": "2021-07-05T06:18:28.135Z"
      },
      {
        "duration": 13,
        "start_time": "2021-07-05T06:18:47.432Z"
      },
      {
        "duration": 48,
        "start_time": "2021-07-05T06:19:28.333Z"
      },
      {
        "duration": 17,
        "start_time": "2021-07-05T06:19:56.105Z"
      },
      {
        "duration": 11,
        "start_time": "2021-07-05T06:21:10.470Z"
      },
      {
        "duration": 47,
        "start_time": "2021-07-05T06:21:19.642Z"
      },
      {
        "duration": 11,
        "start_time": "2021-07-05T06:21:20.545Z"
      },
      {
        "duration": 88,
        "start_time": "2021-07-05T06:21:27.947Z"
      },
      {
        "duration": 44,
        "start_time": "2021-07-05T06:21:38.431Z"
      },
      {
        "duration": 11,
        "start_time": "2021-07-05T06:21:39.139Z"
      },
      {
        "duration": 53,
        "start_time": "2021-07-05T06:23:34.415Z"
      },
      {
        "duration": 25,
        "start_time": "2021-07-05T06:23:36.181Z"
      },
      {
        "duration": 28,
        "start_time": "2021-07-05T06:24:02.759Z"
      },
      {
        "duration": 34,
        "start_time": "2021-07-05T06:24:19.812Z"
      },
      {
        "duration": 569,
        "start_time": "2021-07-05T06:25:27.070Z"
      },
      {
        "duration": 63,
        "start_time": "2021-07-05T06:25:40.246Z"
      },
      {
        "duration": 40,
        "start_time": "2021-07-05T06:25:41.520Z"
      },
      {
        "duration": 10,
        "start_time": "2021-07-05T06:25:51.530Z"
      },
      {
        "duration": 367,
        "start_time": "2021-07-05T06:26:25.945Z"
      },
      {
        "duration": 68,
        "start_time": "2021-07-05T06:26:32.025Z"
      },
      {
        "duration": 12,
        "start_time": "2021-07-05T06:55:52.707Z"
      },
      {
        "duration": 13,
        "start_time": "2021-07-05T06:56:04.154Z"
      },
      {
        "duration": 17,
        "start_time": "2021-07-05T06:57:11.158Z"
      },
      {
        "duration": 13,
        "start_time": "2021-07-05T06:57:16.826Z"
      },
      {
        "duration": 273,
        "start_time": "2021-07-05T07:00:36.484Z"
      },
      {
        "duration": 284,
        "start_time": "2021-07-05T07:00:48.836Z"
      },
      {
        "duration": 31,
        "start_time": "2021-07-05T07:00:52.967Z"
      },
      {
        "duration": 258,
        "start_time": "2021-07-05T07:01:15.437Z"
      },
      {
        "duration": 12,
        "start_time": "2021-07-05T07:01:27.503Z"
      },
      {
        "duration": 276,
        "start_time": "2021-07-05T07:01:32.762Z"
      },
      {
        "duration": 364,
        "start_time": "2021-07-05T07:04:00.321Z"
      },
      {
        "duration": 5,
        "start_time": "2021-07-05T07:06:11.205Z"
      },
      {
        "duration": 32,
        "start_time": "2021-07-05T07:06:17.684Z"
      },
      {
        "duration": 32,
        "start_time": "2021-07-05T07:06:32.637Z"
      },
      {
        "duration": 10,
        "start_time": "2021-07-05T07:07:25.704Z"
      },
      {
        "duration": 8,
        "start_time": "2021-07-05T07:07:49.528Z"
      },
      {
        "duration": 9,
        "start_time": "2021-07-05T07:08:01.389Z"
      },
      {
        "duration": 6,
        "start_time": "2021-07-05T07:08:36.692Z"
      },
      {
        "duration": 27,
        "start_time": "2021-07-05T07:08:46.364Z"
      },
      {
        "duration": 8046,
        "start_time": "2021-07-05T07:09:21.058Z"
      },
      {
        "duration": 6,
        "start_time": "2021-07-05T07:11:22.577Z"
      },
      {
        "duration": 28,
        "start_time": "2021-07-05T07:11:23.903Z"
      },
      {
        "duration": 8574,
        "start_time": "2021-07-05T07:11:24.736Z"
      },
      {
        "duration": 20,
        "start_time": "2021-07-05T07:13:08.395Z"
      },
      {
        "duration": 36,
        "start_time": "2021-07-05T07:16:58.094Z"
      },
      {
        "duration": 23,
        "start_time": "2021-07-05T07:17:08.932Z"
      },
      {
        "duration": 5,
        "start_time": "2021-07-05T07:17:24.464Z"
      },
      {
        "duration": 509,
        "start_time": "2021-07-05T07:17:25.022Z"
      },
      {
        "duration": 97,
        "start_time": "2021-07-05T07:17:26.059Z"
      },
      {
        "duration": 16,
        "start_time": "2021-07-05T07:17:27.784Z"
      },
      {
        "duration": 9,
        "start_time": "2021-07-05T07:17:28.169Z"
      },
      {
        "duration": 22,
        "start_time": "2021-07-05T07:17:28.404Z"
      },
      {
        "duration": 9,
        "start_time": "2021-07-05T07:17:29.164Z"
      },
      {
        "duration": 12,
        "start_time": "2021-07-05T07:17:29.628Z"
      },
      {
        "duration": 23,
        "start_time": "2021-07-05T07:17:29.988Z"
      },
      {
        "duration": 37,
        "start_time": "2021-07-05T07:17:30.399Z"
      },
      {
        "duration": 29,
        "start_time": "2021-07-05T07:17:31.155Z"
      },
      {
        "duration": 11,
        "start_time": "2021-07-05T07:17:31.538Z"
      },
      {
        "duration": 20,
        "start_time": "2021-07-05T07:17:31.798Z"
      },
      {
        "duration": 24,
        "start_time": "2021-07-05T07:17:32.183Z"
      },
      {
        "duration": 19,
        "start_time": "2021-07-05T07:17:32.395Z"
      },
      {
        "duration": 11,
        "start_time": "2021-07-05T07:17:33.157Z"
      },
      {
        "duration": 26,
        "start_time": "2021-07-05T07:17:33.353Z"
      },
      {
        "duration": 35,
        "start_time": "2021-07-05T07:17:33.557Z"
      },
      {
        "duration": 38,
        "start_time": "2021-07-05T07:17:34.217Z"
      },
      {
        "duration": 5,
        "start_time": "2021-07-05T07:17:34.626Z"
      },
      {
        "duration": 11,
        "start_time": "2021-07-05T07:17:35.047Z"
      },
      {
        "duration": 9,
        "start_time": "2021-07-05T07:17:35.267Z"
      },
      {
        "duration": 13,
        "start_time": "2021-07-05T07:17:37.807Z"
      },
      {
        "duration": 83,
        "start_time": "2021-07-05T07:17:38.837Z"
      },
      {
        "duration": 70,
        "start_time": "2021-07-05T07:17:39.353Z"
      },
      {
        "duration": 11,
        "start_time": "2021-07-05T07:17:40.984Z"
      },
      {
        "duration": 16,
        "start_time": "2021-07-05T07:17:48.068Z"
      },
      {
        "duration": 53,
        "start_time": "2021-07-05T07:17:50.754Z"
      },
      {
        "duration": 44,
        "start_time": "2021-07-05T07:17:51.556Z"
      },
      {
        "duration": 17,
        "start_time": "2021-07-05T07:17:53.889Z"
      },
      {
        "duration": 64,
        "start_time": "2021-07-05T07:17:54.338Z"
      },
      {
        "duration": 40,
        "start_time": "2021-07-05T07:17:55.253Z"
      },
      {
        "duration": 10,
        "start_time": "2021-07-05T07:17:55.592Z"
      },
      {
        "duration": 3,
        "start_time": "2021-07-05T07:17:56.024Z"
      },
      {
        "duration": 12,
        "start_time": "2021-07-05T07:17:57.743Z"
      },
      {
        "duration": 5,
        "start_time": "2021-07-05T07:17:58.370Z"
      },
      {
        "duration": 13,
        "start_time": "2021-07-05T07:17:58.874Z"
      },
      {
        "duration": 13,
        "start_time": "2021-07-05T07:17:58.992Z"
      },
      {
        "duration": 13,
        "start_time": "2021-07-05T07:18:00.532Z"
      },
      {
        "duration": 16,
        "start_time": "2021-07-05T07:18:01.285Z"
      },
      {
        "duration": 28,
        "start_time": "2021-07-05T07:18:08.616Z"
      },
      {
        "duration": 28,
        "start_time": "2021-07-05T07:18:12.249Z"
      },
      {
        "duration": 10,
        "start_time": "2021-07-05T07:18:14.614Z"
      },
      {
        "duration": 8,
        "start_time": "2021-07-05T07:18:17.345Z"
      },
      {
        "duration": 9,
        "start_time": "2021-07-05T07:18:18.823Z"
      },
      {
        "duration": 6,
        "start_time": "2021-07-05T07:18:21.393Z"
      },
      {
        "duration": 19,
        "start_time": "2021-07-05T07:18:22.614Z"
      },
      {
        "duration": 8852,
        "start_time": "2021-07-05T07:18:25.150Z"
      },
      {
        "duration": 30,
        "start_time": "2021-07-05T07:20:20.890Z"
      },
      {
        "duration": 10,
        "start_time": "2021-07-05T07:20:21.516Z"
      },
      {
        "duration": 4,
        "start_time": "2021-07-05T07:20:27.719Z"
      },
      {
        "duration": 523,
        "start_time": "2021-07-05T07:20:27.869Z"
      },
      {
        "duration": 105,
        "start_time": "2021-07-05T07:20:28.394Z"
      },
      {
        "duration": 14,
        "start_time": "2021-07-05T07:20:28.637Z"
      },
      {
        "duration": 9,
        "start_time": "2021-07-05T07:20:28.778Z"
      },
      {
        "duration": 23,
        "start_time": "2021-07-05T07:20:28.928Z"
      },
      {
        "duration": 8,
        "start_time": "2021-07-05T07:20:29.383Z"
      },
      {
        "duration": 13,
        "start_time": "2021-07-05T07:20:29.697Z"
      },
      {
        "duration": 23,
        "start_time": "2021-07-05T07:20:29.860Z"
      },
      {
        "duration": 36,
        "start_time": "2021-07-05T07:20:30.019Z"
      },
      {
        "duration": 29,
        "start_time": "2021-07-05T07:20:30.340Z"
      },
      {
        "duration": 11,
        "start_time": "2021-07-05T07:20:30.630Z"
      },
      {
        "duration": 19,
        "start_time": "2021-07-05T07:20:30.795Z"
      },
      {
        "duration": 25,
        "start_time": "2021-07-05T07:20:31.108Z"
      },
      {
        "duration": 19,
        "start_time": "2021-07-05T07:20:31.251Z"
      },
      {
        "duration": 11,
        "start_time": "2021-07-05T07:20:31.761Z"
      },
      {
        "duration": 26,
        "start_time": "2021-07-05T07:20:31.916Z"
      },
      {
        "duration": 34,
        "start_time": "2021-07-05T07:20:32.075Z"
      },
      {
        "duration": 39,
        "start_time": "2021-07-05T07:20:32.397Z"
      },
      {
        "duration": 5,
        "start_time": "2021-07-05T07:20:32.741Z"
      },
      {
        "duration": 11,
        "start_time": "2021-07-05T07:20:33.039Z"
      },
      {
        "duration": 9,
        "start_time": "2021-07-05T07:20:33.205Z"
      },
      {
        "duration": 12,
        "start_time": "2021-07-05T07:20:34.594Z"
      },
      {
        "duration": 82,
        "start_time": "2021-07-05T07:20:35.403Z"
      },
      {
        "duration": 70,
        "start_time": "2021-07-05T07:20:35.568Z"
      },
      {
        "duration": 11,
        "start_time": "2021-07-05T07:20:35.711Z"
      },
      {
        "duration": 14,
        "start_time": "2021-07-05T07:20:36.542Z"
      },
      {
        "duration": 52,
        "start_time": "2021-07-05T07:20:36.715Z"
      },
      {
        "duration": 44,
        "start_time": "2021-07-05T07:20:36.888Z"
      },
      {
        "duration": 17,
        "start_time": "2021-07-05T07:20:37.256Z"
      },
      {
        "duration": 64,
        "start_time": "2021-07-05T07:20:37.443Z"
      },
      {
        "duration": 43,
        "start_time": "2021-07-05T07:20:38.001Z"
      },
      {
        "duration": 10,
        "start_time": "2021-07-05T07:20:38.182Z"
      },
      {
        "duration": 3,
        "start_time": "2021-07-05T07:20:38.378Z"
      },
      {
        "duration": 12,
        "start_time": "2021-07-05T07:20:39.864Z"
      },
      {
        "duration": 6,
        "start_time": "2021-07-05T07:20:40.036Z"
      },
      {
        "duration": 13,
        "start_time": "2021-07-05T07:20:40.224Z"
      },
      {
        "duration": 12,
        "start_time": "2021-07-05T07:20:40.444Z"
      },
      {
        "duration": 15,
        "start_time": "2021-07-05T07:20:40.600Z"
      },
      {
        "duration": 15,
        "start_time": "2021-07-05T07:20:40.767Z"
      },
      {
        "duration": 26,
        "start_time": "2021-07-05T07:20:40.955Z"
      },
      {
        "duration": 28,
        "start_time": "2021-07-05T07:20:41.725Z"
      },
      {
        "duration": 12,
        "start_time": "2021-07-05T07:20:42.722Z"
      },
      {
        "duration": 9,
        "start_time": "2021-07-05T07:20:43.219Z"
      },
      {
        "duration": 9,
        "start_time": "2021-07-05T07:20:44.881Z"
      },
      {
        "duration": 6,
        "start_time": "2021-07-05T07:20:45.833Z"
      },
      {
        "duration": 18,
        "start_time": "2021-07-05T07:20:46.600Z"
      },
      {
        "duration": 351,
        "start_time": "2021-07-05T07:20:48.090Z"
      },
      {
        "duration": 11,
        "start_time": "2021-07-05T07:20:50.675Z"
      },
      {
        "duration": 30,
        "start_time": "2021-07-05T07:20:51.062Z"
      },
      {
        "duration": 1440,
        "start_time": "2021-07-06T14:04:56.030Z"
      },
      {
        "duration": 546,
        "start_time": "2021-07-06T14:04:58.157Z"
      },
      {
        "duration": 104,
        "start_time": "2021-07-06T14:04:58.706Z"
      },
      {
        "duration": 16,
        "start_time": "2021-07-06T14:04:59.317Z"
      },
      {
        "duration": 9,
        "start_time": "2021-07-06T14:04:59.506Z"
      },
      {
        "duration": 21,
        "start_time": "2021-07-06T14:04:59.719Z"
      },
      {
        "duration": 8,
        "start_time": "2021-07-06T14:05:00.299Z"
      },
      {
        "duration": 11,
        "start_time": "2021-07-06T14:05:00.683Z"
      },
      {
        "duration": 28,
        "start_time": "2021-07-06T14:05:00.870Z"
      },
      {
        "duration": 43,
        "start_time": "2021-07-06T14:05:01.059Z"
      },
      {
        "duration": 29,
        "start_time": "2021-07-06T14:05:01.418Z"
      },
      {
        "duration": 12,
        "start_time": "2021-07-06T14:05:01.781Z"
      },
      {
        "duration": 24,
        "start_time": "2021-07-06T14:05:01.977Z"
      },
      {
        "duration": 35,
        "start_time": "2021-07-06T14:05:02.353Z"
      },
      {
        "duration": 20,
        "start_time": "2021-07-06T14:05:02.541Z"
      },
      {
        "duration": 11,
        "start_time": "2021-07-06T14:05:03.112Z"
      },
      {
        "duration": 28,
        "start_time": "2021-07-06T14:05:03.309Z"
      },
      {
        "duration": 40,
        "start_time": "2021-07-06T14:05:03.513Z"
      },
      {
        "duration": 40,
        "start_time": "2021-07-06T14:05:03.875Z"
      },
      {
        "duration": 6,
        "start_time": "2021-07-06T14:05:04.275Z"
      },
      {
        "duration": 12,
        "start_time": "2021-07-06T14:05:04.619Z"
      },
      {
        "duration": 9,
        "start_time": "2021-07-06T14:05:04.807Z"
      },
      {
        "duration": 13,
        "start_time": "2021-07-06T14:05:06.731Z"
      },
      {
        "duration": 90,
        "start_time": "2021-07-06T14:05:07.093Z"
      },
      {
        "duration": 74,
        "start_time": "2021-07-06T14:05:07.274Z"
      },
      {
        "duration": 12,
        "start_time": "2021-07-06T14:05:07.470Z"
      },
      {
        "duration": 15,
        "start_time": "2021-07-06T14:05:08.004Z"
      },
      {
        "duration": 54,
        "start_time": "2021-07-06T14:05:08.191Z"
      },
      {
        "duration": 44,
        "start_time": "2021-07-06T14:05:08.388Z"
      },
      {
        "duration": 18,
        "start_time": "2021-07-06T14:05:08.755Z"
      },
      {
        "duration": 70,
        "start_time": "2021-07-06T14:05:08.937Z"
      },
      {
        "duration": 41,
        "start_time": "2021-07-06T14:05:09.509Z"
      },
      {
        "duration": 11,
        "start_time": "2021-07-06T14:05:09.705Z"
      },
      {
        "duration": 3,
        "start_time": "2021-07-06T14:05:09.901Z"
      },
      {
        "duration": 13,
        "start_time": "2021-07-06T14:05:10.868Z"
      },
      {
        "duration": 6,
        "start_time": "2021-07-06T14:05:11.047Z"
      },
      {
        "duration": 13,
        "start_time": "2021-07-06T14:05:11.228Z"
      },
      {
        "duration": 12,
        "start_time": "2021-07-06T14:05:11.431Z"
      },
      {
        "duration": 13,
        "start_time": "2021-07-06T14:05:12.116Z"
      },
      {
        "duration": 14,
        "start_time": "2021-07-06T14:05:12.540Z"
      },
      {
        "duration": 29,
        "start_time": "2021-07-06T14:05:12.981Z"
      },
      {
        "duration": 35,
        "start_time": "2021-07-06T14:05:13.459Z"
      },
      {
        "duration": 10,
        "start_time": "2021-07-06T14:05:20.945Z"
      },
      {
        "duration": 8,
        "start_time": "2021-07-06T14:05:21.377Z"
      },
      {
        "duration": 9,
        "start_time": "2021-07-06T14:05:21.905Z"
      },
      {
        "duration": 6,
        "start_time": "2021-07-06T14:05:22.527Z"
      },
      {
        "duration": 17,
        "start_time": "2021-07-06T14:05:24.003Z"
      },
      {
        "duration": 368,
        "start_time": "2021-07-06T14:05:27.346Z"
      },
      {
        "duration": 27,
        "start_time": "2021-07-06T14:05:27.980Z"
      },
      {
        "duration": 29,
        "start_time": "2021-07-06T14:05:28.343Z"
      },
      {
        "duration": 30,
        "start_time": "2021-07-06T14:06:09.541Z"
      },
      {
        "duration": 29,
        "start_time": "2021-07-06T14:06:22.945Z"
      },
      {
        "duration": 5,
        "start_time": "2021-07-06T14:07:09.631Z"
      },
      {
        "duration": 29,
        "start_time": "2021-07-06T14:07:10.041Z"
      },
      {
        "duration": 4,
        "start_time": "2021-07-06T14:07:26.813Z"
      },
      {
        "duration": 522,
        "start_time": "2021-07-06T14:07:27.506Z"
      },
      {
        "duration": 97,
        "start_time": "2021-07-06T14:07:28.031Z"
      },
      {
        "duration": 14,
        "start_time": "2021-07-06T14:07:28.383Z"
      },
      {
        "duration": 8,
        "start_time": "2021-07-06T14:07:28.555Z"
      },
      {
        "duration": 21,
        "start_time": "2021-07-06T14:07:28.727Z"
      },
      {
        "duration": 9,
        "start_time": "2021-07-06T14:07:29.293Z"
      },
      {
        "duration": 12,
        "start_time": "2021-07-06T14:07:29.645Z"
      },
      {
        "duration": 23,
        "start_time": "2021-07-06T14:07:29.836Z"
      },
      {
        "duration": 37,
        "start_time": "2021-07-06T14:07:30.015Z"
      },
      {
        "duration": 29,
        "start_time": "2021-07-06T14:07:30.367Z"
      },
      {
        "duration": 10,
        "start_time": "2021-07-06T14:07:30.738Z"
      },
      {
        "duration": 20,
        "start_time": "2021-07-06T14:07:30.901Z"
      },
      {
        "duration": 25,
        "start_time": "2021-07-06T14:07:31.286Z"
      },
      {
        "duration": 18,
        "start_time": "2021-07-06T14:07:31.482Z"
      },
      {
        "duration": 12,
        "start_time": "2021-07-06T14:07:32.047Z"
      },
      {
        "duration": 27,
        "start_time": "2021-07-06T14:07:32.236Z"
      },
      {
        "duration": 34,
        "start_time": "2021-07-06T14:07:32.408Z"
      },
      {
        "duration": 40,
        "start_time": "2021-07-06T14:07:32.807Z"
      },
      {
        "duration": 6,
        "start_time": "2021-07-06T14:07:33.177Z"
      },
      {
        "duration": 11,
        "start_time": "2021-07-06T14:07:33.524Z"
      },
      {
        "duration": 10,
        "start_time": "2021-07-06T14:07:33.860Z"
      },
      {
        "duration": 12,
        "start_time": "2021-07-06T14:07:35.318Z"
      },
      {
        "duration": 89,
        "start_time": "2021-07-06T14:07:35.679Z"
      },
      {
        "duration": 73,
        "start_time": "2021-07-06T14:07:35.859Z"
      },
      {
        "duration": 11,
        "start_time": "2021-07-06T14:07:36.048Z"
      },
      {
        "duration": 15,
        "start_time": "2021-07-06T14:07:36.732Z"
      },
      {
        "duration": 55,
        "start_time": "2021-07-06T14:07:36.928Z"
      },
      {
        "duration": 42,
        "start_time": "2021-07-06T14:07:37.141Z"
      },
      {
        "duration": 19,
        "start_time": "2021-07-06T14:07:37.508Z"
      },
      {
        "duration": 65,
        "start_time": "2021-07-06T14:07:37.696Z"
      },
      {
        "duration": 37,
        "start_time": "2021-07-06T14:07:38.324Z"
      },
      {
        "duration": 9,
        "start_time": "2021-07-06T14:07:38.499Z"
      },
      {
        "duration": 2,
        "start_time": "2021-07-06T14:07:38.701Z"
      },
      {
        "duration": 14,
        "start_time": "2021-07-06T14:07:39.707Z"
      },
      {
        "duration": 5,
        "start_time": "2021-07-06T14:07:39.911Z"
      },
      {
        "duration": 12,
        "start_time": "2021-07-06T14:07:40.107Z"
      },
      {
        "duration": 11,
        "start_time": "2021-07-06T14:07:40.319Z"
      },
      {
        "duration": 14,
        "start_time": "2021-07-06T14:07:40.523Z"
      },
      {
        "duration": 14,
        "start_time": "2021-07-06T14:07:40.727Z"
      },
      {
        "duration": 25,
        "start_time": "2021-07-06T14:07:40.923Z"
      },
      {
        "duration": 26,
        "start_time": "2021-07-06T14:07:41.119Z"
      },
      {
        "duration": 10,
        "start_time": "2021-07-06T14:07:41.330Z"
      },
      {
        "duration": 7,
        "start_time": "2021-07-06T14:07:41.957Z"
      },
      {
        "duration": 11,
        "start_time": "2021-07-06T14:07:42.564Z"
      },
      {
        "duration": 6,
        "start_time": "2021-07-06T14:07:43.041Z"
      },
      {
        "duration": 18,
        "start_time": "2021-07-06T14:07:43.614Z"
      },
      {
        "duration": 358,
        "start_time": "2021-07-06T14:07:44.077Z"
      },
      {
        "duration": 6,
        "start_time": "2021-07-06T14:07:45.238Z"
      },
      {
        "duration": 32,
        "start_time": "2021-07-06T14:07:45.656Z"
      },
      {
        "duration": 24,
        "start_time": "2021-07-06T14:43:36.861Z"
      },
      {
        "duration": 11,
        "start_time": "2021-07-06T14:45:20.681Z"
      },
      {
        "duration": 750,
        "start_time": "2021-07-06T14:49:06.356Z"
      },
      {
        "duration": 125,
        "start_time": "2021-07-06T14:49:30.624Z"
      },
      {
        "duration": 437,
        "start_time": "2021-07-06T14:49:38.003Z"
      },
      {
        "duration": 436,
        "start_time": "2021-07-06T14:53:03.134Z"
      },
      {
        "duration": 441,
        "start_time": "2021-07-06T14:53:18.083Z"
      },
      {
        "duration": 608,
        "start_time": "2021-07-06T14:53:33.559Z"
      },
      {
        "duration": 437,
        "start_time": "2021-07-06T14:54:14.101Z"
      },
      {
        "duration": 509,
        "start_time": "2021-07-06T14:54:26.023Z"
      },
      {
        "duration": 530,
        "start_time": "2021-07-06T14:54:34.242Z"
      },
      {
        "duration": 480,
        "start_time": "2021-07-06T14:54:40.565Z"
      },
      {
        "duration": 489,
        "start_time": "2021-07-06T14:55:15.839Z"
      },
      {
        "duration": 128,
        "start_time": "2021-07-06T14:56:23.192Z"
      },
      {
        "duration": 114,
        "start_time": "2021-07-06T14:56:45.820Z"
      },
      {
        "duration": 112,
        "start_time": "2021-07-06T14:56:55.328Z"
      },
      {
        "duration": 135,
        "start_time": "2021-07-06T14:57:02.492Z"
      },
      {
        "duration": 21,
        "start_time": "2021-07-06T14:57:13.140Z"
      },
      {
        "duration": 468,
        "start_time": "2021-07-06T14:58:34.673Z"
      },
      {
        "duration": 476,
        "start_time": "2021-07-06T14:58:44.140Z"
      },
      {
        "duration": 473,
        "start_time": "2021-07-06T14:58:55.931Z"
      },
      {
        "duration": 487,
        "start_time": "2021-07-06T14:59:06.832Z"
      },
      {
        "duration": 445,
        "start_time": "2021-07-06T14:59:50.203Z"
      },
      {
        "duration": 475,
        "start_time": "2021-07-06T15:01:55.157Z"
      },
      {
        "duration": 499,
        "start_time": "2021-07-06T15:02:08.097Z"
      },
      {
        "duration": 26,
        "start_time": "2021-07-06T15:10:20.551Z"
      },
      {
        "duration": 27,
        "start_time": "2021-07-06T15:10:43.427Z"
      },
      {
        "duration": 26,
        "start_time": "2021-07-06T15:11:36.816Z"
      },
      {
        "duration": 25,
        "start_time": "2021-07-06T15:11:41.463Z"
      },
      {
        "duration": 126,
        "start_time": "2021-07-06T15:12:09.511Z"
      },
      {
        "duration": 125,
        "start_time": "2021-07-06T15:12:46.333Z"
      },
      {
        "duration": 677,
        "start_time": "2021-07-06T15:13:38.047Z"
      },
      {
        "duration": 1263,
        "start_time": "2021-07-06T15:19:06.535Z"
      },
      {
        "duration": 33,
        "start_time": "2021-07-06T15:19:17.572Z"
      },
      {
        "duration": 28,
        "start_time": "2021-07-06T15:19:25.248Z"
      },
      {
        "duration": 29,
        "start_time": "2021-07-06T15:19:42.895Z"
      },
      {
        "duration": 299,
        "start_time": "2021-07-06T15:29:52.297Z"
      },
      {
        "duration": 6,
        "start_time": "2021-07-06T18:33:01.426Z"
      },
      {
        "duration": 613,
        "start_time": "2021-07-06T18:33:01.874Z"
      },
      {
        "duration": 108,
        "start_time": "2021-07-06T18:33:02.490Z"
      },
      {
        "duration": 16,
        "start_time": "2021-07-06T18:33:02.916Z"
      },
      {
        "duration": 10,
        "start_time": "2021-07-06T18:33:03.128Z"
      },
      {
        "duration": 23,
        "start_time": "2021-07-06T18:33:03.332Z"
      },
      {
        "duration": 9,
        "start_time": "2021-07-06T18:33:03.914Z"
      },
      {
        "duration": 11,
        "start_time": "2021-07-06T18:33:04.344Z"
      },
      {
        "duration": 24,
        "start_time": "2021-07-06T18:33:04.558Z"
      },
      {
        "duration": 35,
        "start_time": "2021-07-06T18:33:04.778Z"
      },
      {
        "duration": 28,
        "start_time": "2021-07-06T18:33:05.170Z"
      },
      {
        "duration": 10,
        "start_time": "2021-07-06T18:33:05.587Z"
      },
      {
        "duration": 20,
        "start_time": "2021-07-06T18:33:05.825Z"
      },
      {
        "duration": 25,
        "start_time": "2021-07-06T18:33:06.260Z"
      },
      {
        "duration": 26,
        "start_time": "2021-07-06T18:33:06.464Z"
      },
      {
        "duration": 12,
        "start_time": "2021-07-06T18:33:07.100Z"
      },
      {
        "duration": 27,
        "start_time": "2021-07-06T18:33:07.280Z"
      },
      {
        "duration": 34,
        "start_time": "2021-07-06T18:33:07.485Z"
      },
      {
        "duration": 38,
        "start_time": "2021-07-06T18:33:07.938Z"
      },
      {
        "duration": 5,
        "start_time": "2021-07-06T18:33:08.378Z"
      },
      {
        "duration": 10,
        "start_time": "2021-07-06T18:33:08.787Z"
      },
      {
        "duration": 10,
        "start_time": "2021-07-06T18:33:08.998Z"
      },
      {
        "duration": 13,
        "start_time": "2021-07-06T18:33:10.732Z"
      },
      {
        "duration": 89,
        "start_time": "2021-07-06T18:33:11.140Z"
      },
      {
        "duration": 76,
        "start_time": "2021-07-06T18:33:11.360Z"
      },
      {
        "duration": 11,
        "start_time": "2021-07-06T18:33:11.565Z"
      },
      {
        "duration": 16,
        "start_time": "2021-07-06T18:33:12.828Z"
      },
      {
        "duration": 56,
        "start_time": "2021-07-06T18:33:13.025Z"
      },
      {
        "duration": 45,
        "start_time": "2021-07-06T18:33:13.221Z"
      },
      {
        "duration": 18,
        "start_time": "2021-07-06T18:33:13.621Z"
      },
      {
        "duration": 69,
        "start_time": "2021-07-06T18:33:13.818Z"
      },
      {
        "duration": 40,
        "start_time": "2021-07-06T18:33:14.601Z"
      },
      {
        "duration": 11,
        "start_time": "2021-07-06T18:33:14.783Z"
      },
      {
        "duration": 4,
        "start_time": "2021-07-06T18:33:14.971Z"
      },
      {
        "duration": 12,
        "start_time": "2021-07-06T18:33:18.470Z"
      },
      {
        "duration": 5,
        "start_time": "2021-07-06T18:33:20.116Z"
      },
      {
        "duration": 14,
        "start_time": "2021-07-06T18:33:20.306Z"
      },
      {
        "duration": 12,
        "start_time": "2021-07-06T18:33:20.497Z"
      },
      {
        "duration": 15,
        "start_time": "2021-07-06T18:33:20.702Z"
      },
      {
        "duration": 15,
        "start_time": "2021-07-06T18:33:20.907Z"
      },
      {
        "duration": 27,
        "start_time": "2021-07-06T18:33:21.078Z"
      },
      {
        "duration": 28,
        "start_time": "2021-07-06T18:33:21.736Z"
      },
      {
        "duration": 12,
        "start_time": "2021-07-06T18:33:21.938Z"
      },
      {
        "duration": 9,
        "start_time": "2021-07-06T18:33:22.110Z"
      },
      {
        "duration": 10,
        "start_time": "2021-07-06T18:33:22.306Z"
      },
      {
        "duration": 5,
        "start_time": "2021-07-06T18:33:22.551Z"
      },
      {
        "duration": 19,
        "start_time": "2021-07-06T18:33:22.716Z"
      },
      {
        "duration": 359,
        "start_time": "2021-07-06T18:33:22.903Z"
      },
      {
        "duration": 5,
        "start_time": "2021-07-06T18:33:23.342Z"
      },
      {
        "duration": 32,
        "start_time": "2021-07-06T18:33:23.531Z"
      },
      {
        "duration": 23,
        "start_time": "2021-07-06T18:33:24.859Z"
      },
      {
        "duration": 9,
        "start_time": "2021-07-06T18:33:25.038Z"
      },
      {
        "duration": 509,
        "start_time": "2021-07-06T18:33:25.251Z"
      },
      {
        "duration": 27,
        "start_time": "2021-07-06T18:33:25.762Z"
      },
      {
        "duration": 472,
        "start_time": "2021-07-06T18:33:29.165Z"
      },
      {
        "duration": 375,
        "start_time": "2021-07-06T18:41:56.542Z"
      },
      {
        "duration": 26,
        "start_time": "2021-07-06T18:42:30.462Z"
      },
      {
        "duration": 373,
        "start_time": "2021-07-06T18:43:51.768Z"
      },
      {
        "duration": 447,
        "start_time": "2021-07-06T18:44:13.534Z"
      },
      {
        "duration": 492,
        "start_time": "2021-07-06T18:44:53.250Z"
      },
      {
        "duration": 429,
        "start_time": "2021-07-06T18:44:56.405Z"
      },
      {
        "duration": 28,
        "start_time": "2021-07-06T18:46:21.882Z"
      },
      {
        "duration": 481,
        "start_time": "2021-07-06T18:48:57.443Z"
      },
      {
        "duration": 496,
        "start_time": "2021-07-06T18:48:59.638Z"
      },
      {
        "duration": 657,
        "start_time": "2021-07-06T18:49:17.563Z"
      },
      {
        "duration": 421,
        "start_time": "2021-07-06T18:49:25.451Z"
      },
      {
        "duration": 36,
        "start_time": "2021-07-06T18:59:12.495Z"
      },
      {
        "duration": 693,
        "start_time": "2021-07-06T18:59:56.554Z"
      },
      {
        "duration": 575,
        "start_time": "2021-07-06T18:59:59.456Z"
      },
      {
        "duration": 7,
        "start_time": "2021-07-06T19:21:08.913Z"
      },
      {
        "duration": 9,
        "start_time": "2021-07-06T19:22:54.127Z"
      },
      {
        "duration": 8717,
        "start_time": "2021-07-06T19:22:54.845Z"
      },
      {
        "duration": 561,
        "start_time": "2021-07-06T19:23:03.004Z"
      },
      {
        "duration": 9,
        "start_time": "2021-07-06T19:23:10.465Z"
      },
      {
        "duration": 10,
        "start_time": "2021-07-06T19:23:17.869Z"
      },
      {
        "duration": 4,
        "start_time": "2021-07-06T19:23:18.490Z"
      },
      {
        "duration": 5,
        "start_time": "2021-07-06T19:23:19.437Z"
      },
      {
        "duration": 5,
        "start_time": "2021-07-06T19:23:21.219Z"
      },
      {
        "duration": 7,
        "start_time": "2021-07-06T19:25:19.317Z"
      },
      {
        "duration": 6,
        "start_time": "2021-07-06T19:25:29.534Z"
      },
      {
        "duration": 10,
        "start_time": "2021-07-06T19:26:11.074Z"
      },
      {
        "duration": 10,
        "start_time": "2021-07-06T19:26:32.281Z"
      },
      {
        "duration": 9,
        "start_time": "2021-07-06T19:26:32.931Z"
      },
      {
        "duration": 4,
        "start_time": "2021-07-06T19:26:33.585Z"
      },
      {
        "duration": 6,
        "start_time": "2021-07-06T19:26:34.412Z"
      },
      {
        "duration": 599,
        "start_time": "2021-07-06T19:35:51.324Z"
      },
      {
        "duration": 328,
        "start_time": "2021-07-07T07:31:33.111Z"
      },
      {
        "duration": 1475,
        "start_time": "2021-07-07T07:31:37.160Z"
      },
      {
        "duration": 519,
        "start_time": "2021-07-07T07:31:39.652Z"
      },
      {
        "duration": 21,
        "start_time": "2021-07-07T07:31:42.638Z"
      },
      {
        "duration": 10,
        "start_time": "2021-07-07T07:31:48.515Z"
      },
      {
        "duration": 23,
        "start_time": "2021-07-07T07:31:50.820Z"
      },
      {
        "duration": 363,
        "start_time": "2021-07-07T07:31:56.748Z"
      },
      {
        "duration": 13,
        "start_time": "2021-07-07T07:32:06.562Z"
      },
      {
        "duration": 17,
        "start_time": "2021-07-07T07:32:25.633Z"
      },
      {
        "duration": 16,
        "start_time": "2021-07-07T07:32:32.088Z"
      },
      {
        "duration": 10,
        "start_time": "2021-07-07T07:32:35.316Z"
      },
      {
        "duration": 12,
        "start_time": "2021-07-07T07:33:44.462Z"
      },
      {
        "duration": 24,
        "start_time": "2021-07-07T07:33:49.384Z"
      },
      {
        "duration": 6899,
        "start_time": "2021-07-07T07:34:23.281Z"
      },
      {
        "duration": 15,
        "start_time": "2021-07-07T07:34:30.233Z"
      },
      {
        "duration": 13,
        "start_time": "2021-07-07T07:34:30.983Z"
      },
      {
        "duration": 29,
        "start_time": "2021-07-07T07:34:31.458Z"
      },
      {
        "duration": 48,
        "start_time": "2021-07-07T07:34:31.931Z"
      },
      {
        "duration": 7487,
        "start_time": "2021-07-07T07:34:34.814Z"
      },
      {
        "duration": 4360,
        "start_time": "2021-07-07T07:35:28.434Z"
      },
      {
        "duration": 481,
        "start_time": "2021-07-07T07:35:56.046Z"
      },
      {
        "duration": 12,
        "start_time": "2021-07-07T07:36:00.975Z"
      },
      {
        "duration": 12,
        "start_time": "2021-07-07T07:36:04.122Z"
      },
      {
        "duration": 475,
        "start_time": "2021-07-07T07:36:44.044Z"
      },
      {
        "duration": 11,
        "start_time": "2021-07-07T07:36:48.628Z"
      },
      {
        "duration": 508,
        "start_time": "2021-07-07T07:37:16.551Z"
      },
      {
        "duration": 27,
        "start_time": "2021-07-07T07:37:20.114Z"
      },
      {
        "duration": 11,
        "start_time": "2021-07-07T07:44:16.586Z"
      },
      {
        "duration": 11,
        "start_time": "2021-07-07T07:45:13.201Z"
      },
      {
        "duration": 29,
        "start_time": "2021-07-07T07:45:13.594Z"
      },
      {
        "duration": 42,
        "start_time": "2021-07-07T07:45:14.041Z"
      },
      {
        "duration": 755,
        "start_time": "2021-07-07T07:45:15.284Z"
      },
      {
        "duration": 8,
        "start_time": "2021-07-07T07:46:05.939Z"
      },
      {
        "duration": 50,
        "start_time": "2021-07-07T07:46:10.817Z"
      },
      {
        "duration": 11,
        "start_time": "2021-07-07T07:46:17.689Z"
      },
      {
        "duration": 6,
        "start_time": "2021-07-07T07:50:02.972Z"
      },
      {
        "duration": 12,
        "start_time": "2021-07-07T07:50:04.686Z"
      },
      {
        "duration": 6,
        "start_time": "2021-07-07T07:50:36.931Z"
      },
      {
        "duration": 12,
        "start_time": "2021-07-07T07:50:38.609Z"
      },
      {
        "duration": 58,
        "start_time": "2021-07-07T09:18:20.227Z"
      },
      {
        "duration": 1500,
        "start_time": "2021-07-07T15:32:10.966Z"
      },
      {
        "duration": 551,
        "start_time": "2021-07-07T15:32:13.654Z"
      },
      {
        "duration": 18,
        "start_time": "2021-07-07T15:32:15.661Z"
      },
      {
        "duration": 9,
        "start_time": "2021-07-07T15:32:24.267Z"
      },
      {
        "duration": 20,
        "start_time": "2021-07-07T15:32:26.416Z"
      },
      {
        "duration": 15,
        "start_time": "2021-07-07T15:32:28.347Z"
      },
      {
        "duration": 11,
        "start_time": "2021-07-07T15:32:29.239Z"
      },
      {
        "duration": 22,
        "start_time": "2021-07-07T15:32:29.911Z"
      },
      {
        "duration": 37,
        "start_time": "2021-07-07T15:32:30.877Z"
      },
      {
        "duration": 547,
        "start_time": "2021-07-07T15:32:32.888Z"
      },
      {
        "duration": 10,
        "start_time": "2021-07-07T15:32:35.984Z"
      },
      {
        "duration": 19,
        "start_time": "2021-07-07T15:32:37.064Z"
      },
      {
        "duration": 432,
        "start_time": "2021-07-07T15:32:38.318Z"
      },
      {
        "duration": 28,
        "start_time": "2021-07-07T15:32:39.377Z"
      },
      {
        "duration": 11,
        "start_time": "2021-07-07T15:32:52.674Z"
      },
      {
        "duration": 26,
        "start_time": "2021-07-07T15:32:54.813Z"
      },
      {
        "duration": 38,
        "start_time": "2021-07-07T15:32:56.198Z"
      },
      {
        "duration": 693,
        "start_time": "2021-07-07T15:32:58.297Z"
      },
      {
        "duration": 8,
        "start_time": "2021-07-07T15:34:50.941Z"
      },
      {
        "duration": 37,
        "start_time": "2021-07-07T15:34:53.478Z"
      },
      {
        "duration": 18,
        "start_time": "2021-07-07T15:34:54.586Z"
      },
      {
        "duration": 7,
        "start_time": "2021-07-07T15:34:55.579Z"
      },
      {
        "duration": 9,
        "start_time": "2021-07-07T15:34:56.220Z"
      },
      {
        "duration": 11,
        "start_time": "2021-07-07T15:35:02.137Z"
      },
      {
        "duration": 90,
        "start_time": "2021-07-07T15:35:03.315Z"
      },
      {
        "duration": 45,
        "start_time": "2021-07-07T15:35:03.793Z"
      },
      {
        "duration": 10,
        "start_time": "2021-07-07T15:35:04.201Z"
      },
      {
        "duration": 14,
        "start_time": "2021-07-07T15:35:05.205Z"
      },
      {
        "duration": 53,
        "start_time": "2021-07-07T15:35:05.551Z"
      },
      {
        "duration": 34,
        "start_time": "2021-07-07T15:35:06.054Z"
      },
      {
        "duration": 18,
        "start_time": "2021-07-07T15:35:07.285Z"
      },
      {
        "duration": 66,
        "start_time": "2021-07-07T15:35:08.029Z"
      },
      {
        "duration": 73,
        "start_time": "2021-07-07T15:36:43.912Z"
      },
      {
        "duration": 35,
        "start_time": "2021-07-07T15:37:37.141Z"
      },
      {
        "duration": 10,
        "start_time": "2021-07-07T15:37:38.333Z"
      },
      {
        "duration": 22,
        "start_time": "2021-07-07T15:38:05.234Z"
      },
      {
        "duration": 15,
        "start_time": "2021-07-07T15:48:59.381Z"
      },
      {
        "duration": 9,
        "start_time": "2021-07-07T15:49:04.154Z"
      },
      {
        "duration": 10,
        "start_time": "2021-07-07T15:49:07.634Z"
      },
      {
        "duration": 17,
        "start_time": "2021-07-07T15:49:13.935Z"
      },
      {
        "duration": 72,
        "start_time": "2021-07-07T15:49:14.343Z"
      },
      {
        "duration": 38,
        "start_time": "2021-07-07T15:49:15.001Z"
      },
      {
        "duration": 10,
        "start_time": "2021-07-07T15:49:15.441Z"
      },
      {
        "duration": 14,
        "start_time": "2021-07-07T15:55:00.069Z"
      },
      {
        "duration": 20,
        "start_time": "2021-07-07T15:56:29.706Z"
      },
      {
        "duration": 21,
        "start_time": "2021-07-07T15:57:42.294Z"
      },
      {
        "duration": 14,
        "start_time": "2021-07-07T16:01:38.900Z"
      },
      {
        "duration": 15,
        "start_time": "2021-07-07T16:02:06.780Z"
      },
      {
        "duration": 445,
        "start_time": "2021-07-07T16:02:07.251Z"
      },
      {
        "duration": 5,
        "start_time": "2021-07-07T16:02:24.419Z"
      },
      {
        "duration": 560,
        "start_time": "2021-07-07T16:02:25.771Z"
      },
      {
        "duration": 15,
        "start_time": "2021-07-07T16:02:27.197Z"
      },
      {
        "duration": 8,
        "start_time": "2021-07-07T16:02:27.482Z"
      },
      {
        "duration": 23,
        "start_time": "2021-07-07T16:02:27.732Z"
      },
      {
        "duration": 16,
        "start_time": "2021-07-07T16:02:28.487Z"
      },
      {
        "duration": 11,
        "start_time": "2021-07-07T16:02:28.974Z"
      },
      {
        "duration": 23,
        "start_time": "2021-07-07T16:02:29.200Z"
      },
      {
        "duration": 38,
        "start_time": "2021-07-07T16:02:29.451Z"
      },
      {
        "duration": 495,
        "start_time": "2021-07-07T16:02:29.943Z"
      },
      {
        "duration": 10,
        "start_time": "2021-07-07T16:02:30.440Z"
      },
      {
        "duration": 21,
        "start_time": "2021-07-07T16:02:30.652Z"
      },
      {
        "duration": 509,
        "start_time": "2021-07-07T16:02:31.113Z"
      },
      {
        "duration": 27,
        "start_time": "2021-07-07T16:02:31.625Z"
      },
      {
        "duration": 12,
        "start_time": "2021-07-07T16:02:32.031Z"
      },
      {
        "duration": 28,
        "start_time": "2021-07-07T16:02:32.276Z"
      },
      {
        "duration": 36,
        "start_time": "2021-07-07T16:02:32.520Z"
      },
      {
        "duration": 703,
        "start_time": "2021-07-07T16:02:32.967Z"
      },
      {
        "duration": 5,
        "start_time": "2021-07-07T16:02:33.672Z"
      },
      {
        "duration": 13,
        "start_time": "2021-07-07T16:02:33.848Z"
      },
      {
        "duration": 12,
        "start_time": "2021-07-07T16:02:35.556Z"
      },
      {
        "duration": 9,
        "start_time": "2021-07-07T16:02:35.571Z"
      },
      {
        "duration": 13,
        "start_time": "2021-07-07T16:02:35.583Z"
      },
      {
        "duration": 11,
        "start_time": "2021-07-07T16:02:40.466Z"
      },
      {
        "duration": 94,
        "start_time": "2021-07-07T16:02:41.023Z"
      },
      {
        "duration": 45,
        "start_time": "2021-07-07T16:02:41.203Z"
      },
      {
        "duration": 11,
        "start_time": "2021-07-07T16:02:41.386Z"
      },
      {
        "duration": 15,
        "start_time": "2021-07-07T16:02:42.099Z"
      },
      {
        "duration": 59,
        "start_time": "2021-07-07T16:02:42.295Z"
      },
      {
        "duration": 35,
        "start_time": "2021-07-07T16:02:42.752Z"
      },
      {
        "duration": 16,
        "start_time": "2021-07-07T16:02:43.530Z"
      },
      {
        "duration": 65,
        "start_time": "2021-07-07T16:02:43.728Z"
      },
      {
        "duration": 32,
        "start_time": "2021-07-07T16:02:44.418Z"
      },
      {
        "duration": 10,
        "start_time": "2021-07-07T16:02:45.392Z"
      },
      {
        "duration": 13,
        "start_time": "2021-07-07T16:02:47.124Z"
      },
      {
        "duration": 13,
        "start_time": "2021-07-07T16:02:47.649Z"
      },
      {
        "duration": 14,
        "start_time": "2021-07-07T16:02:48.522Z"
      },
      {
        "duration": 25,
        "start_time": "2021-07-07T16:02:49.277Z"
      },
      {
        "duration": 10,
        "start_time": "2021-07-07T16:04:18.207Z"
      },
      {
        "duration": 10,
        "start_time": "2021-07-07T16:12:43.938Z"
      },
      {
        "duration": 9,
        "start_time": "2021-07-07T16:12:47.180Z"
      },
      {
        "duration": 310,
        "start_time": "2021-07-07T16:16:30.733Z"
      },
      {
        "duration": 6,
        "start_time": "2021-07-07T16:16:35.566Z"
      },
      {
        "duration": 18,
        "start_time": "2021-07-07T16:16:35.807Z"
      },
      {
        "duration": 356,
        "start_time": "2021-07-07T16:16:36.846Z"
      },
      {
        "duration": 5,
        "start_time": "2021-07-07T16:16:37.860Z"
      },
      {
        "duration": 28,
        "start_time": "2021-07-07T16:16:38.033Z"
      },
      {
        "duration": 89,
        "start_time": "2021-07-07T16:27:40.044Z"
      },
      {
        "duration": 11,
        "start_time": "2021-07-07T16:28:16.454Z"
      },
      {
        "duration": 11,
        "start_time": "2021-07-07T16:37:53.640Z"
      },
      {
        "duration": 22,
        "start_time": "2021-07-07T16:37:57.001Z"
      },
      {
        "duration": 491,
        "start_time": "2021-07-07T16:42:29.860Z"
      },
      {
        "duration": 584,
        "start_time": "2021-07-07T16:42:55.358Z"
      },
      {
        "duration": 610,
        "start_time": "2021-07-07T16:44:10.691Z"
      },
      {
        "duration": 28,
        "start_time": "2021-07-07T16:44:18.886Z"
      },
      {
        "duration": 27,
        "start_time": "2021-07-07T16:49:54.274Z"
      },
      {
        "duration": 462,
        "start_time": "2021-07-07T16:52:00.157Z"
      },
      {
        "duration": 493,
        "start_time": "2021-07-07T16:52:27.621Z"
      },
      {
        "duration": 544,
        "start_time": "2021-07-07T16:52:39.238Z"
      },
      {
        "duration": 32,
        "start_time": "2021-07-07T16:53:08.777Z"
      },
      {
        "duration": 27,
        "start_time": "2021-07-07T16:54:21.326Z"
      },
      {
        "duration": 529,
        "start_time": "2021-07-07T16:55:11.812Z"
      },
      {
        "duration": 477,
        "start_time": "2021-07-07T16:55:12.558Z"
      },
      {
        "duration": 29,
        "start_time": "2021-07-07T16:55:17.912Z"
      },
      {
        "duration": 26,
        "start_time": "2021-07-07T17:05:48.784Z"
      },
      {
        "duration": 516,
        "start_time": "2021-07-07T17:18:08.229Z"
      },
      {
        "duration": 534,
        "start_time": "2021-07-07T17:19:15.794Z"
      },
      {
        "duration": 547,
        "start_time": "2021-07-07T17:30:36.593Z"
      },
      {
        "duration": 751,
        "start_time": "2021-07-07T17:31:22.716Z"
      },
      {
        "duration": 554,
        "start_time": "2021-07-07T17:31:59.583Z"
      },
      {
        "duration": 490,
        "start_time": "2021-07-07T17:32:29.650Z"
      },
      {
        "duration": 447,
        "start_time": "2021-07-07T17:32:36.432Z"
      },
      {
        "duration": 625,
        "start_time": "2021-07-07T17:43:10.295Z"
      },
      {
        "duration": 638,
        "start_time": "2021-07-07T17:43:49.314Z"
      },
      {
        "duration": 455,
        "start_time": "2021-07-07T17:43:49.955Z"
      },
      {
        "duration": 28,
        "start_time": "2021-07-07T17:44:18.839Z"
      },
      {
        "duration": 441,
        "start_time": "2021-07-07T17:48:44.570Z"
      },
      {
        "duration": 517,
        "start_time": "2021-07-07T17:50:04.528Z"
      },
      {
        "duration": 27,
        "start_time": "2021-07-07T17:50:09.703Z"
      },
      {
        "duration": 9,
        "start_time": "2021-07-07T17:54:27.357Z"
      },
      {
        "duration": 402,
        "start_time": "2021-07-07T17:54:28.050Z"
      },
      {
        "duration": 6,
        "start_time": "2021-07-07T17:54:30.536Z"
      },
      {
        "duration": 27,
        "start_time": "2021-07-07T17:54:33.352Z"
      },
      {
        "duration": 6,
        "start_time": "2021-07-07T17:54:35.646Z"
      },
      {
        "duration": 9,
        "start_time": "2021-07-07T17:54:37.556Z"
      },
      {
        "duration": 12,
        "start_time": "2021-07-07T17:54:38.339Z"
      },
      {
        "duration": 13,
        "start_time": "2021-07-07T17:54:54.436Z"
      },
      {
        "duration": 4,
        "start_time": "2021-07-07T17:54:55.057Z"
      },
      {
        "duration": 5,
        "start_time": "2021-07-07T17:54:55.703Z"
      },
      {
        "duration": 6,
        "start_time": "2021-07-07T17:55:00.618Z"
      },
      {
        "duration": 4,
        "start_time": "2021-07-07T17:55:20.512Z"
      },
      {
        "duration": 565,
        "start_time": "2021-07-07T17:55:20.848Z"
      },
      {
        "duration": 14,
        "start_time": "2021-07-07T17:55:21.585Z"
      },
      {
        "duration": 10,
        "start_time": "2021-07-07T17:55:21.772Z"
      },
      {
        "duration": 21,
        "start_time": "2021-07-07T17:55:21.939Z"
      },
      {
        "duration": 16,
        "start_time": "2021-07-07T17:55:22.512Z"
      },
      {
        "duration": 11,
        "start_time": "2021-07-07T17:55:22.888Z"
      },
      {
        "duration": 23,
        "start_time": "2021-07-07T17:55:23.101Z"
      },
      {
        "duration": 44,
        "start_time": "2021-07-07T17:55:23.280Z"
      },
      {
        "duration": 590,
        "start_time": "2021-07-07T17:55:23.673Z"
      },
      {
        "duration": 20,
        "start_time": "2021-07-07T17:55:24.266Z"
      },
      {
        "duration": 25,
        "start_time": "2021-07-07T17:55:24.427Z"
      },
      {
        "duration": 445,
        "start_time": "2021-07-07T17:55:24.843Z"
      },
      {
        "duration": 27,
        "start_time": "2021-07-07T17:55:25.291Z"
      },
      {
        "duration": 11,
        "start_time": "2021-07-07T17:55:25.675Z"
      },
      {
        "duration": 27,
        "start_time": "2021-07-07T17:55:25.887Z"
      },
      {
        "duration": 35,
        "start_time": "2021-07-07T17:55:26.099Z"
      },
      {
        "duration": 677,
        "start_time": "2021-07-07T17:55:26.492Z"
      },
      {
        "duration": 6,
        "start_time": "2021-07-07T17:55:27.171Z"
      },
      {
        "duration": 12,
        "start_time": "2021-07-07T17:55:27.186Z"
      },
      {
        "duration": 12,
        "start_time": "2021-07-07T17:55:27.465Z"
      },
      {
        "duration": 5,
        "start_time": "2021-07-07T17:55:27.973Z"
      },
      {
        "duration": 10,
        "start_time": "2021-07-07T17:55:28.131Z"
      },
      {
        "duration": 11,
        "start_time": "2021-07-07T17:55:29.458Z"
      },
      {
        "duration": 91,
        "start_time": "2021-07-07T17:55:29.825Z"
      },
      {
        "duration": 47,
        "start_time": "2021-07-07T17:55:29.994Z"
      },
      {
        "duration": 12,
        "start_time": "2021-07-07T17:55:30.189Z"
      },
      {
        "duration": 15,
        "start_time": "2021-07-07T17:55:30.621Z"
      },
      {
        "duration": 56,
        "start_time": "2021-07-07T17:55:30.840Z"
      },
      {
        "duration": 36,
        "start_time": "2021-07-07T17:55:31.068Z"
      },
      {
        "duration": 25,
        "start_time": "2021-07-07T17:55:31.525Z"
      },
      {
        "duration": 105,
        "start_time": "2021-07-07T17:55:31.736Z"
      },
      {
        "duration": 36,
        "start_time": "2021-07-07T17:55:32.160Z"
      },
      {
        "duration": 13,
        "start_time": "2021-07-07T17:55:32.357Z"
      },
      {
        "duration": 14,
        "start_time": "2021-07-07T17:55:33.462Z"
      },
      {
        "duration": 13,
        "start_time": "2021-07-07T17:55:33.856Z"
      },
      {
        "duration": 13,
        "start_time": "2021-07-07T17:55:34.366Z"
      },
      {
        "duration": 28,
        "start_time": "2021-07-07T17:55:34.579Z"
      },
      {
        "duration": 11,
        "start_time": "2021-07-07T17:55:35.450Z"
      },
      {
        "duration": 8,
        "start_time": "2021-07-07T17:55:35.812Z"
      },
      {
        "duration": 10,
        "start_time": "2021-07-07T17:55:35.984Z"
      },
      {
        "duration": 7,
        "start_time": "2021-07-07T17:55:36.784Z"
      },
      {
        "duration": 21,
        "start_time": "2021-07-07T17:55:37.376Z"
      },
      {
        "duration": 354,
        "start_time": "2021-07-07T17:55:37.509Z"
      },
      {
        "duration": 6,
        "start_time": "2021-07-07T17:55:38.247Z"
      },
      {
        "duration": 28,
        "start_time": "2021-07-07T17:55:38.444Z"
      },
      {
        "duration": 12,
        "start_time": "2021-07-07T17:55:38.607Z"
      },
      {
        "duration": 512,
        "start_time": "2021-07-07T17:55:41.351Z"
      },
      {
        "duration": 471,
        "start_time": "2021-07-07T17:55:41.866Z"
      },
      {
        "duration": 27,
        "start_time": "2021-07-07T17:55:42.340Z"
      },
      {
        "duration": 519,
        "start_time": "2021-07-07T17:55:44.190Z"
      },
      {
        "duration": 461,
        "start_time": "2021-07-07T17:55:44.711Z"
      },
      {
        "duration": 27,
        "start_time": "2021-07-07T17:55:46.124Z"
      },
      {
        "duration": 503,
        "start_time": "2021-07-07T17:55:50.997Z"
      },
      {
        "duration": 434,
        "start_time": "2021-07-07T17:55:51.503Z"
      },
      {
        "duration": 28,
        "start_time": "2021-07-07T17:55:51.940Z"
      },
      {
        "duration": 430,
        "start_time": "2021-07-07T17:55:53.448Z"
      },
      {
        "duration": 553,
        "start_time": "2021-07-07T17:55:54.983Z"
      },
      {
        "duration": 26,
        "start_time": "2021-07-07T17:55:56.542Z"
      },
      {
        "duration": 7,
        "start_time": "2021-07-07T17:56:22.660Z"
      },
      {
        "duration": 9,
        "start_time": "2021-07-07T17:56:25.599Z"
      },
      {
        "duration": 10,
        "start_time": "2021-07-07T17:56:25.755Z"
      },
      {
        "duration": 11,
        "start_time": "2021-07-07T17:56:26.629Z"
      },
      {
        "duration": 3,
        "start_time": "2021-07-07T17:56:26.778Z"
      },
      {
        "duration": 5,
        "start_time": "2021-07-07T17:56:27.093Z"
      },
      {
        "duration": 7,
        "start_time": "2021-07-07T17:56:27.886Z"
      },
      {
        "duration": 7,
        "start_time": "2021-07-07T17:56:40.369Z"
      },
      {
        "duration": 6,
        "start_time": "2021-07-07T17:56:40.706Z"
      },
      {
        "duration": 10,
        "start_time": "2021-07-07T17:56:41.073Z"
      },
      {
        "duration": 10,
        "start_time": "2021-07-07T17:56:46.536Z"
      },
      {
        "duration": 10,
        "start_time": "2021-07-07T17:56:46.709Z"
      },
      {
        "duration": 4,
        "start_time": "2021-07-07T17:56:47.031Z"
      },
      {
        "duration": 5,
        "start_time": "2021-07-07T17:56:47.194Z"
      },
      {
        "duration": 6,
        "start_time": "2021-07-07T18:00:37.142Z"
      },
      {
        "duration": 6,
        "start_time": "2021-07-07T18:00:38.003Z"
      },
      {
        "duration": 10,
        "start_time": "2021-07-07T18:00:38.176Z"
      },
      {
        "duration": 13,
        "start_time": "2021-07-07T18:00:38.372Z"
      },
      {
        "duration": 10,
        "start_time": "2021-07-07T18:00:38.554Z"
      },
      {
        "duration": 4,
        "start_time": "2021-07-07T18:00:38.734Z"
      },
      {
        "duration": 5,
        "start_time": "2021-07-07T18:00:39.306Z"
      },
      {
        "duration": 14,
        "start_time": "2021-07-07T18:29:19.002Z"
      },
      {
        "duration": 14,
        "start_time": "2021-07-07T18:29:44.252Z"
      },
      {
        "duration": 12,
        "start_time": "2021-07-07T18:30:52.303Z"
      },
      {
        "duration": 10,
        "start_time": "2021-07-07T18:32:16.669Z"
      },
      {
        "duration": 9,
        "start_time": "2021-07-07T18:32:35.576Z"
      },
      {
        "duration": 8,
        "start_time": "2021-07-07T18:33:51.902Z"
      },
      {
        "duration": 10,
        "start_time": "2021-07-07T18:33:54.203Z"
      },
      {
        "duration": 9,
        "start_time": "2021-07-07T18:38:04.896Z"
      },
      {
        "duration": 10,
        "start_time": "2021-07-07T18:38:05.384Z"
      },
      {
        "duration": 5,
        "start_time": "2021-07-07T18:39:16.950Z"
      },
      {
        "duration": 568,
        "start_time": "2021-07-07T18:39:17.285Z"
      },
      {
        "duration": 14,
        "start_time": "2021-07-07T18:39:18.010Z"
      },
      {
        "duration": 9,
        "start_time": "2021-07-07T18:39:18.182Z"
      },
      {
        "duration": 23,
        "start_time": "2021-07-07T18:39:18.354Z"
      },
      {
        "duration": 23,
        "start_time": "2021-07-07T18:39:18.888Z"
      },
      {
        "duration": 17,
        "start_time": "2021-07-07T18:39:19.242Z"
      },
      {
        "duration": 34,
        "start_time": "2021-07-07T18:39:19.430Z"
      },
      {
        "duration": 38,
        "start_time": "2021-07-07T18:39:19.594Z"
      },
      {
        "duration": 537,
        "start_time": "2021-07-07T18:39:19.940Z"
      },
      {
        "duration": 11,
        "start_time": "2021-07-07T18:39:20.484Z"
      },
      {
        "duration": 21,
        "start_time": "2021-07-07T18:39:20.499Z"
      },
      {
        "duration": 458,
        "start_time": "2021-07-07T18:39:20.851Z"
      },
      {
        "duration": 25,
        "start_time": "2021-07-07T18:39:21.311Z"
      },
      {
        "duration": 11,
        "start_time": "2021-07-07T18:39:21.557Z"
      },
      {
        "duration": 27,
        "start_time": "2021-07-07T18:39:21.746Z"
      },
      {
        "duration": 35,
        "start_time": "2021-07-07T18:39:21.929Z"
      },
      {
        "duration": 753,
        "start_time": "2021-07-07T18:39:22.282Z"
      },
      {
        "duration": 5,
        "start_time": "2021-07-07T18:39:23.038Z"
      },
      {
        "duration": 13,
        "start_time": "2021-07-07T18:39:23.046Z"
      },
      {
        "duration": 14,
        "start_time": "2021-07-07T18:39:23.193Z"
      },
      {
        "duration": 5,
        "start_time": "2021-07-07T18:39:23.522Z"
      },
      {
        "duration": 9,
        "start_time": "2021-07-07T18:39:23.702Z"
      },
      {
        "duration": 11,
        "start_time": "2021-07-07T18:39:24.900Z"
      },
      {
        "duration": 105,
        "start_time": "2021-07-07T18:39:25.258Z"
      },
      {
        "duration": 56,
        "start_time": "2021-07-07T18:39:25.462Z"
      },
      {
        "duration": 12,
        "start_time": "2021-07-07T18:39:25.637Z"
      },
      {
        "duration": 17,
        "start_time": "2021-07-07T18:39:25.991Z"
      },
      {
        "duration": 62,
        "start_time": "2021-07-07T18:39:26.163Z"
      },
      {
        "duration": 37,
        "start_time": "2021-07-07T18:39:26.351Z"
      },
      {
        "duration": 17,
        "start_time": "2021-07-07T18:39:26.721Z"
      },
      {
        "duration": 66,
        "start_time": "2021-07-07T18:39:26.901Z"
      },
      {
        "duration": 42,
        "start_time": "2021-07-07T18:39:27.277Z"
      },
      {
        "duration": 10,
        "start_time": "2021-07-07T18:39:27.461Z"
      },
      {
        "duration": 15,
        "start_time": "2021-07-07T18:39:28.002Z"
      },
      {
        "duration": 14,
        "start_time": "2021-07-07T18:39:28.370Z"
      },
      {
        "duration": 15,
        "start_time": "2021-07-07T18:39:28.722Z"
      },
      {
        "duration": 28,
        "start_time": "2021-07-07T18:39:28.927Z"
      },
      {
        "duration": 10,
        "start_time": "2021-07-07T18:39:29.273Z"
      },
      {
        "duration": 8,
        "start_time": "2021-07-07T18:39:29.665Z"
      },
      {
        "duration": 9,
        "start_time": "2021-07-07T18:39:29.845Z"
      },
      {
        "duration": 6,
        "start_time": "2021-07-07T18:39:30.223Z"
      },
      {
        "duration": 19,
        "start_time": "2021-07-07T18:39:30.414Z"
      },
      {
        "duration": 365,
        "start_time": "2021-07-07T18:39:30.623Z"
      },
      {
        "duration": 6,
        "start_time": "2021-07-07T18:39:30.991Z"
      },
      {
        "duration": 32,
        "start_time": "2021-07-07T18:39:31.238Z"
      },
      {
        "duration": 557,
        "start_time": "2021-07-07T18:39:32.270Z"
      },
      {
        "duration": 515,
        "start_time": "2021-07-07T18:39:32.830Z"
      },
      {
        "duration": 47,
        "start_time": "2021-07-07T18:39:33.348Z"
      },
      {
        "duration": 547,
        "start_time": "2021-07-07T18:39:33.398Z"
      },
      {
        "duration": 501,
        "start_time": "2021-07-07T18:39:33.948Z"
      },
      {
        "duration": 44,
        "start_time": "2021-07-07T18:39:34.452Z"
      },
      {
        "duration": 559,
        "start_time": "2021-07-07T18:39:34.499Z"
      },
      {
        "duration": 470,
        "start_time": "2021-07-07T18:39:35.061Z"
      },
      {
        "duration": 27,
        "start_time": "2021-07-07T18:39:35.534Z"
      },
      {
        "duration": 497,
        "start_time": "2021-07-07T18:39:35.563Z"
      },
      {
        "duration": 461,
        "start_time": "2021-07-07T18:39:36.063Z"
      },
      {
        "duration": 29,
        "start_time": "2021-07-07T18:39:36.527Z"
      },
      {
        "duration": 38,
        "start_time": "2021-07-07T18:39:36.559Z"
      },
      {
        "duration": 11,
        "start_time": "2021-07-07T18:39:36.600Z"
      },
      {
        "duration": 12,
        "start_time": "2021-07-07T18:39:37.491Z"
      },
      {
        "duration": 8,
        "start_time": "2021-07-07T18:39:37.836Z"
      },
      {
        "duration": 11,
        "start_time": "2021-07-07T18:39:38.017Z"
      },
      {
        "duration": 13,
        "start_time": "2021-07-07T18:39:38.197Z"
      },
      {
        "duration": 3,
        "start_time": "2021-07-07T18:39:38.387Z"
      },
      {
        "duration": 5,
        "start_time": "2021-07-07T18:39:38.574Z"
      },
      {
        "duration": 6,
        "start_time": "2021-07-07T18:39:38.754Z"
      },
      {
        "duration": 8,
        "start_time": "2021-07-07T18:39:39.122Z"
      },
      {
        "duration": 7,
        "start_time": "2021-07-07T18:39:39.297Z"
      },
      {
        "duration": 9,
        "start_time": "2021-07-07T18:39:39.511Z"
      },
      {
        "duration": 11,
        "start_time": "2021-07-07T18:39:39.672Z"
      },
      {
        "duration": 10,
        "start_time": "2021-07-07T18:39:39.845Z"
      },
      {
        "duration": 5,
        "start_time": "2021-07-07T18:39:40.025Z"
      },
      {
        "duration": 5,
        "start_time": "2021-07-07T18:39:40.237Z"
      },
      {
        "duration": 1439,
        "start_time": "2021-07-07T21:57:54.794Z"
      },
      {
        "duration": 697,
        "start_time": "2021-07-07T21:57:56.236Z"
      },
      {
        "duration": 19,
        "start_time": "2021-07-07T21:57:56.936Z"
      },
      {
        "duration": 12,
        "start_time": "2021-07-07T21:57:56.958Z"
      },
      {
        "duration": 26,
        "start_time": "2021-07-07T21:57:56.972Z"
      },
      {
        "duration": 16,
        "start_time": "2021-07-07T21:57:57.000Z"
      },
      {
        "duration": 37,
        "start_time": "2021-07-07T21:57:57.018Z"
      },
      {
        "duration": 22,
        "start_time": "2021-07-07T21:57:57.059Z"
      },
      {
        "duration": 38,
        "start_time": "2021-07-07T21:57:57.085Z"
      },
      {
        "duration": 546,
        "start_time": "2021-07-07T21:57:57.125Z"
      },
      {
        "duration": 10,
        "start_time": "2021-07-07T21:57:57.673Z"
      },
      {
        "duration": 29,
        "start_time": "2021-07-07T21:57:57.685Z"
      },
      {
        "duration": 440,
        "start_time": "2021-07-07T21:57:57.716Z"
      },
      {
        "duration": 26,
        "start_time": "2021-07-07T21:57:58.158Z"
      },
      {
        "duration": 11,
        "start_time": "2021-07-07T21:57:58.187Z"
      },
      {
        "duration": 57,
        "start_time": "2021-07-07T21:57:58.200Z"
      },
      {
        "duration": 37,
        "start_time": "2021-07-07T21:57:58.260Z"
      },
      {
        "duration": 723,
        "start_time": "2021-07-07T21:57:58.300Z"
      },
      {
        "duration": 6,
        "start_time": "2021-07-07T21:57:59.025Z"
      },
      {
        "duration": 29,
        "start_time": "2021-07-07T21:57:59.034Z"
      },
      {
        "duration": 11,
        "start_time": "2021-07-07T21:57:59.066Z"
      },
      {
        "duration": 24,
        "start_time": "2021-07-07T21:57:59.079Z"
      },
      {
        "duration": 11,
        "start_time": "2021-07-07T21:57:59.111Z"
      },
      {
        "duration": 33,
        "start_time": "2021-07-07T21:57:59.128Z"
      },
      {
        "duration": 100,
        "start_time": "2021-07-07T21:57:59.164Z"
      },
      {
        "duration": 87,
        "start_time": "2021-07-07T21:57:59.267Z"
      },
      {
        "duration": 15,
        "start_time": "2021-07-07T21:57:59.357Z"
      },
      {
        "duration": 29,
        "start_time": "2021-07-07T21:57:59.376Z"
      },
      {
        "duration": 108,
        "start_time": "2021-07-07T21:57:59.455Z"
      },
      {
        "duration": 90,
        "start_time": "2021-07-07T21:57:59.566Z"
      },
      {
        "duration": 18,
        "start_time": "2021-07-07T21:57:59.658Z"
      },
      {
        "duration": 121,
        "start_time": "2021-07-07T21:57:59.678Z"
      },
      {
        "duration": 84,
        "start_time": "2021-07-07T21:57:59.801Z"
      },
      {
        "duration": 10,
        "start_time": "2021-07-07T21:57:59.888Z"
      },
      {
        "duration": 66,
        "start_time": "2021-07-07T21:57:59.900Z"
      },
      {
        "duration": 13,
        "start_time": "2021-07-07T21:57:59.969Z"
      },
      {
        "duration": 13,
        "start_time": "2021-07-07T21:57:59.985Z"
      },
      {
        "duration": 29,
        "start_time": "2021-07-07T21:58:00.055Z"
      },
      {
        "duration": 10,
        "start_time": "2021-07-07T21:58:00.086Z"
      },
      {
        "duration": 58,
        "start_time": "2021-07-07T21:58:00.099Z"
      },
      {
        "duration": 10,
        "start_time": "2021-07-07T21:58:00.160Z"
      },
      {
        "duration": 12,
        "start_time": "2021-07-07T21:58:00.172Z"
      },
      {
        "duration": 83,
        "start_time": "2021-07-07T21:58:00.186Z"
      },
      {
        "duration": 424,
        "start_time": "2021-07-07T21:58:00.272Z"
      },
      {
        "duration": 8,
        "start_time": "2021-07-07T21:58:00.699Z"
      },
      {
        "duration": 67,
        "start_time": "2021-07-07T21:58:00.710Z"
      },
      {
        "duration": 513,
        "start_time": "2021-07-07T21:58:00.779Z"
      },
      {
        "duration": 466,
        "start_time": "2021-07-07T21:58:01.295Z"
      },
      {
        "duration": 28,
        "start_time": "2021-07-07T21:58:01.763Z"
      },
      {
        "duration": 534,
        "start_time": "2021-07-07T21:58:01.793Z"
      },
      {
        "duration": 460,
        "start_time": "2021-07-07T21:58:02.330Z"
      },
      {
        "duration": 29,
        "start_time": "2021-07-07T21:58:02.793Z"
      },
      {
        "duration": 538,
        "start_time": "2021-07-07T21:58:02.824Z"
      },
      {
        "duration": 510,
        "start_time": "2021-07-07T21:58:03.365Z"
      },
      {
        "duration": 26,
        "start_time": "2021-07-07T21:58:03.878Z"
      },
      {
        "duration": 461,
        "start_time": "2021-07-07T21:58:03.906Z"
      },
      {
        "duration": 487,
        "start_time": "2021-07-07T21:58:04.370Z"
      },
      {
        "duration": 29,
        "start_time": "2021-07-07T21:58:04.860Z"
      },
      {
        "duration": 8,
        "start_time": "2021-07-07T21:58:04.892Z"
      },
      {
        "duration": 17,
        "start_time": "2021-07-07T21:58:04.902Z"
      },
      {
        "duration": 35,
        "start_time": "2021-07-07T21:58:04.922Z"
      },
      {
        "duration": 16,
        "start_time": "2021-07-07T21:58:04.959Z"
      },
      {
        "duration": 18,
        "start_time": "2021-07-07T21:58:04.977Z"
      },
      {
        "duration": 24,
        "start_time": "2021-07-07T21:58:04.997Z"
      },
      {
        "duration": 4,
        "start_time": "2021-07-07T21:58:05.023Z"
      },
      {
        "duration": 25,
        "start_time": "2021-07-07T21:58:05.030Z"
      },
      {
        "duration": 11,
        "start_time": "2021-07-07T21:58:05.058Z"
      },
      {
        "duration": 12,
        "start_time": "2021-07-07T21:58:05.078Z"
      },
      {
        "duration": 6,
        "start_time": "2021-07-07T21:58:05.094Z"
      },
      {
        "duration": 10,
        "start_time": "2021-07-07T21:58:05.103Z"
      },
      {
        "duration": 38,
        "start_time": "2021-07-07T21:58:05.115Z"
      },
      {
        "duration": 17,
        "start_time": "2021-07-07T21:58:05.156Z"
      },
      {
        "duration": 4,
        "start_time": "2021-07-07T21:58:05.176Z"
      },
      {
        "duration": 9,
        "start_time": "2021-07-07T21:58:05.183Z"
      },
      {
        "duration": 87,
        "start_time": "2021-07-07T21:58:09.591Z"
      },
      {
        "duration": 43,
        "start_time": "2021-07-07T22:02:49.572Z"
      },
      {
        "duration": 84,
        "start_time": "2021-07-07T22:03:15.734Z"
      },
      {
        "duration": 29,
        "start_time": "2021-07-07T22:03:33.031Z"
      },
      {
        "duration": 4,
        "start_time": "2021-07-07T22:03:41.580Z"
      },
      {
        "duration": 26,
        "start_time": "2021-07-07T22:03:43.513Z"
      },
      {
        "duration": 27,
        "start_time": "2021-07-07T22:04:06.115Z"
      },
      {
        "duration": 35,
        "start_time": "2021-07-07T22:04:15.636Z"
      },
      {
        "duration": 27,
        "start_time": "2021-07-07T22:04:21.068Z"
      },
      {
        "duration": 7,
        "start_time": "2021-07-07T22:06:34.410Z"
      },
      {
        "duration": 87,
        "start_time": "2021-07-08T05:55:55.815Z"
      },
      {
        "duration": 261,
        "start_time": "2021-07-08T05:57:15.486Z"
      },
      {
        "duration": 364,
        "start_time": "2021-07-08T17:32:56.450Z"
      },
      {
        "duration": 317,
        "start_time": "2021-07-08T17:33:02.106Z"
      },
      {
        "duration": 1567,
        "start_time": "2021-07-08T17:33:06.294Z"
      },
      {
        "duration": 561,
        "start_time": "2021-07-08T17:33:08.741Z"
      },
      {
        "duration": 22,
        "start_time": "2021-07-08T17:33:09.878Z"
      },
      {
        "duration": 18,
        "start_time": "2021-07-08T17:33:10.092Z"
      },
      {
        "duration": 23,
        "start_time": "2021-07-08T17:33:10.295Z"
      },
      {
        "duration": 17,
        "start_time": "2021-07-08T17:33:10.899Z"
      },
      {
        "duration": 11,
        "start_time": "2021-07-08T17:33:11.309Z"
      },
      {
        "duration": 24,
        "start_time": "2021-07-08T17:33:11.505Z"
      },
      {
        "duration": 41,
        "start_time": "2021-07-08T17:33:12.008Z"
      },
      {
        "duration": 536,
        "start_time": "2021-07-08T17:33:12.414Z"
      },
      {
        "duration": 11,
        "start_time": "2021-07-08T17:33:13.043Z"
      },
      {
        "duration": 20,
        "start_time": "2021-07-08T17:33:13.256Z"
      },
      {
        "duration": 444,
        "start_time": "2021-07-08T17:33:13.631Z"
      },
      {
        "duration": 34,
        "start_time": "2021-07-08T17:33:14.077Z"
      },
      {
        "duration": 12,
        "start_time": "2021-07-08T17:33:14.668Z"
      },
      {
        "duration": 32,
        "start_time": "2021-07-08T17:33:14.879Z"
      },
      {
        "duration": 45,
        "start_time": "2021-07-08T17:33:16.949Z"
      },
      {
        "duration": 722,
        "start_time": "2021-07-08T17:33:17.315Z"
      },
      {
        "duration": 47,
        "start_time": "2021-07-08T17:33:18.713Z"
      },
      {
        "duration": 12,
        "start_time": "2021-07-08T17:33:35.826Z"
      },
      {
        "duration": 12,
        "start_time": "2021-07-08T17:55:11.063Z"
      },
      {
        "duration": 4,
        "start_time": "2021-07-08T17:55:59.794Z"
      },
      {
        "duration": 6,
        "start_time": "2021-07-08T17:56:04.832Z"
      },
      {
        "duration": 6,
        "start_time": "2021-07-08T17:56:18.530Z"
      },
      {
        "duration": 13,
        "start_time": "2021-07-08T17:57:18.137Z"
      },
      {
        "duration": 102,
        "start_time": "2021-07-08T17:58:43.429Z"
      },
      {
        "duration": 5,
        "start_time": "2021-07-08T17:59:12.230Z"
      },
      {
        "duration": 527,
        "start_time": "2021-07-08T17:59:13.147Z"
      },
      {
        "duration": 15,
        "start_time": "2021-07-08T17:59:15.386Z"
      },
      {
        "duration": 10,
        "start_time": "2021-07-08T17:59:15.576Z"
      },
      {
        "duration": 23,
        "start_time": "2021-07-08T17:59:15.774Z"
      },
      {
        "duration": 16,
        "start_time": "2021-07-08T17:59:16.376Z"
      },
      {
        "duration": 11,
        "start_time": "2021-07-08T17:59:16.784Z"
      },
      {
        "duration": 23,
        "start_time": "2021-07-08T17:59:17.002Z"
      },
      {
        "duration": 37,
        "start_time": "2021-07-08T17:59:17.194Z"
      },
      {
        "duration": 502,
        "start_time": "2021-07-08T17:59:17.569Z"
      },
      {
        "duration": 14,
        "start_time": "2021-07-08T17:59:18.073Z"
      },
      {
        "duration": 20,
        "start_time": "2021-07-08T17:59:18.158Z"
      },
      {
        "duration": 437,
        "start_time": "2021-07-08T17:59:18.902Z"
      },
      {
        "duration": 24,
        "start_time": "2021-07-08T17:59:19.341Z"
      },
      {
        "duration": 11,
        "start_time": "2021-07-08T17:59:20.285Z"
      },
      {
        "duration": 28,
        "start_time": "2021-07-08T17:59:20.459Z"
      },
      {
        "duration": 37,
        "start_time": "2021-07-08T17:59:20.663Z"
      },
      {
        "duration": 684,
        "start_time": "2021-07-08T17:59:50.151Z"
      },
      {
        "duration": 41,
        "start_time": "2021-07-08T17:59:52.000Z"
      },
      {
        "duration": 13,
        "start_time": "2021-07-08T17:59:52.527Z"
      },
      {
        "duration": 6,
        "start_time": "2021-07-08T17:59:53.133Z"
      },
      {
        "duration": 18,
        "start_time": "2021-07-08T17:59:54.699Z"
      },
      {
        "duration": 5,
        "start_time": "2021-07-08T17:59:56.494Z"
      },
      {
        "duration": 9,
        "start_time": "2021-07-08T18:00:12.068Z"
      },
      {
        "duration": 8,
        "start_time": "2021-07-08T18:06:50.061Z"
      },
      {
        "duration": 389,
        "start_time": "2021-07-08T18:08:47.715Z"
      },
      {
        "duration": 5,
        "start_time": "2021-07-08T18:08:58.505Z"
      },
      {
        "duration": 509,
        "start_time": "2021-07-08T18:08:59.798Z"
      },
      {
        "duration": 15,
        "start_time": "2021-07-08T18:09:03.378Z"
      },
      {
        "duration": 13,
        "start_time": "2021-07-08T18:09:04.122Z"
      },
      {
        "duration": 22,
        "start_time": "2021-07-08T18:09:04.940Z"
      },
      {
        "duration": 16,
        "start_time": "2021-07-08T18:09:08.323Z"
      },
      {
        "duration": 11,
        "start_time": "2021-07-08T18:09:10.133Z"
      },
      {
        "duration": 23,
        "start_time": "2021-07-08T18:09:13.618Z"
      },
      {
        "duration": 40,
        "start_time": "2021-07-08T18:09:15.993Z"
      },
      {
        "duration": 9,
        "start_time": "2021-07-08T18:09:17.744Z"
      },
      {
        "duration": 17,
        "start_time": "2021-07-08T18:09:23.599Z"
      },
      {
        "duration": 52,
        "start_time": "2021-07-08T18:09:34.110Z"
      },
      {
        "duration": 14,
        "start_time": "2021-07-08T18:09:59.294Z"
      },
      {
        "duration": 14,
        "start_time": "2021-07-08T18:10:25.427Z"
      },
      {
        "duration": 125,
        "start_time": "2021-07-08T18:28:22.323Z"
      },
      {
        "duration": 58,
        "start_time": "2021-07-08T18:29:27.145Z"
      },
      {
        "duration": 54,
        "start_time": "2021-07-08T18:29:41.188Z"
      },
      {
        "duration": 68,
        "start_time": "2021-07-08T18:29:56.516Z"
      },
      {
        "duration": 95,
        "start_time": "2021-07-08T18:30:14.045Z"
      },
      {
        "duration": 64,
        "start_time": "2021-07-08T18:30:20.892Z"
      },
      {
        "duration": 12,
        "start_time": "2021-07-08T18:31:30.566Z"
      },
      {
        "duration": 10,
        "start_time": "2021-07-08T18:32:33.232Z"
      },
      {
        "duration": 4,
        "start_time": "2021-07-08T18:32:40.837Z"
      },
      {
        "duration": 522,
        "start_time": "2021-07-08T18:32:43.670Z"
      },
      {
        "duration": 15,
        "start_time": "2021-07-08T18:32:44.344Z"
      },
      {
        "duration": 10,
        "start_time": "2021-07-08T18:32:44.511Z"
      },
      {
        "duration": 23,
        "start_time": "2021-07-08T18:32:44.707Z"
      },
      {
        "duration": 16,
        "start_time": "2021-07-08T18:32:45.339Z"
      },
      {
        "duration": 13,
        "start_time": "2021-07-08T18:32:45.734Z"
      },
      {
        "duration": 16,
        "start_time": "2021-07-08T18:32:46.281Z"
      },
      {
        "duration": 24,
        "start_time": "2021-07-08T18:32:46.549Z"
      },
      {
        "duration": 36,
        "start_time": "2021-07-08T18:32:46.768Z"
      },
      {
        "duration": 10,
        "start_time": "2021-07-08T18:32:47.191Z"
      },
      {
        "duration": 15,
        "start_time": "2021-07-08T18:32:47.622Z"
      },
      {
        "duration": 51,
        "start_time": "2021-07-08T18:32:47.819Z"
      },
      {
        "duration": 17,
        "start_time": "2021-07-08T18:32:48.032Z"
      },
      {
        "duration": 16,
        "start_time": "2021-07-08T18:32:48.487Z"
      },
      {
        "duration": 461,
        "start_time": "2021-07-08T18:32:49.067Z"
      },
      {
        "duration": 63,
        "start_time": "2021-07-08T18:32:49.531Z"
      },
      {
        "duration": 10,
        "start_time": "2021-07-08T18:32:50.665Z"
      },
      {
        "duration": 21,
        "start_time": "2021-07-08T18:32:50.888Z"
      },
      {
        "duration": 683,
        "start_time": "2021-07-08T18:32:51.389Z"
      },
      {
        "duration": 40,
        "start_time": "2021-07-08T18:32:52.075Z"
      },
      {
        "duration": 34,
        "start_time": "2021-07-08T18:32:52.118Z"
      },
      {
        "duration": 11,
        "start_time": "2021-07-08T18:32:52.534Z"
      },
      {
        "duration": 48,
        "start_time": "2021-07-08T18:32:52.747Z"
      },
      {
        "duration": 49,
        "start_time": "2021-07-08T18:32:52.961Z"
      },
      {
        "duration": 1220,
        "start_time": "2021-07-08T18:32:53.414Z"
      },
      {
        "duration": 57,
        "start_time": "2021-07-08T18:32:54.637Z"
      },
      {
        "duration": 16,
        "start_time": "2021-07-08T18:32:54.697Z"
      },
      {
        "duration": 7,
        "start_time": "2021-07-08T18:32:55.585Z"
      },
      {
        "duration": 15,
        "start_time": "2021-07-08T18:32:56.642Z"
      },
      {
        "duration": 6,
        "start_time": "2021-07-08T18:32:57.961Z"
      },
      {
        "duration": 6,
        "start_time": "2021-07-08T18:33:30.506Z"
      },
      {
        "duration": 11,
        "start_time": "2021-07-08T18:33:32.509Z"
      },
      {
        "duration": 42,
        "start_time": "2021-07-08T18:33:35.259Z"
      },
      {
        "duration": 15,
        "start_time": "2021-07-08T18:33:37.132Z"
      },
      {
        "duration": 5,
        "start_time": "2021-07-08T18:33:37.979Z"
      },
      {
        "duration": 9,
        "start_time": "2021-07-08T18:33:38.169Z"
      },
      {
        "duration": 8,
        "start_time": "2021-07-08T18:39:51.738Z"
      },
      {
        "duration": 12,
        "start_time": "2021-07-08T18:39:53.430Z"
      },
      {
        "duration": 69,
        "start_time": "2021-07-08T18:39:53.774Z"
      },
      {
        "duration": 33,
        "start_time": "2021-07-08T18:39:53.971Z"
      },
      {
        "duration": 12,
        "start_time": "2021-07-08T18:39:54.152Z"
      },
      {
        "duration": 15,
        "start_time": "2021-07-08T18:39:54.550Z"
      },
      {
        "duration": 52,
        "start_time": "2021-07-08T18:39:54.716Z"
      },
      {
        "duration": 32,
        "start_time": "2021-07-08T18:39:54.880Z"
      },
      {
        "duration": 16,
        "start_time": "2021-07-08T18:39:55.234Z"
      },
      {
        "duration": 56,
        "start_time": "2021-07-08T18:39:55.407Z"
      },
      {
        "duration": 26,
        "start_time": "2021-07-08T18:39:55.752Z"
      },
      {
        "duration": 11,
        "start_time": "2021-07-08T18:39:55.925Z"
      },
      {
        "duration": 13,
        "start_time": "2021-07-08T18:39:56.606Z"
      },
      {
        "duration": 15,
        "start_time": "2021-07-08T18:39:56.944Z"
      },
      {
        "duration": 15,
        "start_time": "2021-07-08T18:39:57.900Z"
      },
      {
        "duration": 33,
        "start_time": "2021-07-08T18:39:59.163Z"
      },
      {
        "duration": 39,
        "start_time": "2021-07-08T18:40:05.226Z"
      },
      {
        "duration": 27,
        "start_time": "2021-07-08T18:40:46.515Z"
      },
      {
        "duration": 11,
        "start_time": "2021-07-08T18:41:00.983Z"
      },
      {
        "duration": 10,
        "start_time": "2021-07-08T18:42:57.354Z"
      },
      {
        "duration": 8,
        "start_time": "2021-07-08T18:43:18.978Z"
      },
      {
        "duration": 9,
        "start_time": "2021-07-08T18:43:20.422Z"
      },
      {
        "duration": 5,
        "start_time": "2021-07-08T18:43:31.667Z"
      },
      {
        "duration": 28,
        "start_time": "2021-07-08T18:43:31.878Z"
      },
      {
        "duration": 7,
        "start_time": "2021-07-08T18:47:57.714Z"
      },
      {
        "duration": 5,
        "start_time": "2021-07-08T18:48:05.688Z"
      },
      {
        "duration": 526,
        "start_time": "2021-07-08T18:48:06.285Z"
      },
      {
        "duration": 14,
        "start_time": "2021-07-08T18:48:07.218Z"
      },
      {
        "duration": 9,
        "start_time": "2021-07-08T18:48:07.398Z"
      },
      {
        "duration": 21,
        "start_time": "2021-07-08T18:48:07.570Z"
      },
      {
        "duration": 16,
        "start_time": "2021-07-08T18:48:08.152Z"
      },
      {
        "duration": 11,
        "start_time": "2021-07-08T18:48:08.530Z"
      },
      {
        "duration": 17,
        "start_time": "2021-07-08T18:48:08.924Z"
      },
      {
        "duration": 22,
        "start_time": "2021-07-08T18:48:09.122Z"
      },
      {
        "duration": 35,
        "start_time": "2021-07-08T18:48:09.327Z"
      },
      {
        "duration": 9,
        "start_time": "2021-07-08T18:48:09.703Z"
      },
      {
        "duration": 14,
        "start_time": "2021-07-08T18:48:10.106Z"
      },
      {
        "duration": 50,
        "start_time": "2021-07-08T18:48:10.310Z"
      },
      {
        "duration": 13,
        "start_time": "2021-07-08T18:48:10.507Z"
      },
      {
        "duration": 15,
        "start_time": "2021-07-08T18:48:10.900Z"
      },
      {
        "duration": 452,
        "start_time": "2021-07-08T18:48:11.285Z"
      },
      {
        "duration": 58,
        "start_time": "2021-07-08T18:48:11.739Z"
      },
      {
        "duration": 10,
        "start_time": "2021-07-08T18:48:12.097Z"
      },
      {
        "duration": 21,
        "start_time": "2021-07-08T18:48:12.300Z"
      },
      {
        "duration": 425,
        "start_time": "2021-07-08T18:48:12.679Z"
      },
      {
        "duration": 25,
        "start_time": "2021-07-08T18:48:13.106Z"
      },
      {
        "duration": 55,
        "start_time": "2021-07-08T18:48:13.134Z"
      },
      {
        "duration": 11,
        "start_time": "2021-07-08T18:48:13.650Z"
      },
      {
        "duration": 28,
        "start_time": "2021-07-08T18:48:13.847Z"
      },
      {
        "duration": 35,
        "start_time": "2021-07-08T18:48:14.034Z"
      },
      {
        "duration": 703,
        "start_time": "2021-07-08T18:48:14.434Z"
      },
      {
        "duration": 52,
        "start_time": "2021-07-08T18:48:15.140Z"
      },
      {
        "duration": 14,
        "start_time": "2021-07-08T18:48:15.245Z"
      },
      {
        "duration": 5,
        "start_time": "2021-07-08T18:48:15.449Z"
      },
      {
        "duration": 10,
        "start_time": "2021-07-08T18:48:15.872Z"
      },
      {
        "duration": 4,
        "start_time": "2021-07-08T18:48:16.643Z"
      },
      {
        "duration": 11,
        "start_time": "2021-07-08T18:48:17.198Z"
      },
      {
        "duration": 40,
        "start_time": "2021-07-08T18:48:17.584Z"
      },
      {
        "duration": 15,
        "start_time": "2021-07-08T18:48:19.009Z"
      },
      {
        "duration": 5,
        "start_time": "2021-07-08T18:48:19.355Z"
      },
      {
        "duration": 9,
        "start_time": "2021-07-08T18:48:19.929Z"
      },
      {
        "duration": 11,
        "start_time": "2021-07-08T18:48:43.454Z"
      },
      {
        "duration": 75,
        "start_time": "2021-07-08T18:48:47.601Z"
      },
      {
        "duration": 32,
        "start_time": "2021-07-08T18:48:48.205Z"
      },
      {
        "duration": 11,
        "start_time": "2021-07-08T18:48:48.842Z"
      },
      {
        "duration": 14,
        "start_time": "2021-07-08T18:48:50.111Z"
      },
      {
        "duration": 56,
        "start_time": "2021-07-08T18:48:50.299Z"
      },
      {
        "duration": 30,
        "start_time": "2021-07-08T18:48:50.707Z"
      },
      {
        "duration": 16,
        "start_time": "2021-07-08T18:48:51.608Z"
      },
      {
        "duration": 57,
        "start_time": "2021-07-08T18:48:52.133Z"
      },
      {
        "duration": 32,
        "start_time": "2021-07-08T18:48:53.889Z"
      },
      {
        "duration": 10,
        "start_time": "2021-07-08T18:48:54.398Z"
      },
      {
        "duration": 13,
        "start_time": "2021-07-08T18:48:56.179Z"
      },
      {
        "duration": 13,
        "start_time": "2021-07-08T18:48:57.787Z"
      },
      {
        "duration": 13,
        "start_time": "2021-07-08T18:49:00.940Z"
      },
      {
        "duration": 32,
        "start_time": "2021-07-08T18:49:02.250Z"
      },
      {
        "duration": 11,
        "start_time": "2021-07-08T18:49:06.743Z"
      },
      {
        "duration": 7,
        "start_time": "2021-07-08T18:49:08.247Z"
      },
      {
        "duration": 9,
        "start_time": "2021-07-08T18:49:09.543Z"
      },
      {
        "duration": 5,
        "start_time": "2021-07-08T18:49:10.718Z"
      },
      {
        "duration": 327,
        "start_time": "2021-07-08T19:19:35.889Z"
      },
      {
        "duration": 14,
        "start_time": "2021-07-08T19:19:48.119Z"
      },
      {
        "duration": 15,
        "start_time": "2021-07-08T19:19:49.197Z"
      },
      {
        "duration": 13,
        "start_time": "2021-07-08T19:19:49.728Z"
      },
      {
        "duration": 33,
        "start_time": "2021-07-08T19:19:49.942Z"
      },
      {
        "duration": 13,
        "start_time": "2021-07-08T19:19:50.622Z"
      },
      {
        "duration": 8,
        "start_time": "2021-07-08T19:19:51.851Z"
      },
      {
        "duration": 13,
        "start_time": "2021-07-08T19:19:52.338Z"
      },
      {
        "duration": 8,
        "start_time": "2021-07-08T19:19:53.628Z"
      },
      {
        "duration": 33,
        "start_time": "2021-07-08T19:19:54.044Z"
      },
      {
        "duration": 635,
        "start_time": "2021-07-08T19:19:54.211Z"
      },
      {
        "duration": 7,
        "start_time": "2021-07-08T19:19:56.466Z"
      },
      {
        "duration": 335,
        "start_time": "2021-07-08T19:19:58.359Z"
      },
      {
        "duration": 362,
        "start_time": "2021-07-08T19:21:10.113Z"
      },
      {
        "duration": 26,
        "start_time": "2021-07-08T19:21:26.046Z"
      },
      {
        "duration": 5,
        "start_time": "2021-07-08T19:22:11.790Z"
      },
      {
        "duration": 597,
        "start_time": "2021-07-08T19:22:12.093Z"
      },
      {
        "duration": 16,
        "start_time": "2021-07-08T19:22:12.941Z"
      },
      {
        "duration": 14,
        "start_time": "2021-07-08T19:22:13.113Z"
      },
      {
        "duration": 37,
        "start_time": "2021-07-08T19:22:13.576Z"
      },
      {
        "duration": 25,
        "start_time": "2021-07-08T19:22:14.093Z"
      },
      {
        "duration": 11,
        "start_time": "2021-07-08T19:22:14.457Z"
      },
      {
        "duration": 12,
        "start_time": "2021-07-08T19:22:14.834Z"
      },
      {
        "duration": 24,
        "start_time": "2021-07-08T19:22:15.173Z"
      },
      {
        "duration": 39,
        "start_time": "2021-07-08T19:22:15.367Z"
      },
      {
        "duration": 10,
        "start_time": "2021-07-08T19:22:15.821Z"
      },
      {
        "duration": 17,
        "start_time": "2021-07-08T19:22:16.294Z"
      },
      {
        "duration": 59,
        "start_time": "2021-07-08T19:22:16.497Z"
      },
      {
        "duration": 15,
        "start_time": "2021-07-08T19:22:16.763Z"
      },
      {
        "duration": 15,
        "start_time": "2021-07-08T19:22:17.211Z"
      },
      {
        "duration": 454,
        "start_time": "2021-07-08T19:22:17.619Z"
      },
      {
        "duration": 47,
        "start_time": "2021-07-08T19:22:18.090Z"
      },
      {
        "duration": 11,
        "start_time": "2021-07-08T19:22:18.569Z"
      },
      {
        "duration": 22,
        "start_time": "2021-07-08T19:22:18.766Z"
      },
      {
        "duration": 434,
        "start_time": "2021-07-08T19:22:19.205Z"
      },
      {
        "duration": 43,
        "start_time": "2021-07-08T19:22:19.642Z"
      },
      {
        "duration": 38,
        "start_time": "2021-07-08T19:22:19.688Z"
      },
      {
        "duration": 11,
        "start_time": "2021-07-08T19:22:20.382Z"
      },
      {
        "duration": 28,
        "start_time": "2021-07-08T19:22:20.595Z"
      },
      {
        "duration": 35,
        "start_time": "2021-07-08T19:22:20.753Z"
      },
      {
        "duration": 688,
        "start_time": "2021-07-08T19:22:21.152Z"
      },
      {
        "duration": 42,
        "start_time": "2021-07-08T19:22:22.212Z"
      },
      {
        "duration": 15,
        "start_time": "2021-07-08T19:22:22.721Z"
      },
      {
        "duration": 6,
        "start_time": "2021-07-08T19:22:22.927Z"
      },
      {
        "duration": 13,
        "start_time": "2021-07-08T19:22:23.555Z"
      },
      {
        "duration": 6,
        "start_time": "2021-07-08T19:22:24.428Z"
      },
      {
        "duration": 12,
        "start_time": "2021-07-08T19:22:25.448Z"
      },
      {
        "duration": 52,
        "start_time": "2021-07-08T19:22:26.486Z"
      },
      {
        "duration": 12,
        "start_time": "2021-07-08T19:22:26.825Z"
      },
      {
        "duration": 6,
        "start_time": "2021-07-08T19:22:27.341Z"
      },
      {
        "duration": 10,
        "start_time": "2021-07-08T19:22:27.555Z"
      },
      {
        "duration": 13,
        "start_time": "2021-07-08T19:22:30.615Z"
      },
      {
        "duration": 75,
        "start_time": "2021-07-08T19:22:31.345Z"
      },
      {
        "duration": 35,
        "start_time": "2021-07-08T19:22:31.542Z"
      },
      {
        "duration": 11,
        "start_time": "2021-07-08T19:22:31.909Z"
      },
      {
        "duration": 16,
        "start_time": "2021-07-08T19:22:32.679Z"
      },
      {
        "duration": 57,
        "start_time": "2021-07-08T19:22:33.174Z"
      },
      {
        "duration": 34,
        "start_time": "2021-07-08T19:22:33.504Z"
      },
      {
        "duration": 18,
        "start_time": "2021-07-08T19:22:34.319Z"
      },
      {
        "duration": 62,
        "start_time": "2021-07-08T19:22:34.828Z"
      },
      {
        "duration": 26,
        "start_time": "2021-07-08T19:22:35.686Z"
      },
      {
        "duration": 12,
        "start_time": "2021-07-08T19:22:35.936Z"
      },
      {
        "duration": 23,
        "start_time": "2021-07-08T19:22:36.666Z"
      },
      {
        "duration": 16,
        "start_time": "2021-07-08T19:22:37.169Z"
      },
      {
        "duration": 14,
        "start_time": "2021-07-08T19:22:38.408Z"
      },
      {
        "duration": 34,
        "start_time": "2021-07-08T19:22:39.053Z"
      },
      {
        "duration": 12,
        "start_time": "2021-07-08T19:22:46.279Z"
      },
      {
        "duration": 7,
        "start_time": "2021-07-08T19:22:47.155Z"
      },
      {
        "duration": 9,
        "start_time": "2021-07-08T19:22:47.665Z"
      },
      {
        "duration": 6,
        "start_time": "2021-07-08T19:22:48.034Z"
      },
      {
        "duration": 24,
        "start_time": "2021-07-08T19:22:48.254Z"
      },
      {
        "duration": 367,
        "start_time": "2021-07-08T19:22:48.451Z"
      },
      {
        "duration": 7,
        "start_time": "2021-07-08T19:22:53.422Z"
      },
      {
        "duration": 28,
        "start_time": "2021-07-08T19:22:59.280Z"
      },
      {
        "duration": 26,
        "start_time": "2021-07-08T19:23:06.151Z"
      },
      {
        "duration": 529,
        "start_time": "2021-07-08T19:27:59.976Z"
      },
      {
        "duration": 6,
        "start_time": "2021-07-08T19:28:06.179Z"
      },
      {
        "duration": 24,
        "start_time": "2021-07-08T19:28:06.535Z"
      },
      {
        "duration": 359,
        "start_time": "2021-07-08T19:28:06.738Z"
      },
      {
        "duration": 5,
        "start_time": "2021-07-08T19:28:07.167Z"
      },
      {
        "duration": 26,
        "start_time": "2021-07-08T19:28:07.375Z"
      },
      {
        "duration": 499,
        "start_time": "2021-07-08T19:28:11.882Z"
      },
      {
        "duration": 583,
        "start_time": "2021-07-08T19:29:40.674Z"
      },
      {
        "duration": 978,
        "start_time": "2021-07-08T19:30:50.135Z"
      },
      {
        "duration": 113,
        "start_time": "2021-07-08T19:35:09.580Z"
      },
      {
        "duration": 1015,
        "start_time": "2021-07-08T19:35:18.560Z"
      },
      {
        "duration": 774,
        "start_time": "2021-07-08T19:36:00.695Z"
      },
      {
        "duration": 584,
        "start_time": "2021-07-08T19:36:40.183Z"
      },
      {
        "duration": 1203,
        "start_time": "2021-07-08T19:37:30.489Z"
      },
      {
        "duration": 1048,
        "start_time": "2021-07-08T19:37:51.778Z"
      },
      {
        "duration": 1209,
        "start_time": "2021-07-08T19:38:00.863Z"
      },
      {
        "duration": 642,
        "start_time": "2021-07-08T19:38:22.686Z"
      },
      {
        "duration": 1084,
        "start_time": "2021-07-08T19:39:02.381Z"
      },
      {
        "duration": 944,
        "start_time": "2021-07-08T19:40:14.079Z"
      },
      {
        "duration": 648,
        "start_time": "2021-07-08T19:41:22.499Z"
      },
      {
        "duration": 29,
        "start_time": "2021-07-08T19:42:19.042Z"
      },
      {
        "duration": 616,
        "start_time": "2021-07-08T19:43:32.713Z"
      },
      {
        "duration": 716,
        "start_time": "2021-07-08T19:43:51.504Z"
      },
      {
        "duration": 28,
        "start_time": "2021-07-08T19:44:01.952Z"
      },
      {
        "duration": 867,
        "start_time": "2021-07-08T19:44:49.985Z"
      },
      {
        "duration": 30,
        "start_time": "2021-07-08T19:44:57.809Z"
      },
      {
        "duration": 10,
        "start_time": "2021-07-08T19:44:59.750Z"
      },
      {
        "duration": 10,
        "start_time": "2021-07-08T19:45:01.040Z"
      },
      {
        "duration": 6,
        "start_time": "2021-07-08T19:46:49.601Z"
      },
      {
        "duration": 12,
        "start_time": "2021-07-08T19:48:21.369Z"
      },
      {
        "duration": 11,
        "start_time": "2021-07-08T19:48:21.849Z"
      },
      {
        "duration": 12,
        "start_time": "2021-07-08T19:48:22.013Z"
      },
      {
        "duration": 5,
        "start_time": "2021-07-08T19:48:22.611Z"
      },
      {
        "duration": 4,
        "start_time": "2021-07-08T19:48:22.768Z"
      },
      {
        "duration": 6,
        "start_time": "2021-07-08T19:48:22.955Z"
      },
      {
        "duration": 341,
        "start_time": "2021-07-08T19:59:04.140Z"
      },
      {
        "duration": 7,
        "start_time": "2021-07-08T19:59:12.907Z"
      },
      {
        "duration": 8,
        "start_time": "2021-07-08T20:00:55.819Z"
      },
      {
        "duration": 9,
        "start_time": "2021-07-08T20:00:55.970Z"
      },
      {
        "duration": 16,
        "start_time": "2021-07-08T20:00:56.549Z"
      },
      {
        "duration": 12,
        "start_time": "2021-07-08T20:00:56.972Z"
      },
      {
        "duration": 10,
        "start_time": "2021-07-08T20:00:57.483Z"
      },
      {
        "duration": 5,
        "start_time": "2021-07-08T20:00:58.301Z"
      },
      {
        "duration": 8,
        "start_time": "2021-07-08T20:00:59.201Z"
      },
      {
        "duration": 7,
        "start_time": "2021-07-08T20:10:38.993Z"
      },
      {
        "duration": 613,
        "start_time": "2021-07-08T20:10:39.880Z"
      },
      {
        "duration": 16,
        "start_time": "2021-07-08T20:10:41.245Z"
      },
      {
        "duration": 14,
        "start_time": "2021-07-08T20:10:41.411Z"
      },
      {
        "duration": 34,
        "start_time": "2021-07-08T20:10:41.599Z"
      },
      {
        "duration": 16,
        "start_time": "2021-07-08T20:10:43.820Z"
      },
      {
        "duration": 15,
        "start_time": "2021-07-08T20:10:43.840Z"
      },
      {
        "duration": 11,
        "start_time": "2021-07-08T20:10:43.859Z"
      },
      {
        "duration": 41,
        "start_time": "2021-07-08T20:10:43.872Z"
      },
      {
        "duration": 40,
        "start_time": "2021-07-08T20:10:43.916Z"
      },
      {
        "duration": 14,
        "start_time": "2021-07-08T20:10:43.987Z"
      },
      {
        "duration": 18,
        "start_time": "2021-07-08T20:10:44.049Z"
      },
      {
        "duration": 80,
        "start_time": "2021-07-08T20:10:44.251Z"
      },
      {
        "duration": 14,
        "start_time": "2021-07-08T20:10:44.440Z"
      },
      {
        "duration": 14,
        "start_time": "2021-07-08T20:10:44.871Z"
      },
      {
        "duration": 470,
        "start_time": "2021-07-08T20:10:45.276Z"
      },
      {
        "duration": 66,
        "start_time": "2021-07-08T20:10:45.749Z"
      },
      {
        "duration": 14,
        "start_time": "2021-07-08T20:10:48.027Z"
      },
      {
        "duration": 30,
        "start_time": "2021-07-08T20:10:48.217Z"
      },
      {
        "duration": 751,
        "start_time": "2021-07-08T20:10:48.578Z"
      },
      {
        "duration": 36,
        "start_time": "2021-07-08T20:10:49.333Z"
      },
      {
        "duration": 47,
        "start_time": "2021-07-08T20:10:49.386Z"
      },
      {
        "duration": 15,
        "start_time": "2021-07-08T20:10:50.016Z"
      },
      {
        "duration": 28,
        "start_time": "2021-07-08T20:10:50.236Z"
      },
      {
        "duration": 39,
        "start_time": "2021-07-08T20:10:51.630Z"
      },
      {
        "duration": 719,
        "start_time": "2021-07-08T20:10:52.196Z"
      },
      {
        "duration": 46,
        "start_time": "2021-07-08T20:10:52.918Z"
      },
      {
        "duration": 14,
        "start_time": "2021-07-08T20:10:53.082Z"
      },
      {
        "duration": 5,
        "start_time": "2021-07-08T20:10:53.332Z"
      },
      {
        "duration": 11,
        "start_time": "2021-07-08T20:10:53.795Z"
      },
      {
        "duration": 5,
        "start_time": "2021-07-08T20:10:54.626Z"
      },
      {
        "duration": 11,
        "start_time": "2021-07-08T20:10:56.322Z"
      },
      {
        "duration": 49,
        "start_time": "2021-07-08T20:10:57.980Z"
      },
      {
        "duration": 12,
        "start_time": "2021-07-08T20:10:58.369Z"
      },
      {
        "duration": 6,
        "start_time": "2021-07-08T20:10:58.769Z"
      },
      {
        "duration": 10,
        "start_time": "2021-07-08T20:10:58.965Z"
      },
      {
        "duration": 19,
        "start_time": "2021-07-08T20:11:00.676Z"
      },
      {
        "duration": 113,
        "start_time": "2021-07-08T20:11:01.014Z"
      },
      {
        "duration": 33,
        "start_time": "2021-07-08T20:11:01.201Z"
      },
      {
        "duration": 12,
        "start_time": "2021-07-08T20:11:01.383Z"
      },
      {
        "duration": 15,
        "start_time": "2021-07-08T20:11:01.751Z"
      },
      {
        "duration": 62,
        "start_time": "2021-07-08T20:11:01.932Z"
      },
      {
        "duration": 35,
        "start_time": "2021-07-08T20:11:02.120Z"
      },
      {
        "duration": 16,
        "start_time": "2021-07-08T20:11:02.488Z"
      },
      {
        "duration": 61,
        "start_time": "2021-07-08T20:11:02.694Z"
      },
      {
        "duration": 32,
        "start_time": "2021-07-08T20:11:03.070Z"
      },
      {
        "duration": 15,
        "start_time": "2021-07-08T20:11:03.274Z"
      },
      {
        "duration": 15,
        "start_time": "2021-07-08T20:11:03.837Z"
      },
      {
        "duration": 19,
        "start_time": "2021-07-08T20:11:04.207Z"
      },
      {
        "duration": 24,
        "start_time": "2021-07-08T20:11:04.842Z"
      },
      {
        "duration": 33,
        "start_time": "2021-07-08T20:11:05.079Z"
      },
      {
        "duration": 14,
        "start_time": "2021-07-08T20:11:05.909Z"
      },
      {
        "duration": 10,
        "start_time": "2021-07-08T20:11:06.331Z"
      },
      {
        "duration": 13,
        "start_time": "2021-07-08T20:11:06.678Z"
      },
      {
        "duration": 8,
        "start_time": "2021-07-08T20:11:07.079Z"
      },
      {
        "duration": 36,
        "start_time": "2021-07-08T20:11:07.275Z"
      },
      {
        "duration": 725,
        "start_time": "2021-07-08T20:11:07.488Z"
      },
      {
        "duration": 8,
        "start_time": "2021-07-08T20:11:08.216Z"
      },
      {
        "duration": 33,
        "start_time": "2021-07-08T20:11:08.227Z"
      },
      {
        "duration": 1024,
        "start_time": "2021-07-08T20:11:11.248Z"
      },
      {
        "duration": 41,
        "start_time": "2021-07-08T20:11:13.156Z"
      },
      {
        "duration": 1126,
        "start_time": "2021-07-08T20:11:15.733Z"
      },
      {
        "duration": 40,
        "start_time": "2021-07-08T20:11:18.352Z"
      },
      {
        "duration": 601,
        "start_time": "2021-07-08T20:11:19.050Z"
      },
      {
        "duration": 42,
        "start_time": "2021-07-08T20:11:19.655Z"
      },
      {
        "duration": 522,
        "start_time": "2021-07-08T20:11:20.159Z"
      },
      {
        "duration": 29,
        "start_time": "2021-07-08T20:11:20.685Z"
      },
      {
        "duration": 11,
        "start_time": "2021-07-08T20:11:21.463Z"
      },
      {
        "duration": 10,
        "start_time": "2021-07-08T20:11:21.643Z"
      },
      {
        "duration": 6,
        "start_time": "2021-07-08T20:11:24.158Z"
      },
      {
        "duration": 9,
        "start_time": "2021-07-08T20:11:25.400Z"
      },
      {
        "duration": 11,
        "start_time": "2021-07-08T20:11:25.566Z"
      },
      {
        "duration": 12,
        "start_time": "2021-07-08T20:11:25.738Z"
      },
      {
        "duration": 4,
        "start_time": "2021-07-08T20:11:25.919Z"
      },
      {
        "duration": 5,
        "start_time": "2021-07-08T20:11:26.083Z"
      },
      {
        "duration": 5,
        "start_time": "2021-07-08T20:11:26.273Z"
      },
      {
        "duration": 8,
        "start_time": "2021-07-08T20:11:27.496Z"
      },
      {
        "duration": 10,
        "start_time": "2021-07-08T20:11:27.709Z"
      },
      {
        "duration": 11,
        "start_time": "2021-07-08T20:11:27.929Z"
      },
      {
        "duration": 12,
        "start_time": "2021-07-08T20:11:28.124Z"
      },
      {
        "duration": 14,
        "start_time": "2021-07-08T20:11:28.337Z"
      },
      {
        "duration": 5,
        "start_time": "2021-07-08T20:11:28.508Z"
      },
      {
        "duration": 5,
        "start_time": "2021-07-08T20:11:28.705Z"
      },
      {
        "duration": 1134,
        "start_time": "2021-07-09T07:10:51.361Z"
      },
      {
        "duration": 361,
        "start_time": "2021-07-09T07:10:52.497Z"
      },
      {
        "duration": 12,
        "start_time": "2021-07-09T07:10:52.860Z"
      },
      {
        "duration": 9,
        "start_time": "2021-07-09T07:10:52.873Z"
      },
      {
        "duration": 14,
        "start_time": "2021-07-09T07:10:52.884Z"
      },
      {
        "duration": 9,
        "start_time": "2021-07-09T07:10:52.899Z"
      },
      {
        "duration": 8,
        "start_time": "2021-07-09T07:10:52.909Z"
      },
      {
        "duration": 7,
        "start_time": "2021-07-09T07:10:52.919Z"
      },
      {
        "duration": 17,
        "start_time": "2021-07-09T07:10:52.927Z"
      },
      {
        "duration": 55,
        "start_time": "2021-07-09T07:10:52.945Z"
      },
      {
        "duration": 6,
        "start_time": "2021-07-09T07:10:53.001Z"
      },
      {
        "duration": 21,
        "start_time": "2021-07-09T07:10:53.009Z"
      },
      {
        "duration": 35,
        "start_time": "2021-07-09T07:10:53.032Z"
      },
      {
        "duration": 23,
        "start_time": "2021-07-09T07:10:53.069Z"
      },
      {
        "duration": 11,
        "start_time": "2021-07-09T07:10:53.093Z"
      },
      {
        "duration": 255,
        "start_time": "2021-07-09T07:10:53.105Z"
      },
      {
        "duration": 31,
        "start_time": "2021-07-09T07:10:53.361Z"
      },
      {
        "duration": 6,
        "start_time": "2021-07-09T07:10:53.393Z"
      },
      {
        "duration": 28,
        "start_time": "2021-07-09T07:10:53.401Z"
      },
      {
        "duration": 231,
        "start_time": "2021-07-09T07:10:53.430Z"
      },
      {
        "duration": 17,
        "start_time": "2021-07-09T07:10:53.663Z"
      },
      {
        "duration": 34,
        "start_time": "2021-07-09T07:10:53.682Z"
      },
      {
        "duration": 10,
        "start_time": "2021-07-09T07:10:53.722Z"
      },
      {
        "duration": 57,
        "start_time": "2021-07-09T07:10:53.735Z"
      },
      {
        "duration": 28,
        "start_time": "2021-07-09T07:10:53.794Z"
      },
      {
        "duration": 454,
        "start_time": "2021-07-09T07:10:53.824Z"
      },
      {
        "duration": 29,
        "start_time": "2021-07-09T07:10:54.280Z"
      },
      {
        "duration": 8,
        "start_time": "2021-07-09T07:10:54.311Z"
      },
      {
        "duration": 4,
        "start_time": "2021-07-09T07:10:54.320Z"
      },
      {
        "duration": 18,
        "start_time": "2021-07-09T07:10:54.326Z"
      },
      {
        "duration": 5,
        "start_time": "2021-07-09T07:10:54.345Z"
      },
      {
        "duration": 13,
        "start_time": "2021-07-09T07:10:54.351Z"
      },
      {
        "duration": 47,
        "start_time": "2021-07-09T07:10:54.365Z"
      },
      {
        "duration": 7,
        "start_time": "2021-07-09T07:10:54.413Z"
      },
      {
        "duration": 8,
        "start_time": "2021-07-09T07:10:54.422Z"
      },
      {
        "duration": 13,
        "start_time": "2021-07-09T07:10:54.431Z"
      },
      {
        "duration": 12,
        "start_time": "2021-07-09T07:10:54.446Z"
      },
      {
        "duration": 60,
        "start_time": "2021-07-09T07:10:54.459Z"
      },
      {
        "duration": 24,
        "start_time": "2021-07-09T07:10:54.521Z"
      },
      {
        "duration": 7,
        "start_time": "2021-07-09T07:10:54.547Z"
      },
      {
        "duration": 16,
        "start_time": "2021-07-09T07:10:54.556Z"
      },
      {
        "duration": 48,
        "start_time": "2021-07-09T07:10:54.574Z"
      },
      {
        "duration": 24,
        "start_time": "2021-07-09T07:10:54.624Z"
      },
      {
        "duration": 13,
        "start_time": "2021-07-09T07:10:54.649Z"
      },
      {
        "duration": 50,
        "start_time": "2021-07-09T07:10:54.664Z"
      },
      {
        "duration": 18,
        "start_time": "2021-07-09T07:10:54.716Z"
      },
      {
        "duration": 7,
        "start_time": "2021-07-09T07:10:54.736Z"
      },
      {
        "duration": 13,
        "start_time": "2021-07-09T07:10:54.745Z"
      },
      {
        "duration": 9,
        "start_time": "2021-07-09T07:10:54.760Z"
      },
      {
        "duration": 9,
        "start_time": "2021-07-09T07:10:54.790Z"
      },
      {
        "duration": 17,
        "start_time": "2021-07-09T07:10:54.800Z"
      },
      {
        "duration": 8,
        "start_time": "2021-07-09T07:10:54.818Z"
      },
      {
        "duration": 5,
        "start_time": "2021-07-09T07:10:54.827Z"
      },
      {
        "duration": 18,
        "start_time": "2021-07-09T07:10:54.833Z"
      },
      {
        "duration": 10,
        "start_time": "2021-07-09T07:10:54.853Z"
      },
      {
        "duration": 35,
        "start_time": "2021-07-09T07:10:54.864Z"
      },
      {
        "duration": 187,
        "start_time": "2021-07-09T07:10:54.901Z"
      },
      {
        "duration": 3,
        "start_time": "2021-07-09T07:10:55.090Z"
      },
      {
        "duration": 26,
        "start_time": "2021-07-09T07:10:55.094Z"
      },
      {
        "duration": 318,
        "start_time": "2021-07-09T07:10:55.122Z"
      },
      {
        "duration": 16,
        "start_time": "2021-07-09T07:10:55.441Z"
      },
      {
        "duration": 326,
        "start_time": "2021-07-09T07:10:55.459Z"
      },
      {
        "duration": 17,
        "start_time": "2021-07-09T07:10:55.786Z"
      },
      {
        "duration": 315,
        "start_time": "2021-07-09T07:10:55.805Z"
      },
      {
        "duration": 16,
        "start_time": "2021-07-09T07:10:56.122Z"
      },
      {
        "duration": 359,
        "start_time": "2021-07-09T07:10:56.139Z"
      },
      {
        "duration": 15,
        "start_time": "2021-07-09T07:10:56.500Z"
      },
      {
        "duration": 5,
        "start_time": "2021-07-09T07:10:56.520Z"
      },
      {
        "duration": 6,
        "start_time": "2021-07-09T07:10:56.526Z"
      },
      {
        "duration": 6,
        "start_time": "2021-07-09T07:10:56.534Z"
      },
      {
        "duration": 10,
        "start_time": "2021-07-09T07:10:56.541Z"
      },
      {
        "duration": 18,
        "start_time": "2021-07-09T07:10:56.552Z"
      },
      {
        "duration": 23,
        "start_time": "2021-07-09T07:10:56.572Z"
      },
      {
        "duration": 4,
        "start_time": "2021-07-09T07:10:56.597Z"
      },
      {
        "duration": 12,
        "start_time": "2021-07-09T07:10:56.602Z"
      },
      {
        "duration": 9,
        "start_time": "2021-07-09T07:10:56.615Z"
      },
      {
        "duration": 9,
        "start_time": "2021-07-09T07:10:56.626Z"
      },
      {
        "duration": 8,
        "start_time": "2021-07-09T07:10:56.637Z"
      },
      {
        "duration": 9,
        "start_time": "2021-07-09T07:10:56.647Z"
      },
      {
        "duration": 9,
        "start_time": "2021-07-09T07:10:56.658Z"
      },
      {
        "duration": 8,
        "start_time": "2021-07-09T07:10:56.669Z"
      },
      {
        "duration": 5,
        "start_time": "2021-07-09T07:10:56.678Z"
      },
      {
        "duration": 9,
        "start_time": "2021-07-09T07:10:56.685Z"
      },
      {
        "duration": 4,
        "start_time": "2021-07-09T07:25:50.288Z"
      },
      {
        "duration": 4,
        "start_time": "2021-07-09T07:26:01.176Z"
      },
      {
        "duration": 4,
        "start_time": "2021-07-09T07:26:02.823Z"
      },
      {
        "duration": 14,
        "start_time": "2021-07-09T07:26:03.015Z"
      },
      {
        "duration": 186,
        "start_time": "2021-07-09T07:26:03.170Z"
      },
      {
        "duration": 4,
        "start_time": "2021-07-09T07:26:03.981Z"
      },
      {
        "duration": 17,
        "start_time": "2021-07-09T07:26:04.188Z"
      },
      {
        "duration": 6,
        "start_time": "2021-07-09T07:26:24.847Z"
      },
      {
        "duration": 5,
        "start_time": "2021-07-09T07:26:27.759Z"
      },
      {
        "duration": 15,
        "start_time": "2021-07-09T07:26:33.034Z"
      },
      {
        "duration": 83,
        "start_time": "2021-07-09T07:28:05.095Z"
      },
      {
        "duration": 4,
        "start_time": "2021-07-09T07:28:17.326Z"
      },
      {
        "duration": 4,
        "start_time": "2021-07-09T07:28:19.837Z"
      },
      {
        "duration": 15,
        "start_time": "2021-07-09T07:28:20.002Z"
      },
      {
        "duration": 184,
        "start_time": "2021-07-09T07:28:20.170Z"
      },
      {
        "duration": 4,
        "start_time": "2021-07-09T07:28:20.477Z"
      },
      {
        "duration": 15,
        "start_time": "2021-07-09T07:28:20.662Z"
      },
      {
        "duration": 15,
        "start_time": "2021-07-09T07:28:20.816Z"
      },
      {
        "duration": 15,
        "start_time": "2021-07-09T07:30:12.769Z"
      }
    ],
    "kernelspec": {
      "display_name": "Python 3",
      "language": "python",
      "name": "python3"
    },
    "language_info": {
      "codemirror_mode": {
        "name": "ipython",
        "version": 3
      },
      "file_extension": ".py",
      "mimetype": "text/x-python",
      "name": "python",
      "nbconvert_exporter": "python",
      "pygments_lexer": "ipython3",
      "version": "3.7.8"
    },
    "toc": {
      "base_numbering": 1,
      "nav_menu": {},
      "number_sections": true,
      "sideBar": true,
      "skip_h1_title": true,
      "title_cell": "Table of Contents",
      "title_sidebar": "Contents",
      "toc_cell": false,
      "toc_position": {
        "height": "calc(100% - 180px)",
        "left": "10px",
        "top": "150px",
        "width": "292.865px"
      },
      "toc_section_display": true,
      "toc_window_display": true
    },
    "colab": {
      "name": "Определение перспективного тарифа для телеком компании.ipynb",
      "provenance": [],
      "collapsed_sections": []
    }
  },
  "cells": [
    {
      "cell_type": "markdown",
      "metadata": {
        "id": "HgtiPSNSUyjR"
      },
      "source": [
        "# **Содержание**"
      ]
    },
    {
      "cell_type": "markdown",
      "metadata": {
        "id": "r_hjhUarUyjS"
      },
      "source": [
        "Необходимо произвести предварительный анализ тарифов «Смарт» и «Ультра» компании «Мегалайн» на небольшой выборке клиентов. В вашем распоряжении данные 500 пользователей «Мегалайна»: кто они, откуда, каким тарифом пользуются, сколько звонков и сообщений каждый отправил за 2018 год. Нужно проанализировать поведение клиентов и сделать вывод — какой тариф лучше."
      ]
    },
    {
      "cell_type": "markdown",
      "metadata": {
        "id": "NEJyoVtQUyjS"
      },
      "source": [
        "## Изучение данных из файла"
      ]
    },
    {
      "cell_type": "markdown",
      "metadata": {
        "id": "2Ynb8hLjUyjT"
      },
      "source": [
        "- посмотрим наборы данных\n",
        "- сделаем предварительные выводы\n",
        "- поищем аномалии\n",
        "- найти и обработать пропуски\n",
        "- заменить некорректные типы данных\n",
        "- привести данные к нужным типам"
      ]
    },
    {
      "cell_type": "markdown",
      "metadata": {
        "id": "t0pfALziUyjT"
      },
      "source": [
        "Импортируем все необходимые бибилиотеки"
      ]
    },
    {
      "cell_type": "code",
      "metadata": {
        "id": "_1OjgGrHUyjU"
      },
      "source": [
        "import pandas as pd\n",
        "import numpy as np\n",
        "\n",
        "import seaborn as sns                #для создания красивых статистических графиков\n",
        "from matplotlib import pyplot as plt\n",
        "\n",
        "from scipy import stats as st\n",
        "\n",
        "from datetime import datetime\n",
        "import math as m\n",
        "\n",
        "pd.options.display.float_format = '{:,.2f}'.format"
      ],
      "execution_count": null,
      "outputs": []
    },
    {
      "cell_type": "markdown",
      "metadata": {
        "id": "3YwhHfjwUyjU"
      },
      "source": [
        "Теперь прочтем данные из предоставленных датасетов"
      ]
    },
    {
      "cell_type": "code",
      "metadata": {
        "id": "Dv6Hd9L8UyjV"
      },
      "source": [
        "#прочтем данные\n",
        "\n",
        "df_calls = pd.read_csv('/datasets/calls.csv', sep=',')\n",
        "df_internet = pd.read_csv('/datasets/internet.csv', sep=',')\n",
        "df_msg = pd.read_csv('/datasets/messages.csv', sep=',')\n",
        "df_tariffs = pd.read_csv('/datasets/tariffs.csv', sep=',')\n",
        "df_users = pd.read_csv('/datasets/users.csv', sep=',')"
      ],
      "execution_count": null,
      "outputs": []
    },
    {
      "cell_type": "markdown",
      "metadata": {
        "id": "WObmAQbiUyjW"
      },
      "source": [
        "## Предобработка данных"
      ]
    },
    {
      "cell_type": "markdown",
      "metadata": {
        "id": "l32H_FRpUyjW"
      },
      "source": [
        "Для начала, приведём данные к нужным нам типам, а также найдем и исправим ошибки в данных."
      ]
    },
    {
      "cell_type": "markdown",
      "metadata": {
        "id": "BK9er69JUyjW"
      },
      "source": [
        "**1. Изучим таблицу с информацией о пользователях**"
      ]
    },
    {
      "cell_type": "code",
      "metadata": {
        "id": "1WUJb1uZUyjW",
        "outputId": "e3c18525-f332-46c7-eba9-65eb00b52e0d"
      },
      "source": [
        "df_users.head()"
      ],
      "execution_count": null,
      "outputs": [
        {
          "output_type": "execute_result",
          "data": {
            "text/html": [
              "<div>\n",
              "<style scoped>\n",
              "    .dataframe tbody tr th:only-of-type {\n",
              "        vertical-align: middle;\n",
              "    }\n",
              "\n",
              "    .dataframe tbody tr th {\n",
              "        vertical-align: top;\n",
              "    }\n",
              "\n",
              "    .dataframe thead th {\n",
              "        text-align: right;\n",
              "    }\n",
              "</style>\n",
              "<table border=\"1\" class=\"dataframe\">\n",
              "  <thead>\n",
              "    <tr style=\"text-align: right;\">\n",
              "      <th></th>\n",
              "      <th>user_id</th>\n",
              "      <th>age</th>\n",
              "      <th>churn_date</th>\n",
              "      <th>city</th>\n",
              "      <th>first_name</th>\n",
              "      <th>last_name</th>\n",
              "      <th>reg_date</th>\n",
              "      <th>tariff</th>\n",
              "    </tr>\n",
              "  </thead>\n",
              "  <tbody>\n",
              "    <tr>\n",
              "      <td>0</td>\n",
              "      <td>1000</td>\n",
              "      <td>52</td>\n",
              "      <td>NaN</td>\n",
              "      <td>Краснодар</td>\n",
              "      <td>Рафаил</td>\n",
              "      <td>Верещагин</td>\n",
              "      <td>2018-05-25</td>\n",
              "      <td>ultra</td>\n",
              "    </tr>\n",
              "    <tr>\n",
              "      <td>1</td>\n",
              "      <td>1001</td>\n",
              "      <td>41</td>\n",
              "      <td>NaN</td>\n",
              "      <td>Москва</td>\n",
              "      <td>Иван</td>\n",
              "      <td>Ежов</td>\n",
              "      <td>2018-11-01</td>\n",
              "      <td>smart</td>\n",
              "    </tr>\n",
              "    <tr>\n",
              "      <td>2</td>\n",
              "      <td>1002</td>\n",
              "      <td>59</td>\n",
              "      <td>NaN</td>\n",
              "      <td>Стерлитамак</td>\n",
              "      <td>Евгений</td>\n",
              "      <td>Абрамович</td>\n",
              "      <td>2018-06-17</td>\n",
              "      <td>smart</td>\n",
              "    </tr>\n",
              "    <tr>\n",
              "      <td>3</td>\n",
              "      <td>1003</td>\n",
              "      <td>23</td>\n",
              "      <td>NaN</td>\n",
              "      <td>Москва</td>\n",
              "      <td>Белла</td>\n",
              "      <td>Белякова</td>\n",
              "      <td>2018-08-17</td>\n",
              "      <td>ultra</td>\n",
              "    </tr>\n",
              "    <tr>\n",
              "      <td>4</td>\n",
              "      <td>1004</td>\n",
              "      <td>68</td>\n",
              "      <td>NaN</td>\n",
              "      <td>Новокузнецк</td>\n",
              "      <td>Татьяна</td>\n",
              "      <td>Авдеенко</td>\n",
              "      <td>2018-05-14</td>\n",
              "      <td>ultra</td>\n",
              "    </tr>\n",
              "  </tbody>\n",
              "</table>\n",
              "</div>"
            ],
            "text/plain": [
              "   user_id  age churn_date         city first_name  last_name    reg_date  \\\n",
              "0     1000   52        NaN    Краснодар     Рафаил  Верещагин  2018-05-25   \n",
              "1     1001   41        NaN       Москва       Иван       Ежов  2018-11-01   \n",
              "2     1002   59        NaN  Стерлитамак    Евгений  Абрамович  2018-06-17   \n",
              "3     1003   23        NaN       Москва      Белла   Белякова  2018-08-17   \n",
              "4     1004   68        NaN  Новокузнецк    Татьяна   Авдеенко  2018-05-14   \n",
              "\n",
              "  tariff  \n",
              "0  ultra  \n",
              "1  smart  \n",
              "2  smart  \n",
              "3  ultra  \n",
              "4  ultra  "
            ]
          },
          "metadata": {
            "tags": []
          },
          "execution_count": 3
        }
      ]
    },
    {
      "cell_type": "code",
      "metadata": {
        "id": "yKbq-vnJUyjX",
        "outputId": "49d98c3b-fded-44e8-c28c-fcfa89349eff"
      },
      "source": [
        "df_users.info()"
      ],
      "execution_count": null,
      "outputs": [
        {
          "output_type": "stream",
          "text": [
            "<class 'pandas.core.frame.DataFrame'>\n",
            "RangeIndex: 500 entries, 0 to 499\n",
            "Data columns (total 8 columns):\n",
            "user_id       500 non-null int64\n",
            "age           500 non-null int64\n",
            "churn_date    38 non-null object\n",
            "city          500 non-null object\n",
            "first_name    500 non-null object\n",
            "last_name     500 non-null object\n",
            "reg_date      500 non-null object\n",
            "tariff        500 non-null object\n",
            "dtypes: int64(2), object(6)\n",
            "memory usage: 31.4+ KB\n"
          ],
          "name": "stdout"
        }
      ]
    },
    {
      "cell_type": "code",
      "metadata": {
        "id": "KoFKzBvBUyjX",
        "outputId": "2b712288-4c6c-42ce-b2b7-299018b0bff5"
      },
      "source": [
        "df_users.describe()"
      ],
      "execution_count": null,
      "outputs": [
        {
          "output_type": "execute_result",
          "data": {
            "text/html": [
              "<div>\n",
              "<style scoped>\n",
              "    .dataframe tbody tr th:only-of-type {\n",
              "        vertical-align: middle;\n",
              "    }\n",
              "\n",
              "    .dataframe tbody tr th {\n",
              "        vertical-align: top;\n",
              "    }\n",
              "\n",
              "    .dataframe thead th {\n",
              "        text-align: right;\n",
              "    }\n",
              "</style>\n",
              "<table border=\"1\" class=\"dataframe\">\n",
              "  <thead>\n",
              "    <tr style=\"text-align: right;\">\n",
              "      <th></th>\n",
              "      <th>user_id</th>\n",
              "      <th>age</th>\n",
              "    </tr>\n",
              "  </thead>\n",
              "  <tbody>\n",
              "    <tr>\n",
              "      <td>count</td>\n",
              "      <td>500.00</td>\n",
              "      <td>500.00</td>\n",
              "    </tr>\n",
              "    <tr>\n",
              "      <td>mean</td>\n",
              "      <td>1,249.50</td>\n",
              "      <td>46.59</td>\n",
              "    </tr>\n",
              "    <tr>\n",
              "      <td>std</td>\n",
              "      <td>144.48</td>\n",
              "      <td>16.67</td>\n",
              "    </tr>\n",
              "    <tr>\n",
              "      <td>min</td>\n",
              "      <td>1,000.00</td>\n",
              "      <td>18.00</td>\n",
              "    </tr>\n",
              "    <tr>\n",
              "      <td>25%</td>\n",
              "      <td>1,124.75</td>\n",
              "      <td>32.00</td>\n",
              "    </tr>\n",
              "    <tr>\n",
              "      <td>50%</td>\n",
              "      <td>1,249.50</td>\n",
              "      <td>46.00</td>\n",
              "    </tr>\n",
              "    <tr>\n",
              "      <td>75%</td>\n",
              "      <td>1,374.25</td>\n",
              "      <td>62.00</td>\n",
              "    </tr>\n",
              "    <tr>\n",
              "      <td>max</td>\n",
              "      <td>1,499.00</td>\n",
              "      <td>75.00</td>\n",
              "    </tr>\n",
              "  </tbody>\n",
              "</table>\n",
              "</div>"
            ],
            "text/plain": [
              "       user_id    age\n",
              "count   500.00 500.00\n",
              "mean  1,249.50  46.59\n",
              "std     144.48  16.67\n",
              "min   1,000.00  18.00\n",
              "25%   1,124.75  32.00\n",
              "50%   1,249.50  46.00\n",
              "75%   1,374.25  62.00\n",
              "max   1,499.00  75.00"
            ]
          },
          "metadata": {
            "tags": []
          },
          "execution_count": 5
        }
      ]
    },
    {
      "cell_type": "markdown",
      "metadata": {
        "id": "rBwHXz2_UyjY"
      },
      "source": [
        "Аномальных значений не выявлено: макисмальный возраст 75 лет, минимальный - 18. "
      ]
    },
    {
      "cell_type": "markdown",
      "metadata": {
        "id": "ayYp7YfsUyjY"
      },
      "source": [
        "Мы видим, что колонки reg_date и churn_date имеют тип object, преобразуем их в даты"
      ]
    },
    {
      "cell_type": "code",
      "metadata": {
        "id": "woQsNd_rUyjY"
      },
      "source": [
        "df_users['churn_date'] = pd.to_datetime(df_users['churn_date'], format=\"%Y-%m-%d\")\n",
        "df_users['reg_date'] = pd.to_datetime(df_users['reg_date'], format=\"%Y-%m-%d\")\n",
        "\n",
        "#также, для экономии памяти, преобразуем столбцы user_id и age в тип int32\n",
        "df_users['user_id'] = df_users['user_id'].apply(pd.to_numeric).astype('int32')\n",
        "df_users['age'] = df_users['age'].apply(pd.to_numeric).astype('int32')"
      ],
      "execution_count": null,
      "outputs": []
    },
    {
      "cell_type": "markdown",
      "metadata": {
        "id": "5qFBvGMCUyjY"
      },
      "source": [
        "Проверим дубликаты по таблице users"
      ]
    },
    {
      "cell_type": "code",
      "metadata": {
        "id": "M8L378ATUyjZ",
        "outputId": "9dca832c-54d0-4dfe-fdb1-8075c9947e2d"
      },
      "source": [
        "df_users.duplicated().sum()"
      ],
      "execution_count": null,
      "outputs": [
        {
          "output_type": "execute_result",
          "data": {
            "text/plain": [
              "0"
            ]
          },
          "metadata": {
            "tags": []
          },
          "execution_count": 7
        }
      ]
    },
    {
      "cell_type": "markdown",
      "metadata": {
        "id": "kyXIwQUIUyjZ"
      },
      "source": [
        "**2. Посмотрим на информацию об интернет-сессиях**"
      ]
    },
    {
      "cell_type": "code",
      "metadata": {
        "id": "B1XK9a4bUyjZ",
        "outputId": "6fcce350-863c-4bcf-9801-2ae3657fc0b4"
      },
      "source": [
        "df_internet.head()"
      ],
      "execution_count": null,
      "outputs": [
        {
          "output_type": "execute_result",
          "data": {
            "text/html": [
              "<div>\n",
              "<style scoped>\n",
              "    .dataframe tbody tr th:only-of-type {\n",
              "        vertical-align: middle;\n",
              "    }\n",
              "\n",
              "    .dataframe tbody tr th {\n",
              "        vertical-align: top;\n",
              "    }\n",
              "\n",
              "    .dataframe thead th {\n",
              "        text-align: right;\n",
              "    }\n",
              "</style>\n",
              "<table border=\"1\" class=\"dataframe\">\n",
              "  <thead>\n",
              "    <tr style=\"text-align: right;\">\n",
              "      <th></th>\n",
              "      <th>Unnamed: 0</th>\n",
              "      <th>id</th>\n",
              "      <th>mb_used</th>\n",
              "      <th>session_date</th>\n",
              "      <th>user_id</th>\n",
              "    </tr>\n",
              "  </thead>\n",
              "  <tbody>\n",
              "    <tr>\n",
              "      <td>0</td>\n",
              "      <td>0</td>\n",
              "      <td>1000_0</td>\n",
              "      <td>112.95</td>\n",
              "      <td>2018-11-25</td>\n",
              "      <td>1000</td>\n",
              "    </tr>\n",
              "    <tr>\n",
              "      <td>1</td>\n",
              "      <td>1</td>\n",
              "      <td>1000_1</td>\n",
              "      <td>1,052.81</td>\n",
              "      <td>2018-09-07</td>\n",
              "      <td>1000</td>\n",
              "    </tr>\n",
              "    <tr>\n",
              "      <td>2</td>\n",
              "      <td>2</td>\n",
              "      <td>1000_2</td>\n",
              "      <td>1,197.26</td>\n",
              "      <td>2018-06-25</td>\n",
              "      <td>1000</td>\n",
              "    </tr>\n",
              "    <tr>\n",
              "      <td>3</td>\n",
              "      <td>3</td>\n",
              "      <td>1000_3</td>\n",
              "      <td>550.27</td>\n",
              "      <td>2018-08-22</td>\n",
              "      <td>1000</td>\n",
              "    </tr>\n",
              "    <tr>\n",
              "      <td>4</td>\n",
              "      <td>4</td>\n",
              "      <td>1000_4</td>\n",
              "      <td>302.56</td>\n",
              "      <td>2018-09-24</td>\n",
              "      <td>1000</td>\n",
              "    </tr>\n",
              "  </tbody>\n",
              "</table>\n",
              "</div>"
            ],
            "text/plain": [
              "   Unnamed: 0      id  mb_used session_date  user_id\n",
              "0           0  1000_0   112.95   2018-11-25     1000\n",
              "1           1  1000_1 1,052.81   2018-09-07     1000\n",
              "2           2  1000_2 1,197.26   2018-06-25     1000\n",
              "3           3  1000_3   550.27   2018-08-22     1000\n",
              "4           4  1000_4   302.56   2018-09-24     1000"
            ]
          },
          "metadata": {
            "tags": []
          },
          "execution_count": 8
        }
      ]
    },
    {
      "cell_type": "code",
      "metadata": {
        "id": "rH47isUsUyjZ",
        "outputId": "b5e05a85-7718-4a0d-9459-116a8e9efa62"
      },
      "source": [
        "df_internet.info()"
      ],
      "execution_count": null,
      "outputs": [
        {
          "output_type": "stream",
          "text": [
            "<class 'pandas.core.frame.DataFrame'>\n",
            "RangeIndex: 149396 entries, 0 to 149395\n",
            "Data columns (total 5 columns):\n",
            "Unnamed: 0      149396 non-null int64\n",
            "id              149396 non-null object\n",
            "mb_used         149396 non-null float64\n",
            "session_date    149396 non-null object\n",
            "user_id         149396 non-null int64\n",
            "dtypes: float64(1), int64(2), object(2)\n",
            "memory usage: 5.7+ MB\n"
          ],
          "name": "stdout"
        }
      ]
    },
    {
      "cell_type": "code",
      "metadata": {
        "id": "fC01hDHgUyja",
        "outputId": "e176cba3-6ca0-4027-982d-34cd58b74dd6"
      },
      "source": [
        "df_internet.describe()"
      ],
      "execution_count": null,
      "outputs": [
        {
          "output_type": "execute_result",
          "data": {
            "text/html": [
              "<div>\n",
              "<style scoped>\n",
              "    .dataframe tbody tr th:only-of-type {\n",
              "        vertical-align: middle;\n",
              "    }\n",
              "\n",
              "    .dataframe tbody tr th {\n",
              "        vertical-align: top;\n",
              "    }\n",
              "\n",
              "    .dataframe thead th {\n",
              "        text-align: right;\n",
              "    }\n",
              "</style>\n",
              "<table border=\"1\" class=\"dataframe\">\n",
              "  <thead>\n",
              "    <tr style=\"text-align: right;\">\n",
              "      <th></th>\n",
              "      <th>Unnamed: 0</th>\n",
              "      <th>mb_used</th>\n",
              "      <th>user_id</th>\n",
              "    </tr>\n",
              "  </thead>\n",
              "  <tbody>\n",
              "    <tr>\n",
              "      <td>count</td>\n",
              "      <td>149,396.00</td>\n",
              "      <td>149,396.00</td>\n",
              "      <td>149,396.00</td>\n",
              "    </tr>\n",
              "    <tr>\n",
              "      <td>mean</td>\n",
              "      <td>74,697.50</td>\n",
              "      <td>370.19</td>\n",
              "      <td>1,252.10</td>\n",
              "    </tr>\n",
              "    <tr>\n",
              "      <td>std</td>\n",
              "      <td>43,127.05</td>\n",
              "      <td>278.30</td>\n",
              "      <td>144.05</td>\n",
              "    </tr>\n",
              "    <tr>\n",
              "      <td>min</td>\n",
              "      <td>0.00</td>\n",
              "      <td>0.00</td>\n",
              "      <td>1,000.00</td>\n",
              "    </tr>\n",
              "    <tr>\n",
              "      <td>25%</td>\n",
              "      <td>37,348.75</td>\n",
              "      <td>138.19</td>\n",
              "      <td>1,130.00</td>\n",
              "    </tr>\n",
              "    <tr>\n",
              "      <td>50%</td>\n",
              "      <td>74,697.50</td>\n",
              "      <td>348.01</td>\n",
              "      <td>1,251.00</td>\n",
              "    </tr>\n",
              "    <tr>\n",
              "      <td>75%</td>\n",
              "      <td>112,046.25</td>\n",
              "      <td>559.55</td>\n",
              "      <td>1,380.00</td>\n",
              "    </tr>\n",
              "    <tr>\n",
              "      <td>max</td>\n",
              "      <td>149,395.00</td>\n",
              "      <td>1,724.83</td>\n",
              "      <td>1,499.00</td>\n",
              "    </tr>\n",
              "  </tbody>\n",
              "</table>\n",
              "</div>"
            ],
            "text/plain": [
              "       Unnamed: 0    mb_used    user_id\n",
              "count  149,396.00 149,396.00 149,396.00\n",
              "mean    74,697.50     370.19   1,252.10\n",
              "std     43,127.05     278.30     144.05\n",
              "min          0.00       0.00   1,000.00\n",
              "25%     37,348.75     138.19   1,130.00\n",
              "50%     74,697.50     348.01   1,251.00\n",
              "75%    112,046.25     559.55   1,380.00\n",
              "max    149,395.00   1,724.83   1,499.00"
            ]
          },
          "metadata": {
            "tags": []
          },
          "execution_count": 10
        }
      ]
    },
    {
      "cell_type": "markdown",
      "metadata": {
        "id": "WB06-6GpUyja"
      },
      "source": [
        "Здесь мы видим задублированный столбец с индексами строк, удалим его."
      ]
    },
    {
      "cell_type": "code",
      "metadata": {
        "id": "nrS9E96kUyja"
      },
      "source": [
        "df_internet = df_internet.drop('Unnamed: 0', axis=1)"
      ],
      "execution_count": null,
      "outputs": []
    },
    {
      "cell_type": "markdown",
      "metadata": {
        "id": "wtKWqOUnUyja"
      },
      "source": [
        "Так же мы заметили нулевое значение в столбце с трафиком. Изучим подробнее количество нулевых значений."
      ]
    },
    {
      "cell_type": "code",
      "metadata": {
        "id": "FhUeTE9MUyjb",
        "outputId": "4c87add1-27ab-438c-98eb-c4b1b007f069"
      },
      "source": [
        "df_internet.query('mb_used == 0.0').count().id"
      ],
      "execution_count": null,
      "outputs": [
        {
          "output_type": "execute_result",
          "data": {
            "text/plain": [
              "19598"
            ]
          },
          "metadata": {
            "tags": []
          },
          "execution_count": 12
        }
      ]
    },
    {
      "cell_type": "code",
      "metadata": {
        "id": "LZjB0neFUyjb",
        "outputId": "835ba093-3dee-4b71-c671-829ba3f96700"
      },
      "source": [
        "round(((df_internet\n",
        "        .query('mb_used == 0')\n",
        "        .groupby('user_id').count() / \n",
        "         df_internet.groupby('user_id')\n",
        "        .count()) * 100)\n",
        "        .sort_values(by='id', ascending=False)).id"
      ],
      "execution_count": null,
      "outputs": [
        {
          "output_type": "execute_result",
          "data": {
            "text/plain": [
              "user_id\n",
              "1434   25.00\n",
              "1041   24.00\n",
              "1190   24.00\n",
              "1351   23.00\n",
              "1322   22.00\n",
              "        ... \n",
              "1201    1.00\n",
              "1309    1.00\n",
              "1343     nan\n",
              "1397     nan\n",
              "1399     nan\n",
              "Name: id, Length: 497, dtype: float64"
            ]
          },
          "metadata": {
            "tags": []
          },
          "execution_count": 13
        }
      ]
    },
    {
      "cell_type": "code",
      "metadata": {
        "id": "lidU9no9Uyjb",
        "outputId": "5dc49ebf-b918-4a75-84b9-de6aa5f93389"
      },
      "source": [
        "df_internet.query('mb_used == 0').id.count() / df_internet.shape[0]"
      ],
      "execution_count": null,
      "outputs": [
        {
          "output_type": "execute_result",
          "data": {
            "text/plain": [
              "0.13118155773916304"
            ]
          },
          "metadata": {
            "tags": []
          },
          "execution_count": 14
        }
      ]
    },
    {
      "cell_type": "markdown",
      "metadata": {
        "id": "uOPTm8XAUyjb"
      },
      "source": [
        "Избавимся от нулевых значений в выборке"
      ]
    },
    {
      "cell_type": "code",
      "metadata": {
        "id": "_LeOeUQDUyjc"
      },
      "source": [
        "df_internet = df_internet[df_internet['mb_used'] != 0]"
      ],
      "execution_count": null,
      "outputs": []
    },
    {
      "cell_type": "markdown",
      "metadata": {
        "id": "6xmq9rolUyjc"
      },
      "source": [
        "Преобразуем тип данных колонки session_date в дату"
      ]
    },
    {
      "cell_type": "code",
      "metadata": {
        "id": "TrG4r2e9Uyjc"
      },
      "source": [
        "df_internet['session_date'] = pd.to_datetime(df_internet['session_date'], format=\"%Y-%m-%d\")\n",
        "\n",
        "#user_id и id преобразуем в int\n",
        "df_internet['user_id'] = df_internet['user_id'].apply(pd.to_numeric).astype('int32')\n",
        "df_internet['id'] = df_internet['id'].astype('int32')"
      ],
      "execution_count": null,
      "outputs": []
    },
    {
      "cell_type": "markdown",
      "metadata": {
        "id": "aM6oS9g8Uyjc"
      },
      "source": [
        "Проверим данные по интернет трафику на дубликаты"
      ]
    },
    {
      "cell_type": "code",
      "metadata": {
        "id": "kua37pCPUyjd",
        "outputId": "920304e8-d7c2-402a-982d-44e6caab928e"
      },
      "source": [
        "df_internet.duplicated().sum()"
      ],
      "execution_count": null,
      "outputs": [
        {
          "output_type": "execute_result",
          "data": {
            "text/plain": [
              "0"
            ]
          },
          "metadata": {
            "tags": []
          },
          "execution_count": 17
        }
      ]
    },
    {
      "cell_type": "markdown",
      "metadata": {
        "id": "6_qX_VUPUyjd"
      },
      "source": [
        "**3. Изучим информацию о сообщениях**"
      ]
    },
    {
      "cell_type": "code",
      "metadata": {
        "id": "gKosnSvEUyjd",
        "outputId": "955bbe07-cfa3-400d-cedc-340bef5a1c42"
      },
      "source": [
        "df_msg.head()"
      ],
      "execution_count": null,
      "outputs": [
        {
          "output_type": "execute_result",
          "data": {
            "text/html": [
              "<div>\n",
              "<style scoped>\n",
              "    .dataframe tbody tr th:only-of-type {\n",
              "        vertical-align: middle;\n",
              "    }\n",
              "\n",
              "    .dataframe tbody tr th {\n",
              "        vertical-align: top;\n",
              "    }\n",
              "\n",
              "    .dataframe thead th {\n",
              "        text-align: right;\n",
              "    }\n",
              "</style>\n",
              "<table border=\"1\" class=\"dataframe\">\n",
              "  <thead>\n",
              "    <tr style=\"text-align: right;\">\n",
              "      <th></th>\n",
              "      <th>id</th>\n",
              "      <th>message_date</th>\n",
              "      <th>user_id</th>\n",
              "    </tr>\n",
              "  </thead>\n",
              "  <tbody>\n",
              "    <tr>\n",
              "      <td>0</td>\n",
              "      <td>1000_0</td>\n",
              "      <td>2018-06-27</td>\n",
              "      <td>1000</td>\n",
              "    </tr>\n",
              "    <tr>\n",
              "      <td>1</td>\n",
              "      <td>1000_1</td>\n",
              "      <td>2018-10-08</td>\n",
              "      <td>1000</td>\n",
              "    </tr>\n",
              "    <tr>\n",
              "      <td>2</td>\n",
              "      <td>1000_2</td>\n",
              "      <td>2018-08-04</td>\n",
              "      <td>1000</td>\n",
              "    </tr>\n",
              "    <tr>\n",
              "      <td>3</td>\n",
              "      <td>1000_3</td>\n",
              "      <td>2018-06-16</td>\n",
              "      <td>1000</td>\n",
              "    </tr>\n",
              "    <tr>\n",
              "      <td>4</td>\n",
              "      <td>1000_4</td>\n",
              "      <td>2018-12-05</td>\n",
              "      <td>1000</td>\n",
              "    </tr>\n",
              "  </tbody>\n",
              "</table>\n",
              "</div>"
            ],
            "text/plain": [
              "       id message_date  user_id\n",
              "0  1000_0   2018-06-27     1000\n",
              "1  1000_1   2018-10-08     1000\n",
              "2  1000_2   2018-08-04     1000\n",
              "3  1000_3   2018-06-16     1000\n",
              "4  1000_4   2018-12-05     1000"
            ]
          },
          "metadata": {
            "tags": []
          },
          "execution_count": 18
        }
      ]
    },
    {
      "cell_type": "code",
      "metadata": {
        "id": "E6B8ncfYUyjd",
        "outputId": "3c6f790c-805f-4e53-85b0-d1a3318cc800"
      },
      "source": [
        "df_msg.info()"
      ],
      "execution_count": null,
      "outputs": [
        {
          "output_type": "stream",
          "text": [
            "<class 'pandas.core.frame.DataFrame'>\n",
            "RangeIndex: 123036 entries, 0 to 123035\n",
            "Data columns (total 3 columns):\n",
            "id              123036 non-null object\n",
            "message_date    123036 non-null object\n",
            "user_id         123036 non-null int64\n",
            "dtypes: int64(1), object(2)\n",
            "memory usage: 2.8+ MB\n"
          ],
          "name": "stdout"
        }
      ]
    },
    {
      "cell_type": "markdown",
      "metadata": {
        "id": "srCxjM9bUyje"
      },
      "source": [
        "Также преобразуем даты в нормальный тип"
      ]
    },
    {
      "cell_type": "code",
      "metadata": {
        "id": "Ocbdj8UpUyje"
      },
      "source": [
        "df_msg['message_date'] = pd.to_datetime(df_msg['message_date'], format=\"%Y-%m-%d\")\n",
        "\n",
        "#user_id и id преобразуем в int\n",
        "df_msg['user_id'] = df_msg['user_id'].apply(pd.to_numeric).astype('int32')\n",
        "df_msg['id'] = df_msg['id'].astype('int32')"
      ],
      "execution_count": null,
      "outputs": []
    },
    {
      "cell_type": "code",
      "metadata": {
        "id": "dN6o3WL3Uyje",
        "outputId": "ad6ef2cc-153b-40f8-9b43-44aa0e4aa444"
      },
      "source": [
        "df_msg.describe()"
      ],
      "execution_count": null,
      "outputs": [
        {
          "output_type": "execute_result",
          "data": {
            "text/html": [
              "<div>\n",
              "<style scoped>\n",
              "    .dataframe tbody tr th:only-of-type {\n",
              "        vertical-align: middle;\n",
              "    }\n",
              "\n",
              "    .dataframe tbody tr th {\n",
              "        vertical-align: top;\n",
              "    }\n",
              "\n",
              "    .dataframe thead th {\n",
              "        text-align: right;\n",
              "    }\n",
              "</style>\n",
              "<table border=\"1\" class=\"dataframe\">\n",
              "  <thead>\n",
              "    <tr style=\"text-align: right;\">\n",
              "      <th></th>\n",
              "      <th>id</th>\n",
              "      <th>user_id</th>\n",
              "    </tr>\n",
              "  </thead>\n",
              "  <tbody>\n",
              "    <tr>\n",
              "      <td>count</td>\n",
              "      <td>123,036.00</td>\n",
              "      <td>123,036.00</td>\n",
              "    </tr>\n",
              "    <tr>\n",
              "      <td>mean</td>\n",
              "      <td>1,144,526.68</td>\n",
              "      <td>1,256.99</td>\n",
              "    </tr>\n",
              "    <tr>\n",
              "      <td>std</td>\n",
              "      <td>1,717,919.26</td>\n",
              "      <td>143.52</td>\n",
              "    </tr>\n",
              "    <tr>\n",
              "      <td>min</td>\n",
              "      <td>10,000.00</td>\n",
              "      <td>1,000.00</td>\n",
              "    </tr>\n",
              "    <tr>\n",
              "      <td>25%</td>\n",
              "      <td>141,889.75</td>\n",
              "      <td>1,134.00</td>\n",
              "    </tr>\n",
              "    <tr>\n",
              "      <td>50%</td>\n",
              "      <td>1,158,504.50</td>\n",
              "      <td>1,271.00</td>\n",
              "    </tr>\n",
              "    <tr>\n",
              "      <td>75%</td>\n",
              "      <td>1,343,105.25</td>\n",
              "      <td>1,381.00</td>\n",
              "    </tr>\n",
              "    <tr>\n",
              "      <td>max</td>\n",
              "      <td>14,331,091.00</td>\n",
              "      <td>1,499.00</td>\n",
              "    </tr>\n",
              "  </tbody>\n",
              "</table>\n",
              "</div>"
            ],
            "text/plain": [
              "                 id    user_id\n",
              "count    123,036.00 123,036.00\n",
              "mean   1,144,526.68   1,256.99\n",
              "std    1,717,919.26     143.52\n",
              "min       10,000.00   1,000.00\n",
              "25%      141,889.75   1,134.00\n",
              "50%    1,158,504.50   1,271.00\n",
              "75%    1,343,105.25   1,381.00\n",
              "max   14,331,091.00   1,499.00"
            ]
          },
          "metadata": {
            "tags": []
          },
          "execution_count": 21
        }
      ]
    },
    {
      "cell_type": "code",
      "metadata": {
        "id": "C9K0EJDdUyje",
        "outputId": "0a6c7b96-29d1-44b3-b88e-190fdbc57c6e"
      },
      "source": [
        "df_msg.duplicated().sum()"
      ],
      "execution_count": null,
      "outputs": [
        {
          "output_type": "execute_result",
          "data": {
            "text/plain": [
              "0"
            ]
          },
          "metadata": {
            "tags": []
          },
          "execution_count": 22
        }
      ]
    },
    {
      "cell_type": "markdown",
      "metadata": {
        "id": "IjAOKz2iUyje"
      },
      "source": [
        "Пропусков не замечено, типы данных преобразованы"
      ]
    },
    {
      "cell_type": "markdown",
      "metadata": {
        "id": "S35FKCDhUyjf"
      },
      "source": [
        "**4. Изучим данные с информацией о звонках** "
      ]
    },
    {
      "cell_type": "code",
      "metadata": {
        "id": "sh20yoLLUyjf",
        "outputId": "703fe2dd-ca45-4698-97ba-7b8e2e2b5f83"
      },
      "source": [
        "df_calls.head()"
      ],
      "execution_count": null,
      "outputs": [
        {
          "output_type": "execute_result",
          "data": {
            "text/html": [
              "<div>\n",
              "<style scoped>\n",
              "    .dataframe tbody tr th:only-of-type {\n",
              "        vertical-align: middle;\n",
              "    }\n",
              "\n",
              "    .dataframe tbody tr th {\n",
              "        vertical-align: top;\n",
              "    }\n",
              "\n",
              "    .dataframe thead th {\n",
              "        text-align: right;\n",
              "    }\n",
              "</style>\n",
              "<table border=\"1\" class=\"dataframe\">\n",
              "  <thead>\n",
              "    <tr style=\"text-align: right;\">\n",
              "      <th></th>\n",
              "      <th>id</th>\n",
              "      <th>call_date</th>\n",
              "      <th>duration</th>\n",
              "      <th>user_id</th>\n",
              "    </tr>\n",
              "  </thead>\n",
              "  <tbody>\n",
              "    <tr>\n",
              "      <td>0</td>\n",
              "      <td>1000_0</td>\n",
              "      <td>2018-07-25</td>\n",
              "      <td>0.00</td>\n",
              "      <td>1000</td>\n",
              "    </tr>\n",
              "    <tr>\n",
              "      <td>1</td>\n",
              "      <td>1000_1</td>\n",
              "      <td>2018-08-17</td>\n",
              "      <td>0.00</td>\n",
              "      <td>1000</td>\n",
              "    </tr>\n",
              "    <tr>\n",
              "      <td>2</td>\n",
              "      <td>1000_2</td>\n",
              "      <td>2018-06-11</td>\n",
              "      <td>2.85</td>\n",
              "      <td>1000</td>\n",
              "    </tr>\n",
              "    <tr>\n",
              "      <td>3</td>\n",
              "      <td>1000_3</td>\n",
              "      <td>2018-09-21</td>\n",
              "      <td>13.80</td>\n",
              "      <td>1000</td>\n",
              "    </tr>\n",
              "    <tr>\n",
              "      <td>4</td>\n",
              "      <td>1000_4</td>\n",
              "      <td>2018-12-15</td>\n",
              "      <td>5.18</td>\n",
              "      <td>1000</td>\n",
              "    </tr>\n",
              "  </tbody>\n",
              "</table>\n",
              "</div>"
            ],
            "text/plain": [
              "       id   call_date  duration  user_id\n",
              "0  1000_0  2018-07-25      0.00     1000\n",
              "1  1000_1  2018-08-17      0.00     1000\n",
              "2  1000_2  2018-06-11      2.85     1000\n",
              "3  1000_3  2018-09-21     13.80     1000\n",
              "4  1000_4  2018-12-15      5.18     1000"
            ]
          },
          "metadata": {
            "tags": []
          },
          "execution_count": 23
        }
      ]
    },
    {
      "cell_type": "code",
      "metadata": {
        "id": "vvZ2D_-aUyjf",
        "outputId": "22e63508-9674-4c36-a711-cab451bcf073"
      },
      "source": [
        "df_calls.info() #получим общее понимание набора данных для таблицы со звонками"
      ],
      "execution_count": null,
      "outputs": [
        {
          "output_type": "stream",
          "text": [
            "<class 'pandas.core.frame.DataFrame'>\n",
            "RangeIndex: 202607 entries, 0 to 202606\n",
            "Data columns (total 4 columns):\n",
            "id           202607 non-null object\n",
            "call_date    202607 non-null object\n",
            "duration     202607 non-null float64\n",
            "user_id      202607 non-null int64\n",
            "dtypes: float64(1), int64(1), object(2)\n",
            "memory usage: 6.2+ MB\n"
          ],
          "name": "stdout"
        }
      ]
    },
    {
      "cell_type": "code",
      "metadata": {
        "id": "IjxqoOSyUyjf",
        "outputId": "d9143b7c-bb64-40e4-f235-b783aa273030"
      },
      "source": [
        "df_calls.describe()"
      ],
      "execution_count": null,
      "outputs": [
        {
          "output_type": "execute_result",
          "data": {
            "text/html": [
              "<div>\n",
              "<style scoped>\n",
              "    .dataframe tbody tr th:only-of-type {\n",
              "        vertical-align: middle;\n",
              "    }\n",
              "\n",
              "    .dataframe tbody tr th {\n",
              "        vertical-align: top;\n",
              "    }\n",
              "\n",
              "    .dataframe thead th {\n",
              "        text-align: right;\n",
              "    }\n",
              "</style>\n",
              "<table border=\"1\" class=\"dataframe\">\n",
              "  <thead>\n",
              "    <tr style=\"text-align: right;\">\n",
              "      <th></th>\n",
              "      <th>duration</th>\n",
              "      <th>user_id</th>\n",
              "    </tr>\n",
              "  </thead>\n",
              "  <tbody>\n",
              "    <tr>\n",
              "      <td>count</td>\n",
              "      <td>202,607.00</td>\n",
              "      <td>202,607.00</td>\n",
              "    </tr>\n",
              "    <tr>\n",
              "      <td>mean</td>\n",
              "      <td>6.76</td>\n",
              "      <td>1,253.94</td>\n",
              "    </tr>\n",
              "    <tr>\n",
              "      <td>std</td>\n",
              "      <td>5.84</td>\n",
              "      <td>144.72</td>\n",
              "    </tr>\n",
              "    <tr>\n",
              "      <td>min</td>\n",
              "      <td>0.00</td>\n",
              "      <td>1,000.00</td>\n",
              "    </tr>\n",
              "    <tr>\n",
              "      <td>25%</td>\n",
              "      <td>1.30</td>\n",
              "      <td>1,126.00</td>\n",
              "    </tr>\n",
              "    <tr>\n",
              "      <td>50%</td>\n",
              "      <td>6.00</td>\n",
              "      <td>1,260.00</td>\n",
              "    </tr>\n",
              "    <tr>\n",
              "      <td>75%</td>\n",
              "      <td>10.70</td>\n",
              "      <td>1,379.00</td>\n",
              "    </tr>\n",
              "    <tr>\n",
              "      <td>max</td>\n",
              "      <td>38.00</td>\n",
              "      <td>1,499.00</td>\n",
              "    </tr>\n",
              "  </tbody>\n",
              "</table>\n",
              "</div>"
            ],
            "text/plain": [
              "        duration    user_id\n",
              "count 202,607.00 202,607.00\n",
              "mean        6.76   1,253.94\n",
              "std         5.84     144.72\n",
              "min         0.00   1,000.00\n",
              "25%         1.30   1,126.00\n",
              "50%         6.00   1,260.00\n",
              "75%        10.70   1,379.00\n",
              "max        38.00   1,499.00"
            ]
          },
          "metadata": {
            "tags": []
          },
          "execution_count": 25
        }
      ]
    },
    {
      "cell_type": "markdown",
      "metadata": {
        "id": "2UQ8lJDBUyjg"
      },
      "source": [
        "Аномалий нет, пропусков также не выявлено.\n",
        "Однако необходимо преобразовать тип данных колонки call_date и округлить значения колонки duration"
      ]
    },
    {
      "cell_type": "code",
      "metadata": {
        "id": "gbsyM-tJUyjg"
      },
      "source": [
        "df_calls['call_date'] = pd.to_datetime(df_calls['call_date'], format=\"%Y-%m-%d\")\n",
        "\n",
        "#user_id и id преобразуем в int\n",
        "df_calls['user_id'] = df_calls['user_id'].apply(pd.to_numeric).astype('int32')\n",
        "df_calls['id'] = df_calls['id'].astype('int32')"
      ],
      "execution_count": null,
      "outputs": []
    },
    {
      "cell_type": "markdown",
      "metadata": {
        "id": "KL3cEDe6Uyjg"
      },
      "source": [
        "Мы видим значения 0.00 - считаем, что это пропущенные звонки и платы за это не взимается. \n",
        "Округлим все что больше нуля до целочисленных значений (т.е. так, как их округляет оператор)"
      ]
    },
    {
      "cell_type": "markdown",
      "metadata": {
        "id": "jGxwnr9aUyjg"
      },
      "source": [
        "Проверим долю звонков с длительностью 0 в общей массе звонков по клиенту, а так же общее количество таких звонков."
      ]
    },
    {
      "cell_type": "code",
      "metadata": {
        "id": "vnTCEe36Uyjh",
        "outputId": "39d7c797-9aa3-4c1d-9d92-c6a1d2af72f0"
      },
      "source": [
        "round(((df_calls\n",
        "        .query('duration == 0')\n",
        "        .groupby('user_id').count() / \n",
        "         df_calls.groupby('user_id')\n",
        "        .count()) * 100)\n",
        "        .sort_values(by='id', ascending=False)).id"
      ],
      "execution_count": null,
      "outputs": [
        {
          "output_type": "execute_result",
          "data": {
            "text/plain": [
              "user_id\n",
              "1257   50.00\n",
              "1181   32.00\n",
              "1398   30.00\n",
              "1016   30.00\n",
              "1373   29.00\n",
              "        ... \n",
              "1286   13.00\n",
              "1406   13.00\n",
              "1103   12.00\n",
              "1206   12.00\n",
              "1084    9.00\n",
              "Name: id, Length: 492, dtype: float64"
            ]
          },
          "metadata": {
            "tags": []
          },
          "execution_count": 27
        }
      ]
    },
    {
      "cell_type": "code",
      "metadata": {
        "id": "hbxBbAPTUyjh",
        "outputId": "8e949cd1-3aa3-4f88-fa50-8ed374eb058f"
      },
      "source": [
        "df_calls_zero = df_calls.query('duration == 0').id.count()\n",
        "df_calls_zero"
      ],
      "execution_count": null,
      "outputs": [
        {
          "output_type": "execute_result",
          "data": {
            "text/plain": [
              "39613"
            ]
          },
          "metadata": {
            "tags": []
          },
          "execution_count": 28
        }
      ]
    },
    {
      "cell_type": "code",
      "metadata": {
        "id": "xs88tZoTUyji",
        "outputId": "b04a2be1-3640-406c-dd83-19b4dc5becaa"
      },
      "source": [
        "#посчитаем долю нулевых значений в выборке\n",
        "\n",
        "df_rate_call_zero = df_calls_zero/202607*100\n",
        "df_rate_call_zero"
      ],
      "execution_count": null,
      "outputs": [
        {
          "output_type": "execute_result",
          "data": {
            "text/plain": [
              "19.551644316336553"
            ]
          },
          "metadata": {
            "tags": []
          },
          "execution_count": 29
        }
      ]
    },
    {
      "cell_type": "markdown",
      "metadata": {
        "id": "bgliAz7oUyji"
      },
      "source": [
        "Мы наблюдаем большое количество нулевых значений по данным о длительности звонка. \n",
        "Так же мы наблюдаем большую долю таких звонков у каждого абонента. \n",
        "Это может объясняться рекламными звонками, или технической ошибкой в подсчете минут или чем-то другим: доля нулевых значений в выборке составляет почти 20%.\n",
        "\n",
        "Для корректного проведения анализа мы отбросим данные с нулевыми значениями."
      ]
    },
    {
      "cell_type": "code",
      "metadata": {
        "id": "NbeAS7AqUyji"
      },
      "source": [
        "df_calls = df_calls[df_calls['duration'] != 0]"
      ],
      "execution_count": null,
      "outputs": []
    },
    {
      "cell_type": "code",
      "metadata": {
        "id": "1hcenuMSUyjk"
      },
      "source": [
        "df_calls['duration'] = np.ceil(df_calls['duration']) #округлим числа до целых"
      ],
      "execution_count": null,
      "outputs": []
    },
    {
      "cell_type": "code",
      "metadata": {
        "id": "tjqiOEQAUyjl",
        "outputId": "2a4b6a25-2b55-4278-a31e-2dec0dd08c7f"
      },
      "source": [
        "#теперь посмотрим, какую долю занимают пропущенные значения в каждом столбце\n",
        "df_calls.isnull().sum().sort_values()/df_calls.shape[0]*100"
      ],
      "execution_count": null,
      "outputs": [
        {
          "output_type": "execute_result",
          "data": {
            "text/plain": [
              "id          0.00\n",
              "call_date   0.00\n",
              "duration    0.00\n",
              "user_id     0.00\n",
              "dtype: float64"
            ]
          },
          "metadata": {
            "tags": []
          },
          "execution_count": 32
        }
      ]
    },
    {
      "cell_type": "markdown",
      "metadata": {
        "id": "5SclB8woUyjl"
      },
      "source": [
        "Проверим таблицу на дубликаты"
      ]
    },
    {
      "cell_type": "code",
      "metadata": {
        "id": "7ICuE5qpUyjm",
        "outputId": "a645b712-70cf-43a7-ca72-7d06f1d03d31"
      },
      "source": [
        "df_calls.duplicated().sum()"
      ],
      "execution_count": null,
      "outputs": [
        {
          "output_type": "execute_result",
          "data": {
            "text/plain": [
              "0"
            ]
          },
          "metadata": {
            "tags": []
          },
          "execution_count": 33
        }
      ]
    },
    {
      "cell_type": "markdown",
      "metadata": {
        "id": "vCN498BjUyjm"
      },
      "source": [
        "**Посмотрим на таблицу с тарифами**"
      ]
    },
    {
      "cell_type": "code",
      "metadata": {
        "id": "qja01A8wUyjn",
        "outputId": "1ddd1672-e4ba-49f5-e17a-11ae3eda24fa"
      },
      "source": [
        "df_tariffs"
      ],
      "execution_count": null,
      "outputs": [
        {
          "output_type": "execute_result",
          "data": {
            "text/html": [
              "<div>\n",
              "<style scoped>\n",
              "    .dataframe tbody tr th:only-of-type {\n",
              "        vertical-align: middle;\n",
              "    }\n",
              "\n",
              "    .dataframe tbody tr th {\n",
              "        vertical-align: top;\n",
              "    }\n",
              "\n",
              "    .dataframe thead th {\n",
              "        text-align: right;\n",
              "    }\n",
              "</style>\n",
              "<table border=\"1\" class=\"dataframe\">\n",
              "  <thead>\n",
              "    <tr style=\"text-align: right;\">\n",
              "      <th></th>\n",
              "      <th>messages_included</th>\n",
              "      <th>mb_per_month_included</th>\n",
              "      <th>minutes_included</th>\n",
              "      <th>rub_monthly_fee</th>\n",
              "      <th>rub_per_gb</th>\n",
              "      <th>rub_per_message</th>\n",
              "      <th>rub_per_minute</th>\n",
              "      <th>tariff_name</th>\n",
              "    </tr>\n",
              "  </thead>\n",
              "  <tbody>\n",
              "    <tr>\n",
              "      <td>0</td>\n",
              "      <td>50</td>\n",
              "      <td>15360</td>\n",
              "      <td>500</td>\n",
              "      <td>550</td>\n",
              "      <td>200</td>\n",
              "      <td>3</td>\n",
              "      <td>3</td>\n",
              "      <td>smart</td>\n",
              "    </tr>\n",
              "    <tr>\n",
              "      <td>1</td>\n",
              "      <td>1000</td>\n",
              "      <td>30720</td>\n",
              "      <td>3000</td>\n",
              "      <td>1950</td>\n",
              "      <td>150</td>\n",
              "      <td>1</td>\n",
              "      <td>1</td>\n",
              "      <td>ultra</td>\n",
              "    </tr>\n",
              "  </tbody>\n",
              "</table>\n",
              "</div>"
            ],
            "text/plain": [
              "   messages_included  mb_per_month_included  minutes_included  \\\n",
              "0                 50                  15360               500   \n",
              "1               1000                  30720              3000   \n",
              "\n",
              "   rub_monthly_fee  rub_per_gb  rub_per_message  rub_per_minute tariff_name  \n",
              "0              550         200                3               3       smart  \n",
              "1             1950         150                1               1       ultra  "
            ]
          },
          "metadata": {
            "tags": []
          },
          "execution_count": 34
        }
      ]
    },
    {
      "cell_type": "markdown",
      "metadata": {
        "id": "krXCvHjqUyjn"
      },
      "source": [
        "Переименуем колонку с тарифами"
      ]
    },
    {
      "cell_type": "code",
      "metadata": {
        "id": "wiUikL3jUyjn"
      },
      "source": [
        "df_tariffs = df_tariffs.rename(columns={'tariff_name':'tariff'})"
      ],
      "execution_count": null,
      "outputs": []
    },
    {
      "cell_type": "code",
      "metadata": {
        "id": "XiGBpsuTUyjn",
        "outputId": "6ed3ac3a-ed5f-4d38-fede-cdcdcb608ff9"
      },
      "source": [
        "df_tariffs.info() #получим общее понимание набора данных для таблицы с тарифами"
      ],
      "execution_count": null,
      "outputs": [
        {
          "output_type": "stream",
          "text": [
            "<class 'pandas.core.frame.DataFrame'>\n",
            "RangeIndex: 2 entries, 0 to 1\n",
            "Data columns (total 8 columns):\n",
            "messages_included        2 non-null int64\n",
            "mb_per_month_included    2 non-null int64\n",
            "minutes_included         2 non-null int64\n",
            "rub_monthly_fee          2 non-null int64\n",
            "rub_per_gb               2 non-null int64\n",
            "rub_per_message          2 non-null int64\n",
            "rub_per_minute           2 non-null int64\n",
            "tariff                   2 non-null object\n",
            "dtypes: int64(7), object(1)\n",
            "memory usage: 256.0+ bytes\n"
          ],
          "name": "stdout"
        }
      ]
    },
    {
      "cell_type": "markdown",
      "metadata": {
        "id": "efuAQL1MUyjo"
      },
      "source": [
        "Ожидаемо, что в таблице с тарифами и не должно быть каких-либо ошибок, аномалий или пропусков"
      ]
    },
    {
      "cell_type": "markdown",
      "metadata": {
        "id": "ALzUY1W3Uyjo"
      },
      "source": [
        "### Вывод"
      ]
    },
    {
      "cell_type": "markdown",
      "metadata": {
        "id": "69MUs75gUyjo"
      },
      "source": [
        "Мы предварительно просмотрели данные на наличие аномалий, пропусков и нулевых значений.\n",
        "Длительность звонков боле 0.00 мы округлили до целых значений в большую сторону.\n",
        "\n",
        "В процессе предобработки данных, мы выявили значительную массу звонков с нулевой длительностью. Мы избавились от таких значений во избежание искажения результатов анализа.\n",
        "\n",
        "То же самое мы обнаружили и с данными об использовании интернет трафика, большая доля нулевых значений, возможно причина в нарушениях процесса хранения данных."
      ]
    },
    {
      "cell_type": "markdown",
      "metadata": {
        "id": "MFbFl_wvUyjp"
      },
      "source": [
        "## Подготовка данных"
      ]
    },
    {
      "cell_type": "markdown",
      "metadata": {
        "id": "O5S69ocyUyjp"
      },
      "source": [
        "Посчитаем для каждого пользователя:\n",
        " - количество сделанных звонков и израсходованных минут разговора по месяцам;\n",
        " - количество отправленных сообщений по месяцам;\n",
        " - объем израсходованного интернет-трафика по месяцам;\n",
        " - помесячную выручку с каждого пользователя"
      ]
    },
    {
      "cell_type": "markdown",
      "metadata": {
        "id": "5f9fptXuUyjp"
      },
      "source": [
        "**Посчитаем количество сделанных звонков и израсходованных минут разговора по месяцам**"
      ]
    },
    {
      "cell_type": "code",
      "metadata": {
        "id": "SpodJq-2Uyjp",
        "outputId": "0363a692-65aa-4e85-fe28-6d6b8f54b7b4"
      },
      "source": [
        "df_calls.head(5)"
      ],
      "execution_count": null,
      "outputs": [
        {
          "output_type": "execute_result",
          "data": {
            "text/html": [
              "<div>\n",
              "<style scoped>\n",
              "    .dataframe tbody tr th:only-of-type {\n",
              "        vertical-align: middle;\n",
              "    }\n",
              "\n",
              "    .dataframe tbody tr th {\n",
              "        vertical-align: top;\n",
              "    }\n",
              "\n",
              "    .dataframe thead th {\n",
              "        text-align: right;\n",
              "    }\n",
              "</style>\n",
              "<table border=\"1\" class=\"dataframe\">\n",
              "  <thead>\n",
              "    <tr style=\"text-align: right;\">\n",
              "      <th></th>\n",
              "      <th>id</th>\n",
              "      <th>call_date</th>\n",
              "      <th>duration</th>\n",
              "      <th>user_id</th>\n",
              "    </tr>\n",
              "  </thead>\n",
              "  <tbody>\n",
              "    <tr>\n",
              "      <td>2</td>\n",
              "      <td>10002</td>\n",
              "      <td>2018-06-11</td>\n",
              "      <td>3.00</td>\n",
              "      <td>1000</td>\n",
              "    </tr>\n",
              "    <tr>\n",
              "      <td>3</td>\n",
              "      <td>10003</td>\n",
              "      <td>2018-09-21</td>\n",
              "      <td>14.00</td>\n",
              "      <td>1000</td>\n",
              "    </tr>\n",
              "    <tr>\n",
              "      <td>4</td>\n",
              "      <td>10004</td>\n",
              "      <td>2018-12-15</td>\n",
              "      <td>6.00</td>\n",
              "      <td>1000</td>\n",
              "    </tr>\n",
              "    <tr>\n",
              "      <td>7</td>\n",
              "      <td>10007</td>\n",
              "      <td>2018-08-22</td>\n",
              "      <td>19.00</td>\n",
              "      <td>1000</td>\n",
              "    </tr>\n",
              "    <tr>\n",
              "      <td>8</td>\n",
              "      <td>10008</td>\n",
              "      <td>2018-09-15</td>\n",
              "      <td>19.00</td>\n",
              "      <td>1000</td>\n",
              "    </tr>\n",
              "  </tbody>\n",
              "</table>\n",
              "</div>"
            ],
            "text/plain": [
              "      id  call_date  duration  user_id\n",
              "2  10002 2018-06-11      3.00     1000\n",
              "3  10003 2018-09-21     14.00     1000\n",
              "4  10004 2018-12-15      6.00     1000\n",
              "7  10007 2018-08-22     19.00     1000\n",
              "8  10008 2018-09-15     19.00     1000"
            ]
          },
          "metadata": {
            "tags": []
          },
          "execution_count": 37
        }
      ]
    },
    {
      "cell_type": "markdown",
      "metadata": {
        "id": "24YCI4TWUyjq"
      },
      "source": [
        "Добавим в таблицу столбец с месяцем и количеством сделанных звонков, сгруппируем по user_id и duration"
      ]
    },
    {
      "cell_type": "code",
      "metadata": {
        "id": "w5ToXw46Uyjq"
      },
      "source": [
        "df_calls['month'] = df_calls['call_date'].dt.month_name()"
      ],
      "execution_count": null,
      "outputs": []
    },
    {
      "cell_type": "code",
      "metadata": {
        "id": "tL27SRC2Uyjq"
      },
      "source": [
        "user_calls = df_calls.groupby(['user_id', 'month'])\\\n",
        "                  .agg({'duration':'sum', 'id':'count'})\\\n",
        "                  .reset_index()\\\n",
        "                  .rename(columns={'duration':'month_calls_duration','id':'calls_total_in_month'})"
      ],
      "execution_count": null,
      "outputs": []
    },
    {
      "cell_type": "code",
      "metadata": {
        "id": "uOS7NttmUyjq",
        "outputId": "dc0ef22f-c5e7-4402-bfb2-49f3cac6a318"
      },
      "source": [
        "user_calls.head()"
      ],
      "execution_count": null,
      "outputs": [
        {
          "output_type": "execute_result",
          "data": {
            "text/html": [
              "<div>\n",
              "<style scoped>\n",
              "    .dataframe tbody tr th:only-of-type {\n",
              "        vertical-align: middle;\n",
              "    }\n",
              "\n",
              "    .dataframe tbody tr th {\n",
              "        vertical-align: top;\n",
              "    }\n",
              "\n",
              "    .dataframe thead th {\n",
              "        text-align: right;\n",
              "    }\n",
              "</style>\n",
              "<table border=\"1\" class=\"dataframe\">\n",
              "  <thead>\n",
              "    <tr style=\"text-align: right;\">\n",
              "      <th></th>\n",
              "      <th>user_id</th>\n",
              "      <th>month</th>\n",
              "      <th>month_calls_duration</th>\n",
              "      <th>calls_total_in_month</th>\n",
              "    </tr>\n",
              "  </thead>\n",
              "  <tbody>\n",
              "    <tr>\n",
              "      <td>0</td>\n",
              "      <td>1000</td>\n",
              "      <td>August</td>\n",
              "      <td>408.00</td>\n",
              "      <td>42</td>\n",
              "    </tr>\n",
              "    <tr>\n",
              "      <td>1</td>\n",
              "      <td>1000</td>\n",
              "      <td>December</td>\n",
              "      <td>333.00</td>\n",
              "      <td>38</td>\n",
              "    </tr>\n",
              "    <tr>\n",
              "      <td>2</td>\n",
              "      <td>1000</td>\n",
              "      <td>July</td>\n",
              "      <td>340.00</td>\n",
              "      <td>41</td>\n",
              "    </tr>\n",
              "    <tr>\n",
              "      <td>3</td>\n",
              "      <td>1000</td>\n",
              "      <td>June</td>\n",
              "      <td>172.00</td>\n",
              "      <td>28</td>\n",
              "    </tr>\n",
              "    <tr>\n",
              "      <td>4</td>\n",
              "      <td>1000</td>\n",
              "      <td>May</td>\n",
              "      <td>159.00</td>\n",
              "      <td>17</td>\n",
              "    </tr>\n",
              "  </tbody>\n",
              "</table>\n",
              "</div>"
            ],
            "text/plain": [
              "   user_id     month  month_calls_duration  calls_total_in_month\n",
              "0     1000    August                408.00                    42\n",
              "1     1000  December                333.00                    38\n",
              "2     1000      July                340.00                    41\n",
              "3     1000      June                172.00                    28\n",
              "4     1000       May                159.00                    17"
            ]
          },
          "metadata": {
            "tags": []
          },
          "execution_count": 40
        }
      ]
    },
    {
      "cell_type": "markdown",
      "metadata": {
        "id": "0kLiX4gzUyjr"
      },
      "source": [
        "**По аналогии сгруппируем таблицу с сообщениями, чтобы узнать кол-во отправленных сообщений по месяцам.**"
      ]
    },
    {
      "cell_type": "code",
      "metadata": {
        "id": "PQxOROxPUyjr",
        "outputId": "c3897b31-71cf-4664-96bc-8c23ac60a77d"
      },
      "source": [
        "df_msg.sample(5)"
      ],
      "execution_count": null,
      "outputs": [
        {
          "output_type": "execute_result",
          "data": {
            "text/html": [
              "<div>\n",
              "<style scoped>\n",
              "    .dataframe tbody tr th:only-of-type {\n",
              "        vertical-align: middle;\n",
              "    }\n",
              "\n",
              "    .dataframe tbody tr th {\n",
              "        vertical-align: top;\n",
              "    }\n",
              "\n",
              "    .dataframe thead th {\n",
              "        text-align: right;\n",
              "    }\n",
              "</style>\n",
              "<table border=\"1\" class=\"dataframe\">\n",
              "  <thead>\n",
              "    <tr style=\"text-align: right;\">\n",
              "      <th></th>\n",
              "      <th>id</th>\n",
              "      <th>message_date</th>\n",
              "      <th>user_id</th>\n",
              "    </tr>\n",
              "  </thead>\n",
              "  <tbody>\n",
              "    <tr>\n",
              "      <td>46774</td>\n",
              "      <td>1203159</td>\n",
              "      <td>2018-09-10</td>\n",
              "      <td>1203</td>\n",
              "    </tr>\n",
              "    <tr>\n",
              "      <td>92846</td>\n",
              "      <td>1382307</td>\n",
              "      <td>2018-12-23</td>\n",
              "      <td>1382</td>\n",
              "    </tr>\n",
              "    <tr>\n",
              "      <td>85782</td>\n",
              "      <td>1356799</td>\n",
              "      <td>2018-06-08</td>\n",
              "      <td>1356</td>\n",
              "    </tr>\n",
              "    <tr>\n",
              "      <td>9446</td>\n",
              "      <td>1039102</td>\n",
              "      <td>2018-10-16</td>\n",
              "      <td>1039</td>\n",
              "    </tr>\n",
              "    <tr>\n",
              "      <td>14679</td>\n",
              "      <td>106515</td>\n",
              "      <td>2018-03-24</td>\n",
              "      <td>1065</td>\n",
              "    </tr>\n",
              "  </tbody>\n",
              "</table>\n",
              "</div>"
            ],
            "text/plain": [
              "            id message_date  user_id\n",
              "46774  1203159   2018-09-10     1203\n",
              "92846  1382307   2018-12-23     1382\n",
              "85782  1356799   2018-06-08     1356\n",
              "9446   1039102   2018-10-16     1039\n",
              "14679   106515   2018-03-24     1065"
            ]
          },
          "metadata": {
            "tags": []
          },
          "execution_count": 41
        }
      ]
    },
    {
      "cell_type": "code",
      "metadata": {
        "id": "Z0vuHorQUyjr"
      },
      "source": [
        "df_msg['month'] = df_msg['message_date'].dt.month_name()"
      ],
      "execution_count": null,
      "outputs": []
    },
    {
      "cell_type": "code",
      "metadata": {
        "id": "yqeZO6sYUyjr",
        "outputId": "841a2ce0-17eb-4f2e-98fe-a61191f5ea0b"
      },
      "source": [
        "user_messages = df_msg.groupby(['user_id', 'month'])\\\n",
        "                        .agg({'id':'count'})\\\n",
        "                        .reset_index()\\\n",
        "                        .rename(columns={'id':'sms_total_in_month'})\n",
        "\n",
        "user_messages.head()"
      ],
      "execution_count": null,
      "outputs": [
        {
          "output_type": "execute_result",
          "data": {
            "text/html": [
              "<div>\n",
              "<style scoped>\n",
              "    .dataframe tbody tr th:only-of-type {\n",
              "        vertical-align: middle;\n",
              "    }\n",
              "\n",
              "    .dataframe tbody tr th {\n",
              "        vertical-align: top;\n",
              "    }\n",
              "\n",
              "    .dataframe thead th {\n",
              "        text-align: right;\n",
              "    }\n",
              "</style>\n",
              "<table border=\"1\" class=\"dataframe\">\n",
              "  <thead>\n",
              "    <tr style=\"text-align: right;\">\n",
              "      <th></th>\n",
              "      <th>user_id</th>\n",
              "      <th>month</th>\n",
              "      <th>sms_total_in_month</th>\n",
              "    </tr>\n",
              "  </thead>\n",
              "  <tbody>\n",
              "    <tr>\n",
              "      <td>0</td>\n",
              "      <td>1000</td>\n",
              "      <td>August</td>\n",
              "      <td>81</td>\n",
              "    </tr>\n",
              "    <tr>\n",
              "      <td>1</td>\n",
              "      <td>1000</td>\n",
              "      <td>December</td>\n",
              "      <td>70</td>\n",
              "    </tr>\n",
              "    <tr>\n",
              "      <td>2</td>\n",
              "      <td>1000</td>\n",
              "      <td>July</td>\n",
              "      <td>75</td>\n",
              "    </tr>\n",
              "    <tr>\n",
              "      <td>3</td>\n",
              "      <td>1000</td>\n",
              "      <td>June</td>\n",
              "      <td>60</td>\n",
              "    </tr>\n",
              "    <tr>\n",
              "      <td>4</td>\n",
              "      <td>1000</td>\n",
              "      <td>May</td>\n",
              "      <td>22</td>\n",
              "    </tr>\n",
              "  </tbody>\n",
              "</table>\n",
              "</div>"
            ],
            "text/plain": [
              "   user_id     month  sms_total_in_month\n",
              "0     1000    August                  81\n",
              "1     1000  December                  70\n",
              "2     1000      July                  75\n",
              "3     1000      June                  60\n",
              "4     1000       May                  22"
            ]
          },
          "metadata": {
            "tags": []
          },
          "execution_count": 43
        }
      ]
    },
    {
      "cell_type": "markdown",
      "metadata": {
        "id": "t5oVMpjcUyjs"
      },
      "source": [
        "**Теперь найдем объем израсходованного интернет-трафика по месяцам**"
      ]
    },
    {
      "cell_type": "code",
      "metadata": {
        "id": "w7HR7DN2Uyjs",
        "outputId": "4b7f62d5-f323-46d2-b6e3-2f43d27171e2"
      },
      "source": [
        "df_internet.sample(5)"
      ],
      "execution_count": null,
      "outputs": [
        {
          "output_type": "execute_result",
          "data": {
            "text/html": [
              "<div>\n",
              "<style scoped>\n",
              "    .dataframe tbody tr th:only-of-type {\n",
              "        vertical-align: middle;\n",
              "    }\n",
              "\n",
              "    .dataframe tbody tr th {\n",
              "        vertical-align: top;\n",
              "    }\n",
              "\n",
              "    .dataframe thead th {\n",
              "        text-align: right;\n",
              "    }\n",
              "</style>\n",
              "<table border=\"1\" class=\"dataframe\">\n",
              "  <thead>\n",
              "    <tr style=\"text-align: right;\">\n",
              "      <th></th>\n",
              "      <th>id</th>\n",
              "      <th>mb_used</th>\n",
              "      <th>session_date</th>\n",
              "      <th>user_id</th>\n",
              "    </tr>\n",
              "  </thead>\n",
              "  <tbody>\n",
              "    <tr>\n",
              "      <td>77368</td>\n",
              "      <td>126220</td>\n",
              "      <td>887.66</td>\n",
              "      <td>2018-09-16</td>\n",
              "      <td>1262</td>\n",
              "    </tr>\n",
              "    <tr>\n",
              "      <td>38433</td>\n",
              "      <td>1134488</td>\n",
              "      <td>525.79</td>\n",
              "      <td>2018-03-02</td>\n",
              "      <td>1134</td>\n",
              "    </tr>\n",
              "    <tr>\n",
              "      <td>42083</td>\n",
              "      <td>114739</td>\n",
              "      <td>397.96</td>\n",
              "      <td>2018-09-05</td>\n",
              "      <td>1147</td>\n",
              "    </tr>\n",
              "    <tr>\n",
              "      <td>14560</td>\n",
              "      <td>1051174</td>\n",
              "      <td>731.60</td>\n",
              "      <td>2018-06-24</td>\n",
              "      <td>1051</td>\n",
              "    </tr>\n",
              "    <tr>\n",
              "      <td>108324</td>\n",
              "      <td>1370129</td>\n",
              "      <td>386.18</td>\n",
              "      <td>2018-08-23</td>\n",
              "      <td>1370</td>\n",
              "    </tr>\n",
              "  </tbody>\n",
              "</table>\n",
              "</div>"
            ],
            "text/plain": [
              "             id  mb_used session_date  user_id\n",
              "77368    126220   887.66   2018-09-16     1262\n",
              "38433   1134488   525.79   2018-03-02     1134\n",
              "42083    114739   397.96   2018-09-05     1147\n",
              "14560   1051174   731.60   2018-06-24     1051\n",
              "108324  1370129   386.18   2018-08-23     1370"
            ]
          },
          "metadata": {
            "tags": []
          },
          "execution_count": 44
        }
      ]
    },
    {
      "cell_type": "code",
      "metadata": {
        "id": "sxoIyw28Uyjs"
      },
      "source": [
        "#преобразуем  колонку session_date в месяц\n",
        "\n",
        "df_internet['month'] = df_internet['session_date'].dt.month_name()"
      ],
      "execution_count": null,
      "outputs": []
    },
    {
      "cell_type": "markdown",
      "metadata": {
        "id": "iit4w_fzUyjs"
      },
      "source": [
        "Сгруппируем данные по интернету по пользователям в разрезе месяцев"
      ]
    },
    {
      "cell_type": "code",
      "metadata": {
        "id": "b97JsJs0Uyjs"
      },
      "source": [
        "user_internet = df_internet.groupby(['user_id', 'month'])\\\n",
        "                        .agg({'mb_used':'sum'})\\\n",
        "                        .reset_index()\\\n",
        "                        .rename(columns={'mb_used':'mb_total_in_month'})"
      ],
      "execution_count": null,
      "outputs": []
    },
    {
      "cell_type": "code",
      "metadata": {
        "id": "tXGvZi0RUyjt",
        "outputId": "01553f77-024f-45d7-d155-1e78aec872dd"
      },
      "source": [
        "user_internet.head()"
      ],
      "execution_count": null,
      "outputs": [
        {
          "output_type": "execute_result",
          "data": {
            "text/html": [
              "<div>\n",
              "<style scoped>\n",
              "    .dataframe tbody tr th:only-of-type {\n",
              "        vertical-align: middle;\n",
              "    }\n",
              "\n",
              "    .dataframe tbody tr th {\n",
              "        vertical-align: top;\n",
              "    }\n",
              "\n",
              "    .dataframe thead th {\n",
              "        text-align: right;\n",
              "    }\n",
              "</style>\n",
              "<table border=\"1\" class=\"dataframe\">\n",
              "  <thead>\n",
              "    <tr style=\"text-align: right;\">\n",
              "      <th></th>\n",
              "      <th>user_id</th>\n",
              "      <th>month</th>\n",
              "      <th>mb_total_in_month</th>\n",
              "    </tr>\n",
              "  </thead>\n",
              "  <tbody>\n",
              "    <tr>\n",
              "      <td>0</td>\n",
              "      <td>1000</td>\n",
              "      <td>August</td>\n",
              "      <td>14,055.93</td>\n",
              "    </tr>\n",
              "    <tr>\n",
              "      <td>1</td>\n",
              "      <td>1000</td>\n",
              "      <td>December</td>\n",
              "      <td>9,817.61</td>\n",
              "    </tr>\n",
              "    <tr>\n",
              "      <td>2</td>\n",
              "      <td>1000</td>\n",
              "      <td>July</td>\n",
              "      <td>14,003.64</td>\n",
              "    </tr>\n",
              "    <tr>\n",
              "      <td>3</td>\n",
              "      <td>1000</td>\n",
              "      <td>June</td>\n",
              "      <td>23,233.77</td>\n",
              "    </tr>\n",
              "    <tr>\n",
              "      <td>4</td>\n",
              "      <td>1000</td>\n",
              "      <td>May</td>\n",
              "      <td>2,253.49</td>\n",
              "    </tr>\n",
              "  </tbody>\n",
              "</table>\n",
              "</div>"
            ],
            "text/plain": [
              "   user_id     month  mb_total_in_month\n",
              "0     1000    August          14,055.93\n",
              "1     1000  December           9,817.61\n",
              "2     1000      July          14,003.64\n",
              "3     1000      June          23,233.77\n",
              "4     1000       May           2,253.49"
            ]
          },
          "metadata": {
            "tags": []
          },
          "execution_count": 47
        }
      ]
    },
    {
      "cell_type": "markdown",
      "metadata": {
        "id": "AZ_yyfTWUyjt"
      },
      "source": [
        "**Теперь посчитаем помесячную выручку с каждого пользователя.**\n",
        "Для этой цели, объединим все таблицы (по звонкам, смс и интернету) в одну с помощью метода merge."
      ]
    },
    {
      "cell_type": "markdown",
      "metadata": {
        "id": "-u7IQpNmUyjt"
      },
      "source": [
        "Объединим таблицы user_messages с user_calls, в качестве ключа будем использовать user_id и month, метод объединения - outer.\n",
        "Метод outer включает все строки, которые совпали по заданным колонкам."
      ]
    },
    {
      "cell_type": "code",
      "metadata": {
        "id": "bOM4UP_sUyjt"
      },
      "source": [
        "df = user_calls.merge(user_messages, on=['user_id','month'], how='outer')"
      ],
      "execution_count": null,
      "outputs": []
    },
    {
      "cell_type": "markdown",
      "metadata": {
        "id": "UJseh6TaUyju"
      },
      "source": [
        "Далее, объединим полученные данные с таблицей user_internet"
      ]
    },
    {
      "cell_type": "code",
      "metadata": {
        "id": "ldCJHceZUyju"
      },
      "source": [
        "df = df.merge(user_internet, on=['user_id','month'], how = 'outer')"
      ],
      "execution_count": null,
      "outputs": []
    },
    {
      "cell_type": "markdown",
      "metadata": {
        "id": "YnlZDUGJUyju"
      },
      "source": [
        "На данный момент мы получили таблицу, содержащую данные по звонкам, использованию интернета и сообщениям.\n",
        "Дополним ее данными о самих пользователях и информацией о тарифных планах"
      ]
    },
    {
      "cell_type": "code",
      "metadata": {
        "id": "OltRFuASUyju"
      },
      "source": [
        "df = df.merge(df_users, on='user_id', how='left')"
      ],
      "execution_count": null,
      "outputs": []
    },
    {
      "cell_type": "code",
      "metadata": {
        "id": "XWPmyQEYUyjv",
        "outputId": "e0475784-81f2-4fc4-f2f6-ad68e83442ad"
      },
      "source": [
        "df = df.merge(df_tariffs, on='tariff', how='left')\n",
        "df.head()"
      ],
      "execution_count": null,
      "outputs": [
        {
          "output_type": "execute_result",
          "data": {
            "text/html": [
              "<div>\n",
              "<style scoped>\n",
              "    .dataframe tbody tr th:only-of-type {\n",
              "        vertical-align: middle;\n",
              "    }\n",
              "\n",
              "    .dataframe tbody tr th {\n",
              "        vertical-align: top;\n",
              "    }\n",
              "\n",
              "    .dataframe thead th {\n",
              "        text-align: right;\n",
              "    }\n",
              "</style>\n",
              "<table border=\"1\" class=\"dataframe\">\n",
              "  <thead>\n",
              "    <tr style=\"text-align: right;\">\n",
              "      <th></th>\n",
              "      <th>user_id</th>\n",
              "      <th>month</th>\n",
              "      <th>month_calls_duration</th>\n",
              "      <th>calls_total_in_month</th>\n",
              "      <th>sms_total_in_month</th>\n",
              "      <th>mb_total_in_month</th>\n",
              "      <th>age</th>\n",
              "      <th>churn_date</th>\n",
              "      <th>city</th>\n",
              "      <th>first_name</th>\n",
              "      <th>last_name</th>\n",
              "      <th>reg_date</th>\n",
              "      <th>tariff</th>\n",
              "      <th>messages_included</th>\n",
              "      <th>mb_per_month_included</th>\n",
              "      <th>minutes_included</th>\n",
              "      <th>rub_monthly_fee</th>\n",
              "      <th>rub_per_gb</th>\n",
              "      <th>rub_per_message</th>\n",
              "      <th>rub_per_minute</th>\n",
              "    </tr>\n",
              "  </thead>\n",
              "  <tbody>\n",
              "    <tr>\n",
              "      <td>0</td>\n",
              "      <td>1000</td>\n",
              "      <td>August</td>\n",
              "      <td>408.00</td>\n",
              "      <td>42.00</td>\n",
              "      <td>81.00</td>\n",
              "      <td>14,055.93</td>\n",
              "      <td>52</td>\n",
              "      <td>NaT</td>\n",
              "      <td>Краснодар</td>\n",
              "      <td>Рафаил</td>\n",
              "      <td>Верещагин</td>\n",
              "      <td>2018-05-25</td>\n",
              "      <td>ultra</td>\n",
              "      <td>1000</td>\n",
              "      <td>30720</td>\n",
              "      <td>3000</td>\n",
              "      <td>1950</td>\n",
              "      <td>150</td>\n",
              "      <td>1</td>\n",
              "      <td>1</td>\n",
              "    </tr>\n",
              "    <tr>\n",
              "      <td>1</td>\n",
              "      <td>1000</td>\n",
              "      <td>December</td>\n",
              "      <td>333.00</td>\n",
              "      <td>38.00</td>\n",
              "      <td>70.00</td>\n",
              "      <td>9,817.61</td>\n",
              "      <td>52</td>\n",
              "      <td>NaT</td>\n",
              "      <td>Краснодар</td>\n",
              "      <td>Рафаил</td>\n",
              "      <td>Верещагин</td>\n",
              "      <td>2018-05-25</td>\n",
              "      <td>ultra</td>\n",
              "      <td>1000</td>\n",
              "      <td>30720</td>\n",
              "      <td>3000</td>\n",
              "      <td>1950</td>\n",
              "      <td>150</td>\n",
              "      <td>1</td>\n",
              "      <td>1</td>\n",
              "    </tr>\n",
              "    <tr>\n",
              "      <td>2</td>\n",
              "      <td>1000</td>\n",
              "      <td>July</td>\n",
              "      <td>340.00</td>\n",
              "      <td>41.00</td>\n",
              "      <td>75.00</td>\n",
              "      <td>14,003.64</td>\n",
              "      <td>52</td>\n",
              "      <td>NaT</td>\n",
              "      <td>Краснодар</td>\n",
              "      <td>Рафаил</td>\n",
              "      <td>Верещагин</td>\n",
              "      <td>2018-05-25</td>\n",
              "      <td>ultra</td>\n",
              "      <td>1000</td>\n",
              "      <td>30720</td>\n",
              "      <td>3000</td>\n",
              "      <td>1950</td>\n",
              "      <td>150</td>\n",
              "      <td>1</td>\n",
              "      <td>1</td>\n",
              "    </tr>\n",
              "    <tr>\n",
              "      <td>3</td>\n",
              "      <td>1000</td>\n",
              "      <td>June</td>\n",
              "      <td>172.00</td>\n",
              "      <td>28.00</td>\n",
              "      <td>60.00</td>\n",
              "      <td>23,233.77</td>\n",
              "      <td>52</td>\n",
              "      <td>NaT</td>\n",
              "      <td>Краснодар</td>\n",
              "      <td>Рафаил</td>\n",
              "      <td>Верещагин</td>\n",
              "      <td>2018-05-25</td>\n",
              "      <td>ultra</td>\n",
              "      <td>1000</td>\n",
              "      <td>30720</td>\n",
              "      <td>3000</td>\n",
              "      <td>1950</td>\n",
              "      <td>150</td>\n",
              "      <td>1</td>\n",
              "      <td>1</td>\n",
              "    </tr>\n",
              "    <tr>\n",
              "      <td>4</td>\n",
              "      <td>1000</td>\n",
              "      <td>May</td>\n",
              "      <td>159.00</td>\n",
              "      <td>17.00</td>\n",
              "      <td>22.00</td>\n",
              "      <td>2,253.49</td>\n",
              "      <td>52</td>\n",
              "      <td>NaT</td>\n",
              "      <td>Краснодар</td>\n",
              "      <td>Рафаил</td>\n",
              "      <td>Верещагин</td>\n",
              "      <td>2018-05-25</td>\n",
              "      <td>ultra</td>\n",
              "      <td>1000</td>\n",
              "      <td>30720</td>\n",
              "      <td>3000</td>\n",
              "      <td>1950</td>\n",
              "      <td>150</td>\n",
              "      <td>1</td>\n",
              "      <td>1</td>\n",
              "    </tr>\n",
              "  </tbody>\n",
              "</table>\n",
              "</div>"
            ],
            "text/plain": [
              "   user_id     month  month_calls_duration  calls_total_in_month  \\\n",
              "0     1000    August                408.00                 42.00   \n",
              "1     1000  December                333.00                 38.00   \n",
              "2     1000      July                340.00                 41.00   \n",
              "3     1000      June                172.00                 28.00   \n",
              "4     1000       May                159.00                 17.00   \n",
              "\n",
              "   sms_total_in_month  mb_total_in_month  age churn_date       city  \\\n",
              "0               81.00          14,055.93   52        NaT  Краснодар   \n",
              "1               70.00           9,817.61   52        NaT  Краснодар   \n",
              "2               75.00          14,003.64   52        NaT  Краснодар   \n",
              "3               60.00          23,233.77   52        NaT  Краснодар   \n",
              "4               22.00           2,253.49   52        NaT  Краснодар   \n",
              "\n",
              "  first_name  last_name   reg_date tariff  messages_included  \\\n",
              "0     Рафаил  Верещагин 2018-05-25  ultra               1000   \n",
              "1     Рафаил  Верещагин 2018-05-25  ultra               1000   \n",
              "2     Рафаил  Верещагин 2018-05-25  ultra               1000   \n",
              "3     Рафаил  Верещагин 2018-05-25  ultra               1000   \n",
              "4     Рафаил  Верещагин 2018-05-25  ultra               1000   \n",
              "\n",
              "   mb_per_month_included  minutes_included  rub_monthly_fee  rub_per_gb  \\\n",
              "0                  30720              3000             1950         150   \n",
              "1                  30720              3000             1950         150   \n",
              "2                  30720              3000             1950         150   \n",
              "3                  30720              3000             1950         150   \n",
              "4                  30720              3000             1950         150   \n",
              "\n",
              "   rub_per_message  rub_per_minute  \n",
              "0                1               1  \n",
              "1                1               1  \n",
              "2                1               1  \n",
              "3                1               1  \n",
              "4                1               1  "
            ]
          },
          "metadata": {
            "tags": []
          },
          "execution_count": 51
        }
      ]
    },
    {
      "cell_type": "markdown",
      "metadata": {
        "id": "VGS-UKxYUyjv"
      },
      "source": [
        "Рассмотрим пропущенные значения"
      ]
    },
    {
      "cell_type": "code",
      "metadata": {
        "id": "HzmqMstwUyjw",
        "outputId": "4de73b63-84d3-4796-aaf8-af8ee13ef933"
      },
      "source": [
        "df.isna().sum()"
      ],
      "execution_count": null,
      "outputs": [
        {
          "output_type": "execute_result",
          "data": {
            "text/plain": [
              "user_id                     0\n",
              "month                       0\n",
              "month_calls_duration       46\n",
              "calls_total_in_month       46\n",
              "sms_total_in_month        497\n",
              "mb_total_in_month          13\n",
              "age                         0\n",
              "churn_date               3027\n",
              "city                        0\n",
              "first_name                  0\n",
              "last_name                   0\n",
              "reg_date                    0\n",
              "tariff                      0\n",
              "messages_included           0\n",
              "mb_per_month_included       0\n",
              "minutes_included            0\n",
              "rub_monthly_fee             0\n",
              "rub_per_gb                  0\n",
              "rub_per_message             0\n",
              "rub_per_minute              0\n",
              "dtype: int64"
            ]
          },
          "metadata": {
            "tags": []
          },
          "execution_count": 52
        }
      ]
    },
    {
      "cell_type": "markdown",
      "metadata": {
        "id": "SF3X9Ma2Uyjw"
      },
      "source": [
        "Порядка 500 человек не пользуются SMS, еще 13 - не пользуются интернетом. Проставим им нули, это не сильно изменит общую картину данных."
      ]
    },
    {
      "cell_type": "code",
      "metadata": {
        "id": "fNF5ATpNUyjw"
      },
      "source": [
        "df['sms_total_in_month'] = df['sms_total_in_month'].fillna(0)\n",
        "df['mb_total_in_month'] = df['mb_total_in_month'].fillna(0)\n",
        "df['month_calls_duration'] = df['month_calls_duration'].fillna(0)\n",
        "df['calls_total_in_month'] = df['calls_total_in_month'].fillna(0)"
      ],
      "execution_count": null,
      "outputs": []
    },
    {
      "cell_type": "markdown",
      "metadata": {
        "id": "X3tdYr8SUyjw"
      },
      "source": [
        "<div class=\"alert alert-success\">\n",
        "<b>Комментарий ревьюера v1:</b>\n",
        "\n",
        "Тут все верно.\n",
        "</div>"
      ]
    },
    {
      "cell_type": "code",
      "metadata": {
        "id": "VlVNgcZmUyjw",
        "outputId": "ac14868c-6b22-426f-a709-44c6f3c61489"
      },
      "source": [
        "df.isna().sum()"
      ],
      "execution_count": null,
      "outputs": [
        {
          "output_type": "execute_result",
          "data": {
            "text/plain": [
              "user_id                     0\n",
              "month                       0\n",
              "month_calls_duration        0\n",
              "calls_total_in_month        0\n",
              "sms_total_in_month          0\n",
              "mb_total_in_month           0\n",
              "age                         0\n",
              "churn_date               3027\n",
              "city                        0\n",
              "first_name                  0\n",
              "last_name                   0\n",
              "reg_date                    0\n",
              "tariff                      0\n",
              "messages_included           0\n",
              "mb_per_month_included       0\n",
              "minutes_included            0\n",
              "rub_monthly_fee             0\n",
              "rub_per_gb                  0\n",
              "rub_per_message             0\n",
              "rub_per_minute              0\n",
              "dtype: int64"
            ]
          },
          "metadata": {
            "tags": []
          },
          "execution_count": 54
        }
      ]
    },
    {
      "cell_type": "markdown",
      "metadata": {
        "id": "73DqCl5RUyjx"
      },
      "source": [
        "Напишем функцию, которая будет округлять значения и расчитает выручку по каждому пользователю без абонентской платы"
      ]
    },
    {
      "cell_type": "code",
      "metadata": {
        "id": "YAio6OI6Uyjx"
      },
      "source": [
        "def above_the_tariff(row):\n",
        "    sms = (row['sms_total_in_month'] - row['messages_included']) * row['rub_per_message'] #вычтем бесплатный лимит из суммарного количества сообщений и умножим на значение из тарифного плана \n",
        "    mins = (row['month_calls_duration'] - row['minutes_included']) * row['rub_per_minute'] #вычтем бесплатный лимит из суммарного количества звонков и умножим на значение из тарифного плана \n",
        "    mbs = np.ceil((row['mb_total_in_month'] - row['mb_per_month_included']) * row['rub_per_gb'] / 1024) \n",
        "    total = 0\n",
        "    for i in [sms, mins, mbs]:\n",
        "        if i > 0:\n",
        "            total += i\n",
        "    return total"
      ],
      "execution_count": null,
      "outputs": []
    },
    {
      "cell_type": "code",
      "metadata": {
        "id": "yd55-OdgUyjx",
        "outputId": "b8c40090-e912-442f-e099-e6062ae21687"
      },
      "source": [
        "df.head()"
      ],
      "execution_count": null,
      "outputs": [
        {
          "output_type": "execute_result",
          "data": {
            "text/html": [
              "<div>\n",
              "<style scoped>\n",
              "    .dataframe tbody tr th:only-of-type {\n",
              "        vertical-align: middle;\n",
              "    }\n",
              "\n",
              "    .dataframe tbody tr th {\n",
              "        vertical-align: top;\n",
              "    }\n",
              "\n",
              "    .dataframe thead th {\n",
              "        text-align: right;\n",
              "    }\n",
              "</style>\n",
              "<table border=\"1\" class=\"dataframe\">\n",
              "  <thead>\n",
              "    <tr style=\"text-align: right;\">\n",
              "      <th></th>\n",
              "      <th>user_id</th>\n",
              "      <th>month</th>\n",
              "      <th>month_calls_duration</th>\n",
              "      <th>calls_total_in_month</th>\n",
              "      <th>sms_total_in_month</th>\n",
              "      <th>mb_total_in_month</th>\n",
              "      <th>age</th>\n",
              "      <th>churn_date</th>\n",
              "      <th>city</th>\n",
              "      <th>first_name</th>\n",
              "      <th>last_name</th>\n",
              "      <th>reg_date</th>\n",
              "      <th>tariff</th>\n",
              "      <th>messages_included</th>\n",
              "      <th>mb_per_month_included</th>\n",
              "      <th>minutes_included</th>\n",
              "      <th>rub_monthly_fee</th>\n",
              "      <th>rub_per_gb</th>\n",
              "      <th>rub_per_message</th>\n",
              "      <th>rub_per_minute</th>\n",
              "      <th>above_the_tariff</th>\n",
              "      <th>total_revenue</th>\n",
              "      <th>region</th>\n",
              "    </tr>\n",
              "  </thead>\n",
              "  <tbody>\n",
              "    <tr>\n",
              "      <td>0</td>\n",
              "      <td>1000</td>\n",
              "      <td>August</td>\n",
              "      <td>408.00</td>\n",
              "      <td>42.00</td>\n",
              "      <td>81.00</td>\n",
              "      <td>14,055.93</td>\n",
              "      <td>52</td>\n",
              "      <td>NaT</td>\n",
              "      <td>Краснодар</td>\n",
              "      <td>Рафаил</td>\n",
              "      <td>Верещагин</td>\n",
              "      <td>2018-05-25</td>\n",
              "      <td>ultra</td>\n",
              "      <td>1000</td>\n",
              "      <td>30720</td>\n",
              "      <td>3000</td>\n",
              "      <td>1950</td>\n",
              "      <td>150</td>\n",
              "      <td>1</td>\n",
              "      <td>1</td>\n",
              "      <td>0.00</td>\n",
              "      <td>1,950.00</td>\n",
              "      <td>Провинция</td>\n",
              "    </tr>\n",
              "    <tr>\n",
              "      <td>1</td>\n",
              "      <td>1000</td>\n",
              "      <td>December</td>\n",
              "      <td>333.00</td>\n",
              "      <td>38.00</td>\n",
              "      <td>70.00</td>\n",
              "      <td>9,817.61</td>\n",
              "      <td>52</td>\n",
              "      <td>NaT</td>\n",
              "      <td>Краснодар</td>\n",
              "      <td>Рафаил</td>\n",
              "      <td>Верещагин</td>\n",
              "      <td>2018-05-25</td>\n",
              "      <td>ultra</td>\n",
              "      <td>1000</td>\n",
              "      <td>30720</td>\n",
              "      <td>3000</td>\n",
              "      <td>1950</td>\n",
              "      <td>150</td>\n",
              "      <td>1</td>\n",
              "      <td>1</td>\n",
              "      <td>0.00</td>\n",
              "      <td>1,950.00</td>\n",
              "      <td>Провинция</td>\n",
              "    </tr>\n",
              "    <tr>\n",
              "      <td>2</td>\n",
              "      <td>1000</td>\n",
              "      <td>July</td>\n",
              "      <td>340.00</td>\n",
              "      <td>41.00</td>\n",
              "      <td>75.00</td>\n",
              "      <td>14,003.64</td>\n",
              "      <td>52</td>\n",
              "      <td>NaT</td>\n",
              "      <td>Краснодар</td>\n",
              "      <td>Рафаил</td>\n",
              "      <td>Верещагин</td>\n",
              "      <td>2018-05-25</td>\n",
              "      <td>ultra</td>\n",
              "      <td>1000</td>\n",
              "      <td>30720</td>\n",
              "      <td>3000</td>\n",
              "      <td>1950</td>\n",
              "      <td>150</td>\n",
              "      <td>1</td>\n",
              "      <td>1</td>\n",
              "      <td>0.00</td>\n",
              "      <td>1,950.00</td>\n",
              "      <td>Провинция</td>\n",
              "    </tr>\n",
              "    <tr>\n",
              "      <td>3</td>\n",
              "      <td>1000</td>\n",
              "      <td>June</td>\n",
              "      <td>172.00</td>\n",
              "      <td>28.00</td>\n",
              "      <td>60.00</td>\n",
              "      <td>23,233.77</td>\n",
              "      <td>52</td>\n",
              "      <td>NaT</td>\n",
              "      <td>Краснодар</td>\n",
              "      <td>Рафаил</td>\n",
              "      <td>Верещагин</td>\n",
              "      <td>2018-05-25</td>\n",
              "      <td>ultra</td>\n",
              "      <td>1000</td>\n",
              "      <td>30720</td>\n",
              "      <td>3000</td>\n",
              "      <td>1950</td>\n",
              "      <td>150</td>\n",
              "      <td>1</td>\n",
              "      <td>1</td>\n",
              "      <td>0.00</td>\n",
              "      <td>1,950.00</td>\n",
              "      <td>Провинция</td>\n",
              "    </tr>\n",
              "    <tr>\n",
              "      <td>4</td>\n",
              "      <td>1000</td>\n",
              "      <td>May</td>\n",
              "      <td>159.00</td>\n",
              "      <td>17.00</td>\n",
              "      <td>22.00</td>\n",
              "      <td>2,253.49</td>\n",
              "      <td>52</td>\n",
              "      <td>NaT</td>\n",
              "      <td>Краснодар</td>\n",
              "      <td>Рафаил</td>\n",
              "      <td>Верещагин</td>\n",
              "      <td>2018-05-25</td>\n",
              "      <td>ultra</td>\n",
              "      <td>1000</td>\n",
              "      <td>30720</td>\n",
              "      <td>3000</td>\n",
              "      <td>1950</td>\n",
              "      <td>150</td>\n",
              "      <td>1</td>\n",
              "      <td>1</td>\n",
              "      <td>0.00</td>\n",
              "      <td>1,950.00</td>\n",
              "      <td>Провинция</td>\n",
              "    </tr>\n",
              "  </tbody>\n",
              "</table>\n",
              "</div>"
            ],
            "text/plain": [
              "   user_id     month  month_calls_duration  calls_total_in_month  \\\n",
              "0     1000    August                408.00                 42.00   \n",
              "1     1000  December                333.00                 38.00   \n",
              "2     1000      July                340.00                 41.00   \n",
              "3     1000      June                172.00                 28.00   \n",
              "4     1000       May                159.00                 17.00   \n",
              "\n",
              "   sms_total_in_month  mb_total_in_month  age churn_date       city  \\\n",
              "0               81.00          14,055.93   52        NaT  Краснодар   \n",
              "1               70.00           9,817.61   52        NaT  Краснодар   \n",
              "2               75.00          14,003.64   52        NaT  Краснодар   \n",
              "3               60.00          23,233.77   52        NaT  Краснодар   \n",
              "4               22.00           2,253.49   52        NaT  Краснодар   \n",
              "\n",
              "  first_name  last_name   reg_date tariff  messages_included  \\\n",
              "0     Рафаил  Верещагин 2018-05-25  ultra               1000   \n",
              "1     Рафаил  Верещагин 2018-05-25  ultra               1000   \n",
              "2     Рафаил  Верещагин 2018-05-25  ultra               1000   \n",
              "3     Рафаил  Верещагин 2018-05-25  ultra               1000   \n",
              "4     Рафаил  Верещагин 2018-05-25  ultra               1000   \n",
              "\n",
              "   mb_per_month_included  minutes_included  rub_monthly_fee  rub_per_gb  \\\n",
              "0                  30720              3000             1950         150   \n",
              "1                  30720              3000             1950         150   \n",
              "2                  30720              3000             1950         150   \n",
              "3                  30720              3000             1950         150   \n",
              "4                  30720              3000             1950         150   \n",
              "\n",
              "   rub_per_message  rub_per_minute  above_the_tariff  total_revenue     region  \n",
              "0                1               1              0.00       1,950.00  Провинция  \n",
              "1                1               1              0.00       1,950.00  Провинция  \n",
              "2                1               1              0.00       1,950.00  Провинция  \n",
              "3                1               1              0.00       1,950.00  Провинция  \n",
              "4                1               1              0.00       1,950.00  Провинция  "
            ]
          },
          "metadata": {
            "tags": []
          },
          "execution_count": 97
        }
      ]
    },
    {
      "cell_type": "code",
      "metadata": {
        "id": "YFf76QI8Uyjx"
      },
      "source": [
        "df['above_the_tariff'] = df.apply(lambda x: above_the_tariff(x), axis=1)"
      ],
      "execution_count": null,
      "outputs": []
    },
    {
      "cell_type": "markdown",
      "metadata": {
        "id": "EZ4o_b-0Uyjy"
      },
      "source": [
        "Расчитаем столбец с общим доходом на каждого пользователя, назовем его total_revenue"
      ]
    },
    {
      "cell_type": "code",
      "metadata": {
        "id": "WHpxOHmXUyjy"
      },
      "source": [
        "df['total_revenue'] = df['rub_monthly_fee'] + df['above_the_tariff']"
      ],
      "execution_count": null,
      "outputs": []
    },
    {
      "cell_type": "code",
      "metadata": {
        "id": "Eo3IUxVpUyjy",
        "outputId": "b5c13a4d-28df-468f-ae28-af2784a29b68"
      },
      "source": [
        "#Отсортируем значения по доходу от меньшего к большему\n",
        "pd.set_option('display.max_columns', None)\n",
        "df.sort_values(by='total_revenue').head()"
      ],
      "execution_count": null,
      "outputs": [
        {
          "output_type": "execute_result",
          "data": {
            "text/html": [
              "<div>\n",
              "<style scoped>\n",
              "    .dataframe tbody tr th:only-of-type {\n",
              "        vertical-align: middle;\n",
              "    }\n",
              "\n",
              "    .dataframe tbody tr th {\n",
              "        vertical-align: top;\n",
              "    }\n",
              "\n",
              "    .dataframe thead th {\n",
              "        text-align: right;\n",
              "    }\n",
              "</style>\n",
              "<table border=\"1\" class=\"dataframe\">\n",
              "  <thead>\n",
              "    <tr style=\"text-align: right;\">\n",
              "      <th></th>\n",
              "      <th>user_id</th>\n",
              "      <th>month</th>\n",
              "      <th>month_calls_duration</th>\n",
              "      <th>calls_total_in_month</th>\n",
              "      <th>sms_total_in_month</th>\n",
              "      <th>mb_total_in_month</th>\n",
              "      <th>age</th>\n",
              "      <th>churn_date</th>\n",
              "      <th>city</th>\n",
              "      <th>first_name</th>\n",
              "      <th>last_name</th>\n",
              "      <th>reg_date</th>\n",
              "      <th>tariff</th>\n",
              "      <th>messages_included</th>\n",
              "      <th>mb_per_month_included</th>\n",
              "      <th>minutes_included</th>\n",
              "      <th>rub_monthly_fee</th>\n",
              "      <th>rub_per_gb</th>\n",
              "      <th>rub_per_message</th>\n",
              "      <th>rub_per_minute</th>\n",
              "      <th>above_the_tariff</th>\n",
              "      <th>total_revenue</th>\n",
              "      <th>region</th>\n",
              "    </tr>\n",
              "  </thead>\n",
              "  <tbody>\n",
              "    <tr>\n",
              "      <td>1230</td>\n",
              "      <td>1193</td>\n",
              "      <td>October</td>\n",
              "      <td>459.00</td>\n",
              "      <td>58.00</td>\n",
              "      <td>29.00</td>\n",
              "      <td>10,051.86</td>\n",
              "      <td>55</td>\n",
              "      <td>NaT</td>\n",
              "      <td>Тамбов</td>\n",
              "      <td>Арсен</td>\n",
              "      <td>Безруков</td>\n",
              "      <td>2018-01-01</td>\n",
              "      <td>smart</td>\n",
              "      <td>50</td>\n",
              "      <td>15360</td>\n",
              "      <td>500</td>\n",
              "      <td>550</td>\n",
              "      <td>200</td>\n",
              "      <td>3</td>\n",
              "      <td>3</td>\n",
              "      <td>0.00</td>\n",
              "      <td>550.00</td>\n",
              "      <td>Провинция</td>\n",
              "    </tr>\n",
              "    <tr>\n",
              "      <td>1290</td>\n",
              "      <td>1204</td>\n",
              "      <td>December</td>\n",
              "      <td>416.00</td>\n",
              "      <td>45.00</td>\n",
              "      <td>0.00</td>\n",
              "      <td>23,259.55</td>\n",
              "      <td>18</td>\n",
              "      <td>NaT</td>\n",
              "      <td>Москва</td>\n",
              "      <td>Мирослава</td>\n",
              "      <td>Лазарева</td>\n",
              "      <td>2018-01-04</td>\n",
              "      <td>smart</td>\n",
              "      <td>50</td>\n",
              "      <td>15360</td>\n",
              "      <td>500</td>\n",
              "      <td>550</td>\n",
              "      <td>200</td>\n",
              "      <td>3</td>\n",
              "      <td>3</td>\n",
              "      <td>0.00</td>\n",
              "      <td>550.00</td>\n",
              "      <td>Москва</td>\n",
              "    </tr>\n",
              "    <tr>\n",
              "      <td>1289</td>\n",
              "      <td>1204</td>\n",
              "      <td>August</td>\n",
              "      <td>486.00</td>\n",
              "      <td>51.00</td>\n",
              "      <td>0.00</td>\n",
              "      <td>20,821.89</td>\n",
              "      <td>18</td>\n",
              "      <td>NaT</td>\n",
              "      <td>Москва</td>\n",
              "      <td>Мирослава</td>\n",
              "      <td>Лазарева</td>\n",
              "      <td>2018-01-04</td>\n",
              "      <td>smart</td>\n",
              "      <td>50</td>\n",
              "      <td>15360</td>\n",
              "      <td>500</td>\n",
              "      <td>550</td>\n",
              "      <td>200</td>\n",
              "      <td>3</td>\n",
              "      <td>3</td>\n",
              "      <td>0.00</td>\n",
              "      <td>550.00</td>\n",
              "      <td>Москва</td>\n",
              "    </tr>\n",
              "    <tr>\n",
              "      <td>1288</td>\n",
              "      <td>1204</td>\n",
              "      <td>April</td>\n",
              "      <td>268.00</td>\n",
              "      <td>30.00</td>\n",
              "      <td>0.00</td>\n",
              "      <td>18,664.81</td>\n",
              "      <td>18</td>\n",
              "      <td>NaT</td>\n",
              "      <td>Москва</td>\n",
              "      <td>Мирослава</td>\n",
              "      <td>Лазарева</td>\n",
              "      <td>2018-01-04</td>\n",
              "      <td>smart</td>\n",
              "      <td>50</td>\n",
              "      <td>15360</td>\n",
              "      <td>500</td>\n",
              "      <td>550</td>\n",
              "      <td>200</td>\n",
              "      <td>3</td>\n",
              "      <td>3</td>\n",
              "      <td>0.00</td>\n",
              "      <td>550.00</td>\n",
              "      <td>Москва</td>\n",
              "    </tr>\n",
              "    <tr>\n",
              "      <td>2531</td>\n",
              "      <td>1401</td>\n",
              "      <td>December</td>\n",
              "      <td>351.00</td>\n",
              "      <td>40.00</td>\n",
              "      <td>49.00</td>\n",
              "      <td>11,787.27</td>\n",
              "      <td>42</td>\n",
              "      <td>NaT</td>\n",
              "      <td>Москва</td>\n",
              "      <td>Владислава</td>\n",
              "      <td>Васильева</td>\n",
              "      <td>2018-01-24</td>\n",
              "      <td>smart</td>\n",
              "      <td>50</td>\n",
              "      <td>15360</td>\n",
              "      <td>500</td>\n",
              "      <td>550</td>\n",
              "      <td>200</td>\n",
              "      <td>3</td>\n",
              "      <td>3</td>\n",
              "      <td>0.00</td>\n",
              "      <td>550.00</td>\n",
              "      <td>Москва</td>\n",
              "    </tr>\n",
              "  </tbody>\n",
              "</table>\n",
              "</div>"
            ],
            "text/plain": [
              "      user_id     month  month_calls_duration  calls_total_in_month  \\\n",
              "1230     1193   October                459.00                 58.00   \n",
              "1290     1204  December                416.00                 45.00   \n",
              "1289     1204    August                486.00                 51.00   \n",
              "1288     1204     April                268.00                 30.00   \n",
              "2531     1401  December                351.00                 40.00   \n",
              "\n",
              "      sms_total_in_month  mb_total_in_month  age churn_date    city  \\\n",
              "1230               29.00          10,051.86   55        NaT  Тамбов   \n",
              "1290                0.00          23,259.55   18        NaT  Москва   \n",
              "1289                0.00          20,821.89   18        NaT  Москва   \n",
              "1288                0.00          18,664.81   18        NaT  Москва   \n",
              "2531               49.00          11,787.27   42        NaT  Москва   \n",
              "\n",
              "      first_name  last_name   reg_date tariff  messages_included  \\\n",
              "1230       Арсен   Безруков 2018-01-01  smart                 50   \n",
              "1290   Мирослава   Лазарева 2018-01-04  smart                 50   \n",
              "1289   Мирослава   Лазарева 2018-01-04  smart                 50   \n",
              "1288   Мирослава   Лазарева 2018-01-04  smart                 50   \n",
              "2531  Владислава  Васильева 2018-01-24  smart                 50   \n",
              "\n",
              "      mb_per_month_included  minutes_included  rub_monthly_fee  rub_per_gb  \\\n",
              "1230                  15360               500              550         200   \n",
              "1290                  15360               500              550         200   \n",
              "1289                  15360               500              550         200   \n",
              "1288                  15360               500              550         200   \n",
              "2531                  15360               500              550         200   \n",
              "\n",
              "      rub_per_message  rub_per_minute  above_the_tariff  total_revenue  \\\n",
              "1230                3               3              0.00         550.00   \n",
              "1290                3               3              0.00         550.00   \n",
              "1289                3               3              0.00         550.00   \n",
              "1288                3               3              0.00         550.00   \n",
              "2531                3               3              0.00         550.00   \n",
              "\n",
              "         region  \n",
              "1230  Провинция  \n",
              "1290     Москва  \n",
              "1289     Москва  \n",
              "1288     Москва  \n",
              "2531     Москва  "
            ]
          },
          "metadata": {
            "tags": []
          },
          "execution_count": 101
        }
      ]
    },
    {
      "cell_type": "markdown",
      "metadata": {
        "id": "p4hJpwHhUyj0"
      },
      "source": [
        "### Вывод"
      ]
    },
    {
      "cell_type": "markdown",
      "metadata": {
        "id": "Q2B5kgTJUyj1"
      },
      "source": [
        "Данные по доходам от каждого пользователя получены.\n",
        " - минимальное значение - это ежемесячное пополнение по тарифу smart\n",
        " - в среднем абоненты платят от 1480 до 1550 руб в месяц. Пока можно предположить, что возможно абоненты тарифа smart зачастую переплачивают сверх абонентской платы.\n",
        " \n",
        " Мы подготовили данные к анализу:\n",
        "\n",
        "Округлили значения столбцов длительность звонка и размер интернет трафика до целого значения вверх;\n",
        "\n",
        "Посчитали каждый показатель в разрезе юзер - месяц;\n",
        "\n",
        "Свели все данные в одну таблицу;\n",
        "\n",
        "Посчитали выручку по каждому юзеру;"
      ]
    },
    {
      "cell_type": "markdown",
      "metadata": {
        "id": "2heo1mEIUyj1"
      },
      "source": [
        "## Анализ данных"
      ]
    },
    {
      "cell_type": "markdown",
      "metadata": {
        "id": "kjLxN5G5Uyj1"
      },
      "source": [
        "На данном этапе нам необходимо сделать следующее:\n",
        " - Посчитать, сколько минут разговора, сколько сообщений и какой объём интернет-трафика требуется пользователям каждого тарифа в месяц \n",
        " - Посчитать среднее количество, дисперсию и стандартное отклонение, построить гистограммы и описать распределение."
      ]
    },
    {
      "cell_type": "markdown",
      "metadata": {
        "id": "6ZZMoo-3Uyj1"
      },
      "source": [
        "Построим гистограммы, отражающие оплату абонентами тарифов smart и ultra"
      ]
    },
    {
      "cell_type": "code",
      "metadata": {
        "id": "BLEG85I5Uyj2",
        "outputId": "ee9c6cdd-3c8a-4159-9bf8-7220340d48b9"
      },
      "source": [
        "fig, ax = plt.subplots()\n",
        "\n",
        "fig.set_size_inches(15, 5) #Установим размер графика\n",
        "\n",
        "sns.distplot(df[df['tariff'] == 'smart']['total_revenue'], hist=True, kde=False, label='Smart')\n",
        "sns.distplot(df[df['tariff'] == 'ultra']['total_revenue'], hist=True, kde=False, label='Ultra')\n",
        "ax.grid(True) #добавим сетку\n",
        "\n",
        "#  Добавляем подписи к осям:\n",
        "ax.set_xlabel('Сумма платежа, руб.',\n",
        "        fontsize = 12,    #  размер шрифта\n",
        "        color = 'green')    #  цвет шрифта\n",
        "ax.set_ylabel('Число пользователей, чел.')\n",
        "\n",
        "ax.set_title(r'Доход по тарифу по кол-ву пользователей', pad = 20) #добавим название графику\n",
        "\n",
        "plt.legend()\n",
        "plt.show()"
      ],
      "execution_count": null,
      "outputs": [
        {
          "output_type": "display_data",
          "data": {
            "image/png": "[encoded data removed]",
            "text/plain": [
              "<Figure size 1080x360 with 1 Axes>"
            ]
          },
          "metadata": {
            "tags": [],
            "needs_background": "light"
          }
        }
      ]
    },
    {
      "cell_type": "markdown",
      "metadata": {
        "id": "NQQCWazdUyj3"
      },
      "source": [
        "Построим пивот таблицу с расчитанными значениями по медиане, средней, дисперсию и стандартное отклонение"
      ]
    },
    {
      "cell_type": "code",
      "metadata": {
        "id": "-VDUgy4PUyj3",
        "outputId": "393d96ab-a5f6-4a1c-ffeb-c13e036dfd94"
      },
      "source": [
        "pivot_table_revenue = pd.pivot_table(df, \n",
        "                       values='total_revenue', \n",
        "                       index='tariff',\n",
        "                       aggfunc={'total_revenue': ['median','mean','var','std']})\n",
        "pivot_table_revenue"
      ],
      "execution_count": null,
      "outputs": [
        {
          "output_type": "execute_result",
          "data": {
            "text/html": [
              "<div>\n",
              "<style scoped>\n",
              "    .dataframe tbody tr th:only-of-type {\n",
              "        vertical-align: middle;\n",
              "    }\n",
              "\n",
              "    .dataframe tbody tr th {\n",
              "        vertical-align: top;\n",
              "    }\n",
              "\n",
              "    .dataframe thead th {\n",
              "        text-align: right;\n",
              "    }\n",
              "</style>\n",
              "<table border=\"1\" class=\"dataframe\">\n",
              "  <thead>\n",
              "    <tr style=\"text-align: right;\">\n",
              "      <th></th>\n",
              "      <th>mean</th>\n",
              "      <th>median</th>\n",
              "      <th>std</th>\n",
              "      <th>var</th>\n",
              "    </tr>\n",
              "    <tr>\n",
              "      <th>tariff</th>\n",
              "      <th></th>\n",
              "      <th></th>\n",
              "      <th></th>\n",
              "      <th></th>\n",
              "    </tr>\n",
              "  </thead>\n",
              "  <tbody>\n",
              "    <tr>\n",
              "      <td>smart</td>\n",
              "      <td>1,230.74</td>\n",
              "      <td>958.00</td>\n",
              "      <td>785.87</td>\n",
              "      <td>617,599.00</td>\n",
              "    </tr>\n",
              "    <tr>\n",
              "      <td>ultra</td>\n",
              "      <td>2,059.94</td>\n",
              "      <td>1,950.00</td>\n",
              "      <td>355.01</td>\n",
              "      <td>126,033.25</td>\n",
              "    </tr>\n",
              "  </tbody>\n",
              "</table>\n",
              "</div>"
            ],
            "text/plain": [
              "           mean   median    std        var\n",
              "tariff                                    \n",
              "smart  1,230.74   958.00 785.87 617,599.00\n",
              "ultra  2,059.94 1,950.00 355.01 126,033.25"
            ]
          },
          "metadata": {
            "tags": []
          },
          "execution_count": 61
        }
      ]
    },
    {
      "cell_type": "markdown",
      "metadata": {
        "id": "dshMvxBKUyj3"
      },
      "source": [
        "По смарту переплачивают сверх тарифа, по ультра - нет, в пределах тарифа."
      ]
    },
    {
      "cell_type": "markdown",
      "metadata": {
        "id": "8Qkoel34Uyj3"
      },
      "source": [
        "Теперь построим гистограммы, отражающие длительность звонков в минутах в зависимости от тарифного плана"
      ]
    },
    {
      "cell_type": "code",
      "metadata": {
        "id": "PpNs50gBUyj4",
        "outputId": "cb8be3a0-b2b5-4bd5-83df-ed7474334fc3"
      },
      "source": [
        "fig, ax = plt.subplots()\n",
        "\n",
        "fig.set_size_inches(15, 5) #Установим размер графика\n",
        "\n",
        "sns.distplot(df[df['tariff'] == 'smart']['month_calls_duration'], hist=True, kde=False, label='Smart')\n",
        "sns.distplot(df[df['tariff'] == 'ultra']['month_calls_duration'], hist=True, kde=False, label='Ultra')\n",
        "ax.grid(True) #добавим сетку\n",
        "\n",
        "#  Добавляем подписи к осям:\n",
        "ax.set_xlabel('Кол-во минут, итого в месяц',\n",
        "        fontsize = 12,    #  размер шрифта\n",
        "        color = 'green')    #  цвет шрифта\n",
        "ax.set_ylabel('Частота')\n",
        "\n",
        "ax.set_title(r'Длительность звонка в минутах', pad = 20) #добавим название графику\n",
        "\n",
        "plt.legend()\n",
        "plt.show()"
      ],
      "execution_count": null,
      "outputs": [
        {
          "output_type": "display_data",
          "data": {
            "image/png": "[encoded data removed]",
            "text/plain": [
              "<Figure size 1080x360 with 1 Axes>"
            ]
          },
          "metadata": {
            "tags": [],
            "needs_background": "light"
          }
        }
      ]
    },
    {
      "cell_type": "code",
      "metadata": {
        "id": "NIUNtwRmUyj4",
        "outputId": "c76e92c7-5c38-452f-e303-d889559aa799"
      },
      "source": [
        "pivot_table_calls_duration = pd.pivot_table(df, \n",
        "                       values='month_calls_duration', \n",
        "                       index='tariff',\n",
        "                       aggfunc={'month_calls_duration': ['median','mean','var','std']})\n",
        "pivot_table_calls_duration"
      ],
      "execution_count": null,
      "outputs": [
        {
          "output_type": "execute_result",
          "data": {
            "text/html": [
              "<div>\n",
              "<style scoped>\n",
              "    .dataframe tbody tr th:only-of-type {\n",
              "        vertical-align: middle;\n",
              "    }\n",
              "\n",
              "    .dataframe tbody tr th {\n",
              "        vertical-align: top;\n",
              "    }\n",
              "\n",
              "    .dataframe thead th {\n",
              "        text-align: right;\n",
              "    }\n",
              "</style>\n",
              "<table border=\"1\" class=\"dataframe\">\n",
              "  <thead>\n",
              "    <tr style=\"text-align: right;\">\n",
              "      <th></th>\n",
              "      <th>mean</th>\n",
              "      <th>median</th>\n",
              "      <th>std</th>\n",
              "      <th>var</th>\n",
              "    </tr>\n",
              "    <tr>\n",
              "      <th>tariff</th>\n",
              "      <th></th>\n",
              "      <th></th>\n",
              "      <th></th>\n",
              "      <th></th>\n",
              "    </tr>\n",
              "  </thead>\n",
              "  <tbody>\n",
              "    <tr>\n",
              "      <td>smart</td>\n",
              "      <td>417.93</td>\n",
              "      <td>422.00</td>\n",
              "      <td>190.31</td>\n",
              "      <td>36,219.32</td>\n",
              "    </tr>\n",
              "    <tr>\n",
              "      <td>ultra</td>\n",
              "      <td>526.62</td>\n",
              "      <td>518.00</td>\n",
              "      <td>317.61</td>\n",
              "      <td>100,873.63</td>\n",
              "    </tr>\n",
              "  </tbody>\n",
              "</table>\n",
              "</div>"
            ],
            "text/plain": [
              "         mean  median    std        var\n",
              "tariff                                 \n",
              "smart  417.93  422.00 190.31  36,219.32\n",
              "ultra  526.62  518.00 317.61 100,873.63"
            ]
          },
          "metadata": {
            "tags": []
          },
          "execution_count": 63
        }
      ]
    },
    {
      "cell_type": "markdown",
      "metadata": {
        "id": "IclfT31cUyj4"
      },
      "source": [
        "На тарифе Smart люди в месяц говорят около 420 минут, на Ultra 520 минут в месяц. \n",
        "Видимо, на кол-ва минут на тарифе Смарт абонентам не всегда достаточно. \n",
        "В свою очередь, на тарифе Ультра у пользователей остается запас порядка 2700 минут."
      ]
    },
    {
      "cell_type": "markdown",
      "metadata": {
        "id": "H5bPHXT9Uyj5"
      },
      "source": [
        "Взглянем на графики, отражающие использование интернета абонентами тарифа smart и ultra"
      ]
    },
    {
      "cell_type": "code",
      "metadata": {
        "id": "VXebDmduUyj5",
        "outputId": "e5485c39-2572-4a68-fbf2-708d71a7aba3"
      },
      "source": [
        "fig, ax = plt.subplots()\n",
        "\n",
        "fig.set_size_inches(15, 5) #Установим размер графика\n",
        "\n",
        "sns.distplot(df[df['tariff'] == 'smart']['mb_total_in_month'], hist=True, kde=False, label='Smart')\n",
        "sns.distplot(df[df['tariff'] == 'ultra']['mb_total_in_month'], hist=True, kde=False, label='Ultra')\n",
        "ax.grid(True) #добавим сетку\n",
        "\n",
        "#  Добавляем подписи к осям:\n",
        "ax.set_xlabel('Мегабайты',\n",
        "        fontsize = 12,    #  размер шрифта\n",
        "        color = 'green')    #  цвет шрифта\n",
        "ax.set_ylabel('Частота')\n",
        "\n",
        "ax.set_title(r'Использование интернета в МБ в месяц', pad = 20) #добавим название графику\n",
        "\n",
        "plt.legend()\n",
        "plt.show()"
      ],
      "execution_count": null,
      "outputs": [
        {
          "output_type": "display_data",
          "data": {
            "image/png": "[encoded data removed]",
            "text/plain": [
              "<Figure size 1080x360 with 1 Axes>"
            ]
          },
          "metadata": {
            "tags": [],
            "needs_background": "light"
          }
        }
      ]
    },
    {
      "cell_type": "code",
      "metadata": {
        "id": "K1rfAjErUyj5",
        "outputId": "a86e58ec-ded4-4c35-89b7-eae73fecbfe4"
      },
      "source": [
        "pivot_table_mb_in_month = pd.pivot_table(df, \n",
        "                       values='mb_total_in_month', \n",
        "                       index='tariff',\n",
        "                       aggfunc={'mb_total_in_month': ['median','mean','var','std']})\n",
        "pivot_table_mb_in_month"
      ],
      "execution_count": null,
      "outputs": [
        {
          "output_type": "execute_result",
          "data": {
            "text/html": [
              "<div>\n",
              "<style scoped>\n",
              "    .dataframe tbody tr th:only-of-type {\n",
              "        vertical-align: middle;\n",
              "    }\n",
              "\n",
              "    .dataframe tbody tr th {\n",
              "        vertical-align: top;\n",
              "    }\n",
              "\n",
              "    .dataframe thead th {\n",
              "        text-align: right;\n",
              "    }\n",
              "</style>\n",
              "<table border=\"1\" class=\"dataframe\">\n",
              "  <thead>\n",
              "    <tr style=\"text-align: right;\">\n",
              "      <th></th>\n",
              "      <th>mean</th>\n",
              "      <th>median</th>\n",
              "      <th>std</th>\n",
              "      <th>var</th>\n",
              "    </tr>\n",
              "    <tr>\n",
              "      <th>tariff</th>\n",
              "      <th></th>\n",
              "      <th></th>\n",
              "      <th></th>\n",
              "      <th></th>\n",
              "    </tr>\n",
              "  </thead>\n",
              "  <tbody>\n",
              "    <tr>\n",
              "      <td>smart</td>\n",
              "      <td>16,208.39</td>\n",
              "      <td>16,506.84</td>\n",
              "      <td>5,870.48</td>\n",
              "      <td>34,462,496.46</td>\n",
              "    </tr>\n",
              "    <tr>\n",
              "      <td>ultra</td>\n",
              "      <td>19,468.81</td>\n",
              "      <td>19,308.01</td>\n",
              "      <td>10,087.17</td>\n",
              "      <td>101,751,013.78</td>\n",
              "    </tr>\n",
              "  </tbody>\n",
              "</table>\n",
              "</div>"
            ],
            "text/plain": [
              "            mean    median       std            var\n",
              "tariff                                             \n",
              "smart  16,208.39 16,506.84  5,870.48  34,462,496.46\n",
              "ultra  19,468.81 19,308.01 10,087.17 101,751,013.78"
            ]
          },
          "metadata": {
            "tags": []
          },
          "execution_count": 65
        }
      ]
    },
    {
      "cell_type": "markdown",
      "metadata": {
        "id": "Hv9Vrf-VUyj6"
      },
      "source": [
        "Средние и медианные значения лежат рядом на обоих тарифах. \n",
        "На тарифе Smart люди выходят за пределы тарифа больше, у Ультры снова запас — около 10 Гб."
      ]
    },
    {
      "cell_type": "markdown",
      "metadata": {
        "id": "SstLTeCsUyj6"
      },
      "source": [
        "Проанализируем графики по использованию SMS абонентами на разных тарифах"
      ]
    },
    {
      "cell_type": "code",
      "metadata": {
        "id": "VEycB-M_Uyj6",
        "outputId": "ea2a2fe2-6b76-47e5-fa69-da6da1464dd3"
      },
      "source": [
        "fig, ax = plt.subplots()\n",
        "\n",
        "fig.set_size_inches(15, 5) #Установим размер графика\n",
        "\n",
        "sns.distplot(df[df['tariff'] == 'smart']['sms_total_in_month'], hist=True, kde=False, label='Smart')\n",
        "sns.distplot(df[df['tariff'] == 'ultra']['sms_total_in_month'], hist=True, kde=False, label='Ultra')\n",
        "\n",
        "ax.grid(True) #добавим сетку\n",
        "\n",
        "#  Добавляем подписи к осям:\n",
        "ax.set_xlabel('Кол-во SMS',\n",
        "        fontsize = 12,    #  размер шрифта\n",
        "        color = 'green')    #  цвет шрифта\n",
        "ax.set_ylabel('Число пользователей, чел.')\n",
        "\n",
        "ax.set_title(r'Кол-во SMS по тарифу Smart', pad = 20) #добавим название графику\n",
        "\n",
        "plt.legend()\n",
        "plt.show()"
      ],
      "execution_count": null,
      "outputs": [
        {
          "output_type": "display_data",
          "data": {
            "image/png": "[encoded data removed]",
            "text/plain": [
              "<Figure size 1080x360 with 1 Axes>"
            ]
          },
          "metadata": {
            "tags": [],
            "needs_background": "light"
          }
        }
      ]
    },
    {
      "cell_type": "code",
      "metadata": {
        "id": "uhlN7qH3Uyj6",
        "outputId": "419f8484-74a9-4066-9214-94e58de2d010"
      },
      "source": [
        "pivot_table_sms = pd.pivot_table(df, \n",
        "                       values='sms_total_in_month', \n",
        "                       index='tariff',\n",
        "                       aggfunc={'sms_total_in_month': ['median','mean','var','std']})\n",
        "pivot_table_sms"
      ],
      "execution_count": null,
      "outputs": [
        {
          "output_type": "execute_result",
          "data": {
            "text/html": [
              "<div>\n",
              "<style scoped>\n",
              "    .dataframe tbody tr th:only-of-type {\n",
              "        vertical-align: middle;\n",
              "    }\n",
              "\n",
              "    .dataframe tbody tr th {\n",
              "        vertical-align: top;\n",
              "    }\n",
              "\n",
              "    .dataframe thead th {\n",
              "        text-align: right;\n",
              "    }\n",
              "</style>\n",
              "<table border=\"1\" class=\"dataframe\">\n",
              "  <thead>\n",
              "    <tr style=\"text-align: right;\">\n",
              "      <th></th>\n",
              "      <th>mean</th>\n",
              "      <th>median</th>\n",
              "      <th>std</th>\n",
              "      <th>var</th>\n",
              "    </tr>\n",
              "    <tr>\n",
              "      <th>tariff</th>\n",
              "      <th></th>\n",
              "      <th></th>\n",
              "      <th></th>\n",
              "      <th></th>\n",
              "    </tr>\n",
              "  </thead>\n",
              "  <tbody>\n",
              "    <tr>\n",
              "      <td>smart</td>\n",
              "      <td>33.38</td>\n",
              "      <td>28.00</td>\n",
              "      <td>28.23</td>\n",
              "      <td>796.81</td>\n",
              "    </tr>\n",
              "    <tr>\n",
              "      <td>ultra</td>\n",
              "      <td>49.36</td>\n",
              "      <td>38.00</td>\n",
              "      <td>47.80</td>\n",
              "      <td>2,285.27</td>\n",
              "    </tr>\n",
              "  </tbody>\n",
              "</table>\n",
              "</div>"
            ],
            "text/plain": [
              "        mean  median   std      var\n",
              "tariff                             \n",
              "smart  33.38   28.00 28.23   796.81\n",
              "ultra  49.36   38.00 47.80 2,285.27"
            ]
          },
          "metadata": {
            "tags": []
          },
          "execution_count": 67
        }
      ]
    },
    {
      "cell_type": "markdown",
      "metadata": {
        "id": "zJTLbgQzUyj7"
      },
      "source": [
        "Поведение абонентов таково, что они крайне мало используют SMS, особенно на тарифе Ultra.\n",
        "Можно сказать что у пользователей обоих тарифов  - SMS-сообщения не востребованная функция."
      ]
    },
    {
      "cell_type": "markdown",
      "metadata": {
        "id": "d9aPRqrDUyj7"
      },
      "source": [
        "Посчитаем общую выручку по каждому тарифу"
      ]
    },
    {
      "cell_type": "code",
      "metadata": {
        "id": "KDogQPhVUyj7",
        "outputId": "c1483f00-85fa-4807-8b44-9063befe3f7f"
      },
      "source": [
        "df[df['tariff'] == 'smart']['total_revenue'].sum()"
      ],
      "execution_count": null,
      "outputs": [
        {
          "output_type": "execute_result",
          "data": {
            "text/plain": [
              "2743322.0"
            ]
          },
          "metadata": {
            "tags": []
          },
          "execution_count": 68
        }
      ]
    },
    {
      "cell_type": "code",
      "metadata": {
        "id": "kXw1KzS2Uyj7",
        "outputId": "9953c0b9-7b3a-4fa7-8b59-299bc1675396"
      },
      "source": [
        "df[df['tariff'] == 'ultra']['total_revenue'].sum()"
      ],
      "execution_count": null,
      "outputs": [
        {
          "output_type": "execute_result",
          "data": {
            "text/plain": [
              "2029037.0"
            ]
          },
          "metadata": {
            "tags": []
          },
          "execution_count": 69
        }
      ]
    },
    {
      "cell_type": "markdown",
      "metadata": {
        "id": "4nIgWiWDUyj8"
      },
      "source": [
        "### Вывод"
      ]
    },
    {
      "cell_type": "markdown",
      "metadata": {
        "id": "lI_WwZGJUyj8"
      },
      "source": [
        "Больше всего выручки компании приносит тариф Смарт, почти на 700 млн.руб. Однако по данному тарифу пользователям не всегда хватает стандартного пакета, в отличие от тарифа Ультра. "
      ]
    },
    {
      "cell_type": "markdown",
      "metadata": {
        "id": "1bnFaOPrUyj8"
      },
      "source": [
        "## Проверка гипотез"
      ]
    },
    {
      "cell_type": "markdown",
      "metadata": {
        "id": "z_dMMvWsUyj8"
      },
      "source": [
        "Проверим следующие гипотезы:\n",
        "- средняя выручка пользователей тарифов «Ультра» и «Смарт» различается;\n",
        "- средняя выручка пользователей из Москвы отличается от выручки пользователей из других регионов;"
      ]
    },
    {
      "cell_type": "markdown",
      "metadata": {
        "id": "6XhDx9bXUyj9"
      },
      "source": [
        "Пороговое значение alpha мы будем использовать как 0.05 (5%). \n",
        "Это стандартная величина отклонения, используемая для статистических тестов."
      ]
    },
    {
      "cell_type": "code",
      "metadata": {
        "id": "_iquIX0CUyj9"
      },
      "source": [
        "# Для начала, напишем функцию для удаления выбросов\n",
        "\n",
        "def delete_outliers(df, column, graphic=0, x=10, y=10):\n",
        "    q1 = df[column].quantile(0.25)                 \n",
        "    q3 = df[column].quantile(0.75)\n",
        "    iqr = q3 - q1                                                                    # расчитаем интерквартильный размах\n",
        "    net_settlement = (df[column] >= (q1 - 1.5*iqr)) & (df[column] <= (q3 + 1.5*iqr)) # произведем расчет,очищенный от выбросов\n",
        "    if graphic == 1:\n",
        "        return df.loc[net_settlement].boxplot([column], figsize=(x,y))\n",
        "    else:\n",
        "        return df.loc[net_settlement]"
      ],
      "execution_count": null,
      "outputs": []
    },
    {
      "cell_type": "markdown",
      "metadata": {
        "id": "FhmSJufQUyj9"
      },
      "source": [
        "Будем использовать t-критерий Стьюдента, так как сравниваемые выборки независимы между собой.\n",
        "\n",
        "**Гипотеза о равенстве средних двух генеральных совокупностей №1**\n",
        "\n",
        "**Сформулируем гипотезы:**\n",
        "\n",
        "- H0: выручка пользователей тарифов «Ультра» и «Смарт» не различается\n",
        "- H1: выручка пользователей тарифов «Ультра» и «Смарт» различается"
      ]
    },
    {
      "cell_type": "code",
      "metadata": {
        "id": "LowhchUkUyj-"
      },
      "source": [
        "ultra = df[df['tariff'] == 'ultra']\n",
        "smart = df[df['tariff'] == 'smart']"
      ],
      "execution_count": null,
      "outputs": []
    },
    {
      "cell_type": "code",
      "metadata": {
        "id": "8ersDKbcUyj-"
      },
      "source": [
        "ultra = delete_outliers(ultra, 'total_revenue', 0)\n",
        "ultra = ultra['total_revenue']"
      ],
      "execution_count": null,
      "outputs": []
    },
    {
      "cell_type": "code",
      "metadata": {
        "id": "bK0setdsUyj-"
      },
      "source": [
        "smart = delete_outliers(smart, 'total_revenue', 0)\n",
        "smart = smart['total_revenue']"
      ],
      "execution_count": null,
      "outputs": []
    },
    {
      "cell_type": "code",
      "metadata": {
        "id": "_S_-tx1mUyj-"
      },
      "source": [
        "alpha = 0.05"
      ],
      "execution_count": null,
      "outputs": []
    },
    {
      "cell_type": "code",
      "metadata": {
        "id": "7_N0jiFhUyj-"
      },
      "source": [
        "results = st.ttest_ind(ultra, smart)"
      ],
      "execution_count": null,
      "outputs": []
    },
    {
      "cell_type": "code",
      "metadata": {
        "id": "pM9apgGMUyj_",
        "outputId": "059135ac-87f4-4707-ac1d-18ab5146cc38"
      },
      "source": [
        "print('p-значение:', results.pvalue)\n",
        "\n",
        "if (results.pvalue < alpha):\n",
        "    print(\"Отвергаем нулевую гипотезу\")\n",
        "else:\n",
        "    print(\"Не получилось отвергнуть нулевую гипотезу\")"
      ],
      "execution_count": null,
      "outputs": [
        {
          "output_type": "stream",
          "text": [
            "p-значение: 7.855133009292105e-203\n",
            "Отвергаем нулевую гипотезу\n"
          ],
          "name": "stdout"
        }
      ]
    },
    {
      "cell_type": "markdown",
      "metadata": {
        "id": "LVKdVT8-Uyj_"
      },
      "source": [
        "По наблюдаемым данным можно сделать вывод, что, скорее всего, наша нулевая гипотеза неверна, соответственно принимаем гипотезу №1. Соответственно, делаем вывод что выручка пользователей тарифов «Ультра» и «Смарт» различается"
      ]
    },
    {
      "cell_type": "markdown",
      "metadata": {
        "id": "j-oAO04MUykA"
      },
      "source": [
        "\n",
        "**Гипотеза о равенстве средних двух генеральных совокупностей №2**\n",
        "\n",
        "**Сформулируем гипотезы:**\n",
        "\n",
        "- H0: средняя выручка пользователей из Москвы не отличается от выручки пользователей из других регионов\n",
        "- H1: средняя выручка пользователей из Москвы отличается от выручки пользователей из других регионов"
      ]
    },
    {
      "cell_type": "code",
      "metadata": {
        "id": "Ohm0p7ScUykA",
        "outputId": "b3aff081-8433-4146-8fec-c48a8dbdbc0c"
      },
      "source": [
        "df['city'].unique()"
      ],
      "execution_count": null,
      "outputs": [
        {
          "output_type": "execute_result",
          "data": {
            "text/plain": [
              "array(['Краснодар', 'Москва', 'Стерлитамак', 'Новокузнецк',\n",
              "       'Набережные Челны', 'Ульяновск', 'Челябинск', 'Пермь', 'Тюмень',\n",
              "       'Самара', 'Санкт-Петербург', 'Иваново', 'Чебоксары', 'Омск', 'Уфа',\n",
              "       'Томск', 'Чита', 'Мурманск', 'Петрозаводск', 'Тверь',\n",
              "       'Екатеринбург', 'Махачкала', 'Вологда', 'Череповец', 'Ярославль',\n",
              "       'Сочи', 'Хабаровск', 'Ставрополь', 'Рязань', 'Улан-Удэ', 'Тула',\n",
              "       'Саратов', 'Ростов-на-Дону', 'Казань', 'Иркутск', 'Курск',\n",
              "       'Калуга', 'Якутск', 'Астрахань', 'Химки', 'Владикавказ',\n",
              "       'Волгоград', 'Саранск', 'Ижевск', 'Новосибирск', 'Брянск',\n",
              "       'Тольятти', 'Нижний Тагил', 'Орёл', 'Белгород', 'Воронеж',\n",
              "       'Курган', 'Барнаул', 'Красноярск', 'Архангельск', 'Липецк',\n",
              "       'Кемерово', 'Киров', 'Сургут', 'Пенза', 'Волжский', 'Магнитогорск',\n",
              "       'Нижний Новгород', 'Кострома', 'Владивосток', 'Тамбов', 'Балашиха',\n",
              "       'Севастополь', 'Калининград', 'Оренбург', 'Смоленск',\n",
              "       'Нижневартовск', 'Владимир', 'Новороссийск', 'Грозный', 'Подольск'],\n",
              "      dtype=object)"
            ]
          },
          "metadata": {
            "tags": []
          },
          "execution_count": 77
        }
      ]
    },
    {
      "cell_type": "code",
      "metadata": {
        "id": "EIO3ibE8UykA"
      },
      "source": [
        "df['region'] = np.where(df['city'] == 'Москва', 'Москва', 'Провинция')"
      ],
      "execution_count": null,
      "outputs": []
    },
    {
      "cell_type": "code",
      "metadata": {
        "id": "emuML78jUykA"
      },
      "source": [
        "moscow = df[df['region'] == 'Москва']\n",
        "province = df[df['region'] == 'Провинция']"
      ],
      "execution_count": null,
      "outputs": []
    },
    {
      "cell_type": "code",
      "metadata": {
        "id": "qEYR30puUykB"
      },
      "source": [
        "moscow = delete_outliers(moscow, 'total_revenue', 0)\n",
        "moscow = moscow['total_revenue']"
      ],
      "execution_count": null,
      "outputs": []
    },
    {
      "cell_type": "code",
      "metadata": {
        "id": "UmnES6QcUykB"
      },
      "source": [
        "province = delete_outliers(province, 'total_revenue', 0)\n",
        "province = province['total_revenue']"
      ],
      "execution_count": null,
      "outputs": []
    },
    {
      "cell_type": "code",
      "metadata": {
        "id": "QjEUa7tIUykB"
      },
      "source": [
        "results = st.ttest_ind(moscow, province)\n",
        "# equal_var = False"
      ],
      "execution_count": null,
      "outputs": []
    },
    {
      "cell_type": "code",
      "metadata": {
        "id": "XNncyH9CUykB",
        "outputId": "0529b122-cc4d-4920-eb5e-8c84b36c6ab3"
      },
      "source": [
        "print('p-значение:', results.pvalue)\n",
        "\n",
        "if (results.pvalue < alpha):\n",
        "    print(\"Отвергаем нулевую гипотезу\")\n",
        "else:\n",
        "    print(\"Не получилось отвергнуть нулевую гипотезу\")"
      ],
      "execution_count": null,
      "outputs": [
        {
          "output_type": "stream",
          "text": [
            "p-значение: 0.27741835756809463\n",
            "Не получилось отвергнуть нулевую гипотезу\n"
          ],
          "name": "stdout"
        }
      ]
    },
    {
      "cell_type": "markdown",
      "metadata": {
        "id": "pVkvef9rUykC"
      },
      "source": [
        "С вероятностью в 27% такой результат может быть получен случайно. Значимых различий нет."
      ]
    },
    {
      "cell_type": "markdown",
      "metadata": {
        "id": "-vmpr1oqUykC"
      },
      "source": [
        "## Общий вывод"
      ]
    },
    {
      "cell_type": "markdown",
      "metadata": {
        "id": "s5hkDoW4UykC"
      },
      "source": [
        " - Абоненты на разных тарифах ведут себя по-разному. На тарифе Смарт абонентам не всегда хватает пакета минут и интернета и им приходится доплачивать, что может отрицательно влиять на их лояльность. В свою очередь, на тарифе Ультра пользователи не используют все лимиты, и по сути переплачивают. Возможность, есть смысл увеличить лимиты на одном тарифе, и уменьшить на другом, оставив стоимость без изменения.\n",
        "\n",
        "- На обоих тарифах СМС не востребованы, особенно на тарифе Ultra. Очевидно, ользователи тарифа ultra приобритают его ради интернета, т.к. нужный им объем трафика обходится дешевле на этом тарифе в разы. Но при этом они используют пакет смс и звонков всего на треть. Необходимо подумать, как использовать данную упущенную выгоду. Возможно, необходимо уменьшить лимит СМС и уменьшить стоимость тарифа, т.к. абоненты по сути переплачивают за неиспользованные лимиты.\n",
        "\n",
        "- Выручка сильно не различается между Москвой и регионами. Значит, это не связано с уровнем жизни, а скорее с общим поведением: ~8-10 часов в месяц — это предел у среднего клиента на обоих тарифах\n",
        "\n",
        "- Выручка по абонентам на разных тарифах различается. Тариф Смарт приносит больше выручки, чем Ультра. Однако его необходимо переработать, т.к. абоненты часто переплачивают по нему.\n",
        "\n",
        "**Отвечая на главный вопрос**\n",
        "Пользователи smart тарифа в половине случаев превышают предоставленный им пакет услуг по всем трем видам и приносят дополнительный доход. Но при этом средняя выручка на пользователя в месяц остается сильно ниже стоимости тарифа ultra (на одного абонента тариф ультра приносит в среднем больше выручки).\n",
        "\n",
        "\n",
        "Рекомендации:\n",
        "- Вероятно для максимизации прибыли стоит немного увеличить стоимость интернета в обоих тарифах, при этом немного сократив объем пакета для интернета.\n",
        "- Если увеличить кол-во пользователей тарифа Ультра и уменьшить его стоимость, то это поспособствует увеличению выручки\n",
        "\n",
        "Также, необходимо добавить округленые значения использованных минут и МБ интернета\n",
        "\n",
        "В целом, необходимо задуматься над оптимизацией тарифов."
      ]
    }
  ]
}