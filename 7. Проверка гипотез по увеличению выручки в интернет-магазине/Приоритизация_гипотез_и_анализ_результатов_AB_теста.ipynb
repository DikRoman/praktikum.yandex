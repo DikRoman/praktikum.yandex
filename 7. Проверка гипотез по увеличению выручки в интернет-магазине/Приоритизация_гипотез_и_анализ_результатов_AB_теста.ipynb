{
  "cells": [
    {
      "cell_type": "markdown",
      "metadata": {
        "id": "TqvKFhXqTOl0"
      },
      "source": [
        "# Приоритизация гипотез и анализ результатов A/B теста"
      ]
    },
    {
      "cell_type": "markdown",
      "metadata": {
        "id": "bg7gr48KTOl0"
      },
      "source": [
        "**Описание данных**\n",
        "\n",
        "Данные для первой части\n",
        "\n",
        "- Hypothesis — краткое описание гипотезы;\n",
        "- Reach — охват пользователей по 10-балльной шкале;\n",
        "- Impact — влияние на пользователей по 10-балльной шкале;\n",
        "- Confidence — уверенность в гипотезе по 10-балльной шкале;\n",
        "- Efforts — затраты ресурсов на проверку гипотезы по 10-балльной шкале. Чем больше значение Efforts, тем дороже проверка гипотезы.\n",
        "\n",
        "Данные для второй части\n",
        "\n",
        "- transactionId — идентификатор заказа;\n",
        "- visitorId — идентификатор пользователя, совершившего заказ;\n",
        "- date — дата, когда был совершён заказ;\n",
        "- revenue — выручка заказа;\n",
        "- group — группа A/B-теста, в которую попал заказ.\n",
        "- date — дата;\n",
        "- group — группа A/B-теста;\n",
        "- visitors — количество пользователей в указанную дату в указанной группе A/B-теста"
      ]
    },
    {
      "cell_type": "markdown",
      "metadata": {
        "id": "-KT22W7hTOl1"
      },
      "source": [
        "**Описание проекта**\n",
        "\n",
        "Имея список гипотез для увеличения выручки необходимо приоритезировать данные гипотезы, запустить A/B-тест и проанализировать результаты."
      ]
    },
    {
      "cell_type": "markdown",
      "metadata": {
        "id": "OwnEsp1CTOl1"
      },
      "source": [
        "**Задачи:**\n",
        "- Приоритизировать гипотезы для увеличения выручки крупного интернет-магазина из подготовленного с отделом маркетинга списка.\n",
        "- Запустить A/B-тест.\n",
        "- Проанализировать результаты."
      ]
    },
    {
      "cell_type": "code",
      "execution_count": null,
      "metadata": {
        "id": "xUz93m8lTOl2"
      },
      "outputs": [],
      "source": [
        "# Импортируем библиотеки\n",
        "\n",
        "import pandas as pd\n",
        "import numpy as np\n",
        "import matplotlib.pyplot as plt\n",
        "import scipy.stats as stats\n",
        "from datetime import datetime as dt\n",
        "\n",
        "\n",
        "# отключим предупреждения\n",
        "import warnings\n",
        "warnings.simplefilter('ignore')\n",
        "\n",
        "pd.options.display.float_format = '{:,.2f}'.format"
      ]
    },
    {
      "cell_type": "markdown",
      "metadata": {
        "id": "CBiPUuYdTOl5"
      },
      "source": [
        "## Приоритизация гипотез."
      ]
    },
    {
      "cell_type": "markdown",
      "metadata": {
        "id": "T9b1pdhKTOl6"
      },
      "source": [
        "В файле /datasets/hypothesis.csv 9 гипотез по увеличению выручки интернет-магазина с указанными параметрами Reach, Impact, Confidence, Effort. Для приоритизации применим фреймворки ICE и RICE."
      ]
    },
    {
      "cell_type": "code",
      "execution_count": null,
      "metadata": {
        "id": "Gva6aFMSTOl7",
        "outputId": "e0389020-40bc-410f-b0d8-42fc18225821"
      },
      "outputs": [
        {
          "data": {
            "text/html": [
              "<div>\n",
              "<style scoped>\n",
              "    .dataframe tbody tr th:only-of-type {\n",
              "        vertical-align: middle;\n",
              "    }\n",
              "\n",
              "    .dataframe tbody tr th {\n",
              "        vertical-align: top;\n",
              "    }\n",
              "\n",
              "    .dataframe thead th {\n",
              "        text-align: right;\n",
              "    }\n",
              "</style>\n",
              "<table border=\"1\" class=\"dataframe\">\n",
              "  <thead>\n",
              "    <tr style=\"text-align: right;\">\n",
              "      <th></th>\n",
              "      <th>hypothesis</th>\n",
              "      <th>reach</th>\n",
              "      <th>impact</th>\n",
              "      <th>confidence</th>\n",
              "      <th>efforts</th>\n",
              "    </tr>\n",
              "  </thead>\n",
              "  <tbody>\n",
              "    <tr>\n",
              "      <td>0</td>\n",
              "      <td>Добавить два новых канала привлечения трафика,...</td>\n",
              "      <td>3</td>\n",
              "      <td>10</td>\n",
              "      <td>8</td>\n",
              "      <td>6</td>\n",
              "    </tr>\n",
              "    <tr>\n",
              "      <td>1</td>\n",
              "      <td>Запустить собственную службу доставки, что сок...</td>\n",
              "      <td>2</td>\n",
              "      <td>5</td>\n",
              "      <td>4</td>\n",
              "      <td>10</td>\n",
              "    </tr>\n",
              "    <tr>\n",
              "      <td>2</td>\n",
              "      <td>Добавить блоки рекомендаций товаров на сайт ин...</td>\n",
              "      <td>8</td>\n",
              "      <td>3</td>\n",
              "      <td>7</td>\n",
              "      <td>3</td>\n",
              "    </tr>\n",
              "    <tr>\n",
              "      <td>3</td>\n",
              "      <td>Изменить структура категорий, что увеличит кон...</td>\n",
              "      <td>8</td>\n",
              "      <td>3</td>\n",
              "      <td>3</td>\n",
              "      <td>8</td>\n",
              "    </tr>\n",
              "    <tr>\n",
              "      <td>4</td>\n",
              "      <td>Изменить цвет фона главной страницы, чтобы уве...</td>\n",
              "      <td>3</td>\n",
              "      <td>1</td>\n",
              "      <td>1</td>\n",
              "      <td>1</td>\n",
              "    </tr>\n",
              "    <tr>\n",
              "      <td>5</td>\n",
              "      <td>Добавить страницу отзывов клиентов о магазине,...</td>\n",
              "      <td>3</td>\n",
              "      <td>2</td>\n",
              "      <td>2</td>\n",
              "      <td>3</td>\n",
              "    </tr>\n",
              "    <tr>\n",
              "      <td>6</td>\n",
              "      <td>Показать на главной странице баннеры с актуаль...</td>\n",
              "      <td>5</td>\n",
              "      <td>3</td>\n",
              "      <td>8</td>\n",
              "      <td>3</td>\n",
              "    </tr>\n",
              "    <tr>\n",
              "      <td>7</td>\n",
              "      <td>Добавить форму подписки на все основные страни...</td>\n",
              "      <td>10</td>\n",
              "      <td>7</td>\n",
              "      <td>8</td>\n",
              "      <td>5</td>\n",
              "    </tr>\n",
              "    <tr>\n",
              "      <td>8</td>\n",
              "      <td>Запустить акцию, дающую скидку на товар в день...</td>\n",
              "      <td>1</td>\n",
              "      <td>9</td>\n",
              "      <td>9</td>\n",
              "      <td>5</td>\n",
              "    </tr>\n",
              "  </tbody>\n",
              "</table>\n",
              "</div>"
            ],
            "text/plain": [
              "                                          hypothesis  reach  impact  \\\n",
              "0  Добавить два новых канала привлечения трафика,...      3      10   \n",
              "1  Запустить собственную службу доставки, что сок...      2       5   \n",
              "2  Добавить блоки рекомендаций товаров на сайт ин...      8       3   \n",
              "3  Изменить структура категорий, что увеличит кон...      8       3   \n",
              "4  Изменить цвет фона главной страницы, чтобы уве...      3       1   \n",
              "5  Добавить страницу отзывов клиентов о магазине,...      3       2   \n",
              "6  Показать на главной странице баннеры с актуаль...      5       3   \n",
              "7  Добавить форму подписки на все основные страни...     10       7   \n",
              "8  Запустить акцию, дающую скидку на товар в день...      1       9   \n",
              "\n",
              "   confidence  efforts  \n",
              "0           8        6  \n",
              "1           4       10  \n",
              "2           7        3  \n",
              "3           3        8  \n",
              "4           1        1  \n",
              "5           2        3  \n",
              "6           8        3  \n",
              "7           8        5  \n",
              "8           9        5  "
            ]
          },
          "execution_count": 2,
          "metadata": {},
          "output_type": "execute_result"
        }
      ],
      "source": [
        "hypothesis = pd.read_csv('/datasets/hypothesis.csv')\n",
        "hypothesis.columns = hypothesis.columns.str.lower()\n",
        "hypothesis"
      ]
    },
    {
      "cell_type": "markdown",
      "metadata": {
        "id": "zdhkvkIRTOl8"
      },
      "source": [
        "### Фреймворк ICE"
      ]
    },
    {
      "cell_type": "code",
      "execution_count": null,
      "metadata": {
        "id": "X9QU1VbqTOl8",
        "outputId": "8e4629f1-622c-4075-fffa-a4a5abc4ff6e"
      },
      "outputs": [
        {
          "name": "stdout",
          "output_type": "stream",
          "text": [
            "                                          hypothesis   ICE\n",
            "8  Запустить акцию, дающую скидку на товар в день... 16.20\n",
            "0  Добавить два новых канала привлечения трафика,... 13.33\n",
            "7  Добавить форму подписки на все основные страни... 11.20\n",
            "6  Показать на главной странице баннеры с актуаль...  8.00\n",
            "2  Добавить блоки рекомендаций товаров на сайт ин...  7.00\n",
            "1  Запустить собственную службу доставки, что сок...  2.00\n",
            "5  Добавить страницу отзывов клиентов о магазине,...  1.33\n",
            "3  Изменить структура категорий, что увеличит кон...  1.12\n",
            "4  Изменить цвет фона главной страницы, чтобы уве...  1.00\n"
          ]
        }
      ],
      "source": [
        "hypothesis['ICE'] = (hypothesis['impact']*hypothesis['confidence'])/hypothesis['efforts']\n",
        "\n",
        "print((hypothesis[['hypothesis', 'ICE']].sort_values(by='ICE', ascending=False)).round(2))"
      ]
    },
    {
      "cell_type": "markdown",
      "metadata": {
        "id": "YI4MEa-BTOl9"
      },
      "source": [
        "### Фреймворк RICE"
      ]
    },
    {
      "cell_type": "code",
      "execution_count": null,
      "metadata": {
        "id": "nIfXgZkJTOl9",
        "outputId": "35cb38ef-12bf-4687-9aee-4e546c8d0095"
      },
      "outputs": [
        {
          "name": "stdout",
          "output_type": "stream",
          "text": [
            "                                          hypothesis   RICE\n",
            "7  Добавить форму подписки на все основные страни... 112.00\n",
            "2  Добавить блоки рекомендаций товаров на сайт ин...  56.00\n",
            "0  Добавить два новых канала привлечения трафика,...  40.00\n",
            "6  Показать на главной странице баннеры с актуаль...  40.00\n",
            "8  Запустить акцию, дающую скидку на товар в день...  16.20\n",
            "3  Изменить структура категорий, что увеличит кон...   9.00\n",
            "1  Запустить собственную службу доставки, что сок...   4.00\n",
            "5  Добавить страницу отзывов клиентов о магазине,...   4.00\n",
            "4  Изменить цвет фона главной страницы, чтобы уве...   3.00\n"
          ]
        }
      ],
      "source": [
        "hypothesis['RICE'] = (hypothesis['reach']*hypothesis['impact']*hypothesis['confidence'])/hypothesis['efforts']\n",
        "\n",
        "print(hypothesis[['hypothesis', 'RICE']].sort_values(by='RICE', ascending=False))"
      ]
    },
    {
      "cell_type": "markdown",
      "metadata": {
        "id": "WCMk8whbTOl-"
      },
      "source": [
        "### Вывод:\n",
        "При применении ICE наиболее перспективные гипотезы 8, 0, 7 и 6, а RICE показывает, что на первом месте уже гипотеза 7, потом 2,0 и 6. Это произошло потому что параметр охвата у гипотезы 7 намного выше. То есть эти изменения затронут большее количество пользователей."
      ]
    },
    {
      "cell_type": "markdown",
      "metadata": {
        "id": "GiVIEP_CTOl_"
      },
      "source": [
        "## Анализ A/B-теста"
      ]
    },
    {
      "cell_type": "markdown",
      "metadata": {
        "id": "S6f5UdNhTOl_"
      },
      "source": [
        "Результаты A/B-теста описаны в файлах /datasets/orders.csv и /datasets/visitors.csv."
      ]
    },
    {
      "cell_type": "code",
      "execution_count": null,
      "metadata": {
        "id": "8bnpa2JlTOl_",
        "outputId": "f4511f3a-e36b-4145-c233-11f6ea6cd668"
      },
      "outputs": [
        {
          "data": {
            "text/html": [
              "<div>\n",
              "<style scoped>\n",
              "    .dataframe tbody tr th:only-of-type {\n",
              "        vertical-align: middle;\n",
              "    }\n",
              "\n",
              "    .dataframe tbody tr th {\n",
              "        vertical-align: top;\n",
              "    }\n",
              "\n",
              "    .dataframe thead th {\n",
              "        text-align: right;\n",
              "    }\n",
              "</style>\n",
              "<table border=\"1\" class=\"dataframe\">\n",
              "  <thead>\n",
              "    <tr style=\"text-align: right;\">\n",
              "      <th></th>\n",
              "      <th>transactionid</th>\n",
              "      <th>visitorid</th>\n",
              "      <th>date</th>\n",
              "      <th>revenue</th>\n",
              "      <th>group</th>\n",
              "    </tr>\n",
              "  </thead>\n",
              "  <tbody>\n",
              "    <tr>\n",
              "      <td>0</td>\n",
              "      <td>3667963787</td>\n",
              "      <td>3312258926</td>\n",
              "      <td>2019-08-15</td>\n",
              "      <td>1650</td>\n",
              "      <td>B</td>\n",
              "    </tr>\n",
              "    <tr>\n",
              "      <td>1</td>\n",
              "      <td>2804400009</td>\n",
              "      <td>3642806036</td>\n",
              "      <td>2019-08-15</td>\n",
              "      <td>730</td>\n",
              "      <td>B</td>\n",
              "    </tr>\n",
              "    <tr>\n",
              "      <td>2</td>\n",
              "      <td>2961555356</td>\n",
              "      <td>4069496402</td>\n",
              "      <td>2019-08-15</td>\n",
              "      <td>400</td>\n",
              "      <td>A</td>\n",
              "    </tr>\n",
              "    <tr>\n",
              "      <td>3</td>\n",
              "      <td>3797467345</td>\n",
              "      <td>1196621759</td>\n",
              "      <td>2019-08-15</td>\n",
              "      <td>9759</td>\n",
              "      <td>B</td>\n",
              "    </tr>\n",
              "    <tr>\n",
              "      <td>4</td>\n",
              "      <td>2282983706</td>\n",
              "      <td>2322279887</td>\n",
              "      <td>2019-08-15</td>\n",
              "      <td>2308</td>\n",
              "      <td>B</td>\n",
              "    </tr>\n",
              "  </tbody>\n",
              "</table>\n",
              "</div>"
            ],
            "text/plain": [
              "   transactionid   visitorid        date  revenue group\n",
              "0     3667963787  3312258926  2019-08-15     1650     B\n",
              "1     2804400009  3642806036  2019-08-15      730     B\n",
              "2     2961555356  4069496402  2019-08-15      400     A\n",
              "3     3797467345  1196621759  2019-08-15     9759     B\n",
              "4     2282983706  2322279887  2019-08-15     2308     B"
            ]
          },
          "execution_count": 5,
          "metadata": {},
          "output_type": "execute_result"
        }
      ],
      "source": [
        "orders = pd.read_csv('/datasets/orders.csv')\n",
        "orders.columns = orders.columns.str.lower()\n",
        "orders.head(5)"
      ]
    },
    {
      "cell_type": "code",
      "execution_count": null,
      "metadata": {
        "id": "qh9nd2ENTOmA",
        "outputId": "994e3d33-caba-4631-9936-009344819ca1"
      },
      "outputs": [
        {
          "name": "stdout",
          "output_type": "stream",
          "text": [
            "<class 'pandas.core.frame.DataFrame'>\n",
            "RangeIndex: 1197 entries, 0 to 1196\n",
            "Data columns (total 5 columns):\n",
            "transactionid    1197 non-null int64\n",
            "visitorid        1197 non-null int64\n",
            "date             1197 non-null object\n",
            "revenue          1197 non-null int64\n",
            "group            1197 non-null object\n",
            "dtypes: int64(3), object(2)\n",
            "memory usage: 46.9+ KB\n"
          ]
        }
      ],
      "source": [
        "orders.info() #изучим типы данных orders"
      ]
    },
    {
      "cell_type": "code",
      "execution_count": null,
      "metadata": {
        "id": "EtSJJ22QTOmA"
      },
      "outputs": [],
      "source": [
        "#Преобразуем тип даных с датой в datetime\n",
        "orders['date'] = pd.to_datetime(orders['date'], format=\"%Y-%m-%d\")"
      ]
    },
    {
      "cell_type": "code",
      "execution_count": null,
      "metadata": {
        "id": "3IThrGTfTOmA",
        "outputId": "73da472d-a6a7-42f0-82a0-42d350c8da93"
      },
      "outputs": [
        {
          "data": {
            "text/html": [
              "<div>\n",
              "<style scoped>\n",
              "    .dataframe tbody tr th:only-of-type {\n",
              "        vertical-align: middle;\n",
              "    }\n",
              "\n",
              "    .dataframe tbody tr th {\n",
              "        vertical-align: top;\n",
              "    }\n",
              "\n",
              "    .dataframe thead th {\n",
              "        text-align: right;\n",
              "    }\n",
              "</style>\n",
              "<table border=\"1\" class=\"dataframe\">\n",
              "  <thead>\n",
              "    <tr style=\"text-align: right;\">\n",
              "      <th></th>\n",
              "      <th>transactionid</th>\n",
              "      <th>visitorid</th>\n",
              "      <th>revenue</th>\n",
              "    </tr>\n",
              "  </thead>\n",
              "  <tbody>\n",
              "    <tr>\n",
              "      <td>count</td>\n",
              "      <td>1,197.00</td>\n",
              "      <td>1,197.00</td>\n",
              "      <td>1,197.00</td>\n",
              "    </tr>\n",
              "    <tr>\n",
              "      <td>mean</td>\n",
              "      <td>2,155,621,385.53</td>\n",
              "      <td>2,165,960,143.10</td>\n",
              "      <td>8,348.01</td>\n",
              "    </tr>\n",
              "    <tr>\n",
              "      <td>std</td>\n",
              "      <td>1,229,084,904.76</td>\n",
              "      <td>1,236,014,192.15</td>\n",
              "      <td>39,191.13</td>\n",
              "    </tr>\n",
              "    <tr>\n",
              "      <td>min</td>\n",
              "      <td>1,062,393.00</td>\n",
              "      <td>5,114,589.00</td>\n",
              "      <td>50.00</td>\n",
              "    </tr>\n",
              "    <tr>\n",
              "      <td>25%</td>\n",
              "      <td>1,166,775,572.00</td>\n",
              "      <td>1,111,826,046.00</td>\n",
              "      <td>1,220.00</td>\n",
              "    </tr>\n",
              "    <tr>\n",
              "      <td>50%</td>\n",
              "      <td>2,145,193,898.00</td>\n",
              "      <td>2,217,984,702.00</td>\n",
              "      <td>2,978.00</td>\n",
              "    </tr>\n",
              "    <tr>\n",
              "      <td>75%</td>\n",
              "      <td>3,237,740,112.00</td>\n",
              "      <td>3,177,606,451.00</td>\n",
              "      <td>8,290.00</td>\n",
              "    </tr>\n",
              "    <tr>\n",
              "      <td>max</td>\n",
              "      <td>4,293,855,558.00</td>\n",
              "      <td>4,283,872,382.00</td>\n",
              "      <td>1,294,500.00</td>\n",
              "    </tr>\n",
              "  </tbody>\n",
              "</table>\n",
              "</div>"
            ],
            "text/plain": [
              "         transactionid        visitorid      revenue\n",
              "count         1,197.00         1,197.00     1,197.00\n",
              "mean  2,155,621,385.53 2,165,960,143.10     8,348.01\n",
              "std   1,229,084,904.76 1,236,014,192.15    39,191.13\n",
              "min       1,062,393.00     5,114,589.00        50.00\n",
              "25%   1,166,775,572.00 1,111,826,046.00     1,220.00\n",
              "50%   2,145,193,898.00 2,217,984,702.00     2,978.00\n",
              "75%   3,237,740,112.00 3,177,606,451.00     8,290.00\n",
              "max   4,293,855,558.00 4,283,872,382.00 1,294,500.00"
            ]
          },
          "execution_count": 8,
          "metadata": {},
          "output_type": "execute_result"
        }
      ],
      "source": [
        "#изучим общее описание набора данных orders\n",
        "orders.describe() "
      ]
    },
    {
      "cell_type": "code",
      "execution_count": null,
      "metadata": {
        "id": "e-JoUFwMTOmA",
        "outputId": "25c94acb-eb9e-417c-ed5e-5267c6b678ac"
      },
      "outputs": [
        {
          "data": {
            "text/plain": [
              "transactionid    0\n",
              "visitorid        0\n",
              "date             0\n",
              "revenue          0\n",
              "group            0\n",
              "dtype: int64"
            ]
          },
          "execution_count": 9,
          "metadata": {},
          "output_type": "execute_result"
        }
      ],
      "source": [
        "#получим суммарное кол-во нулевых значений orders\n",
        "orders.isnull().sum() "
      ]
    },
    {
      "cell_type": "code",
      "execution_count": null,
      "metadata": {
        "id": "tJXGP250TOmB",
        "outputId": "5866441f-9a92-4801-9ec8-f45ad6addff5"
      },
      "outputs": [
        {
          "data": {
            "text/plain": [
              "0"
            ]
          },
          "execution_count": 10,
          "metadata": {},
          "output_type": "execute_result"
        }
      ],
      "source": [
        "#получим суммарное кол-во дубликатов orders\n",
        "orders.duplicated().sum()"
      ]
    },
    {
      "cell_type": "code",
      "execution_count": null,
      "metadata": {
        "id": "cJM5x1byTOmB",
        "outputId": "323e44db-af4d-434d-9b12-dba92b632639"
      },
      "outputs": [
        {
          "data": {
            "text/html": [
              "<div>\n",
              "<style scoped>\n",
              "    .dataframe tbody tr th:only-of-type {\n",
              "        vertical-align: middle;\n",
              "    }\n",
              "\n",
              "    .dataframe tbody tr th {\n",
              "        vertical-align: top;\n",
              "    }\n",
              "\n",
              "    .dataframe thead th {\n",
              "        text-align: right;\n",
              "    }\n",
              "</style>\n",
              "<table border=\"1\" class=\"dataframe\">\n",
              "  <thead>\n",
              "    <tr style=\"text-align: right;\">\n",
              "      <th></th>\n",
              "      <th>date</th>\n",
              "      <th>group</th>\n",
              "      <th>visitors</th>\n",
              "    </tr>\n",
              "  </thead>\n",
              "  <tbody>\n",
              "    <tr>\n",
              "      <td>0</td>\n",
              "      <td>2019-08-01</td>\n",
              "      <td>A</td>\n",
              "      <td>719</td>\n",
              "    </tr>\n",
              "    <tr>\n",
              "      <td>1</td>\n",
              "      <td>2019-08-02</td>\n",
              "      <td>A</td>\n",
              "      <td>619</td>\n",
              "    </tr>\n",
              "    <tr>\n",
              "      <td>2</td>\n",
              "      <td>2019-08-03</td>\n",
              "      <td>A</td>\n",
              "      <td>507</td>\n",
              "    </tr>\n",
              "    <tr>\n",
              "      <td>3</td>\n",
              "      <td>2019-08-04</td>\n",
              "      <td>A</td>\n",
              "      <td>717</td>\n",
              "    </tr>\n",
              "    <tr>\n",
              "      <td>4</td>\n",
              "      <td>2019-08-05</td>\n",
              "      <td>A</td>\n",
              "      <td>756</td>\n",
              "    </tr>\n",
              "  </tbody>\n",
              "</table>\n",
              "</div>"
            ],
            "text/plain": [
              "         date group  visitors\n",
              "0  2019-08-01     A       719\n",
              "1  2019-08-02     A       619\n",
              "2  2019-08-03     A       507\n",
              "3  2019-08-04     A       717\n",
              "4  2019-08-05     A       756"
            ]
          },
          "execution_count": 11,
          "metadata": {},
          "output_type": "execute_result"
        }
      ],
      "source": [
        "visitors = pd.read_csv('/datasets/visitors.csv')\n",
        "visitors.head(5)"
      ]
    },
    {
      "cell_type": "code",
      "execution_count": null,
      "metadata": {
        "id": "87APrRfVTOmB",
        "outputId": "1c096274-2837-429e-f95e-5d9ca1215e28"
      },
      "outputs": [
        {
          "name": "stdout",
          "output_type": "stream",
          "text": [
            "<class 'pandas.core.frame.DataFrame'>\n",
            "RangeIndex: 62 entries, 0 to 61\n",
            "Data columns (total 3 columns):\n",
            "date        62 non-null object\n",
            "group       62 non-null object\n",
            "visitors    62 non-null int64\n",
            "dtypes: int64(1), object(2)\n",
            "memory usage: 1.6+ KB\n"
          ]
        }
      ],
      "source": [
        "visitors.info()"
      ]
    },
    {
      "cell_type": "code",
      "execution_count": null,
      "metadata": {
        "id": "cEaD_0IVTOmC"
      },
      "outputs": [],
      "source": [
        "#Преобразуем тип даных с датой в datetime\n",
        "visitors['date'] = pd.to_datetime(visitors['date'], format=\"%Y-%m-%d\")"
      ]
    },
    {
      "cell_type": "code",
      "execution_count": null,
      "metadata": {
        "id": "lSAHdQ6BTOmC",
        "outputId": "90e3acfc-45d8-4710-ce8a-a49a151f3a23"
      },
      "outputs": [
        {
          "data": {
            "text/html": [
              "<div>\n",
              "<style scoped>\n",
              "    .dataframe tbody tr th:only-of-type {\n",
              "        vertical-align: middle;\n",
              "    }\n",
              "\n",
              "    .dataframe tbody tr th {\n",
              "        vertical-align: top;\n",
              "    }\n",
              "\n",
              "    .dataframe thead th {\n",
              "        text-align: right;\n",
              "    }\n",
              "</style>\n",
              "<table border=\"1\" class=\"dataframe\">\n",
              "  <thead>\n",
              "    <tr style=\"text-align: right;\">\n",
              "      <th></th>\n",
              "      <th>visitors</th>\n",
              "    </tr>\n",
              "  </thead>\n",
              "  <tbody>\n",
              "    <tr>\n",
              "      <td>count</td>\n",
              "      <td>62.00</td>\n",
              "    </tr>\n",
              "    <tr>\n",
              "      <td>mean</td>\n",
              "      <td>607.29</td>\n",
              "    </tr>\n",
              "    <tr>\n",
              "      <td>std</td>\n",
              "      <td>114.40</td>\n",
              "    </tr>\n",
              "    <tr>\n",
              "      <td>min</td>\n",
              "      <td>361.00</td>\n",
              "    </tr>\n",
              "    <tr>\n",
              "      <td>25%</td>\n",
              "      <td>534.00</td>\n",
              "    </tr>\n",
              "    <tr>\n",
              "      <td>50%</td>\n",
              "      <td>624.50</td>\n",
              "    </tr>\n",
              "    <tr>\n",
              "      <td>75%</td>\n",
              "      <td>710.50</td>\n",
              "    </tr>\n",
              "    <tr>\n",
              "      <td>max</td>\n",
              "      <td>770.00</td>\n",
              "    </tr>\n",
              "  </tbody>\n",
              "</table>\n",
              "</div>"
            ],
            "text/plain": [
              "       visitors\n",
              "count     62.00\n",
              "mean     607.29\n",
              "std      114.40\n",
              "min      361.00\n",
              "25%      534.00\n",
              "50%      624.50\n",
              "75%      710.50\n",
              "max      770.00"
            ]
          },
          "execution_count": 14,
          "metadata": {},
          "output_type": "execute_result"
        }
      ],
      "source": [
        "visitors.describe() "
      ]
    },
    {
      "cell_type": "code",
      "execution_count": null,
      "metadata": {
        "id": "_GzftUdrTOmC",
        "outputId": "75d632fb-bcad-45ec-d4a3-a9c98927fab2"
      },
      "outputs": [
        {
          "data": {
            "text/plain": [
              "date        0\n",
              "group       0\n",
              "visitors    0\n",
              "dtype: int64"
            ]
          },
          "execution_count": 15,
          "metadata": {},
          "output_type": "execute_result"
        }
      ],
      "source": [
        "visitors.isnull().sum()"
      ]
    },
    {
      "cell_type": "code",
      "execution_count": null,
      "metadata": {
        "id": "RrAHWUSkTOmC",
        "outputId": "53d3b5bb-1fa7-43aa-95ee-e63c7004af34"
      },
      "outputs": [
        {
          "data": {
            "text/plain": [
              "0"
            ]
          },
          "execution_count": 16,
          "metadata": {},
          "output_type": "execute_result"
        }
      ],
      "source": [
        "visitors.duplicated().sum() #получим суммарное кол-во дубликатов visitors"
      ]
    },
    {
      "cell_type": "markdown",
      "metadata": {
        "id": "nJlyvg0LTOmD"
      },
      "source": [
        "### Куммулятивная выручка¶"
      ]
    },
    {
      "cell_type": "code",
      "execution_count": null,
      "metadata": {
        "id": "3JXN6Mk9TOmD",
        "outputId": "f82ae95f-fba5-4853-9930-685967a09f55"
      },
      "outputs": [
        {
          "data": {
            "text/html": [
              "<div>\n",
              "<style scoped>\n",
              "    .dataframe tbody tr th:only-of-type {\n",
              "        vertical-align: middle;\n",
              "    }\n",
              "\n",
              "    .dataframe tbody tr th {\n",
              "        vertical-align: top;\n",
              "    }\n",
              "\n",
              "    .dataframe thead th {\n",
              "        text-align: right;\n",
              "    }\n",
              "</style>\n",
              "<table border=\"1\" class=\"dataframe\">\n",
              "  <thead>\n",
              "    <tr style=\"text-align: right;\">\n",
              "      <th></th>\n",
              "      <th>date</th>\n",
              "      <th>group</th>\n",
              "      <th>orders</th>\n",
              "      <th>buyers</th>\n",
              "      <th>revenue</th>\n",
              "      <th>visitors</th>\n",
              "    </tr>\n",
              "  </thead>\n",
              "  <tbody>\n",
              "    <tr>\n",
              "      <td>0</td>\n",
              "      <td>2019-08-01</td>\n",
              "      <td>A</td>\n",
              "      <td>24</td>\n",
              "      <td>20</td>\n",
              "      <td>148579</td>\n",
              "      <td>719</td>\n",
              "    </tr>\n",
              "    <tr>\n",
              "      <td>1</td>\n",
              "      <td>2019-08-01</td>\n",
              "      <td>B</td>\n",
              "      <td>21</td>\n",
              "      <td>20</td>\n",
              "      <td>101217</td>\n",
              "      <td>713</td>\n",
              "    </tr>\n",
              "    <tr>\n",
              "      <td>2</td>\n",
              "      <td>2019-08-02</td>\n",
              "      <td>A</td>\n",
              "      <td>44</td>\n",
              "      <td>38</td>\n",
              "      <td>242401</td>\n",
              "      <td>1338</td>\n",
              "    </tr>\n",
              "    <tr>\n",
              "      <td>3</td>\n",
              "      <td>2019-08-02</td>\n",
              "      <td>B</td>\n",
              "      <td>45</td>\n",
              "      <td>43</td>\n",
              "      <td>266748</td>\n",
              "      <td>1294</td>\n",
              "    </tr>\n",
              "    <tr>\n",
              "      <td>4</td>\n",
              "      <td>2019-08-03</td>\n",
              "      <td>A</td>\n",
              "      <td>68</td>\n",
              "      <td>62</td>\n",
              "      <td>354874</td>\n",
              "      <td>1845</td>\n",
              "    </tr>\n",
              "  </tbody>\n",
              "</table>\n",
              "</div>"
            ],
            "text/plain": [
              "        date group  orders  buyers  revenue  visitors\n",
              "0 2019-08-01     A      24      20   148579       719\n",
              "1 2019-08-01     B      21      20   101217       713\n",
              "2 2019-08-02     A      44      38   242401      1338\n",
              "3 2019-08-02     B      45      43   266748      1294\n",
              "4 2019-08-03     A      68      62   354874      1845"
            ]
          },
          "metadata": {},
          "output_type": "display_data"
        }
      ],
      "source": [
        "# создаем массив уникальных пар значений дат и групп теста\n",
        "datesGroups = orders[['date','group']].drop_duplicates()\n",
        "\n",
        "# Получим строки orders, дата которых <= дате элемента из datesGroups, а группа теста равна группе из datesGroups\n",
        "# Агрегируем значения, найдём число уникальных ID заказов и пользователей\n",
        "# Подсчитаем сумму средних чеков\n",
        "\n",
        "ordersAggregated = (datesGroups\n",
        "                    .apply(lambda x: orders[np.logical_and(orders['date'] <= x['date'], orders['group'] == x['group'])]\\\n",
        ".agg({'date' : 'max', 'group' : 'max', 'transactionid' : pd.Series.nunique, 'visitorid' : pd.Series.nunique, 'revenue' : 'sum'}), axis=1)\n",
        "                    .sort_values(by=['date','group'])\n",
        ")\n",
        "\n",
        "# Получим нужные строки visitors, агрегируем значения\n",
        "# Посчитаем количество пользователей\n",
        "\n",
        "visitorsAggregated = (datesGroups\n",
        "                      .apply(lambda x: visitors[np.logical_and(visitors['date'] <= x['date'], visitors['group'] == x['group'])]\n",
        "                             .agg({'date' : 'max', 'group' : 'max', 'visitors' : 'sum'}), axis=1)\n",
        "                      .sort_values(by=['date','group']))\n",
        "\n",
        "# объединяем кумулятивные данные в одной таблице и присваиваем ее столбцам понятные названия\n",
        "cummulativeData = ordersAggregated.merge(visitorsAggregated, left_on=['date', 'group'], right_on=['date', 'group'])\n",
        "cummulativeData.columns = ['date', 'group', 'orders', 'buyers', 'revenue', 'visitors']\n",
        "\n",
        "#print(cummulativeData.head(5))\n",
        "display(cummulativeData.head(5))"
      ]
    },
    {
      "cell_type": "markdown",
      "metadata": {
        "id": "gD-3plCpTOmE"
      },
      "source": [
        "Построим график выручки группы A и группы B"
      ]
    },
    {
      "cell_type": "code",
      "execution_count": null,
      "metadata": {
        "id": "J-N0itR7TOmE",
        "outputId": "263a46eb-61a0-47aa-963e-4d230cc2c25d"
      },
      "outputs": [
        {
          "data": {
            "image/png": "[encoded data removed]",
            "text/plain": [
              "<Figure size 720x504 with 1 Axes>"
            ]
          },
          "metadata": {
            "needs_background": "light"
          },
          "output_type": "display_data"
        }
      ],
      "source": [
        "# датафрейм с кумулятивным количеством заказов и кумулятивной выручкой по дням в группе А и B\n",
        "cummulativeRevenueA = cummulativeData[cummulativeData['group']=='A'][['date','revenue', 'orders']]\n",
        "cummulativeRevenueB = cummulativeData[cummulativeData['group']=='B'][['date','revenue', 'orders']]\n",
        "\n",
        "\n",
        "cummulativeRevenueA['date'] = pd.to_datetime(cummulativeRevenueA['date'], format='%Y-%m-%d')\n",
        "cummulativeRevenueB['date'] = pd.to_datetime(cummulativeRevenueB['date'], format='%Y-%m-%d')\n",
        "\n",
        "\n",
        "# Строим график выручки группы А и B\n",
        "\n",
        "fig = plt.figure(figsize=[10,7])\n",
        "\n",
        "\n",
        "plt.plot(cummulativeRevenueA['date'], cummulativeRevenueA['revenue'], label='A')\n",
        "plt.plot(cummulativeRevenueB['date'], cummulativeRevenueB['revenue'], label='B')\n",
        "\n",
        "fig.autofmt_xdate()\n",
        "\n",
        "plt.title(\"График выручки группы A и группы B по дням\")\n",
        "\n",
        "plt.legend()\n",
        "plt.show()"
      ]
    },
    {
      "cell_type": "markdown",
      "metadata": {
        "id": "kUQbo4xkTOmF"
      },
      "source": [
        "Выручка увеличивается в течение всего теста, но график выручки группы B в одной точке резко растет. Это может сигнализировать о всплеске числа заказов, либо о появлении очень дорогих заказов в выборке."
      ]
    },
    {
      "cell_type": "markdown",
      "metadata": {
        "id": "4UW3nLxeTOmF"
      },
      "source": [
        "### Куммулятивный средний чек"
      ]
    },
    {
      "cell_type": "code",
      "execution_count": null,
      "metadata": {
        "id": "-XdlZh1VTOmF",
        "outputId": "c7f88c7f-72a5-47b3-cd17-ce2a6f63b42b"
      },
      "outputs": [
        {
          "data": {
            "image/png": "[encoded data removed]",
            "text/plain": [
              "<Figure size 720x504 with 1 Axes>"
            ]
          },
          "metadata": {
            "needs_background": "light"
          },
          "output_type": "display_data"
        }
      ],
      "source": [
        "fig = plt.figure(figsize=[10,7])\n",
        "plt.plot(cummulativeRevenueA['date'], cummulativeRevenueA['revenue']/cummulativeRevenueA['orders'], label='A')\n",
        "plt.plot(cummulativeRevenueB['date'], cummulativeRevenueB['revenue']/cummulativeRevenueB['orders'], label='B')\n",
        "fig.autofmt_xdate()\n",
        "plt.title(\"Средний чек группы A и группы B по дням\")\n",
        "plt.legend()\n",
        "plt.show()"
      ]
    },
    {
      "cell_type": "markdown",
      "metadata": {
        "id": "RMjmh_1WTOmF"
      },
      "source": [
        "Средний чек становится более равномерным к концу теста: немного растет для группы A и и продолжает падать для группы B. Возможно, в группу B в середине теста попали крупные заказы (резкий всплеск на графике)."
      ]
    },
    {
      "cell_type": "markdown",
      "metadata": {
        "id": "fJSO-paCTOmF"
      },
      "source": [
        "### Относительное изменение кумулятивного среднего чека группы B к группе A"
      ]
    },
    {
      "cell_type": "markdown",
      "metadata": {
        "id": "c-gOvPZOTOmG"
      },
      "source": [
        "Построим график относительного различия для среднего чека. Добавим горизонтальную ось методом axhline():"
      ]
    },
    {
      "cell_type": "code",
      "execution_count": null,
      "metadata": {
        "id": "uGP5rnqFTOmG",
        "outputId": "1005b9af-ea2a-4212-c891-edb2c578c32d"
      },
      "outputs": [
        {
          "data": {
            "image/png": "[encoded data removed]",
            "text/plain": [
              "<Figure size 720x504 with 1 Axes>"
            ]
          },
          "metadata": {
            "needs_background": "light"
          },
          "output_type": "display_data"
        }
      ],
      "source": [
        "fig = plt.figure(figsize=[10,7])\n",
        "# собираем данные в одном датафрейме\n",
        "mergedCummulativeRevenue = cummulativeRevenueA.merge(cummulativeRevenueB, left_on='date', right_on='date', how='left', suffixes=['A', 'B'])\n",
        "\n",
        "# cтроим отношение средних чеков\n",
        "plt.plot(mergedCummulativeRevenue['date'], (mergedCummulativeRevenue['revenueB']/mergedCummulativeRevenue['ordersB'])/(mergedCummulativeRevenue['revenueA']/mergedCummulativeRevenue['ordersA'])-1, label=\"Относительное изменение среднего чека\\n группы B к группе A\")\n",
        "plt.legend(loc='lower right')\n",
        "fig.autofmt_xdate()\n",
        "# добавляем ось X\n",
        "plt.axhline(y=0, color='black', linestyle='--')\n",
        "plt.title(\"Относительное изменение кумулятивного среднего чека группы B к группе A по дням\")\n",
        "plt.axis([\"2019-08-01\", '2019-08-31', -0.4, 0.6])\n",
        "plt.show()"
      ]
    },
    {
      "cell_type": "markdown",
      "metadata": {
        "id": "AWk1bHxoTOmG"
      },
      "source": [
        "График различия между сегментами резко «скачет». Сначала средний чек группы B стабильно растет, потом резко падает и резко взлетает. Возможно это влияние крупных заказов и выбросов. Все три графика демонстрируют одинаковую картину."
      ]
    },
    {
      "cell_type": "markdown",
      "metadata": {
        "id": "3DWPeRveTOmG"
      },
      "source": [
        "### Кумулятивная конверсия"
      ]
    },
    {
      "cell_type": "markdown",
      "metadata": {
        "id": "nxS-4q1MTOmG"
      },
      "source": [
        "Аналогично проанализируем график кумулятивной конверсии. Зададим масштаб осей методом plt.axis()."
      ]
    },
    {
      "cell_type": "code",
      "execution_count": null,
      "metadata": {
        "id": "Y11CugmjTOmH",
        "outputId": "7f010b6c-1efe-490c-cc49-baf65fb66563"
      },
      "outputs": [
        {
          "name": "stdout",
          "output_type": "stream",
          "text": [
            "0.029217427214536445\n",
            "0.03685636856368564\n"
          ]
        }
      ],
      "source": [
        "# считаем кумулятивную конверсию\n",
        "cummulativeData['conversion'] = cummulativeData['orders']/cummulativeData['visitors']\n",
        "print(cummulativeData['conversion'].min())\n",
        "print(cummulativeData['conversion'].max())"
      ]
    },
    {
      "cell_type": "code",
      "execution_count": null,
      "metadata": {
        "id": "4BtGET2ETOmH",
        "outputId": "e242361a-dc2b-4703-f5df-b7241c849ba0"
      },
      "outputs": [
        {
          "data": {
            "image/png": "[encoded data removed]",
            "text/plain": [
              "<Figure size 720x504 with 1 Axes>"
            ]
          },
          "metadata": {
            "needs_background": "light"
          },
          "output_type": "display_data"
        }
      ],
      "source": [
        "cummulativeData['date'] = pd.to_datetime(cummulativeData['date'], format='%Y-%m-%d')\n",
        "\n",
        "# отделяем данные по группе A и B\n",
        "cummulativeDataA = cummulativeData[cummulativeData['group']=='A']\n",
        "cummulativeDataB = cummulativeData[cummulativeData['group']=='B']\n",
        "\n",
        "\n",
        "# строим графики\n",
        "fig = plt.figure(figsize=[10,7])\n",
        "plt.plot(cummulativeDataA['date'], cummulativeDataA['conversion'], label='A')\n",
        "plt.plot(cummulativeDataB['date'], cummulativeDataB['conversion'], label='B')\n",
        "fig.autofmt_xdate()\n",
        "plt.legend()\n",
        "\n",
        "plt.title(\"Кумулятивная конверсия группы А и группы B\")\n",
        "# задаем масштаб осей\n",
        "plt.axis([\"2019-08-01\", '2019-08-31', 0.025, 0.040])\n",
        "plt.show()"
      ]
    },
    {
      "cell_type": "markdown",
      "metadata": {
        "id": "S9UM3J4-TOmH"
      },
      "source": [
        "Группы колебались около одного значения, но затем конверсия группы B вырвалась вперёд и зафиксировалась, а конверсия группы A просела и также зафиксировалась."
      ]
    },
    {
      "cell_type": "markdown",
      "metadata": {
        "id": "-tMrnKizTOmH"
      },
      "source": [
        "### Относительное изменение кумулятивной конверсии группы B к группе A"
      ]
    },
    {
      "cell_type": "code",
      "execution_count": null,
      "metadata": {
        "id": "4kwnj7zPTOmI",
        "outputId": "cc9ac6c0-02dc-4943-ea78-dd4260323a18"
      },
      "outputs": [
        {
          "data": {
            "image/png": "[encoded data removed]",
            "text/plain": [
              "<Figure size 720x504 with 1 Axes>"
            ]
          },
          "metadata": {
            "needs_background": "light"
          },
          "output_type": "display_data"
        }
      ],
      "source": [
        "mergedCummulativeConversions = cummulativeDataA[['date','conversion']].merge(cummulativeDataB[['date','conversion']], left_on='date', right_on='date', how='left', suffixes=['A', 'B'])\n",
        "\n",
        "fig = plt.figure(figsize=[10,7])\n",
        "plt.plot(mergedCummulativeConversions['date'], mergedCummulativeConversions['conversionB']/mergedCummulativeConversions['conversionA']-1, label=\"Относительный прирост конверсии\\n группы B относительно группы A\")\n",
        "plt.legend(loc=\"lower right\")\n",
        "fig.autofmt_xdate()\n",
        "\n",
        "plt.title(\"Относительное изменение кумулятивной конверсии группы B к группе A\")\n",
        "plt.axhline(y=0, color='black', linestyle='--')\n",
        "plt.axhline(y=0.1, color='grey', linestyle='--')\n",
        "plt.axis([\"2019-08-01\", '2019-08-31', -0.2, 0.3])\n",
        "\n",
        "plt.show()"
      ]
    },
    {
      "cell_type": "markdown",
      "metadata": {
        "id": "_418cT2XTOmI"
      },
      "source": [
        "В начале теста группа B проигрывала группе A, затем вырвалась вперёд. Конверсия группы B стабильно выше. Стоит проанализировать аномалии, возможно результаты изменятся."
      ]
    },
    {
      "cell_type": "markdown",
      "metadata": {
        "id": "RUsnX3HPTOmI"
      },
      "source": [
        "### Точечный график количества заказов по пользователям"
      ]
    },
    {
      "cell_type": "markdown",
      "metadata": {
        "id": "G0CNoZ5oTOmI"
      },
      "source": [
        "Подсчитаем количество заказов по пользователям и посмотрим на результат:"
      ]
    },
    {
      "cell_type": "code",
      "execution_count": null,
      "metadata": {
        "id": "MyDs85WfTOmJ",
        "outputId": "57bd06c2-cbb7-43eb-9666-91a0f73626b4"
      },
      "outputs": [
        {
          "name": "stdout",
          "output_type": "stream",
          "text": [
            "       visitorid  orders\n",
            "1023  4256040402      11\n",
            "591   2458001652      11\n",
            "569   2378935119       9\n",
            "487   2038680547       8\n",
            "44     199603092       5\n",
            "744   3062433592       5\n",
            "55     237748145       5\n",
            "917   3803269165       5\n",
            "299   1230306981       5\n",
            "897   3717692402       5\n"
          ]
        }
      ],
      "source": [
        "ordersByUsers = orders.drop(['group', 'revenue', 'date'], axis=1).groupby('visitorid', as_index=False).agg({'transactionid' : pd.Series.nunique})\n",
        "\n",
        "ordersByUsers.columns = ['visitorid','orders']\n",
        "\n",
        "print(ordersByUsers.sort_values(by='orders',ascending=False).head(10))"
      ]
    },
    {
      "cell_type": "markdown",
      "metadata": {
        "id": "s_S0ivDzTOmJ"
      },
      "source": [
        "Построим гистрограмму распределения количества заказов на одного пользователя."
      ]
    },
    {
      "cell_type": "code",
      "execution_count": null,
      "metadata": {
        "id": "1rOG2LubTOmJ",
        "outputId": "6cdea8f1-5752-4c09-cc7b-5ee443a46f0b"
      },
      "outputs": [
        {
          "data": {
            "image/png": "[encoded data removed]",
            "text/plain": [
              "<Figure size 432x288 with 1 Axes>"
            ]
          },
          "metadata": {
            "needs_background": "light"
          },
          "output_type": "display_data"
        }
      ],
      "source": [
        "plt.hist(ordersByUsers['orders'])\n",
        "plt.title(\"Число заказов в зависимости от кол-ва покупателей\")\n",
        "plt.xlabel('Число заказов',fontsize = 12) #xlabel\n",
        "plt.ylabel('Кол-во покупателей', fontsize = 12)#ylabel\n",
        "plt.show()"
      ]
    },
    {
      "cell_type": "markdown",
      "metadata": {
        "id": "dMEd0PRITOmK"
      },
      "source": [
        "Большинство покупателей заказывали только один раз. Однако доля пользователей с 2-4 заказами тоже значительна. Построим точечную диаграмму числа заказов на одного пользователя:"
      ]
    },
    {
      "cell_type": "code",
      "execution_count": null,
      "metadata": {
        "id": "yUIRw83DTOmK",
        "outputId": "db60504b-ef55-4b70-d565-d1aeea9eb265"
      },
      "outputs": [
        {
          "data": {
            "image/png": "[encoded data removed]",
            "text/plain": [
              "<Figure size 432x288 with 1 Axes>"
            ]
          },
          "metadata": {
            "needs_background": "light"
          },
          "output_type": "display_data"
        }
      ],
      "source": [
        "x_values = pd.Series(range(0,len(ordersByUsers)))\n",
        "\n",
        "plt.title(\"Число заказов на пользователя\")\n",
        "plt.xlabel('Порядковый номер пользователя',fontsize = 12)\n",
        "plt.ylabel('Число заказов', fontsize = 12)\n",
        "\n",
        "plt.scatter(x_values, ordersByUsers['orders'])\n",
        "plt.show()"
      ]
    },
    {
      "cell_type": "markdown",
      "metadata": {
        "id": "cV2mtVRuTOmK"
      },
      "source": [
        "Выводы подтверждаются: есть пользователи с 2-4 заказами. Их точная доля не ясна — непонятно, считать их аномалиями или нет."
      ]
    },
    {
      "cell_type": "markdown",
      "metadata": {
        "id": "hOImOkcXTOmL"
      },
      "source": [
        "### 95-й и 99-й перцентили количества заказов на пользователя. Граница для определения аномальных пользователей."
      ]
    },
    {
      "cell_type": "code",
      "execution_count": null,
      "metadata": {
        "id": "5L_n8WwkTOmL",
        "outputId": "f24910fb-f8fe-459e-d6c6-0237c141ec0e"
      },
      "outputs": [
        {
          "data": {
            "text/plain": [
              "array([2., 4.])"
            ]
          },
          "execution_count": 27,
          "metadata": {},
          "output_type": "execute_result"
        }
      ],
      "source": [
        "np.percentile(ordersByUsers['orders'], [95, 99])"
      ]
    },
    {
      "cell_type": "markdown",
      "metadata": {
        "id": "z6Eju0gxTOmL"
      },
      "source": [
        "Не более 5% пользователей оформляли больше чем 2 заказа.\n",
        "\n",
        "Разумно выбрать 2 заказа на одного пользователя за верхнюю границу числа заказов, и отсеять аномальных пользователей по ней."
      ]
    },
    {
      "cell_type": "markdown",
      "metadata": {
        "id": "GnncKvXETOmL"
      },
      "source": [
        "### Точечный график стоимостей заказов"
      ]
    },
    {
      "cell_type": "code",
      "execution_count": null,
      "metadata": {
        "id": "OyzRe6KrTOmL",
        "outputId": "7f63658b-b494-43e5-a198-6f7d08b87499"
      },
      "outputs": [
        {
          "data": {
            "image/png": "[encoded data removed]",
            "text/plain": [
              "<Figure size 432x288 with 1 Axes>"
            ]
          },
          "metadata": {
            "needs_background": "light"
          },
          "output_type": "display_data"
        }
      ],
      "source": [
        "plt.hist(orders['revenue'])\n",
        "\n",
        "plt.title(\"Стоимость заказов, у.е.\")\n",
        "plt.xlabel('Стоимость заказа',fontsize = 12)\n",
        "plt.ylabel('Число покупок', fontsize = 12)\n",
        "\n",
        "plt.show()"
      ]
    },
    {
      "cell_type": "code",
      "execution_count": null,
      "metadata": {
        "id": "BLfrAt_PTOmM",
        "outputId": "2fcb7079-b2a8-49de-8d47-005aaa1f700a"
      },
      "outputs": [
        {
          "data": {
            "text/plain": [
              "count       1,197.00\n",
              "mean        8,348.01\n",
              "std        39,191.13\n",
              "min            50.00\n",
              "25%         1,220.00\n",
              "50%         2,978.00\n",
              "75%         8,290.00\n",
              "max     1,294,500.00\n",
              "Name: revenue, dtype: float64"
            ]
          },
          "execution_count": 29,
          "metadata": {},
          "output_type": "execute_result"
        }
      ],
      "source": [
        "orders['revenue'].describe()"
      ]
    },
    {
      "cell_type": "markdown",
      "metadata": {
        "id": "N3KaeqoJTOmM"
      },
      "source": [
        "Три четверти стоимостей заказов находятся в пределах 10000."
      ]
    },
    {
      "cell_type": "code",
      "execution_count": null,
      "metadata": {
        "id": "xzaaKRpHTOmM",
        "outputId": "85ec103e-2f2d-4790-d0d9-4bd73c1f7639"
      },
      "outputs": [
        {
          "data": {
            "text/plain": [
              "<matplotlib.collections.PathCollection at 0x7f45a52e8290>"
            ]
          },
          "execution_count": 30,
          "metadata": {},
          "output_type": "execute_result"
        },
        {
          "data": {
            "image/png": "[encoded data removed]",
            "text/plain": [
              "<Figure size 432x288 with 1 Axes>"
            ]
          },
          "metadata": {
            "needs_background": "light"
          },
          "output_type": "display_data"
        }
      ],
      "source": [
        "x_values = pd.Series(range(0,len(orders['revenue'])))\n",
        "\n",
        "plt.title(\"Стоимость заказов, у.е.\")\n",
        "plt.xlabel('Число заказов',fontsize = 12)\n",
        "plt.ylabel('Стоимость заказа', fontsize = 12)\n",
        "\n",
        "plt.scatter(x_values, orders['revenue'])"
      ]
    },
    {
      "cell_type": "markdown",
      "metadata": {
        "id": "ra6918OATOmM"
      },
      "source": [
        "Практически все стоимости заказов находятся в пределах 100000, но есть выбросы со стоимостями более миллиона. Именно этот заказ отразился на всех графиках."
      ]
    },
    {
      "cell_type": "markdown",
      "metadata": {
        "id": "Q5sY9E8_TOmM"
      },
      "source": [
        "### 95-й и 99-й перцентили стоимости заказов. Граница для определения аномальных заказов."
      ]
    },
    {
      "cell_type": "code",
      "execution_count": null,
      "metadata": {
        "id": "57cG9ihqTOmN",
        "outputId": "6ea21709-e05b-4646-b297-c657c32158e0"
      },
      "outputs": [
        {
          "data": {
            "text/plain": [
              "array([28000. , 58233.2])"
            ]
          },
          "execution_count": 31,
          "metadata": {},
          "output_type": "execute_result"
        }
      ],
      "source": [
        "np.percentile(orders['revenue'], [95, 99])"
      ]
    },
    {
      "cell_type": "markdown",
      "metadata": {
        "id": "9Ke4y0kqTOmN"
      },
      "source": [
        "Менее 5% заказов стоят дороже 28000, можно взять эту цифру за границу для определения аномальных заказов"
      ]
    },
    {
      "cell_type": "markdown",
      "metadata": {
        "id": "N-z0OQs1TOmN"
      },
      "source": [
        "### Cтатистическая значимость различий в конверсии между группами по «сырым» данным"
      ]
    },
    {
      "cell_type": "code",
      "execution_count": null,
      "metadata": {
        "id": "5LtpqhsYTOmN",
        "outputId": "658c8181-476e-43fd-870f-1c89ecb9332b"
      },
      "outputs": [
        {
          "data": {
            "text/html": [
              "<div>\n",
              "<style scoped>\n",
              "    .dataframe tbody tr th:only-of-type {\n",
              "        vertical-align: middle;\n",
              "    }\n",
              "\n",
              "    .dataframe tbody tr th {\n",
              "        vertical-align: top;\n",
              "    }\n",
              "\n",
              "    .dataframe thead th {\n",
              "        text-align: right;\n",
              "    }\n",
              "</style>\n",
              "<table border=\"1\" class=\"dataframe\">\n",
              "  <thead>\n",
              "    <tr style=\"text-align: right;\">\n",
              "      <th></th>\n",
              "      <th>date</th>\n",
              "      <th>ordersPerDateA</th>\n",
              "      <th>revenuePerDateA</th>\n",
              "      <th>ordersPerDateB</th>\n",
              "      <th>revenuePerDateB</th>\n",
              "      <th>ordersCummulativeA</th>\n",
              "      <th>revenueCummulativeA</th>\n",
              "      <th>ordersCummulativeB</th>\n",
              "      <th>revenueCummulativeB</th>\n",
              "      <th>visitorsPerDateA</th>\n",
              "      <th>visitorsPerDateB</th>\n",
              "      <th>visitorsCummulativeA</th>\n",
              "      <th>visitorsCummulativeB</th>\n",
              "    </tr>\n",
              "  </thead>\n",
              "  <tbody>\n",
              "    <tr>\n",
              "      <td>0</td>\n",
              "      <td>2019-08-01</td>\n",
              "      <td>24</td>\n",
              "      <td>148579</td>\n",
              "      <td>21</td>\n",
              "      <td>101217</td>\n",
              "      <td>24</td>\n",
              "      <td>148579</td>\n",
              "      <td>21</td>\n",
              "      <td>101217</td>\n",
              "      <td>719</td>\n",
              "      <td>713</td>\n",
              "      <td>719</td>\n",
              "      <td>713</td>\n",
              "    </tr>\n",
              "    <tr>\n",
              "      <td>1</td>\n",
              "      <td>2019-08-02</td>\n",
              "      <td>20</td>\n",
              "      <td>93822</td>\n",
              "      <td>24</td>\n",
              "      <td>165531</td>\n",
              "      <td>44</td>\n",
              "      <td>242401</td>\n",
              "      <td>45</td>\n",
              "      <td>266748</td>\n",
              "      <td>619</td>\n",
              "      <td>581</td>\n",
              "      <td>1338</td>\n",
              "      <td>1294</td>\n",
              "    </tr>\n",
              "    <tr>\n",
              "      <td>2</td>\n",
              "      <td>2019-08-03</td>\n",
              "      <td>24</td>\n",
              "      <td>112473</td>\n",
              "      <td>16</td>\n",
              "      <td>114248</td>\n",
              "      <td>68</td>\n",
              "      <td>354874</td>\n",
              "      <td>61</td>\n",
              "      <td>380996</td>\n",
              "      <td>507</td>\n",
              "      <td>509</td>\n",
              "      <td>1845</td>\n",
              "      <td>1803</td>\n",
              "    </tr>\n",
              "    <tr>\n",
              "      <td>3</td>\n",
              "      <td>2019-08-04</td>\n",
              "      <td>16</td>\n",
              "      <td>70825</td>\n",
              "      <td>17</td>\n",
              "      <td>108571</td>\n",
              "      <td>84</td>\n",
              "      <td>425699</td>\n",
              "      <td>78</td>\n",
              "      <td>489567</td>\n",
              "      <td>717</td>\n",
              "      <td>770</td>\n",
              "      <td>2562</td>\n",
              "      <td>2573</td>\n",
              "    </tr>\n",
              "    <tr>\n",
              "      <td>4</td>\n",
              "      <td>2019-08-05</td>\n",
              "      <td>25</td>\n",
              "      <td>124218</td>\n",
              "      <td>23</td>\n",
              "      <td>92428</td>\n",
              "      <td>109</td>\n",
              "      <td>549917</td>\n",
              "      <td>101</td>\n",
              "      <td>581995</td>\n",
              "      <td>756</td>\n",
              "      <td>707</td>\n",
              "      <td>3318</td>\n",
              "      <td>3280</td>\n",
              "    </tr>\n",
              "  </tbody>\n",
              "</table>\n",
              "</div>"
            ],
            "text/plain": [
              "        date  ordersPerDateA  revenuePerDateA  ordersPerDateB  \\\n",
              "0 2019-08-01              24           148579              21   \n",
              "1 2019-08-02              20            93822              24   \n",
              "2 2019-08-03              24           112473              16   \n",
              "3 2019-08-04              16            70825              17   \n",
              "4 2019-08-05              25           124218              23   \n",
              "\n",
              "   revenuePerDateB  ordersCummulativeA  revenueCummulativeA  \\\n",
              "0           101217                  24               148579   \n",
              "1           165531                  44               242401   \n",
              "2           114248                  68               354874   \n",
              "3           108571                  84               425699   \n",
              "4            92428                 109               549917   \n",
              "\n",
              "   ordersCummulativeB  revenueCummulativeB  visitorsPerDateA  \\\n",
              "0                  21               101217               719   \n",
              "1                  45               266748               619   \n",
              "2                  61               380996               507   \n",
              "3                  78               489567               717   \n",
              "4                 101               581995               756   \n",
              "\n",
              "   visitorsPerDateB  visitorsCummulativeA  visitorsCummulativeB  \n",
              "0               713                   719                   713  \n",
              "1               581                  1338                  1294  \n",
              "2               509                  1845                  1803  \n",
              "3               770                  2562                  2573  \n",
              "4               707                  3318                  3280  "
            ]
          },
          "metadata": {},
          "output_type": "display_data"
        }
      ],
      "source": [
        "# Считаем количество пользователей до выбранной даты включительно в группах A и B;\n",
        "\n",
        "visitorsADaily = visitors[visitors['group']=='A'][['date', 'visitors']]\n",
        "visitorsADaily.columns = ['date', 'visitorsPerDateA']\n",
        "\n",
        "visitorsACummulative = visitorsADaily.apply(lambda x: visitorsADaily[visitorsADaily['date'] <= x['date']].agg({'date' : 'max', 'visitorsPerDateA' : 'sum'}), axis=1)\n",
        "visitorsACummulative.columns = ['date', 'visitorsCummulativeA']\n",
        "\n",
        "visitorsBDaily = visitors[visitors['group']=='B'][['date', 'visitors']]\n",
        "visitorsBDaily.columns = ['date', 'visitorsPerDateB']\n",
        "\n",
        "visitorsBCummulative = visitorsBDaily.apply(lambda x: visitorsBDaily[visitorsBDaily['date'] <= x['date']].agg({'date' : 'max', 'visitorsPerDateB' : 'sum'}), axis=1)\n",
        "visitorsBCummulative.columns = ['date', 'visitorsCummulativeB']\n",
        "\n",
        "# Считаем суммарное число заказов до выбранной даты включительно в группах A и B\n",
        "ordersADaily = orders[orders['group']=='A'][['date', 'transactionid', 'visitorid', 'revenue']]\\\n",
        "    .groupby('date', as_index=False)\\\n",
        "    .agg({'transactionid' : pd.Series.nunique, 'revenue' : 'sum'})\n",
        "ordersADaily.columns = ['date', 'ordersPerDateA', 'revenuePerDateA']\n",
        "\n",
        "ordersACummulative = ordersADaily.apply(\n",
        "    lambda x: \\\n",
        "        ordersADaily[ordersADaily['date'] <= x['date']]\\\n",
        "            .agg({\n",
        "                'date' : 'max',\n",
        "                'ordersPerDateA' : 'sum',\n",
        "                'revenuePerDateA' : 'sum'}), axis=1).sort_values(by=['date'])\n",
        "ordersACummulative.columns = ['date', 'ordersCummulativeA', 'revenueCummulativeA']\n",
        "\n",
        "ordersBDaily = orders[orders['group']=='B'][['date', 'transactionid', 'visitorid', 'revenue']]\\\n",
        "    .groupby('date', as_index=False)\\\n",
        "    .agg({'transactionid' : pd.Series.nunique, 'revenue' : 'sum'})\n",
        "ordersBDaily.columns = ['date', 'ordersPerDateB', 'revenuePerDateB']\n",
        "\n",
        "ordersBCummulative = ordersBDaily.apply(\n",
        "    lambda x: \\\n",
        "        ordersBDaily[ordersBDaily['date'] <= x['date']]\\\n",
        "            .agg({\n",
        "                'date' : 'max',\n",
        "                'ordersPerDateB' : 'sum',\n",
        "                'revenuePerDateB' : 'sum'}), axis=1).sort_values(by=['date'])\n",
        "ordersBCummulative.columns = ['date', 'ordersCummulativeB', 'revenueCummulativeB']\n",
        "\n",
        "\n",
        "# Получаем таблицу с количеством заказов, выручкой в день, количество заказов и выручка до выбранной даты(включительно)\n",
        "# Количество пользователей до выбранной даты \n",
        "data = ordersADaily.merge(ordersBDaily, left_on='date', right_on='date', how='left')\\\n",
        "    .merge(ordersACummulative, left_on='date', right_on='date', how='left')\\\n",
        "    .merge(ordersBCummulative, left_on='date', right_on='date', how='left')\\\n",
        "    .merge(visitorsADaily, left_on='date', right_on='date', how='left')\\\n",
        "    .merge(visitorsBDaily, left_on='date', right_on='date', how='left')\\\n",
        "    .merge(visitorsACummulative, left_on='date', right_on='date', how='left')\\\n",
        "    .merge(visitorsBCummulative, left_on='date', right_on='date', how='left')\n",
        "\n",
        "display(data.head(5))"
      ]
    },
    {
      "cell_type": "code",
      "execution_count": null,
      "metadata": {
        "id": "rOHBpWD8TOmO"
      },
      "outputs": [],
      "source": [
        "# Создадим переменные ordersByUsersA и ordersByUsersB со столбцами ['userId', 'orders']. \n",
        "# В них для пользователей, которые заказывали хотя бы 1 раз, укажем число совершённых заказов.\n",
        "\n",
        "ordersByUsersA = orders[orders['group']=='A'].groupby('visitorid', as_index=False).agg({'transactionid' : pd.Series.nunique})\n",
        "ordersByUsersA.columns = ['userId', 'orders']\n",
        "\n",
        "ordersByUsersB = orders[orders['group']=='B'].groupby('visitorid', as_index=False).agg({'transactionid' : pd.Series.nunique})\n",
        "ordersByUsersB.columns = ['userId', 'orders']"
      ]
    },
    {
      "cell_type": "markdown",
      "metadata": {
        "id": "6f7NU1z-TOmO"
      },
      "source": [
        "Подготовим выборки к проверке критерием Манна-Уитни. Объявим переменные sampleA и sampleB, в которых пользователям из разных групп будет соответствовать количество заказов. Тем, кто ничего не заказал, будут соответствовать нули."
      ]
    },
    {
      "cell_type": "code",
      "execution_count": null,
      "metadata": {
        "id": "LjjZ3m4YTOmO"
      },
      "outputs": [],
      "source": [
        "sampleA = pd.concat([ordersByUsersA['orders'],pd.Series(0, index=np.arange(data['visitorsPerDateA'].sum() - len(ordersByUsersA['orders'])), name='orders')],axis=0)\n",
        "sampleB = pd.concat([ordersByUsersB['orders'],pd.Series(0, index=np.arange(data['visitorsPerDateB'].sum() - len(ordersByUsersB['orders'])), name='orders')],axis=0)"
      ]
    },
    {
      "cell_type": "markdown",
      "metadata": {
        "id": "-8EXkt5ETOmO"
      },
      "source": [
        "Выведем относительный прирост конверсии группы B: конверсия группы B / конверсия группы A - 1. Применим критерий и отформатируем p-value, округлив его до трёх знаков после запятой."
      ]
    },
    {
      "cell_type": "code",
      "execution_count": null,
      "metadata": {
        "id": "seclgOE-TOmO",
        "outputId": "2ee81c69-cbca-4649-f6a4-d9c513a21f60"
      },
      "outputs": [
        {
          "name": "stdout",
          "output_type": "stream",
          "text": [
            "0.008\n",
            "0.138\n"
          ]
        }
      ],
      "source": [
        "ordersByUsersA = orders[orders['group']=='A'].groupby('visitorid', as_index=False).agg({'transactionid' : pd.Series.nunique})\n",
        "ordersByUsersA.columns = ['userId', 'orders']\n",
        "\n",
        "ordersByUsersB = orders[orders['group']=='B'].groupby('visitorid', as_index=False).agg({'transactionid' : pd.Series.nunique})\n",
        "ordersByUsersB.columns = ['userId', 'orders']\n",
        "\n",
        "sampleA = pd.concat([ordersByUsersA['orders'],pd.Series(0, index=np.arange(data['visitorsPerDateA'].sum() - len(ordersByUsersA['orders'])), name='orders')],axis=0)\n",
        "\n",
        "sampleB = pd.concat([ordersByUsersB['orders'],pd.Series(0, index=np.arange(data['visitorsPerDateB'].sum() - len(ordersByUsersB['orders'])), name='orders')],axis=0)\n",
        "\n",
        "print(\"{0:.3f}\".format(stats.mannwhitneyu(sampleA, sampleB)[1]))\n",
        "\n",
        "print(\"{0:.3f}\".format(sampleB.mean()/sampleA.mean()-1))"
      ]
    },
    {
      "cell_type": "markdown",
      "metadata": {
        "id": "Kerl6abmTOmP"
      },
      "source": [
        "P-value меньше 0.05. Значит, нулевую гипотезу о том, что статистически значимых различий в конверсии между группами нет - отвергаем."
      ]
    },
    {
      "cell_type": "markdown",
      "metadata": {
        "id": "MDiMUacQTOmP"
      },
      "source": [
        "По «сырым» данным есть различия в конверсии групп A и B. Относительная развница в конверсиях около 14% (прирост группы B)"
      ]
    },
    {
      "cell_type": "markdown",
      "metadata": {
        "id": "v83yL5XPTOmP"
      },
      "source": [
        "### Cтатистическая значимость различий в среднем чеке заказа между группами по «сырым» данным"
      ]
    },
    {
      "cell_type": "markdown",
      "metadata": {
        "id": "_OB-c1QHTOmP"
      },
      "source": [
        "Чтобы рассчитать статистическую значимость различий в среднем чеке между сегментами, передадим критерию mannwhitneyu() данные о выручке с заказов и найдём относительные различия в среднем чеке между группами:"
      ]
    },
    {
      "cell_type": "code",
      "execution_count": null,
      "metadata": {
        "id": "3f-iRMtTTOmP",
        "outputId": "2ff44dde-886e-4b91-cebb-f52f3094a55e"
      },
      "outputs": [
        {
          "name": "stdout",
          "output_type": "stream",
          "text": [
            "0.365\n",
            "0.259\n"
          ]
        }
      ],
      "source": [
        "print(\"{0:.3f}\".format(stats.mannwhitneyu(orders[orders['group']=='A']['revenue'], orders[orders['group']=='B']['revenue'])[1]))\n",
        "print(\"{0:.3f}\".format(orders[orders['group']=='B']['revenue'].mean()/orders[orders['group']=='A']['revenue'].mean()-1))"
      ]
    },
    {
      "cell_type": "markdown",
      "metadata": {
        "id": "gjwjSRKiTOmQ"
      },
      "source": [
        "P-value значительно больше 0.05. Значит, нельзя отвегнуть нулевую гипотезу. В среднем чеке заказа между группами различий нет.\n",
        "\n",
        "Впрочем, средний чек группы B почти на 26% выше среднего чека группы A."
      ]
    },
    {
      "cell_type": "markdown",
      "metadata": {
        "id": "xgiXLEYbTOmQ"
      },
      "source": [
        "### Статистическая значимость различий в конверсии между группами по «очищенным» данным"
      ]
    },
    {
      "cell_type": "markdown",
      "metadata": {
        "id": "a3q_nOqyTOmQ"
      },
      "source": [
        "За аномальных пользователей были приняты те, кто совершил от 3 заказов или совершил заказ дороже 28000 рублей. Так мы уберём 5% пользователей с наибольшим числом заказов и с дорогими заказами.\n",
        "\n",
        "Сделаем срезы пользователей с числом заказов больше 2 — usersWithManyOrders и пользователей, совершивших заказы дороже 28000 — usersWithExpensiveOrders. Объединим их в таблице abnormalUsers. Узнаем, сколько всего аномальных пользователей методом shape()"
      ]
    },
    {
      "cell_type": "code",
      "execution_count": null,
      "metadata": {
        "id": "mMgbGxYtTOmQ",
        "outputId": "0b9b7d66-218e-44aa-f13f-6300a93da752"
      },
      "outputs": [
        {
          "name": "stdout",
          "output_type": "stream",
          "text": [
            "1099    148427295\n",
            "18      199603092\n",
            "928     204675465\n",
            "23      237748145\n",
            "37      249864742\n",
            "dtype: int64\n",
            "Всего аномальных пользователей: (74,)\n"
          ]
        }
      ],
      "source": [
        "usersWithManyOrders = pd.concat([ordersByUsersA[ordersByUsersA['orders'] > 2]['userId'], ordersByUsersB[ordersByUsersB['orders'] > 2]['userId']], axis = 0)\n",
        "usersWithExpensiveOrders = orders[orders['revenue'] > 28000]['visitorid']\n",
        "abnormalUsers = pd.concat([usersWithManyOrders, usersWithExpensiveOrders], axis = 0).drop_duplicates().sort_values()\n",
        "print(abnormalUsers.head(5))\n",
        "print(\"Всего аномальных пользователей: {}\".format(abnormalUsers.shape))"
      ]
    },
    {
      "cell_type": "markdown",
      "metadata": {
        "id": "mxE0HdnPTOmQ"
      },
      "source": [
        "Всего 74 аномальных пользователя. Узнаем, как их действия повлияли на результаты теста. Посчитаем статистическую значимость различий в конверсии между группами теста по очищенным данным. Сначала подготовим выборки количества заказов по пользователям по группам теста:"
      ]
    },
    {
      "cell_type": "code",
      "execution_count": null,
      "metadata": {
        "id": "9g-TqHHhTOmQ"
      },
      "outputs": [],
      "source": [
        "sampleAFiltered = pd.concat([ordersByUsersA[np.logical_not(ordersByUsersA['userId'].isin(abnormalUsers))]['orders'],pd.Series(0, index=np.arange(data['visitorsPerDateA'].sum() - len(ordersByUsersA['orders'])),name='orders')],axis=0)\n",
        "sampleBFiltered = pd.concat([ordersByUsersB[np.logical_not(ordersByUsersB['userId'].isin(abnormalUsers))]['orders'],pd.Series(0, index=np.arange(data['visitorsPerDateB'].sum() - len(ordersByUsersB['orders'])),name='orders')],axis=0)"
      ]
    },
    {
      "cell_type": "markdown",
      "metadata": {
        "id": "FdITp7KyTOmR"
      },
      "source": [
        "Применим статистический критерий Манна-Уитни к полученным выборкам:"
      ]
    },
    {
      "cell_type": "code",
      "execution_count": null,
      "metadata": {
        "id": "9V9BoolOTOmR",
        "outputId": "abece913-d11e-4ee0-bdb3-83babceb59b7"
      },
      "outputs": [
        {
          "name": "stdout",
          "output_type": "stream",
          "text": [
            "0.007\n",
            "0.173\n"
          ]
        }
      ],
      "source": [
        "print(\"{0:.3f}\".format(stats.mannwhitneyu(sampleAFiltered, sampleBFiltered)[1]))\n",
        "print(\"{0:.3f}\".format(sampleBFiltered.mean()/sampleAFiltered.mean()-1))"
      ]
    },
    {
      "cell_type": "markdown",
      "metadata": {
        "id": "zskBqVKJTOmR"
      },
      "source": [
        "Результаты по конверсии практически не изменились. p-value остался значительно меньше 0.05. \n",
        "Значит, нулевую гипотезу о том, что статистически значимых различий в конверсии между группами нет - отвергаем.\n",
        "\n",
        "По очищенным данным есть статистически значимые различия в конверсии групп A и B. Относительный прирост конверсии группы B около 17%"
      ]
    },
    {
      "cell_type": "markdown",
      "metadata": {
        "id": "5NKzYjKlTOmR"
      },
      "source": [
        "### Статистическая значимость различий в среднем чеке заказа между группами по «очищенным» данным"
      ]
    },
    {
      "cell_type": "code",
      "execution_count": null,
      "metadata": {
        "id": "z1_sR76MTOmR",
        "outputId": "3f7ec9ec-dcbd-444b-cbef-cc6ac9f07e26"
      },
      "outputs": [
        {
          "name": "stdout",
          "output_type": "stream",
          "text": [
            "0.369\n",
            "-0.020\n"
          ]
        }
      ],
      "source": [
        "print(\"{0:.3f}\".format(stats.mannwhitneyu(\n",
        "    orders[np.logical_and(\n",
        "        orders['group']=='A',\n",
        "        np.logical_not(orders['visitorid'].isin(abnormalUsers)))]['revenue'],\n",
        "    orders[np.logical_and(\n",
        "        orders['group']=='B',\n",
        "        np.logical_not(orders['visitorid'].isin(abnormalUsers)))]['revenue'])[1]))\n",
        "\n",
        "print(\"{0:.3f}\".format(\n",
        "    orders[np.logical_and(orders['group']=='B',np.logical_not(orders['visitorid'].isin(abnormalUsers)))]['revenue'].mean()/\n",
        "    orders[np.logical_and(\n",
        "        orders['group']=='A',\n",
        "        np.logical_not(orders['visitorid'].isin(abnormalUsers)))]['revenue'].mean() - 1))"
      ]
    },
    {
      "cell_type": "markdown",
      "metadata": {
        "id": "OAMmiejETOmR"
      },
      "source": [
        "P-value практически не изменился, а разница между сегментами сильно изменилась. Очищенные данные показывают, что средний чек группы B немного уступает группе A, в то время как на сырых данных чек группы B был на 26% больше."
      ]
    },
    {
      "cell_type": "markdown",
      "metadata": {
        "id": "FPYMDfWFTOmS"
      },
      "source": [
        "По очищенным данным статистически значимых различий среднего чека между группами нет."
      ]
    },
    {
      "cell_type": "markdown",
      "metadata": {
        "id": "tUxZ6j14TOmS"
      },
      "source": [
        "Хотя статистической зачимости и нет, стоит отметить, что разница из положительной стала отрицательной - это дополнительно показывает вклад аномалии."
      ]
    },
    {
      "cell_type": "markdown",
      "metadata": {
        "id": "rwRKkrMATOmS"
      },
      "source": [
        "## Результаты A/B теста"
      ]
    },
    {
      "cell_type": "markdown",
      "metadata": {
        "id": "MlOCx_R1TOmS"
      },
      "source": [
        "- Есть статистически значимое различие по конверсии между группами как по сырым данным, так и после фильтрации аномалий.\n",
        "- Как по сырым, так и по очищенным данным нет статистически значимого различия по среднему чеку между группами.\n",
        "- График различия конверсии между группами сообщает, что результаты группы B лучше группы A: имеют тенденцию к росту и практически зафиксировались.\n",
        "- График различия среднего чека колеблется. Сделать из этого графика определённые выводы нельзя."
      ]
    },
    {
      "cell_type": "markdown",
      "metadata": {
        "id": "RWeyc1MgTOmS"
      },
      "source": [
        "### Решение"
      ]
    },
    {
      "cell_type": "markdown",
      "metadata": {
        "id": "_-9WBWhsTOmS"
      },
      "source": [
        "На основании результатов, можно остановить тест и зафиксировать победу группы **B**. Так как есть статистически значимое различие по конверсии между группами, относительный прирост конверсии группы B около 17%."
      ]
    }
  ],
  "metadata": {
    "ExecuteTimeLog": [
      {
        "duration": 1528,
        "start_time": "2021-09-06T08:24:23.351Z"
      },
      {
        "duration": 39,
        "start_time": "2021-09-06T08:25:14.941Z"
      },
      {
        "duration": 22,
        "start_time": "2021-09-06T08:25:53.960Z"
      },
      {
        "duration": 13,
        "start_time": "2021-09-06T08:26:13.385Z"
      },
      {
        "duration": 135,
        "start_time": "2021-09-06T08:27:58.016Z"
      },
      {
        "duration": 100,
        "start_time": "2021-09-06T08:28:02.789Z"
      },
      {
        "duration": 46,
        "start_time": "2021-09-06T08:28:09.853Z"
      },
      {
        "duration": 31,
        "start_time": "2021-09-06T08:28:14.127Z"
      },
      {
        "duration": 558,
        "start_time": "2021-09-06T08:29:02.143Z"
      },
      {
        "duration": 417,
        "start_time": "2021-09-06T08:29:30.489Z"
      },
      {
        "duration": 5,
        "start_time": "2021-09-06T08:30:36.306Z"
      },
      {
        "duration": 34,
        "start_time": "2021-09-06T08:30:37.344Z"
      },
      {
        "duration": 15,
        "start_time": "2021-09-06T08:30:37.664Z"
      },
      {
        "duration": 13,
        "start_time": "2021-09-06T08:30:38.018Z"
      },
      {
        "duration": 87,
        "start_time": "2021-09-06T08:30:38.700Z"
      },
      {
        "duration": 31,
        "start_time": "2021-09-06T08:30:38.880Z"
      },
      {
        "duration": 574,
        "start_time": "2021-09-06T08:30:39.234Z"
      },
      {
        "duration": 449,
        "start_time": "2021-09-06T08:30:39.811Z"
      },
      {
        "duration": 377,
        "start_time": "2021-09-06T08:31:35.557Z"
      },
      {
        "duration": 508,
        "start_time": "2021-09-06T08:32:16.263Z"
      },
      {
        "duration": 7,
        "start_time": "2021-09-06T08:32:51.299Z"
      },
      {
        "duration": 399,
        "start_time": "2021-09-06T08:34:20.402Z"
      },
      {
        "duration": 469,
        "start_time": "2021-09-06T08:34:47.415Z"
      },
      {
        "duration": 201,
        "start_time": "2021-09-06T08:35:36.080Z"
      },
      {
        "duration": 259,
        "start_time": "2021-09-06T08:36:07.768Z"
      },
      {
        "duration": 415,
        "start_time": "2021-09-06T08:36:21.325Z"
      },
      {
        "duration": 7,
        "start_time": "2021-09-06T08:36:59.454Z"
      },
      {
        "duration": 271,
        "start_time": "2021-09-06T08:37:28.263Z"
      },
      {
        "duration": 12,
        "start_time": "2021-09-06T08:37:35.518Z"
      },
      {
        "duration": 448,
        "start_time": "2021-09-06T08:37:59.283Z"
      },
      {
        "duration": 6,
        "start_time": "2021-09-06T08:38:26.263Z"
      },
      {
        "duration": 447,
        "start_time": "2021-09-06T08:38:54.049Z"
      },
      {
        "duration": 230,
        "start_time": "2021-09-06T08:39:02.289Z"
      },
      {
        "duration": 8,
        "start_time": "2021-09-06T08:39:19.322Z"
      },
      {
        "duration": 224,
        "start_time": "2021-09-06T08:39:38.207Z"
      },
      {
        "duration": 15,
        "start_time": "2021-09-06T08:40:25.103Z"
      },
      {
        "duration": 14,
        "start_time": "2021-09-06T08:41:01.147Z"
      },
      {
        "duration": 14,
        "start_time": "2021-09-06T08:41:21.020Z"
      },
      {
        "duration": 12,
        "start_time": "2021-09-06T08:41:37.760Z"
      },
      {
        "duration": 22,
        "start_time": "2021-09-06T08:42:19.432Z"
      },
      {
        "duration": 1369,
        "start_time": "2021-09-06T10:14:04.125Z"
      },
      {
        "duration": 1234,
        "start_time": "2021-09-06T10:14:15.332Z"
      },
      {
        "duration": 1168,
        "start_time": "2021-09-06T10:14:20.570Z"
      },
      {
        "duration": 1156,
        "start_time": "2021-09-06T10:14:31.379Z"
      },
      {
        "duration": 1600,
        "start_time": "2021-09-06T10:15:08.804Z"
      },
      {
        "duration": 1250,
        "start_time": "2021-09-06T10:15:39.180Z"
      },
      {
        "duration": 402,
        "start_time": "2021-09-06T10:16:19.906Z"
      },
      {
        "duration": 434,
        "start_time": "2021-09-06T10:17:02.495Z"
      },
      {
        "duration": 383,
        "start_time": "2021-09-06T10:18:08.058Z"
      },
      {
        "duration": 389,
        "start_time": "2021-09-06T10:18:13.476Z"
      },
      {
        "duration": 587,
        "start_time": "2021-09-06T10:19:12.620Z"
      },
      {
        "duration": 404,
        "start_time": "2021-09-06T10:20:18.379Z"
      },
      {
        "duration": 480,
        "start_time": "2021-09-06T10:20:40.928Z"
      },
      {
        "duration": 296,
        "start_time": "2021-09-06T10:22:49.237Z"
      },
      {
        "duration": 1653,
        "start_time": "2021-09-06T10:24:20.810Z"
      },
      {
        "duration": 303,
        "start_time": "2021-09-06T10:24:30.690Z"
      },
      {
        "duration": 293,
        "start_time": "2021-09-06T10:24:42.576Z"
      },
      {
        "duration": 312,
        "start_time": "2021-09-06T10:25:17.210Z"
      },
      {
        "duration": 308,
        "start_time": "2021-09-06T10:25:33.905Z"
      },
      {
        "duration": 298,
        "start_time": "2021-09-06T10:25:40.430Z"
      },
      {
        "duration": 303,
        "start_time": "2021-09-06T10:27:00.999Z"
      },
      {
        "duration": 607,
        "start_time": "2021-09-06T11:18:42.715Z"
      },
      {
        "duration": 409,
        "start_time": "2021-09-06T11:20:40.844Z"
      },
      {
        "duration": 398,
        "start_time": "2021-09-06T11:20:52.353Z"
      },
      {
        "duration": 385,
        "start_time": "2021-09-06T11:21:03.057Z"
      },
      {
        "duration": 1537,
        "start_time": "2021-09-06T11:31:39.947Z"
      },
      {
        "duration": 39,
        "start_time": "2021-09-06T11:31:41.486Z"
      },
      {
        "duration": 15,
        "start_time": "2021-09-06T11:31:41.528Z"
      },
      {
        "duration": 14,
        "start_time": "2021-09-06T11:31:41.546Z"
      },
      {
        "duration": 86,
        "start_time": "2021-09-06T11:31:41.563Z"
      },
      {
        "duration": 33,
        "start_time": "2021-09-06T11:31:41.652Z"
      },
      {
        "duration": 586,
        "start_time": "2021-09-06T11:31:41.688Z"
      },
      {
        "duration": 456,
        "start_time": "2021-09-06T11:31:42.280Z"
      },
      {
        "duration": 433,
        "start_time": "2021-09-06T11:31:42.741Z"
      },
      {
        "duration": 531,
        "start_time": "2021-09-06T11:31:43.178Z"
      },
      {
        "duration": 7,
        "start_time": "2021-09-06T11:31:43.712Z"
      },
      {
        "duration": 431,
        "start_time": "2021-09-06T11:31:43.722Z"
      },
      {
        "duration": 612,
        "start_time": "2021-09-06T11:31:44.155Z"
      },
      {
        "duration": 238,
        "start_time": "2021-09-06T11:31:44.769Z"
      },
      {
        "duration": 299,
        "start_time": "2021-09-06T11:31:45.017Z"
      },
      {
        "duration": 403,
        "start_time": "2021-09-06T11:31:45.318Z"
      },
      {
        "duration": 7,
        "start_time": "2021-09-06T11:31:45.723Z"
      },
      {
        "duration": 333,
        "start_time": "2021-09-06T11:31:45.733Z"
      },
      {
        "duration": 10,
        "start_time": "2021-09-06T11:31:46.069Z"
      },
      {
        "duration": 470,
        "start_time": "2021-09-06T11:31:46.082Z"
      },
      {
        "duration": 7,
        "start_time": "2021-09-06T11:31:46.554Z"
      },
      {
        "duration": 578,
        "start_time": "2021-09-06T11:31:46.564Z"
      },
      {
        "duration": 221,
        "start_time": "2021-09-06T11:31:47.146Z"
      },
      {
        "duration": 8,
        "start_time": "2021-09-06T11:31:47.370Z"
      },
      {
        "duration": 229,
        "start_time": "2021-09-06T11:31:47.380Z"
      },
      {
        "duration": 13,
        "start_time": "2021-09-06T11:31:47.616Z"
      },
      {
        "duration": 16,
        "start_time": "2021-09-06T11:31:47.631Z"
      },
      {
        "duration": 20,
        "start_time": "2021-09-06T11:31:47.650Z"
      },
      {
        "duration": 49,
        "start_time": "2021-09-06T11:31:47.673Z"
      },
      {
        "duration": 22,
        "start_time": "2021-09-06T11:31:47.726Z"
      },
      {
        "duration": 1415,
        "start_time": "2021-09-07T10:48:30.801Z"
      },
      {
        "duration": 30,
        "start_time": "2021-09-07T10:48:32.218Z"
      },
      {
        "duration": 21,
        "start_time": "2021-09-07T10:48:32.251Z"
      },
      {
        "duration": 11,
        "start_time": "2021-09-07T10:48:32.275Z"
      },
      {
        "duration": 57,
        "start_time": "2021-09-07T10:48:32.289Z"
      },
      {
        "duration": 22,
        "start_time": "2021-09-07T10:48:32.348Z"
      },
      {
        "duration": 580,
        "start_time": "2021-09-07T10:48:32.372Z"
      },
      {
        "duration": 442,
        "start_time": "2021-09-07T10:48:32.955Z"
      },
      {
        "duration": 419,
        "start_time": "2021-09-07T10:48:33.401Z"
      },
      {
        "duration": 525,
        "start_time": "2021-09-07T10:48:33.822Z"
      },
      {
        "duration": 19,
        "start_time": "2021-09-07T10:48:34.349Z"
      },
      {
        "duration": 421,
        "start_time": "2021-09-07T10:48:34.370Z"
      },
      {
        "duration": 561,
        "start_time": "2021-09-07T10:48:34.794Z"
      },
      {
        "duration": 251,
        "start_time": "2021-09-07T10:48:35.357Z"
      },
      {
        "duration": 307,
        "start_time": "2021-09-07T10:48:35.610Z"
      },
      {
        "duration": 421,
        "start_time": "2021-09-07T10:48:35.920Z"
      },
      {
        "duration": 6,
        "start_time": "2021-09-07T10:48:36.343Z"
      },
      {
        "duration": 320,
        "start_time": "2021-09-07T10:48:36.352Z"
      },
      {
        "duration": 11,
        "start_time": "2021-09-07T10:48:36.675Z"
      },
      {
        "duration": 408,
        "start_time": "2021-09-07T10:48:36.689Z"
      },
      {
        "duration": 7,
        "start_time": "2021-09-07T10:48:37.099Z"
      },
      {
        "duration": 543,
        "start_time": "2021-09-07T10:48:37.108Z"
      },
      {
        "duration": 220,
        "start_time": "2021-09-07T10:48:37.657Z"
      },
      {
        "duration": 9,
        "start_time": "2021-09-07T10:48:37.880Z"
      },
      {
        "duration": 245,
        "start_time": "2021-09-07T10:48:37.892Z"
      },
      {
        "duration": 13,
        "start_time": "2021-09-07T10:48:38.139Z"
      },
      {
        "duration": 13,
        "start_time": "2021-09-07T10:48:38.168Z"
      },
      {
        "duration": 18,
        "start_time": "2021-09-07T10:48:38.184Z"
      },
      {
        "duration": 10,
        "start_time": "2021-09-07T10:48:38.204Z"
      },
      {
        "duration": 51,
        "start_time": "2021-09-07T10:48:38.216Z"
      },
      {
        "duration": 1399,
        "start_time": "2021-09-08T06:47:00.021Z"
      },
      {
        "duration": 33,
        "start_time": "2021-09-08T06:47:01.422Z"
      },
      {
        "duration": 36,
        "start_time": "2021-09-08T06:47:01.459Z"
      },
      {
        "duration": 29,
        "start_time": "2021-09-08T06:47:01.498Z"
      },
      {
        "duration": 101,
        "start_time": "2021-09-08T06:47:01.530Z"
      },
      {
        "duration": 44,
        "start_time": "2021-09-08T06:47:01.634Z"
      },
      {
        "duration": 586,
        "start_time": "2021-09-08T06:47:01.681Z"
      },
      {
        "duration": 450,
        "start_time": "2021-09-08T06:47:02.270Z"
      },
      {
        "duration": 404,
        "start_time": "2021-09-08T06:47:02.723Z"
      },
      {
        "duration": 519,
        "start_time": "2021-09-08T06:47:03.130Z"
      },
      {
        "duration": 7,
        "start_time": "2021-09-08T06:47:03.651Z"
      },
      {
        "duration": 426,
        "start_time": "2021-09-08T06:47:03.661Z"
      },
      {
        "duration": 507,
        "start_time": "2021-09-08T06:47:04.089Z"
      },
      {
        "duration": 249,
        "start_time": "2021-09-08T06:47:04.598Z"
      },
      {
        "duration": 310,
        "start_time": "2021-09-08T06:47:04.851Z"
      },
      {
        "duration": 382,
        "start_time": "2021-09-08T06:47:05.163Z"
      },
      {
        "duration": 6,
        "start_time": "2021-09-08T06:47:05.548Z"
      },
      {
        "duration": 322,
        "start_time": "2021-09-08T06:47:05.556Z"
      },
      {
        "duration": 12,
        "start_time": "2021-09-08T06:47:05.880Z"
      },
      {
        "duration": 453,
        "start_time": "2021-09-08T06:47:05.895Z"
      },
      {
        "duration": 6,
        "start_time": "2021-09-08T06:47:06.350Z"
      },
      {
        "duration": 543,
        "start_time": "2021-09-08T06:47:06.359Z"
      },
      {
        "duration": 240,
        "start_time": "2021-09-08T06:47:06.917Z"
      },
      {
        "duration": 9,
        "start_time": "2021-09-08T06:47:07.160Z"
      },
      {
        "duration": 237,
        "start_time": "2021-09-08T06:47:07.172Z"
      },
      {
        "duration": 14,
        "start_time": "2021-09-08T06:47:07.417Z"
      },
      {
        "duration": 14,
        "start_time": "2021-09-08T06:47:07.433Z"
      },
      {
        "duration": 25,
        "start_time": "2021-09-08T06:47:07.450Z"
      },
      {
        "duration": 42,
        "start_time": "2021-09-08T06:47:07.477Z"
      },
      {
        "duration": 25,
        "start_time": "2021-09-08T06:47:07.522Z"
      },
      {
        "duration": 97,
        "start_time": "2021-09-08T06:48:07.006Z"
      },
      {
        "duration": 27,
        "start_time": "2021-09-08T06:49:42.423Z"
      },
      {
        "duration": 17,
        "start_time": "2021-09-08T06:50:02.741Z"
      },
      {
        "duration": 1463,
        "start_time": "2021-09-11T15:12:50.201Z"
      },
      {
        "duration": 33,
        "start_time": "2021-09-11T15:12:51.666Z"
      },
      {
        "duration": 19,
        "start_time": "2021-09-11T15:12:51.702Z"
      },
      {
        "duration": 12,
        "start_time": "2021-09-11T15:12:51.724Z"
      },
      {
        "duration": 92,
        "start_time": "2021-09-11T15:12:51.739Z"
      },
      {
        "duration": 27,
        "start_time": "2021-09-11T15:12:51.833Z"
      },
      {
        "duration": 24,
        "start_time": "2021-09-11T15:12:51.862Z"
      },
      {
        "duration": 32,
        "start_time": "2021-09-11T15:12:51.892Z"
      },
      {
        "duration": 587,
        "start_time": "2021-09-11T15:12:51.929Z"
      },
      {
        "duration": 430,
        "start_time": "2021-09-11T15:12:52.519Z"
      },
      {
        "duration": 404,
        "start_time": "2021-09-11T15:12:52.952Z"
      },
      {
        "duration": 534,
        "start_time": "2021-09-11T15:12:53.359Z"
      },
      {
        "duration": 7,
        "start_time": "2021-09-11T15:12:53.895Z"
      },
      {
        "duration": 415,
        "start_time": "2021-09-11T15:12:53.905Z"
      },
      {
        "duration": 493,
        "start_time": "2021-09-11T15:12:54.323Z"
      },
      {
        "duration": 232,
        "start_time": "2021-09-11T15:12:54.818Z"
      },
      {
        "duration": 285,
        "start_time": "2021-09-11T15:12:55.052Z"
      },
      {
        "duration": 369,
        "start_time": "2021-09-11T15:12:55.340Z"
      },
      {
        "duration": 9,
        "start_time": "2021-09-11T15:12:55.716Z"
      },
      {
        "duration": 488,
        "start_time": "2021-09-11T15:12:55.728Z"
      },
      {
        "duration": 14,
        "start_time": "2021-09-11T15:12:56.220Z"
      },
      {
        "duration": 566,
        "start_time": "2021-09-11T15:12:56.237Z"
      },
      {
        "duration": 9,
        "start_time": "2021-09-11T15:12:56.818Z"
      },
      {
        "duration": 840,
        "start_time": "2021-09-11T15:12:56.831Z"
      },
      {
        "duration": 391,
        "start_time": "2021-09-11T15:12:57.674Z"
      },
      {
        "duration": 11,
        "start_time": "2021-09-11T15:12:58.068Z"
      },
      {
        "duration": 405,
        "start_time": "2021-09-11T15:12:58.082Z"
      },
      {
        "duration": 30,
        "start_time": "2021-09-11T15:12:58.490Z"
      },
      {
        "duration": 20,
        "start_time": "2021-09-11T15:12:58.523Z"
      },
      {
        "duration": 15,
        "start_time": "2021-09-11T15:12:58.547Z"
      },
      {
        "duration": 13,
        "start_time": "2021-09-11T15:12:58.565Z"
      },
      {
        "duration": 30,
        "start_time": "2021-09-11T15:12:58.617Z"
      },
      {
        "duration": 10,
        "start_time": "2021-09-11T15:13:26.552Z"
      },
      {
        "duration": 8,
        "start_time": "2021-09-11T15:14:28.281Z"
      },
      {
        "duration": 9,
        "start_time": "2021-09-11T15:15:36.450Z"
      },
      {
        "duration": 11,
        "start_time": "2021-09-11T15:15:50.218Z"
      },
      {
        "duration": 85,
        "start_time": "2021-09-11T15:16:26.716Z"
      },
      {
        "duration": 12,
        "start_time": "2021-09-11T15:16:27.876Z"
      },
      {
        "duration": 6,
        "start_time": "2021-09-11T15:23:47.389Z"
      },
      {
        "duration": 521,
        "start_time": "2021-09-11T15:24:48.582Z"
      },
      {
        "duration": 7,
        "start_time": "2021-09-11T15:26:13.084Z"
      },
      {
        "duration": 9,
        "start_time": "2021-09-11T15:26:17.390Z"
      },
      {
        "duration": 100,
        "start_time": "2021-09-11T15:26:21.649Z"
      },
      {
        "duration": 580,
        "start_time": "2021-09-11T15:28:04.612Z"
      },
      {
        "duration": 2413,
        "start_time": "2021-09-11T18:52:13.703Z"
      },
      {
        "duration": 35,
        "start_time": "2021-09-11T18:52:16.119Z"
      },
      {
        "duration": 66,
        "start_time": "2021-09-11T18:52:16.158Z"
      },
      {
        "duration": 18,
        "start_time": "2021-09-11T18:52:16.228Z"
      },
      {
        "duration": 100,
        "start_time": "2021-09-11T18:52:16.249Z"
      },
      {
        "duration": 10,
        "start_time": "2021-09-11T18:52:16.352Z"
      },
      {
        "duration": 20,
        "start_time": "2021-09-11T18:52:16.365Z"
      },
      {
        "duration": 48,
        "start_time": "2021-09-11T18:52:16.389Z"
      },
      {
        "duration": 9,
        "start_time": "2021-09-11T18:52:16.440Z"
      },
      {
        "duration": 13,
        "start_time": "2021-09-11T18:52:16.452Z"
      },
      {
        "duration": 27,
        "start_time": "2021-09-11T18:52:16.468Z"
      },
      {
        "duration": 39,
        "start_time": "2021-09-11T18:52:16.498Z"
      },
      {
        "duration": 23,
        "start_time": "2021-09-11T18:52:16.540Z"
      },
      {
        "duration": 21,
        "start_time": "2021-09-11T18:52:16.565Z"
      },
      {
        "duration": 6396,
        "start_time": "2021-09-11T18:52:16.588Z"
      },
      {
        "duration": 586,
        "start_time": "2021-09-11T18:52:22.402Z"
      },
      {
        "duration": 583,
        "start_time": "2021-09-11T18:52:22.406Z"
      },
      {
        "duration": 578,
        "start_time": "2021-09-11T18:52:22.412Z"
      },
      {
        "duration": 576,
        "start_time": "2021-09-11T18:52:22.416Z"
      },
      {
        "duration": 574,
        "start_time": "2021-09-11T18:52:22.419Z"
      },
      {
        "duration": 571,
        "start_time": "2021-09-11T18:52:22.423Z"
      },
      {
        "duration": 561,
        "start_time": "2021-09-11T18:52:22.435Z"
      },
      {
        "duration": 559,
        "start_time": "2021-09-11T18:52:22.438Z"
      },
      {
        "duration": 557,
        "start_time": "2021-09-11T18:52:22.441Z"
      },
      {
        "duration": 551,
        "start_time": "2021-09-11T18:52:22.448Z"
      },
      {
        "duration": 549,
        "start_time": "2021-09-11T18:52:22.451Z"
      },
      {
        "duration": 546,
        "start_time": "2021-09-11T18:52:22.455Z"
      },
      {
        "duration": 542,
        "start_time": "2021-09-11T18:52:22.461Z"
      },
      {
        "duration": 539,
        "start_time": "2021-09-11T18:52:22.465Z"
      },
      {
        "duration": 537,
        "start_time": "2021-09-11T18:52:22.468Z"
      },
      {
        "duration": 534,
        "start_time": "2021-09-11T18:52:22.472Z"
      },
      {
        "duration": 533,
        "start_time": "2021-09-11T18:52:22.475Z"
      },
      {
        "duration": 529,
        "start_time": "2021-09-11T18:52:22.480Z"
      },
      {
        "duration": 527,
        "start_time": "2021-09-11T18:52:22.483Z"
      },
      {
        "duration": 523,
        "start_time": "2021-09-11T18:52:22.488Z"
      },
      {
        "duration": 519,
        "start_time": "2021-09-11T18:52:22.493Z"
      },
      {
        "duration": 516,
        "start_time": "2021-09-11T18:52:22.497Z"
      },
      {
        "duration": 514,
        "start_time": "2021-09-11T18:52:22.501Z"
      },
      {
        "duration": 36,
        "start_time": "2021-09-11T18:53:03.733Z"
      },
      {
        "duration": 10,
        "start_time": "2021-09-11T18:53:04.322Z"
      },
      {
        "duration": 6,
        "start_time": "2021-09-11T18:53:32.873Z"
      },
      {
        "duration": 11,
        "start_time": "2021-09-11T18:53:35.928Z"
      },
      {
        "duration": 26,
        "start_time": "2021-09-11T18:53:39.469Z"
      },
      {
        "duration": 2399,
        "start_time": "2021-09-11T18:54:25.972Z"
      },
      {
        "duration": 2453,
        "start_time": "2021-09-11T18:55:12.401Z"
      },
      {
        "duration": 382,
        "start_time": "2021-09-11T18:55:53.274Z"
      },
      {
        "duration": 6,
        "start_time": "2021-09-11T18:56:30.941Z"
      },
      {
        "duration": 29,
        "start_time": "2021-09-11T18:56:31.996Z"
      },
      {
        "duration": 14,
        "start_time": "2021-09-11T18:56:32.362Z"
      },
      {
        "duration": 14,
        "start_time": "2021-09-11T18:56:32.691Z"
      },
      {
        "duration": 91,
        "start_time": "2021-09-11T18:56:33.601Z"
      },
      {
        "duration": 9,
        "start_time": "2021-09-11T18:56:34.058Z"
      },
      {
        "duration": 7,
        "start_time": "2021-09-11T18:56:34.454Z"
      },
      {
        "duration": 37,
        "start_time": "2021-09-11T18:56:34.617Z"
      },
      {
        "duration": 8,
        "start_time": "2021-09-11T18:56:34.764Z"
      },
      {
        "duration": 8,
        "start_time": "2021-09-11T18:56:34.946Z"
      },
      {
        "duration": 28,
        "start_time": "2021-09-11T18:56:35.121Z"
      },
      {
        "duration": 8,
        "start_time": "2021-09-11T18:56:35.657Z"
      },
      {
        "duration": 6,
        "start_time": "2021-09-11T18:56:35.802Z"
      },
      {
        "duration": 18,
        "start_time": "2021-09-11T18:56:35.987Z"
      },
      {
        "duration": 8,
        "start_time": "2021-09-11T18:56:36.151Z"
      },
      {
        "duration": 8,
        "start_time": "2021-09-11T18:56:36.834Z"
      },
      {
        "duration": 713,
        "start_time": "2021-09-11T18:56:39.183Z"
      },
      {
        "duration": 586,
        "start_time": "2021-09-11T18:58:49.011Z"
      },
      {
        "duration": 381,
        "start_time": "2021-09-11T18:58:55.442Z"
      },
      {
        "duration": 513,
        "start_time": "2021-09-11T18:59:00.561Z"
      },
      {
        "duration": 8,
        "start_time": "2021-09-11T18:59:06.641Z"
      },
      {
        "duration": 520,
        "start_time": "2021-09-11T18:59:07.809Z"
      },
      {
        "duration": 611,
        "start_time": "2021-09-11T18:59:13.495Z"
      },
      {
        "duration": 304,
        "start_time": "2021-09-11T18:59:16.769Z"
      },
      {
        "duration": 268,
        "start_time": "2021-09-11T18:59:19.708Z"
      },
      {
        "duration": 394,
        "start_time": "2021-09-11T19:00:04.791Z"
      },
      {
        "duration": 371,
        "start_time": "2021-09-11T19:00:50.435Z"
      },
      {
        "duration": 491,
        "start_time": "2021-09-11T19:01:17.345Z"
      },
      {
        "duration": 7,
        "start_time": "2021-09-11T19:02:26.979Z"
      },
      {
        "duration": 316,
        "start_time": "2021-09-11T19:02:28.404Z"
      },
      {
        "duration": 12,
        "start_time": "2021-09-11T19:02:28.724Z"
      },
      {
        "duration": 419,
        "start_time": "2021-09-11T19:02:29.229Z"
      },
      {
        "duration": 6,
        "start_time": "2021-09-11T19:02:30.069Z"
      },
      {
        "duration": 464,
        "start_time": "2021-09-11T19:02:31.148Z"
      },
      {
        "duration": 237,
        "start_time": "2021-09-11T19:02:32.306Z"
      },
      {
        "duration": 11,
        "start_time": "2021-09-11T19:02:34.025Z"
      },
      {
        "duration": 211,
        "start_time": "2021-09-11T19:02:34.829Z"
      },
      {
        "duration": 16,
        "start_time": "2021-09-11T19:02:36.527Z"
      },
      {
        "duration": 13,
        "start_time": "2021-09-11T19:02:37.549Z"
      },
      {
        "duration": 12,
        "start_time": "2021-09-11T19:02:38.513Z"
      },
      {
        "duration": 9,
        "start_time": "2021-09-11T19:02:39.291Z"
      },
      {
        "duration": 20,
        "start_time": "2021-09-11T19:02:40.238Z"
      },
      {
        "duration": 1335,
        "start_time": "2021-09-11T19:03:56.838Z"
      },
      {
        "duration": 40,
        "start_time": "2021-09-11T19:03:58.177Z"
      },
      {
        "duration": 18,
        "start_time": "2021-09-11T19:03:58.221Z"
      },
      {
        "duration": 16,
        "start_time": "2021-09-11T19:03:58.243Z"
      },
      {
        "duration": 71,
        "start_time": "2021-09-11T19:03:58.262Z"
      },
      {
        "duration": 9,
        "start_time": "2021-09-11T19:03:58.335Z"
      },
      {
        "duration": 11,
        "start_time": "2021-09-11T19:03:58.347Z"
      },
      {
        "duration": 29,
        "start_time": "2021-09-11T19:03:58.361Z"
      },
      {
        "duration": 28,
        "start_time": "2021-09-11T19:03:58.394Z"
      },
      {
        "duration": 19,
        "start_time": "2021-09-11T19:03:58.426Z"
      },
      {
        "duration": 25,
        "start_time": "2021-09-11T19:03:58.448Z"
      },
      {
        "duration": 12,
        "start_time": "2021-09-11T19:03:58.475Z"
      },
      {
        "duration": 6,
        "start_time": "2021-09-11T19:03:58.517Z"
      },
      {
        "duration": 20,
        "start_time": "2021-09-11T19:03:58.525Z"
      },
      {
        "duration": 11,
        "start_time": "2021-09-11T19:03:58.548Z"
      },
      {
        "duration": 8,
        "start_time": "2021-09-11T19:03:58.561Z"
      },
      {
        "duration": 638,
        "start_time": "2021-09-11T19:03:58.571Z"
      },
      {
        "duration": 590,
        "start_time": "2021-09-11T19:03:59.216Z"
      },
      {
        "duration": 571,
        "start_time": "2021-09-11T19:03:59.809Z"
      },
      {
        "duration": 661,
        "start_time": "2021-09-11T19:04:00.383Z"
      },
      {
        "duration": 9,
        "start_time": "2021-09-11T19:04:01.047Z"
      },
      {
        "duration": 580,
        "start_time": "2021-09-11T19:04:01.059Z"
      },
      {
        "duration": 690,
        "start_time": "2021-09-11T19:04:01.642Z"
      },
      {
        "duration": 314,
        "start_time": "2021-09-11T19:04:02.335Z"
      },
      {
        "duration": 408,
        "start_time": "2021-09-11T19:04:02.652Z"
      },
      {
        "duration": 532,
        "start_time": "2021-09-11T19:04:03.063Z"
      },
      {
        "duration": 17,
        "start_time": "2021-09-11T19:04:03.601Z"
      },
      {
        "duration": 441,
        "start_time": "2021-09-11T19:04:03.622Z"
      },
      {
        "duration": 14,
        "start_time": "2021-09-11T19:04:04.066Z"
      },
      {
        "duration": 504,
        "start_time": "2021-09-11T19:04:04.083Z"
      },
      {
        "duration": 8,
        "start_time": "2021-09-11T19:04:04.590Z"
      },
      {
        "duration": 536,
        "start_time": "2021-09-11T19:04:04.600Z"
      },
      {
        "duration": 225,
        "start_time": "2021-09-11T19:04:05.139Z"
      },
      {
        "duration": 9,
        "start_time": "2021-09-11T19:04:05.366Z"
      },
      {
        "duration": 262,
        "start_time": "2021-09-11T19:04:05.378Z"
      },
      {
        "duration": 18,
        "start_time": "2021-09-11T19:04:05.643Z"
      },
      {
        "duration": 20,
        "start_time": "2021-09-11T19:04:05.663Z"
      },
      {
        "duration": 16,
        "start_time": "2021-09-11T19:04:05.718Z"
      },
      {
        "duration": 24,
        "start_time": "2021-09-11T19:04:05.737Z"
      },
      {
        "duration": 22,
        "start_time": "2021-09-11T19:04:05.763Z"
      },
      {
        "duration": 967,
        "start_time": "2022-01-28T15:26:51.710Z"
      },
      {
        "duration": 21,
        "start_time": "2022-01-28T15:26:52.679Z"
      },
      {
        "duration": 11,
        "start_time": "2022-01-28T15:26:52.702Z"
      },
      {
        "duration": 7,
        "start_time": "2022-01-28T15:26:52.714Z"
      },
      {
        "duration": 33,
        "start_time": "2022-01-28T15:26:52.723Z"
      },
      {
        "duration": 6,
        "start_time": "2022-01-28T15:26:52.757Z"
      },
      {
        "duration": 6,
        "start_time": "2022-01-28T15:26:52.764Z"
      },
      {
        "duration": 18,
        "start_time": "2022-01-28T15:26:52.772Z"
      },
      {
        "duration": 5,
        "start_time": "2022-01-28T15:26:52.792Z"
      },
      {
        "duration": 15,
        "start_time": "2022-01-28T15:26:52.798Z"
      },
      {
        "duration": 17,
        "start_time": "2022-01-28T15:26:52.814Z"
      },
      {
        "duration": 6,
        "start_time": "2022-01-28T15:26:52.832Z"
      },
      {
        "duration": 4,
        "start_time": "2022-01-28T15:26:52.840Z"
      },
      {
        "duration": 11,
        "start_time": "2022-01-28T15:26:52.846Z"
      },
      {
        "duration": 6,
        "start_time": "2022-01-28T15:26:52.858Z"
      },
      {
        "duration": 6,
        "start_time": "2022-01-28T15:26:52.865Z"
      },
      {
        "duration": 348,
        "start_time": "2022-01-28T15:26:52.872Z"
      },
      {
        "duration": 247,
        "start_time": "2022-01-28T15:26:53.222Z"
      },
      {
        "duration": 240,
        "start_time": "2022-01-28T15:26:53.471Z"
      },
      {
        "duration": 347,
        "start_time": "2022-01-28T15:26:53.713Z"
      },
      {
        "duration": 4,
        "start_time": "2022-01-28T15:26:54.061Z"
      },
      {
        "duration": 241,
        "start_time": "2022-01-28T15:26:54.067Z"
      },
      {
        "duration": 343,
        "start_time": "2022-01-28T15:26:54.314Z"
      },
      {
        "duration": 106,
        "start_time": "2022-01-28T15:26:54.659Z"
      },
      {
        "duration": 175,
        "start_time": "2022-01-28T15:26:54.766Z"
      },
      {
        "duration": 272,
        "start_time": "2022-01-28T15:26:54.943Z"
      },
      {
        "duration": 4,
        "start_time": "2022-01-28T15:26:55.217Z"
      },
      {
        "duration": 190,
        "start_time": "2022-01-28T15:26:55.222Z"
      },
      {
        "duration": 10,
        "start_time": "2022-01-28T15:26:55.414Z"
      },
      {
        "duration": 302,
        "start_time": "2022-01-28T15:26:55.425Z"
      },
      {
        "duration": 4,
        "start_time": "2022-01-28T15:26:55.729Z"
      },
      {
        "duration": 314,
        "start_time": "2022-01-28T15:26:55.735Z"
      },
      {
        "duration": 115,
        "start_time": "2022-01-28T15:26:56.051Z"
      },
      {
        "duration": 5,
        "start_time": "2022-01-28T15:26:56.167Z"
      },
      {
        "duration": 112,
        "start_time": "2022-01-28T15:26:56.174Z"
      },
      {
        "duration": 8,
        "start_time": "2022-01-28T15:26:56.288Z"
      },
      {
        "duration": 20,
        "start_time": "2022-01-28T15:26:56.297Z"
      },
      {
        "duration": 10,
        "start_time": "2022-01-28T15:26:56.319Z"
      },
      {
        "duration": 7,
        "start_time": "2022-01-28T15:26:56.330Z"
      },
      {
        "duration": 12,
        "start_time": "2022-01-28T15:26:56.339Z"
      }
    ],
    "kernelspec": {
      "display_name": "Python 3",
      "language": "python",
      "name": "python3"
    },
    "language_info": {
      "codemirror_mode": {
        "name": "ipython",
        "version": 3
      },
      "file_extension": ".py",
      "mimetype": "text/x-python",
      "name": "python",
      "nbconvert_exporter": "python",
      "pygments_lexer": "ipython3",
      "version": "3.7.8"
    },
    "toc": {
      "base_numbering": 1,
      "nav_menu": {},
      "number_sections": true,
      "sideBar": true,
      "skip_h1_title": true,
      "title_cell": "Table of Contents",
      "title_sidebar": "Contents",
      "toc_cell": false,
      "toc_position": {
        "height": "calc(100% - 180px)",
        "left": "10px",
        "top": "150px",
        "width": "340.792px"
      },
      "toc_section_display": true,
      "toc_window_display": true
    },
    "colab": {
      "name": "Приоритизация гипотез и анализ результатов AB теста.ipynb",
      "provenance": []
    }
  },
  "nbformat": 4,
  "nbformat_minor": 0
}